{
 "cells": [
  {
   "cell_type": "code",
   "execution_count": 46,
   "metadata": {},
   "outputs": [],
   "source": [
    "import pandas as pd\n",
    "import wandb\n",
    "import json\n",
    "from pathlib import Path"
   ]
  },
  {
   "cell_type": "code",
   "execution_count": 47,
   "metadata": {},
   "outputs": [],
   "source": [
    "method=\"procrustes\" \n",
    "extend_exp=\"\"\n",
    "save_path = Path(\"./figures\")\n",
    "save_path.mkdir(exist_ok=True, parents=True)\n",
    "# vm_name = {\n",
    "#     'resnet101': 'ResNet101',\n",
    "#     'resnet152': 'ResNet152',\n",
    "#     'resnet18': 'ResNet18',\n",
    "#     'resnet34': 'ResNet34',\n",
    "#     'resnet50': 'ResNet50',\n",
    "#     'segformer-b0-finetuned-ade-512-512': 'SegFormer-B0',\n",
    "#     'segformer-b1-finetuned-ade-512-512': 'SegFormer-B1',\n",
    "#     'segformer-b2-finetuned-ade-512-512': 'SegFormer-B2',\n",
    "#     'segformer-b3-finetuned-ade-512-512': 'SegFormer-B3',\n",
    "#     'segformer-b4-finetuned-ade-512-512': 'SegFormer-B4',\n",
    "#     'segformer-b5-finetuned-ade-640-640': 'SegFormer-B5',\n",
    "#     'vit-mae-base': 'MAE-Base',\n",
    "#     'vit-mae-huge': 'MAE-Huge',\n",
    "#     'vit-mae-large': 'MAE-Large'\n",
    "# }\n",
    "\n",
    "\n",
    "vm_name = {\n",
    "    'resnet101': 'ResNet101',\n",
    "    'resnet152': 'ResNet152',\n",
    "    'resnet18': 'ResNet18',\n",
    "    'resnet34': 'ResNet34',\n",
    "    'resnet50': 'ResNet50',\n",
    "    'segformer-b0-finetuned-ade-512-512': 'SegFormer<sub>B0</sub>',\n",
    "    'segformer-b1-finetuned-ade-512-512': 'SegFormer<sub>B1</sub>',\n",
    "    'segformer-b2-finetuned-ade-512-512': 'SegFormer<sub>B2</sub>',\n",
    "    'segformer-b3-finetuned-ade-512-512': 'SegFormer<sub>B3</sub>',\n",
    "    'segformer-b4-finetuned-ade-512-512': 'SegFormer<sub>B4</sub>',\n",
    "    'segformer-b5-finetuned-ade-640-640': 'SegFormer<sub>B5</sub>',\n",
    "    'vit-mae-base': 'MAE<sub>Base</sub>',\n",
    "    'vit-mae-huge': 'MAE<sub>Huge</sub>',\n",
    "    'vit-mae-large': 'MAE<sub>Large</sub>'\n",
    "}"
   ]
  },
  {
   "cell_type": "code",
   "execution_count": 48,
   "metadata": {},
   "outputs": [],
   "source": [
    "api = wandb.Api()\n",
    "df = pd.DataFrame()\n",
    "\n",
    "# model_name = {'bert_uncased_L-2_H-128_A-2': \"BERT_TINY\",\n",
    "#                 'bert_uncased_L-4_H-256_A-4': \"BERT_MINI\" ,\n",
    "#                 'bert_uncased_L-4_H-512_A-8': \"BERT_SMALL\",\n",
    "#                 'bert_uncased_L-8_H-512_A-8': \"BERT_MEDIUM\",\n",
    "#                 'bert-base-uncased': \"BERT_BASE\",\n",
    "#                 'bert-large-uncased': \"BERT_LARGE\",\n",
    "#                 'gpt2': \"GPT2_BASE\",\n",
    "#                 'gpt2-medium': \"GPT2_MEDIUM\",\n",
    "#                 'gpt2-large': \"GPT2_LARGE\",\n",
    "#                 'gpt2-xl': \"GPT2_XL\",\n",
    "#                 'opt-125m': \"OPT_125M\",\n",
    "#                 'opt-1.3b': \"OPT_1.3B\",\n",
    "#                 'opt-6.7b': \"OPT_6.7B\",\n",
    "#                 'opt-30b': \"OPT_30B\",\n",
    "#                 'opt-66b': \"OPT_66B\",\n",
    "#                 'Llama-2-7b-hf': \"Llama-2-7b\",\n",
    "#                 'Llama-2-13b-hf': \"Llama-2-13b\",\n",
    "#                 'Llama-2-70b-hf': \"Llama-2-70b\",\n",
    "#                 \"fasttext\":\"fastText\"}\n",
    "\n",
    "model_name = {'bert_uncased_L-2_H-128_A-2': \"BERT<sub>TINY</sub>\",\n",
    "                'bert_uncased_L-4_H-256_A-4': \"BERT<sub>MINI</sub>\" ,\n",
    "                'bert_uncased_L-4_H-512_A-8': \"BERT<sub>SMALL</sub>\",\n",
    "                'bert_uncased_L-8_H-512_A-8': \"BERT<sub>MEDIUM</sub>\",\n",
    "                'bert-base-uncased': \"BERT<sub>BASE</sub>\",\n",
    "                'bert-large-uncased': \"BERT<sub>LARGE</sub>\",\n",
    "                'gpt2': \"GPT2<sub>BASE</sub>\",\n",
    "                'gpt2-medium': \"GPT2<sub>MEDIUM</sub>\",\n",
    "                'gpt2-large': \"GPT2<sub>LARGE</sub>\",\n",
    "                'gpt2-xl': \"GPT2<sub>XL</sub>\",\n",
    "                'opt-125m': \"OPT<sub>125M</sub>\",\n",
    "                'opt-1.3b': \"OPT<sub>1.3B</sub>\",\n",
    "                'opt-6.7b': \"OPT<sub>6.7B</sub>\",\n",
    "                'opt-30b': \"OPT<sub>30B</sub>\",\n",
    "                'opt-66b': \"OPT<sub>66B</sub>\",\n",
    "                'Llama-2-7b-hf': \"Llama-2<sub>7B</sub>\",\n",
    "                'Llama-2-13b-hf': \"Llama-2<sub>13B</sub>\",\n",
    "                'Llama-2-70b-hf': \"Llama-2<sub>70B</sub>\",\n",
    "                \"fasttext\":\"fastText\"}\n",
    "\n",
    "model_size = {'bert_uncased_L-2_H-128_A-2':4.4, 'bert_uncased_L-4_H-256_A-4':11.3, 'bert_uncased_L-4_H-512_A-8':29.1, \n",
    "    'bert_uncased_L-8_H-512_A-8':41.7, 'bert-base-uncased':110, 'bert-large-uncased':340, \n",
    "    'gpt2':117,  'gpt2-large':762, 'gpt2-xl':1542, 'opt-125m':125, 'opt-6.7b':6700, 'opt-30b':30000,'opt-66b':66000,\n",
    "    'Llama-2-7b-hf': 7000,\n",
    "    'Llama-2-13b-hf': 13000,\n",
    "    'Llama-2-70b-hf': 70000,}\n",
    "\n",
    "model_tags = {\n",
    "    \"ft\": \"fasttext\",\n",
    "    \"bert\": \"bert\",\n",
    "    \"gpt2\": \"gpt2\",\n",
    "    \"opt\": \"opt\"\n",
    "}\n",
    "\n",
    "set_name = \"cleaned\"\n",
    "\n",
    "\n",
    "for model_alias in [\"LM\"]:\n",
    "    # method_name = \"Procrustes Analysis\" if method == \"procrustes\" else \"Ridge Regression\"\n",
    "    runs = api.runs(path=f\"jiaangli00/image2{model_alias}-TACL-{set_name}{extend_exp}\")\n",
    "    # metrics = runs.summary[\"Results\"]\n",
    "\n",
    "    # data = []\n",
    "    for i, single_run in enumerate(runs):\n",
    "        metric = json.load(single_run.file(single_run.summary[\"Results\"][\"path\"]).download(exist_ok=True))\n",
    "        df = pd.concat([df,pd.DataFrame(metric[\"data\"], columns=metric[\"columns\"])])\n",
    "\n",
    "# # df['Subjects'] = df['Subjects'].replace({f'brain_{i}': f'Subject-{i}' for i in range(1, num_subs + 1)})\n",
    "# df['Layers'] = df['Layers'].replace({f'layer_{i}': f'layer-{i})\n",
    "df['Models_size'] = df['LM'].copy()\n",
    "df['Models_size'] = df['Models_size'].replace(model_size)\n",
    "df['VM'] = df['VM'].replace(vm_name)\n",
    "df['LM'] = df['LM'].replace(model_name)\n",
    "\n",
    "# df = df.loc[(df[\"LM\"] != \"Llama-2-70b-hf\") | (df[\"LM\"] != \"opt-66b\")]\n",
    "df = df[~df[\"LM\"].isin([\"Llama-2-70b\",\"OPT_66B\"])]\n",
    "# #\n",
    "group_names: list[str] = [\"LM\", \"VM\"]\n",
    "if extend_exp != \"\":\n",
    "    group_names.append(\"Bins\")\n",
    "#\n",
    "precision_csls, precision_nn = [], []\n",
    "for k in [1, 10, 50, 100]:\n",
    "    precision_csls.append(f'P@{k}-CSLS')\n",
    "    precision_nn.append(f'P@{k}-NN')\n",
    "\n",
    "precision = precision_csls\n",
    "#\n",
    "precision.append(\"Models_size\")"
   ]
  },
  {
   "cell_type": "code",
   "execution_count": 49,
   "metadata": {},
   "outputs": [],
   "source": [
    "\n",
    "seed_avg = df.groupby(group_names)[precision].mean().reset_index().sort_values(by='Models_size', ascending=True)\n",
    "# seed_avg = df.groupby(group_names)[precision].mean().reset_index().round(1)\n",
    "\n",
    "# seed_avg.to_csv(\"cleaned_res\")\n",
    "# seed_avg"
   ]
  },
  {
   "cell_type": "code",
   "execution_count": 50,
   "metadata": {},
   "outputs": [],
   "source": [
    "vm_selected = seed_avg.loc[(seed_avg[\"VM\"] == \"ResNet18\") | (seed_avg[\"VM\"] == \"ResNet50\") | (seed_avg[\"VM\"] == \"ResNet152\") | (seed_avg[\"VM\"] == \"SegFormer<sub>B0</sub>\") | (seed_avg[\"VM\"] == \"SegFormer<sub>B3</sub>\") | (seed_avg[\"VM\"] == \"SegFormer<sub>B5</sub>\") | (seed_avg[\"VM\"] == \"MAE<sub>Base</sub>\") | (seed_avg[\"VM\"] == \"MAE<sub>Large</sub>\") | (seed_avg[\"VM\"] == \"MAE<sub>Huge</sub>\")]\n",
    "# seed_avg[\"VM\"][:14]\n",
    "vm_list = [\"SegFormer<sub>B0</sub>\", \"SegFormer<sub>B3</sub>\" , \"SegFormer<sub>B5</sub>\", \"MAE<sub>Base</sub>\" , \"MAE<sub>Large</sub>\", \"MAE<sub>Huge</sub>\", \"ResNet18\", \"ResNet50\" , \"ResNet152\"]\n",
    "# vm_left = [\"SegFormer-B1</sub>\", \"SegFormer-B2</sub>\" , \"SegFormer-B4</sub>\",\"ResNet34</sub>\", \"ResNet101</sub>\"]\n",
    "vm_selected_left = seed_avg.loc[(seed_avg[\"VM\"] == \"ResNet34\") | (seed_avg[\"VM\"] == \"ResNet101\") | (seed_avg[\"VM\"] == \"SegFormer<sub>B1</sub>\") | (seed_avg[\"VM\"] == \"SegFormer<sub>B2</sub>\") | (seed_avg[\"VM\"] == \"SegFormer<sub>B4</sub>\")]\n"
   ]
  },
  {
   "cell_type": "code",
   "execution_count": 51,
   "metadata": {},
   "outputs": [
    {
     "data": {
      "text/html": [
       "<div>\n",
       "<style scoped>\n",
       "    .dataframe tbody tr th:only-of-type {\n",
       "        vertical-align: middle;\n",
       "    }\n",
       "\n",
       "    .dataframe tbody tr th {\n",
       "        vertical-align: top;\n",
       "    }\n",
       "\n",
       "    .dataframe thead th {\n",
       "        text-align: right;\n",
       "    }\n",
       "</style>\n",
       "<table border=\"1\" class=\"dataframe\">\n",
       "  <thead>\n",
       "    <tr style=\"text-align: right;\">\n",
       "      <th></th>\n",
       "      <th>LM</th>\n",
       "      <th>VM</th>\n",
       "      <th>P@1-CSLS</th>\n",
       "      <th>P@10-CSLS</th>\n",
       "      <th>P@50-CSLS</th>\n",
       "      <th>P@100-CSLS</th>\n",
       "      <th>Models_size</th>\n",
       "    </tr>\n",
       "  </thead>\n",
       "  <tbody>\n",
       "    <tr>\n",
       "      <th>158</th>\n",
       "      <td>OPT&lt;sub&gt;125M&lt;/sub&gt;</td>\n",
       "      <td>ResNet152</td>\n",
       "      <td>2.820</td>\n",
       "      <td>15.578</td>\n",
       "      <td>32.682</td>\n",
       "      <td>40.630</td>\n",
       "      <td>125.0</td>\n",
       "    </tr>\n",
       "    <tr>\n",
       "      <th>186</th>\n",
       "      <td>OPT&lt;sub&gt;6.7B&lt;/sub&gt;</td>\n",
       "      <td>ResNet152</td>\n",
       "      <td>6.374</td>\n",
       "      <td>29.930</td>\n",
       "      <td>52.650</td>\n",
       "      <td>61.266</td>\n",
       "      <td>6700.0</td>\n",
       "    </tr>\n",
       "    <tr>\n",
       "      <th>172</th>\n",
       "      <td>OPT&lt;sub&gt;30B&lt;/sub&gt;</td>\n",
       "      <td>ResNet152</td>\n",
       "      <td>6.858</td>\n",
       "      <td>31.230</td>\n",
       "      <td>54.702</td>\n",
       "      <td>64.050</td>\n",
       "      <td>30000.0</td>\n",
       "    </tr>\n",
       "  </tbody>\n",
       "</table>\n",
       "</div>"
      ],
      "text/plain": [
       "                     LM         VM  P@1-CSLS  P@10-CSLS  P@50-CSLS  \\\n",
       "158  OPT<sub>125M</sub>  ResNet152     2.820     15.578     32.682   \n",
       "186  OPT<sub>6.7B</sub>  ResNet152     6.374     29.930     52.650   \n",
       "172   OPT<sub>30B</sub>  ResNet152     6.858     31.230     54.702   \n",
       "\n",
       "     P@100-CSLS  Models_size  \n",
       "158      40.630        125.0  \n",
       "186      61.266       6700.0  \n",
       "172      64.050      30000.0  "
      ]
     },
     "execution_count": 51,
     "metadata": {},
     "output_type": "execute_result"
    }
   ],
   "source": [
    "vm_test = vm_selected.loc[(vm_selected[\"VM\"] == \"ResNet152\") & (vm_selected[\"LM\"].str.startswith(\"OPT\"))].sort_values(by='Models_size', ascending=True)\n",
    "vm_test"
   ]
  },
  {
   "cell_type": "code",
   "execution_count": 52,
   "metadata": {},
   "outputs": [
    {
     "data": {
      "text/html": [
       "<div>\n",
       "<style scoped>\n",
       "    .dataframe tbody tr th:only-of-type {\n",
       "        vertical-align: middle;\n",
       "    }\n",
       "\n",
       "    .dataframe tbody tr th {\n",
       "        vertical-align: top;\n",
       "    }\n",
       "\n",
       "    .dataframe thead th {\n",
       "        text-align: right;\n",
       "    }\n",
       "</style>\n",
       "<table border=\"1\" class=\"dataframe\">\n",
       "  <thead>\n",
       "    <tr style=\"text-align: right;\">\n",
       "      <th></th>\n",
       "      <th>LM</th>\n",
       "      <th>VM</th>\n",
       "      <th>P@1-CSLS</th>\n",
       "      <th>P@10-CSLS</th>\n",
       "      <th>P@50-CSLS</th>\n",
       "      <th>P@100-CSLS</th>\n",
       "      <th>Models_size</th>\n",
       "    </tr>\n",
       "  </thead>\n",
       "  <tbody>\n",
       "    <tr>\n",
       "      <th>144</th>\n",
       "      <td>Llama-2&lt;sub&gt;7B&lt;/sub&gt;</td>\n",
       "      <td>ResNet152</td>\n",
       "      <td>4.984</td>\n",
       "      <td>25.084</td>\n",
       "      <td>46.710</td>\n",
       "      <td>54.938</td>\n",
       "      <td>7000.0</td>\n",
       "    </tr>\n",
       "    <tr>\n",
       "      <th>130</th>\n",
       "      <td>Llama-2&lt;sub&gt;13B&lt;/sub&gt;</td>\n",
       "      <td>ResNet152</td>\n",
       "      <td>5.780</td>\n",
       "      <td>31.246</td>\n",
       "      <td>54.618</td>\n",
       "      <td>62.850</td>\n",
       "      <td>13000.0</td>\n",
       "    </tr>\n",
       "  </tbody>\n",
       "</table>\n",
       "</div>"
      ],
      "text/plain": [
       "                        LM         VM  P@1-CSLS  P@10-CSLS  P@50-CSLS  \\\n",
       "144   Llama-2<sub>7B</sub>  ResNet152     4.984     25.084     46.710   \n",
       "130  Llama-2<sub>13B</sub>  ResNet152     5.780     31.246     54.618   \n",
       "\n",
       "     P@100-CSLS  Models_size  \n",
       "144      54.938       7000.0  \n",
       "130      62.850      13000.0  "
      ]
     },
     "execution_count": 52,
     "metadata": {},
     "output_type": "execute_result"
    }
   ],
   "source": [
    "vm_test = vm_selected.loc[(vm_selected[\"VM\"] == \"ResNet152\") & (vm_selected[\"LM\"].str.startswith(\"Llama\"))].sort_values(by='Models_size', ascending=True)\n",
    "vm_test"
   ]
  },
  {
   "cell_type": "code",
   "execution_count": 53,
   "metadata": {},
   "outputs": [
    {
     "data": {
      "text/html": [
       "<div>\n",
       "<style scoped>\n",
       "    .dataframe tbody tr th:only-of-type {\n",
       "        vertical-align: middle;\n",
       "    }\n",
       "\n",
       "    .dataframe tbody tr th {\n",
       "        vertical-align: top;\n",
       "    }\n",
       "\n",
       "    .dataframe thead th {\n",
       "        text-align: right;\n",
       "    }\n",
       "</style>\n",
       "<table border=\"1\" class=\"dataframe\">\n",
       "  <thead>\n",
       "    <tr style=\"text-align: right;\">\n",
       "      <th></th>\n",
       "      <th>LM</th>\n",
       "      <th>VM</th>\n",
       "      <th>P@1-CSLS</th>\n",
       "      <th>P@10-CSLS</th>\n",
       "      <th>P@50-CSLS</th>\n",
       "      <th>P@100-CSLS</th>\n",
       "      <th>Models_size</th>\n",
       "    </tr>\n",
       "  </thead>\n",
       "  <tbody>\n",
       "  </tbody>\n",
       "</table>\n",
       "</div>"
      ],
      "text/plain": [
       "Empty DataFrame\n",
       "Columns: [LM, VM, P@1-CSLS, P@10-CSLS, P@50-CSLS, P@100-CSLS, Models_size]\n",
       "Index: []"
      ]
     },
     "execution_count": 53,
     "metadata": {},
     "output_type": "execute_result"
    }
   ],
   "source": [
    "vm_selected_left.loc[(vm_selected_left[\"VM\"] == \"SegFormer-B1\")]"
   ]
  },
  {
   "cell_type": "code",
   "execution_count": 54,
   "metadata": {},
   "outputs": [
    {
     "data": {
      "text/html": [
       "<div>\n",
       "<style scoped>\n",
       "    .dataframe tbody tr th:only-of-type {\n",
       "        vertical-align: middle;\n",
       "    }\n",
       "\n",
       "    .dataframe tbody tr th {\n",
       "        vertical-align: top;\n",
       "    }\n",
       "\n",
       "    .dataframe thead th {\n",
       "        text-align: right;\n",
       "    }\n",
       "</style>\n",
       "<table border=\"1\" class=\"dataframe\">\n",
       "  <thead>\n",
       "    <tr style=\"text-align: right;\">\n",
       "      <th></th>\n",
       "      <th>LM</th>\n",
       "      <th>VM</th>\n",
       "      <th>P@1-CSLS</th>\n",
       "      <th>P@10-CSLS</th>\n",
       "      <th>P@50-CSLS</th>\n",
       "      <th>P@100-CSLS</th>\n",
       "      <th>Models_size</th>\n",
       "    </tr>\n",
       "  </thead>\n",
       "  <tbody>\n",
       "    <tr>\n",
       "      <th>82</th>\n",
       "      <td>BERT&lt;sub&gt;TINY&lt;/sub&gt;</td>\n",
       "      <td>SegFormer&lt;sub&gt;B4&lt;/sub&gt;</td>\n",
       "      <td>0.752</td>\n",
       "      <td>4.084</td>\n",
       "      <td>10.552</td>\n",
       "      <td>14.660</td>\n",
       "      <td>4.4</td>\n",
       "    </tr>\n",
       "    <tr>\n",
       "      <th>73</th>\n",
       "      <td>BERT&lt;sub&gt;TINY&lt;/sub&gt;</td>\n",
       "      <td>ResNet101</td>\n",
       "      <td>0.854</td>\n",
       "      <td>5.098</td>\n",
       "      <td>12.754</td>\n",
       "      <td>17.928</td>\n",
       "      <td>4.4</td>\n",
       "    </tr>\n",
       "    <tr>\n",
       "      <th>76</th>\n",
       "      <td>BERT&lt;sub&gt;TINY&lt;/sub&gt;</td>\n",
       "      <td>ResNet34</td>\n",
       "      <td>0.954</td>\n",
       "      <td>4.692</td>\n",
       "      <td>12.362</td>\n",
       "      <td>17.422</td>\n",
       "      <td>4.4</td>\n",
       "    </tr>\n",
       "    <tr>\n",
       "      <th>79</th>\n",
       "      <td>BERT&lt;sub&gt;TINY&lt;/sub&gt;</td>\n",
       "      <td>SegFormer&lt;sub&gt;B1&lt;/sub&gt;</td>\n",
       "      <td>0.618</td>\n",
       "      <td>3.622</td>\n",
       "      <td>10.382</td>\n",
       "      <td>15.014</td>\n",
       "      <td>4.4</td>\n",
       "    </tr>\n",
       "    <tr>\n",
       "      <th>80</th>\n",
       "      <td>BERT&lt;sub&gt;TINY&lt;/sub&gt;</td>\n",
       "      <td>SegFormer&lt;sub&gt;B2&lt;/sub&gt;</td>\n",
       "      <td>0.664</td>\n",
       "      <td>4.188</td>\n",
       "      <td>11.022</td>\n",
       "      <td>15.344</td>\n",
       "      <td>4.4</td>\n",
       "    </tr>\n",
       "    <tr>\n",
       "      <th>...</th>\n",
       "      <td>...</td>\n",
       "      <td>...</td>\n",
       "      <td>...</td>\n",
       "      <td>...</td>\n",
       "      <td>...</td>\n",
       "      <td>...</td>\n",
       "      <td>...</td>\n",
       "    </tr>\n",
       "    <tr>\n",
       "      <th>171</th>\n",
       "      <td>OPT&lt;sub&gt;30B&lt;/sub&gt;</td>\n",
       "      <td>ResNet101</td>\n",
       "      <td>6.790</td>\n",
       "      <td>31.470</td>\n",
       "      <td>54.476</td>\n",
       "      <td>63.872</td>\n",
       "      <td>30000.0</td>\n",
       "    </tr>\n",
       "    <tr>\n",
       "      <th>180</th>\n",
       "      <td>OPT&lt;sub&gt;30B&lt;/sub&gt;</td>\n",
       "      <td>SegFormer&lt;sub&gt;B4&lt;/sub&gt;</td>\n",
       "      <td>6.230</td>\n",
       "      <td>28.316</td>\n",
       "      <td>51.284</td>\n",
       "      <td>60.460</td>\n",
       "      <td>30000.0</td>\n",
       "    </tr>\n",
       "    <tr>\n",
       "      <th>178</th>\n",
       "      <td>OPT&lt;sub&gt;30B&lt;/sub&gt;</td>\n",
       "      <td>SegFormer&lt;sub&gt;B2&lt;/sub&gt;</td>\n",
       "      <td>6.366</td>\n",
       "      <td>27.834</td>\n",
       "      <td>50.932</td>\n",
       "      <td>60.406</td>\n",
       "      <td>30000.0</td>\n",
       "    </tr>\n",
       "    <tr>\n",
       "      <th>177</th>\n",
       "      <td>OPT&lt;sub&gt;30B&lt;/sub&gt;</td>\n",
       "      <td>SegFormer&lt;sub&gt;B1&lt;/sub&gt;</td>\n",
       "      <td>5.982</td>\n",
       "      <td>26.547</td>\n",
       "      <td>48.474</td>\n",
       "      <td>58.348</td>\n",
       "      <td>30000.0</td>\n",
       "    </tr>\n",
       "    <tr>\n",
       "      <th>174</th>\n",
       "      <td>OPT&lt;sub&gt;30B&lt;/sub&gt;</td>\n",
       "      <td>ResNet34</td>\n",
       "      <td>6.934</td>\n",
       "      <td>29.518</td>\n",
       "      <td>51.794</td>\n",
       "      <td>61.268</td>\n",
       "      <td>30000.0</td>\n",
       "    </tr>\n",
       "  </tbody>\n",
       "</table>\n",
       "<p>70 rows × 7 columns</p>\n",
       "</div>"
      ],
      "text/plain": [
       "                      LM                      VM  P@1-CSLS  P@10-CSLS  \\\n",
       "82   BERT<sub>TINY</sub>  SegFormer<sub>B4</sub>     0.752      4.084   \n",
       "73   BERT<sub>TINY</sub>               ResNet101     0.854      5.098   \n",
       "76   BERT<sub>TINY</sub>                ResNet34     0.954      4.692   \n",
       "79   BERT<sub>TINY</sub>  SegFormer<sub>B1</sub>     0.618      3.622   \n",
       "80   BERT<sub>TINY</sub>  SegFormer<sub>B2</sub>     0.664      4.188   \n",
       "..                   ...                     ...       ...        ...   \n",
       "171    OPT<sub>30B</sub>               ResNet101     6.790     31.470   \n",
       "180    OPT<sub>30B</sub>  SegFormer<sub>B4</sub>     6.230     28.316   \n",
       "178    OPT<sub>30B</sub>  SegFormer<sub>B2</sub>     6.366     27.834   \n",
       "177    OPT<sub>30B</sub>  SegFormer<sub>B1</sub>     5.982     26.547   \n",
       "174    OPT<sub>30B</sub>                ResNet34     6.934     29.518   \n",
       "\n",
       "     P@50-CSLS  P@100-CSLS  Models_size  \n",
       "82      10.552      14.660          4.4  \n",
       "73      12.754      17.928          4.4  \n",
       "76      12.362      17.422          4.4  \n",
       "79      10.382      15.014          4.4  \n",
       "80      11.022      15.344          4.4  \n",
       "..         ...         ...          ...  \n",
       "171     54.476      63.872      30000.0  \n",
       "180     51.284      60.460      30000.0  \n",
       "178     50.932      60.406      30000.0  \n",
       "177     48.474      58.348      30000.0  \n",
       "174     51.794      61.268      30000.0  \n",
       "\n",
       "[70 rows x 7 columns]"
      ]
     },
     "execution_count": 54,
     "metadata": {},
     "output_type": "execute_result"
    }
   ],
   "source": [
    "vm_selected_left.loc[(vm_selected_left[\"VM\"] == \"SegFormer-B4\")]\n",
    "vm_selected_left = vm_selected_left.sort_values(by='Models_size', ascending=True)\n",
    "\n",
    "# model_name_1 = {'bert_uncased_L-2_H-128_A-2': \"BERT<sub>TINY</sub>\",\n",
    "#                 'bert_uncased_L-4_H-256_A-4': \"BERT<sub>MINI</sub>\" ,\n",
    "#                 'bert_uncased_L-4_H-512_A-8': \"BERT<sub>SMALL</sub>\",\n",
    "#                 'bert_uncased_L-8_H-512_A-8': \"BERT<sub>MEDIUM</sub>\",\n",
    "#                 'bert-base-uncased': \"BERT<sub>BASE</sub>\",\n",
    "#                 'bert-large-uncased': \"BERT<sub>LARGE</sub>\",\n",
    "#                 'gpt2': \"GPT2<sub>BASE</sub>\",\n",
    "#                 'gpt2-medium': \"GPT2<sub>MEDIUM</sub>\",\n",
    "#                 'gpt2-large': \"GPT2<sub>LARGE</sub>\",\n",
    "#                 'gpt2-xl': \"GPT2<sub>XL</sub>\",\n",
    "#                 'opt-125m': \"OPT<sub>125M</sub>\",\n",
    "#                 'opt-1.3b': \"OPT<sub>1.3B</sub>\",\n",
    "#                 'opt-6.7b': \"OPT<sub>6.7B</sub>\",\n",
    "#                 'opt-30b': \"OPT<sub>30B</sub>\",\n",
    "#                 'opt-66b': \"OPT<sub>66B</sub>\",\n",
    "#                 'Llama-2-7b-hf': \"Llama-2<sub>7B</sub>\",\n",
    "#                 'Llama-2-13b-hf': \"Llama-2<sub>13B</sub>\",\n",
    "#                 'Llama-2-70b-hf': \"Llama-2<sub>70B</sub>\",\n",
    "#                 \"fasttext\":\"fastText\"}\n",
    "\n",
    "# vm_name_1 = {\n",
    "#     'resnet101': 'ResNet101',\n",
    "#     'resnet152': 'ResNet152',\n",
    "#     'resnet18': 'ResNet18',\n",
    "#     'resnet34': 'ResNet34',\n",
    "#     'resnet50': 'ResNet50',\n",
    "#     'segformer-b0-finetuned-ade-512-512': 'SegFormer<sub>B0</sub>',\n",
    "#     'segformer-b1-finetuned-ade-512-512': 'SegFormer<sub>B1</sub>',\n",
    "#     'segformer-b2-finetuned-ade-512-512': 'SegFormer<sub>B2</sub>',\n",
    "#     'segformer-b3-finetuned-ade-512-512': 'SegFormer<sub>B3</sub>',\n",
    "#     'segformer-b4-finetuned-ade-512-512': 'SegFormer<sub>B4</sub>',\n",
    "#     'segformer-b5-finetuned-ade-640-640': 'SegFormer<sub>B5</sub>',\n",
    "#     'vit-mae-base': 'MAE<sub>Base</sub>',\n",
    "#     'vit-mae-huge': 'MAE<sub>Huge</sub>',\n",
    "#     'vit-mae-large': 'MAE<sub>Large</sub>'\n",
    "# }\n",
    "\n",
    "# vm_selected_left['VM'] = vm_selected_left['VM'].replace(vm_name_1)\n",
    "# vm_selected_left['LM'] = vm_selected_left['LM'].replace(model_name_1)\n",
    "\n",
    "vm_selected_left\n"
   ]
  },
  {
   "cell_type": "code",
   "execution_count": 73,
   "metadata": {},
   "outputs": [
    {
     "data": {
      "application/vnd.plotly.v1+json": {
       "config": {
        "plotlyServerURL": "https://plot.ly"
       },
       "data": [
        {
         "fill": "toself",
         "line": {
          "color": "rgb(102,194,165)"
         },
         "marker": {
          "color": "rgb(102,194,165)"
         },
         "name": "ResNet101",
         "r": [
          17.928,
          24.663999999999998,
          32.044,
          33.812,
          43.056,
          12.626000000000001,
          40.53,
          46.204,
          48.406,
          51.984,
          60.705999999999996,
          54.58,
          62.874,
          63.872
         ],
         "theta": [
          "BERT<sub>TINY</sub>",
          "BERT<sub>MINI</sub>",
          "BERT<sub>SMALL</sub>",
          "BERT<sub>MEDIUM</sub>",
          "BERT<sub>BASE</sub>",
          "GPT2<sub>BASE</sub>",
          "OPT<sub>125M</sub>",
          "BERT<sub>LARGE</sub>",
          "GPT2<sub>LARGE</sub>",
          "GPT2<sub>XL</sub>",
          "OPT<sub>6.7B</sub>",
          "Llama-2<sub>7B</sub>",
          "Llama-2<sub>13B</sub>",
          "OPT<sub>30B</sub>"
         ],
         "type": "scatterpolar"
        },
        {
         "fill": "toself",
         "line": {
          "color": "rgb(252,141,98)"
         },
         "marker": {
          "color": "rgb(252,141,98)"
         },
         "name": "ResNet34",
         "r": [
          17.422,
          23.938,
          31.412,
          32.315999999999995,
          41.662,
          11.828,
          38.832,
          44.384,
          46.465999999999994,
          50.257999999999996,
          58.552,
          50.202,
          58.608000000000004,
          61.267999999999994
         ],
         "theta": [
          "BERT<sub>TINY</sub>",
          "BERT<sub>MINI</sub>",
          "BERT<sub>SMALL</sub>",
          "BERT<sub>MEDIUM</sub>",
          "BERT<sub>BASE</sub>",
          "GPT2<sub>BASE</sub>",
          "OPT<sub>125M</sub>",
          "BERT<sub>LARGE</sub>",
          "GPT2<sub>LARGE</sub>",
          "GPT2<sub>XL</sub>",
          "OPT<sub>6.7B</sub>",
          "Llama-2<sub>7B</sub>",
          "Llama-2<sub>13B</sub>",
          "OPT<sub>30B</sub>"
         ],
         "type": "scatterpolar"
        },
        {
         "fill": "toself",
         "line": {
          "color": "rgb(141,160,203)"
         },
         "marker": {
          "color": "rgb(141,160,203)"
         },
         "name": "SegFormer<sub>B4</sub>",
         "r": [
          14.66,
          22.606,
          29.998,
          31.426,
          40.558,
          13.572,
          37.734,
          43.416000000000004,
          45.488,
          48.564,
          57.61,
          49.122,
          57.79,
          60.46
         ],
         "theta": [
          "BERT<sub>TINY</sub>",
          "BERT<sub>MINI</sub>",
          "BERT<sub>SMALL</sub>",
          "BERT<sub>MEDIUM</sub>",
          "BERT<sub>BASE</sub>",
          "GPT2<sub>BASE</sub>",
          "OPT<sub>125M</sub>",
          "BERT<sub>LARGE</sub>",
          "GPT2<sub>LARGE</sub>",
          "GPT2<sub>XL</sub>",
          "OPT<sub>6.7B</sub>",
          "Llama-2<sub>7B</sub>",
          "Llama-2<sub>13B</sub>",
          "OPT<sub>30B</sub>"
         ],
         "type": "scatterpolar"
        },
        {
         "fill": "toself",
         "line": {
          "color": "rgb(231,138,195)"
         },
         "marker": {
          "color": "rgb(231,138,195)"
         },
         "name": "SegFormer<sub>B2</sub>",
         "r": [
          15.344,
          23.022,
          30.23,
          31.29,
          40.022000000000006,
          12.626,
          38.228,
          43.194,
          45.554,
          48.552,
          57.552,
          49.136,
          57.970000000000006,
          60.40599999999999
         ],
         "theta": [
          "BERT<sub>TINY</sub>",
          "BERT<sub>MINI</sub>",
          "BERT<sub>SMALL</sub>",
          "BERT<sub>MEDIUM</sub>",
          "BERT<sub>BASE</sub>",
          "GPT2<sub>BASE</sub>",
          "OPT<sub>125M</sub>",
          "BERT<sub>LARGE</sub>",
          "GPT2<sub>LARGE</sub>",
          "GPT2<sub>XL</sub>",
          "OPT<sub>6.7B</sub>",
          "Llama-2<sub>7B</sub>",
          "Llama-2<sub>13B</sub>",
          "OPT<sub>30B</sub>"
         ],
         "type": "scatterpolar"
        },
        {
         "fill": "toself",
         "line": {
          "color": "rgb(166,216,84)"
         },
         "marker": {
          "color": "rgb(166,216,84)"
         },
         "name": "SegFormer<sub>B1</sub>",
         "r": [
          15.014,
          21.538,
          28.601999999999997,
          29.201999999999998,
          37.992000000000004,
          11.92,
          36.004,
          41.089999999999996,
          42.782,
          46.78,
          55.208000000000006,
          46.836,
          55.242,
          58.348
         ],
         "theta": [
          "BERT<sub>TINY</sub>",
          "BERT<sub>MINI</sub>",
          "BERT<sub>SMALL</sub>",
          "BERT<sub>MEDIUM</sub>",
          "BERT<sub>BASE</sub>",
          "GPT2<sub>BASE</sub>",
          "OPT<sub>125M</sub>",
          "BERT<sub>LARGE</sub>",
          "GPT2<sub>LARGE</sub>",
          "GPT2<sub>XL</sub>",
          "OPT<sub>6.7B</sub>",
          "Llama-2<sub>7B</sub>",
          "Llama-2<sub>13B</sub>",
          "OPT<sub>30B</sub>"
         ],
         "type": "scatterpolar"
        }
       ],
       "layout": {
        "height": 1000,
        "legend": {
         "font": {
          "size": 25
         },
         "orientation": "h",
         "x": 0,
         "y": 1.1
        },
        "polar": {
         "angularaxis": {
          "gridwidth": 3,
          "tickfont": {
           "size": 30
          },
          "visible": true
         },
         "radialaxis": {
          "range": [
           0,
           70
          ],
          "tickfont": {
           "size": 30
          },
          "visible": true
         }
        },
        "showlegend": true,
        "template": {
         "data": {
          "bar": [
           {
            "error_x": {
             "color": "#2a3f5f"
            },
            "error_y": {
             "color": "#2a3f5f"
            },
            "marker": {
             "line": {
              "color": "#E5ECF6",
              "width": 0.5
             },
             "pattern": {
              "fillmode": "overlay",
              "size": 10,
              "solidity": 0.2
             }
            },
            "type": "bar"
           }
          ],
          "barpolar": [
           {
            "marker": {
             "line": {
              "color": "#E5ECF6",
              "width": 0.5
             },
             "pattern": {
              "fillmode": "overlay",
              "size": 10,
              "solidity": 0.2
             }
            },
            "type": "barpolar"
           }
          ],
          "carpet": [
           {
            "aaxis": {
             "endlinecolor": "#2a3f5f",
             "gridcolor": "white",
             "linecolor": "white",
             "minorgridcolor": "white",
             "startlinecolor": "#2a3f5f"
            },
            "baxis": {
             "endlinecolor": "#2a3f5f",
             "gridcolor": "white",
             "linecolor": "white",
             "minorgridcolor": "white",
             "startlinecolor": "#2a3f5f"
            },
            "type": "carpet"
           }
          ],
          "choropleth": [
           {
            "colorbar": {
             "outlinewidth": 0,
             "ticks": ""
            },
            "type": "choropleth"
           }
          ],
          "contour": [
           {
            "colorbar": {
             "outlinewidth": 0,
             "ticks": ""
            },
            "colorscale": [
             [
              0,
              "#0d0887"
             ],
             [
              0.1111111111111111,
              "#46039f"
             ],
             [
              0.2222222222222222,
              "#7201a8"
             ],
             [
              0.3333333333333333,
              "#9c179e"
             ],
             [
              0.4444444444444444,
              "#bd3786"
             ],
             [
              0.5555555555555556,
              "#d8576b"
             ],
             [
              0.6666666666666666,
              "#ed7953"
             ],
             [
              0.7777777777777778,
              "#fb9f3a"
             ],
             [
              0.8888888888888888,
              "#fdca26"
             ],
             [
              1,
              "#f0f921"
             ]
            ],
            "type": "contour"
           }
          ],
          "contourcarpet": [
           {
            "colorbar": {
             "outlinewidth": 0,
             "ticks": ""
            },
            "type": "contourcarpet"
           }
          ],
          "heatmap": [
           {
            "colorbar": {
             "outlinewidth": 0,
             "ticks": ""
            },
            "colorscale": [
             [
              0,
              "#0d0887"
             ],
             [
              0.1111111111111111,
              "#46039f"
             ],
             [
              0.2222222222222222,
              "#7201a8"
             ],
             [
              0.3333333333333333,
              "#9c179e"
             ],
             [
              0.4444444444444444,
              "#bd3786"
             ],
             [
              0.5555555555555556,
              "#d8576b"
             ],
             [
              0.6666666666666666,
              "#ed7953"
             ],
             [
              0.7777777777777778,
              "#fb9f3a"
             ],
             [
              0.8888888888888888,
              "#fdca26"
             ],
             [
              1,
              "#f0f921"
             ]
            ],
            "type": "heatmap"
           }
          ],
          "heatmapgl": [
           {
            "colorbar": {
             "outlinewidth": 0,
             "ticks": ""
            },
            "colorscale": [
             [
              0,
              "#0d0887"
             ],
             [
              0.1111111111111111,
              "#46039f"
             ],
             [
              0.2222222222222222,
              "#7201a8"
             ],
             [
              0.3333333333333333,
              "#9c179e"
             ],
             [
              0.4444444444444444,
              "#bd3786"
             ],
             [
              0.5555555555555556,
              "#d8576b"
             ],
             [
              0.6666666666666666,
              "#ed7953"
             ],
             [
              0.7777777777777778,
              "#fb9f3a"
             ],
             [
              0.8888888888888888,
              "#fdca26"
             ],
             [
              1,
              "#f0f921"
             ]
            ],
            "type": "heatmapgl"
           }
          ],
          "histogram": [
           {
            "marker": {
             "pattern": {
              "fillmode": "overlay",
              "size": 10,
              "solidity": 0.2
             }
            },
            "type": "histogram"
           }
          ],
          "histogram2d": [
           {
            "colorbar": {
             "outlinewidth": 0,
             "ticks": ""
            },
            "colorscale": [
             [
              0,
              "#0d0887"
             ],
             [
              0.1111111111111111,
              "#46039f"
             ],
             [
              0.2222222222222222,
              "#7201a8"
             ],
             [
              0.3333333333333333,
              "#9c179e"
             ],
             [
              0.4444444444444444,
              "#bd3786"
             ],
             [
              0.5555555555555556,
              "#d8576b"
             ],
             [
              0.6666666666666666,
              "#ed7953"
             ],
             [
              0.7777777777777778,
              "#fb9f3a"
             ],
             [
              0.8888888888888888,
              "#fdca26"
             ],
             [
              1,
              "#f0f921"
             ]
            ],
            "type": "histogram2d"
           }
          ],
          "histogram2dcontour": [
           {
            "colorbar": {
             "outlinewidth": 0,
             "ticks": ""
            },
            "colorscale": [
             [
              0,
              "#0d0887"
             ],
             [
              0.1111111111111111,
              "#46039f"
             ],
             [
              0.2222222222222222,
              "#7201a8"
             ],
             [
              0.3333333333333333,
              "#9c179e"
             ],
             [
              0.4444444444444444,
              "#bd3786"
             ],
             [
              0.5555555555555556,
              "#d8576b"
             ],
             [
              0.6666666666666666,
              "#ed7953"
             ],
             [
              0.7777777777777778,
              "#fb9f3a"
             ],
             [
              0.8888888888888888,
              "#fdca26"
             ],
             [
              1,
              "#f0f921"
             ]
            ],
            "type": "histogram2dcontour"
           }
          ],
          "mesh3d": [
           {
            "colorbar": {
             "outlinewidth": 0,
             "ticks": ""
            },
            "type": "mesh3d"
           }
          ],
          "parcoords": [
           {
            "line": {
             "colorbar": {
              "outlinewidth": 0,
              "ticks": ""
             }
            },
            "type": "parcoords"
           }
          ],
          "pie": [
           {
            "automargin": true,
            "type": "pie"
           }
          ],
          "scatter": [
           {
            "fillpattern": {
             "fillmode": "overlay",
             "size": 10,
             "solidity": 0.2
            },
            "type": "scatter"
           }
          ],
          "scatter3d": [
           {
            "line": {
             "colorbar": {
              "outlinewidth": 0,
              "ticks": ""
             }
            },
            "marker": {
             "colorbar": {
              "outlinewidth": 0,
              "ticks": ""
             }
            },
            "type": "scatter3d"
           }
          ],
          "scattercarpet": [
           {
            "marker": {
             "colorbar": {
              "outlinewidth": 0,
              "ticks": ""
             }
            },
            "type": "scattercarpet"
           }
          ],
          "scattergeo": [
           {
            "marker": {
             "colorbar": {
              "outlinewidth": 0,
              "ticks": ""
             }
            },
            "type": "scattergeo"
           }
          ],
          "scattergl": [
           {
            "marker": {
             "colorbar": {
              "outlinewidth": 0,
              "ticks": ""
             }
            },
            "type": "scattergl"
           }
          ],
          "scattermapbox": [
           {
            "marker": {
             "colorbar": {
              "outlinewidth": 0,
              "ticks": ""
             }
            },
            "type": "scattermapbox"
           }
          ],
          "scatterpolar": [
           {
            "marker": {
             "colorbar": {
              "outlinewidth": 0,
              "ticks": ""
             }
            },
            "type": "scatterpolar"
           }
          ],
          "scatterpolargl": [
           {
            "marker": {
             "colorbar": {
              "outlinewidth": 0,
              "ticks": ""
             }
            },
            "type": "scatterpolargl"
           }
          ],
          "scatterternary": [
           {
            "marker": {
             "colorbar": {
              "outlinewidth": 0,
              "ticks": ""
             }
            },
            "type": "scatterternary"
           }
          ],
          "surface": [
           {
            "colorbar": {
             "outlinewidth": 0,
             "ticks": ""
            },
            "colorscale": [
             [
              0,
              "#0d0887"
             ],
             [
              0.1111111111111111,
              "#46039f"
             ],
             [
              0.2222222222222222,
              "#7201a8"
             ],
             [
              0.3333333333333333,
              "#9c179e"
             ],
             [
              0.4444444444444444,
              "#bd3786"
             ],
             [
              0.5555555555555556,
              "#d8576b"
             ],
             [
              0.6666666666666666,
              "#ed7953"
             ],
             [
              0.7777777777777778,
              "#fb9f3a"
             ],
             [
              0.8888888888888888,
              "#fdca26"
             ],
             [
              1,
              "#f0f921"
             ]
            ],
            "type": "surface"
           }
          ],
          "table": [
           {
            "cells": {
             "fill": {
              "color": "#EBF0F8"
             },
             "line": {
              "color": "white"
             }
            },
            "header": {
             "fill": {
              "color": "#C8D4E3"
             },
             "line": {
              "color": "white"
             }
            },
            "type": "table"
           }
          ]
         },
         "layout": {
          "annotationdefaults": {
           "arrowcolor": "#2a3f5f",
           "arrowhead": 0,
           "arrowwidth": 1
          },
          "autotypenumbers": "strict",
          "coloraxis": {
           "colorbar": {
            "outlinewidth": 0,
            "ticks": ""
           }
          },
          "colorscale": {
           "diverging": [
            [
             0,
             "#8e0152"
            ],
            [
             0.1,
             "#c51b7d"
            ],
            [
             0.2,
             "#de77ae"
            ],
            [
             0.3,
             "#f1b6da"
            ],
            [
             0.4,
             "#fde0ef"
            ],
            [
             0.5,
             "#f7f7f7"
            ],
            [
             0.6,
             "#e6f5d0"
            ],
            [
             0.7,
             "#b8e186"
            ],
            [
             0.8,
             "#7fbc41"
            ],
            [
             0.9,
             "#4d9221"
            ],
            [
             1,
             "#276419"
            ]
           ],
           "sequential": [
            [
             0,
             "#0d0887"
            ],
            [
             0.1111111111111111,
             "#46039f"
            ],
            [
             0.2222222222222222,
             "#7201a8"
            ],
            [
             0.3333333333333333,
             "#9c179e"
            ],
            [
             0.4444444444444444,
             "#bd3786"
            ],
            [
             0.5555555555555556,
             "#d8576b"
            ],
            [
             0.6666666666666666,
             "#ed7953"
            ],
            [
             0.7777777777777778,
             "#fb9f3a"
            ],
            [
             0.8888888888888888,
             "#fdca26"
            ],
            [
             1,
             "#f0f921"
            ]
           ],
           "sequentialminus": [
            [
             0,
             "#0d0887"
            ],
            [
             0.1111111111111111,
             "#46039f"
            ],
            [
             0.2222222222222222,
             "#7201a8"
            ],
            [
             0.3333333333333333,
             "#9c179e"
            ],
            [
             0.4444444444444444,
             "#bd3786"
            ],
            [
             0.5555555555555556,
             "#d8576b"
            ],
            [
             0.6666666666666666,
             "#ed7953"
            ],
            [
             0.7777777777777778,
             "#fb9f3a"
            ],
            [
             0.8888888888888888,
             "#fdca26"
            ],
            [
             1,
             "#f0f921"
            ]
           ]
          },
          "colorway": [
           "#636efa",
           "#EF553B",
           "#00cc96",
           "#ab63fa",
           "#FFA15A",
           "#19d3f3",
           "#FF6692",
           "#B6E880",
           "#FF97FF",
           "#FECB52"
          ],
          "font": {
           "color": "#2a3f5f"
          },
          "geo": {
           "bgcolor": "white",
           "lakecolor": "white",
           "landcolor": "#E5ECF6",
           "showlakes": true,
           "showland": true,
           "subunitcolor": "white"
          },
          "hoverlabel": {
           "align": "left"
          },
          "hovermode": "closest",
          "mapbox": {
           "style": "light"
          },
          "paper_bgcolor": "white",
          "plot_bgcolor": "#E5ECF6",
          "polar": {
           "angularaxis": {
            "gridcolor": "white",
            "linecolor": "white",
            "ticks": ""
           },
           "bgcolor": "#E5ECF6",
           "radialaxis": {
            "gridcolor": "white",
            "linecolor": "white",
            "ticks": ""
           }
          },
          "scene": {
           "xaxis": {
            "backgroundcolor": "#E5ECF6",
            "gridcolor": "white",
            "gridwidth": 2,
            "linecolor": "white",
            "showbackground": true,
            "ticks": "",
            "zerolinecolor": "white"
           },
           "yaxis": {
            "backgroundcolor": "#E5ECF6",
            "gridcolor": "white",
            "gridwidth": 2,
            "linecolor": "white",
            "showbackground": true,
            "ticks": "",
            "zerolinecolor": "white"
           },
           "zaxis": {
            "backgroundcolor": "#E5ECF6",
            "gridcolor": "white",
            "gridwidth": 2,
            "linecolor": "white",
            "showbackground": true,
            "ticks": "",
            "zerolinecolor": "white"
           }
          },
          "shapedefaults": {
           "line": {
            "color": "#2a3f5f"
           }
          },
          "ternary": {
           "aaxis": {
            "gridcolor": "white",
            "linecolor": "white",
            "ticks": ""
           },
           "baxis": {
            "gridcolor": "white",
            "linecolor": "white",
            "ticks": ""
           },
           "bgcolor": "#E5ECF6",
           "caxis": {
            "gridcolor": "white",
            "linecolor": "white",
            "ticks": ""
           }
          },
          "title": {
           "x": 0.05
          },
          "xaxis": {
           "automargin": true,
           "gridcolor": "white",
           "linecolor": "white",
           "ticks": "",
           "title": {
            "standoff": 15
           },
           "zerolinecolor": "white",
           "zerolinewidth": 2
          },
          "yaxis": {
           "automargin": true,
           "gridcolor": "white",
           "linecolor": "white",
           "ticks": "",
           "title": {
            "standoff": 15
           },
           "zerolinecolor": "white",
           "zerolinewidth": 2
          }
         }
        },
        "width": 1200
       }
      }
     },
     "metadata": {},
     "output_type": "display_data"
    }
   ],
   "source": [
    "import plotly.express as px\n",
    "\n",
    "# fig = px.line_polar(vm_selected_left, r=vm_selected_left['P@100-CSLS'], theta=vm_selected_left['LM'], line_close=True,\n",
    "#                      range_r=[0, vm_selected_left['P@100-CSLS'].max()],\n",
    "#                      title=\"Radar Chart - P@100-CSLS\",\n",
    "#                      labels={'P@100-CSLS': 'P@100-CSLS'},\n",
    "#                      template=\"plotly_dark\")\n",
    "\n",
    "# # Show the plot\n",
    "# fig.show()\n",
    "\n",
    "import plotly.graph_objects as go\n",
    "\n",
    "VMs = [\"ResNet101\",  \"ResNet34\", \"SegFormer<sub>B4</sub>\", \"SegFormer<sub>B2</sub>\", \"SegFormer<sub>B1</sub>\"]\n",
    "# classes = ['BERT_TINY','BERT_MINI','BERT_SMALL','BERT_MEDIUM','BERT_BASE','BERT_LARGE',\n",
    "#  'GPT2_BASE', 'GPT2_LARGE', 'GPT2_XL','OPT_125M' ,'OPT_6.7B','OPT_30B',\n",
    "#  'Llama-2-7b', 'Llama-2-13b' ]\n",
    "\n",
    "# categories = ['processing cost','mechanical properties','chemical stability',\n",
    "#               'thermal stability', 'device integration']\n",
    "# colors = ['#1f77b4', '#ff7f0e', '#2ca02c', '#d62728', '#9467bd', '#8c564b']\n",
    "colors = px.colors.qualitative.Set2\n",
    "fig = go.Figure()\n",
    "\n",
    "classes = vm_selected_left['LM'].unique()\n",
    "\n",
    "# print(classes)\n",
    "\n",
    "# Create radar chart traces for each VM\n",
    "traces = []\n",
    "for i, vm in enumerate(VMs):\n",
    "    trace = go.Scatterpolar(\n",
    "        r=vm_selected_left[vm_selected_left['VM'] == vm][\"P@100-CSLS\"].tolist(),\n",
    "        theta=classes,\n",
    "        fill='toself',\n",
    "        name=vm,\n",
    "        line=dict(color=colors[i]),\n",
    "        marker=dict(color=colors[i])\n",
    "    )\n",
    "    traces.append(trace)\n",
    "\n",
    "for trace in traces:\n",
    "    fig.add_trace(trace)\n",
    "\n",
    "# fig.add_trace(go.Scatterpolar(\n",
    "#       r=[1, 5, 2, 2, 3],\n",
    "#       theta=categories,\n",
    "#       fill='toself',\n",
    "#       name='Product A'\n",
    "# ))\n",
    "# fig.add_trace(go.Scatterpolar(\n",
    "#       r=[4, 3, 2.5, 1, 2],\n",
    "#       theta=categories,\n",
    "#       fill='toself',\n",
    "#       name='Product B'\n",
    "# ))\n",
    "\n",
    "fig.update_layout(\n",
    "  polar=dict(\n",
    "    angularaxis=dict(\n",
    "      visible=True,\n",
    "      gridwidth=3,\n",
    "      tickfont=dict(size=30)  # Adjust the font size here\n",
    "        ),\n",
    "    radialaxis=dict(\n",
    "      visible=True,\n",
    "      range=[0, 70],\n",
    "      tickfont=dict(size=30)\n",
    "      # line_close=True\n",
    "    )),\n",
    "  showlegend=True\n",
    ")\n",
    "\n",
    "fig.update_layout(width=1200, height=1000, legend=dict(x=0, y=1.1, orientation=\"h\",font=dict(size=25)), template=\"plotly\")\n",
    "# fig.write_image(f\"left_vm_vs_LMs_{set_name}_v3.pdf\")\n"
   ]
  },
  {
   "cell_type": "code",
   "execution_count": 71,
   "metadata": {},
   "outputs": [
    {
     "data": {
      "application/vnd.plotly.v1+json": {
       "config": {
        "plotlyServerURL": "https://plot.ly"
       },
       "data": [
        {
         "legendgroup": "BERT",
         "line": {
          "color": "rgb(102,194,165)",
          "dash": "dot"
         },
         "marker": {
          "size": 10,
          "symbol": "star"
         },
         "mode": "lines+markers",
         "name": "BERT - K=1",
         "showlegend": true,
         "type": "scatter",
         "x": [
          4.4,
          11.3,
          29.1,
          41.7,
          110,
          340
         ],
         "xaxis": "x",
         "y": [
          0.5720000000000001,
          1.1380000000000001,
          1.114,
          1.686,
          2.2939999999999996,
          2.2960000000000003
         ],
         "yaxis": "y"
        },
        {
         "legendgroup": "GPT2",
         "line": {
          "color": "rgb(252,141,98)",
          "dash": "dot"
         },
         "marker": {
          "size": 10,
          "symbol": "star"
         },
         "mode": "lines+markers",
         "name": "GPT2 - K=1",
         "showlegend": true,
         "type": "scatter",
         "x": [
          117,
          762,
          1542
         ],
         "xaxis": "x",
         "y": [
          0.394,
          2.1879999999999997,
          2.694
         ],
         "yaxis": "y"
        },
        {
         "legendgroup": "OPT",
         "line": {
          "color": "rgb(141,160,203)",
          "dash": "dot"
         },
         "marker": {
          "size": 10,
          "symbol": "star"
         },
         "mode": "lines+markers",
         "name": "OPT - K=1",
         "showlegend": true,
         "type": "scatter",
         "x": [
          125,
          6700,
          30000
         ],
         "xaxis": "x",
         "y": [
          1.5939999999999999,
          3.928,
          4.128
         ],
         "yaxis": "y"
        },
        {
         "legendgroup": "Llama2",
         "line": {
          "color": "rgb(231,138,195)",
          "dash": "dot"
         },
         "marker": {
          "size": 10,
          "symbol": "star"
         },
         "mode": "lines+markers",
         "name": "Llama2 - K=1",
         "showlegend": true,
         "type": "scatter",
         "x": [
          7000,
          13000
         ],
         "xaxis": "x",
         "y": [
          2.694,
          3.3299999999999996
         ],
         "yaxis": "y"
        },
        {
         "legendgroup": "BERT",
         "line": {
          "color": "rgb(102,194,165)",
          "dash": "dashdot"
         },
         "marker": {
          "size": 10,
          "symbol": "triangle-up"
         },
         "mode": "lines+markers",
         "name": "BERT - K=10",
         "showlegend": true,
         "type": "scatter",
         "x": [
          4.4,
          11.3,
          29.1,
          41.7,
          110,
          340
         ],
         "xaxis": "x",
         "y": [
          3.724,
          6.4799999999999995,
          7.837999999999999,
          7.94,
          10.416,
          11.296000000000001
         ],
         "yaxis": "y"
        },
        {
         "legendgroup": "GPT2",
         "line": {
          "color": "rgb(252,141,98)",
          "dash": "dashdot"
         },
         "marker": {
          "size": 10,
          "symbol": "triangle-up"
         },
         "mode": "lines+markers",
         "name": "GPT2 - K=10",
         "showlegend": true,
         "type": "scatter",
         "x": [
          117,
          762,
          1542
         ],
         "xaxis": "x",
         "y": [
          2.334,
          13.098000000000003,
          14.075999999999999
         ],
         "yaxis": "y"
        },
        {
         "legendgroup": "OPT",
         "line": {
          "color": "rgb(141,160,203)",
          "dash": "dashdot"
         },
         "marker": {
          "size": 10,
          "symbol": "triangle-up"
         },
         "mode": "lines+markers",
         "name": "OPT - K=10",
         "showlegend": true,
         "type": "scatter",
         "x": [
          125,
          6700,
          30000
         ],
         "xaxis": "x",
         "y": [
          9.732,
          18.866,
          19.606
         ],
         "yaxis": "y"
        },
        {
         "legendgroup": "Llama2",
         "line": {
          "color": "rgb(231,138,195)",
          "dash": "dashdot"
         },
         "marker": {
          "size": 10,
          "symbol": "triangle-up"
         },
         "mode": "lines+markers",
         "name": "Llama2 - K=10",
         "showlegend": true,
         "type": "scatter",
         "x": [
          7000,
          13000
         ],
         "xaxis": "x",
         "y": [
          12.314,
          16.666
         ],
         "yaxis": "y"
        },
        {
         "legendgroup": "BERT",
         "line": {
          "color": "rgb(102,194,165)",
          "dash": "longdash"
         },
         "marker": {
          "size": 10,
          "symbol": "circle"
         },
         "mode": "lines+markers",
         "name": "BERT - K=100",
         "showlegend": true,
         "type": "scatter",
         "x": [
          4.4,
          11.3,
          29.1,
          41.7,
          110,
          340
         ],
         "xaxis": "x",
         "y": [
          14.184000000000001,
          20.144,
          24.574,
          25.014,
          32.583999999999996,
          34.756
         ],
         "yaxis": "y"
        },
        {
         "legendgroup": "GPT2",
         "line": {
          "color": "rgb(252,141,98)",
          "dash": "longdash"
         },
         "marker": {
          "size": 10,
          "symbol": "circle"
         },
         "mode": "lines+markers",
         "name": "GPT2 - K=100",
         "showlegend": true,
         "type": "scatter",
         "x": [
          117,
          762,
          1542
         ],
         "xaxis": "x",
         "y": [
          8.943999999999999,
          37.024,
          39.989999999999995
         ],
         "yaxis": "y"
        },
        {
         "legendgroup": "OPT",
         "line": {
          "color": "rgb(141,160,203)",
          "dash": "longdash"
         },
         "marker": {
          "size": 10,
          "symbol": "circle"
         },
         "mode": "lines+markers",
         "name": "OPT - K=100",
         "showlegend": true,
         "type": "scatter",
         "x": [
          125,
          6700,
          30000
         ],
         "xaxis": "x",
         "y": [
          30.683999999999997,
          47.653999999999996,
          50.751999999999995
         ],
         "yaxis": "y"
        },
        {
         "legendgroup": "Llama2",
         "line": {
          "color": "rgb(231,138,195)",
          "dash": "longdash"
         },
         "marker": {
          "size": 10,
          "symbol": "circle"
         },
         "mode": "lines+markers",
         "name": "Llama2 - K=100",
         "showlegend": true,
         "type": "scatter",
         "x": [
          7000,
          13000
         ],
         "xaxis": "x",
         "y": [
          35.824,
          45.992000000000004
         ],
         "yaxis": "y"
        },
        {
         "legendgroup": "BERT",
         "line": {
          "color": "rgb(102,194,165)",
          "dash": "dot"
         },
         "marker": {
          "size": 10,
          "symbol": "star"
         },
         "mode": "lines+markers",
         "name": "BERT - K=1",
         "showlegend": false,
         "type": "scatter",
         "x": [
          4.4,
          11.3,
          29.1,
          41.7,
          110,
          340
         ],
         "xaxis": "x2",
         "y": [
          0.766,
          1.136,
          1.6420000000000001,
          1.8359999999999999,
          2.88,
          3.194
         ],
         "yaxis": "y2"
        },
        {
         "legendgroup": "GPT2",
         "line": {
          "color": "rgb(252,141,98)",
          "dash": "dot"
         },
         "marker": {
          "size": 10,
          "symbol": "star"
         },
         "mode": "lines+markers",
         "name": "GPT2 - K=1",
         "showlegend": false,
         "type": "scatter",
         "x": [
          117,
          762,
          1542
         ],
         "xaxis": "x2",
         "y": [
          0.8880000000000001,
          3.5140000000000002,
          3.7380000000000004
         ],
         "yaxis": "y2"
        },
        {
         "legendgroup": "OPT",
         "line": {
          "color": "rgb(141,160,203)",
          "dash": "dot"
         },
         "marker": {
          "size": 10,
          "symbol": "star"
         },
         "mode": "lines+markers",
         "name": "OPT - K=1",
         "showlegend": false,
         "type": "scatter",
         "x": [
          125,
          6700,
          30000
         ],
         "xaxis": "x2",
         "y": [
          2.5460000000000003,
          5.668,
          6.053
         ],
         "yaxis": "y2"
        },
        {
         "legendgroup": "Llama2",
         "line": {
          "color": "rgb(231,138,195)",
          "dash": "dot"
         },
         "marker": {
          "size": 10,
          "symbol": "star"
         },
         "mode": "lines+markers",
         "name": "Llama2 - K=1",
         "showlegend": false,
         "type": "scatter",
         "x": [
          7000,
          13000
         ],
         "xaxis": "x2",
         "y": [
          4.468,
          5.51
         ],
         "yaxis": "y2"
        },
        {
         "legendgroup": "BERT",
         "line": {
          "color": "rgb(102,194,165)",
          "dash": "dashdot"
         },
         "marker": {
          "size": 10,
          "symbol": "triangle-up"
         },
         "mode": "lines+markers",
         "name": "BERT - K=10",
         "showlegend": false,
         "type": "scatter",
         "x": [
          4.4,
          11.3,
          29.1,
          41.7,
          110,
          340
         ],
         "xaxis": "x2",
         "y": [
          4.32,
          7.630000000000001,
          11.358,
          11.642,
          15.102,
          16.738
         ],
         "yaxis": "y2"
        },
        {
         "legendgroup": "GPT2",
         "line": {
          "color": "rgb(252,141,98)",
          "dash": "dashdot"
         },
         "marker": {
          "size": 10,
          "symbol": "triangle-up"
         },
         "mode": "lines+markers",
         "name": "GPT2 - K=10",
         "showlegend": false,
         "type": "scatter",
         "x": [
          117,
          762,
          1542
         ],
         "xaxis": "x2",
         "y": [
          4.544,
          19.27,
          21.056
         ],
         "yaxis": "y2"
        },
        {
         "legendgroup": "OPT",
         "line": {
          "color": "rgb(141,160,203)",
          "dash": "dashdot"
         },
         "marker": {
          "size": 10,
          "symbol": "triangle-up"
         },
         "mode": "lines+markers",
         "name": "OPT - K=10",
         "showlegend": false,
         "type": "scatter",
         "x": [
          125,
          6700,
          30000
         ],
         "xaxis": "x2",
         "y": [
          14.86,
          27.168,
          29.056
         ],
         "yaxis": "y2"
        },
        {
         "legendgroup": "Llama2",
         "line": {
          "color": "rgb(231,138,195)",
          "dash": "dashdot"
         },
         "marker": {
          "size": 10,
          "symbol": "triangle-up"
         },
         "mode": "lines+markers",
         "name": "Llama2 - K=10",
         "showlegend": false,
         "type": "scatter",
         "x": [
          7000,
          13000
         ],
         "xaxis": "x2",
         "y": [
          20.503999999999998,
          26.877999999999997
         ],
         "yaxis": "y2"
        },
        {
         "legendgroup": "BERT",
         "line": {
          "color": "rgb(102,194,165)",
          "dash": "longdash"
         },
         "marker": {
          "size": 10,
          "symbol": "circle"
         },
         "mode": "lines+markers",
         "name": "BERT - K=100",
         "showlegend": false,
         "type": "scatter",
         "x": [
          4.4,
          11.3,
          29.1,
          41.7,
          110,
          340
         ],
         "xaxis": "x2",
         "y": [
          15.206,
          23.396,
          30.594,
          31.956,
          40.932,
          43.688
         ],
         "yaxis": "y2"
        },
        {
         "legendgroup": "GPT2",
         "line": {
          "color": "rgb(252,141,98)",
          "dash": "longdash"
         },
         "marker": {
          "size": 10,
          "symbol": "circle"
         },
         "mode": "lines+markers",
         "name": "GPT2 - K=100",
         "showlegend": false,
         "type": "scatter",
         "x": [
          117,
          762,
          1542
         ],
         "xaxis": "x2",
         "y": [
          13.457999999999998,
          45.78,
          49.07
         ],
         "yaxis": "y2"
        },
        {
         "legendgroup": "OPT",
         "line": {
          "color": "rgb(141,160,203)",
          "dash": "longdash"
         },
         "marker": {
          "size": 10,
          "symbol": "circle"
         },
         "mode": "lines+markers",
         "name": "OPT - K=100",
         "showlegend": false,
         "type": "scatter",
         "x": [
          125,
          6700,
          30000
         ],
         "xaxis": "x2",
         "y": [
          38.576,
          58.36,
          61.098
         ],
         "yaxis": "y2"
        },
        {
         "legendgroup": "Llama2",
         "line": {
          "color": "rgb(231,138,195)",
          "dash": "longdash"
         },
         "marker": {
          "size": 10,
          "symbol": "circle"
         },
         "mode": "lines+markers",
         "name": "Llama2 - K=100",
         "showlegend": false,
         "type": "scatter",
         "x": [
          7000,
          13000
         ],
         "xaxis": "x2",
         "y": [
          49.8,
          58.866
         ],
         "yaxis": "y2"
        },
        {
         "legendgroup": "BERT",
         "line": {
          "color": "rgb(102,194,165)",
          "dash": "dot"
         },
         "marker": {
          "size": 10,
          "symbol": "star"
         },
         "mode": "lines+markers",
         "name": "BERT - K=1",
         "showlegend": false,
         "type": "scatter",
         "x": [
          4.4,
          11.3,
          29.1,
          41.7,
          110,
          340
         ],
         "xaxis": "x3",
         "y": [
          0.642,
          1.26,
          1.654,
          1.72,
          2.498,
          3.17
         ],
         "yaxis": "y3"
        },
        {
         "legendgroup": "GPT2",
         "line": {
          "color": "rgb(252,141,98)",
          "dash": "dot"
         },
         "marker": {
          "size": 10,
          "symbol": "star"
         },
         "mode": "lines+markers",
         "name": "GPT2 - K=1",
         "showlegend": false,
         "type": "scatter",
         "x": [
          117,
          762,
          1542
         ],
         "xaxis": "x3",
         "y": [
          0.64,
          3.504,
          3.558
         ],
         "yaxis": "y3"
        },
        {
         "legendgroup": "OPT",
         "line": {
          "color": "rgb(141,160,203)",
          "dash": "dot"
         },
         "marker": {
          "size": 10,
          "symbol": "star"
         },
         "mode": "lines+markers",
         "name": "OPT - K=1",
         "showlegend": false,
         "type": "scatter",
         "x": [
          125,
          6700,
          30000
         ],
         "xaxis": "x3",
         "y": [
          2.2880000000000003,
          5.678,
          6.352
         ],
         "yaxis": "y3"
        },
        {
         "legendgroup": "Llama2",
         "line": {
          "color": "rgb(231,138,195)",
          "dash": "dot"
         },
         "marker": {
          "size": 10,
          "symbol": "star"
         },
         "mode": "lines+markers",
         "name": "Llama2 - K=1",
         "showlegend": false,
         "type": "scatter",
         "x": [
          7000,
          13000
         ],
         "xaxis": "x3",
         "y": [
          4.286,
          5.276
         ],
         "yaxis": "y3"
        },
        {
         "legendgroup": "BERT",
         "line": {
          "color": "rgb(102,194,165)",
          "dash": "dashdot"
         },
         "marker": {
          "size": 10,
          "symbol": "triangle-up"
         },
         "mode": "lines+markers",
         "name": "BERT - K=10",
         "showlegend": false,
         "type": "scatter",
         "x": [
          4.4,
          11.3,
          29.1,
          41.7,
          110,
          340
         ],
         "xaxis": "x3",
         "y": [
          3.59,
          7.336,
          10.272,
          10.946,
          14.552000000000001,
          16.23
         ],
         "yaxis": "y3"
        },
        {
         "legendgroup": "GPT2",
         "line": {
          "color": "rgb(252,141,98)",
          "dash": "dashdot"
         },
         "marker": {
          "size": 10,
          "symbol": "triangle-up"
         },
         "mode": "lines+markers",
         "name": "GPT2 - K=10",
         "showlegend": false,
         "type": "scatter",
         "x": [
          117,
          762,
          1542
         ],
         "xaxis": "x3",
         "y": [
          3.5460000000000003,
          18.204,
          20.244
         ],
         "yaxis": "y3"
        },
        {
         "legendgroup": "OPT",
         "line": {
          "color": "rgb(141,160,203)",
          "dash": "dashdot"
         },
         "marker": {
          "size": 10,
          "symbol": "triangle-up"
         },
         "mode": "lines+markers",
         "name": "OPT - K=10",
         "showlegend": false,
         "type": "scatter",
         "x": [
          125,
          6700,
          30000
         ],
         "xaxis": "x3",
         "y": [
          14.152000000000001,
          26.488,
          27.912
         ],
         "yaxis": "y3"
        },
        {
         "legendgroup": "Llama2",
         "line": {
          "color": "rgb(231,138,195)",
          "dash": "dashdot"
         },
         "marker": {
          "size": 10,
          "symbol": "triangle-up"
         },
         "mode": "lines+markers",
         "name": "Llama2 - K=10",
         "showlegend": false,
         "type": "scatter",
         "x": [
          7000,
          13000
         ],
         "xaxis": "x3",
         "y": [
          19.966,
          26.216
         ],
         "yaxis": "y3"
        },
        {
         "legendgroup": "BERT",
         "line": {
          "color": "rgb(102,194,165)",
          "dash": "longdash"
         },
         "marker": {
          "size": 10,
          "symbol": "circle"
         },
         "mode": "lines+markers",
         "name": "BERT - K=100",
         "showlegend": false,
         "type": "scatter",
         "x": [
          4.4,
          11.3,
          29.1,
          41.7,
          110,
          340
         ],
         "xaxis": "x3",
         "y": [
          14.187999999999999,
          22.404,
          29.502,
          30.976,
          40.128,
          42.834
         ],
         "yaxis": "y3"
        },
        {
         "legendgroup": "GPT2",
         "line": {
          "color": "rgb(252,141,98)",
          "dash": "longdash"
         },
         "marker": {
          "size": 10,
          "symbol": "circle"
         },
         "mode": "lines+markers",
         "name": "GPT2 - K=100",
         "showlegend": false,
         "type": "scatter",
         "x": [
          117,
          762,
          1542
         ],
         "xaxis": "x3",
         "y": [
          11.798,
          44.85,
          47.844
         ],
         "yaxis": "y3"
        },
        {
         "legendgroup": "OPT",
         "line": {
          "color": "rgb(141,160,203)",
          "dash": "longdash"
         },
         "marker": {
          "size": 10,
          "symbol": "circle"
         },
         "mode": "lines+markers",
         "name": "OPT - K=100",
         "showlegend": false,
         "type": "scatter",
         "x": [
          125,
          6700,
          30000
         ],
         "xaxis": "x3",
         "y": [
          37.586,
          57.352,
          59.538
         ],
         "yaxis": "y3"
        },
        {
         "legendgroup": "Llama2",
         "line": {
          "color": "rgb(231,138,195)",
          "dash": "longdash"
         },
         "marker": {
          "size": 10,
          "symbol": "circle"
         },
         "mode": "lines+markers",
         "name": "Llama2 - K=100",
         "showlegend": false,
         "type": "scatter",
         "x": [
          7000,
          13000
         ],
         "xaxis": "x3",
         "y": [
          47.724000000000004,
          56.284000000000006
         ],
         "yaxis": "y3"
        },
        {
         "legendgroup": "BERT",
         "line": {
          "color": "rgb(102,194,165)",
          "dash": "dot"
         },
         "marker": {
          "size": 10,
          "symbol": "star"
         },
         "mode": "lines+markers",
         "name": "BERT - K=1",
         "showlegend": false,
         "type": "scatter",
         "x": [
          4.4,
          11.3,
          29.1,
          41.7,
          110,
          340
         ],
         "xaxis": "x4",
         "y": [
          0.36,
          0.728,
          1.318,
          1.482,
          2.04,
          2.106
         ],
         "yaxis": "y4"
        },
        {
         "legendgroup": "GPT2",
         "line": {
          "color": "rgb(252,141,98)",
          "dash": "dot"
         },
         "marker": {
          "size": 10,
          "symbol": "star"
         },
         "mode": "lines+markers",
         "name": "GPT2 - K=1",
         "showlegend": false,
         "type": "scatter",
         "x": [
          117,
          762,
          1542
         ],
         "xaxis": "x4",
         "y": [
          0.36,
          2.188,
          2.648
         ],
         "yaxis": "y4"
        },
        {
         "legendgroup": "OPT",
         "line": {
          "color": "rgb(141,160,203)",
          "dash": "dot"
         },
         "marker": {
          "size": 10,
          "symbol": "star"
         },
         "mode": "lines+markers",
         "name": "OPT - K=1",
         "showlegend": false,
         "type": "scatter",
         "x": [
          125,
          6700,
          30000
         ],
         "xaxis": "x4",
         "y": [
          1.4140000000000001,
          4.298,
          4.996
         ],
         "yaxis": "y4"
        },
        {
         "legendgroup": "Llama2",
         "line": {
          "color": "rgb(231,138,195)",
          "dash": "dot"
         },
         "marker": {
          "size": 10,
          "symbol": "star"
         },
         "mode": "lines+markers",
         "name": "Llama2 - K=1",
         "showlegend": false,
         "type": "scatter",
         "x": [
          7000,
          13000
         ],
         "xaxis": "x4",
         "y": [
          2.93,
          4.758
         ],
         "yaxis": "y4"
        },
        {
         "legendgroup": "BERT",
         "line": {
          "color": "rgb(102,194,165)",
          "dash": "dashdot"
         },
         "marker": {
          "size": 10,
          "symbol": "triangle-up"
         },
         "mode": "lines+markers",
         "name": "BERT - K=10",
         "showlegend": false,
         "type": "scatter",
         "x": [
          4.4,
          11.3,
          29.1,
          41.7,
          110,
          340
         ],
         "xaxis": "x4",
         "y": [
          2.8,
          5.794,
          8.166,
          8.57,
          11.128,
          11.666
         ],
         "yaxis": "y4"
        },
        {
         "legendgroup": "GPT2",
         "line": {
          "color": "rgb(252,141,98)",
          "dash": "dashdot"
         },
         "marker": {
          "size": 10,
          "symbol": "triangle-up"
         },
         "mode": "lines+markers",
         "name": "GPT2 - K=10",
         "showlegend": false,
         "type": "scatter",
         "x": [
          117,
          762,
          1542
         ],
         "xaxis": "x4",
         "y": [
          2.278,
          13.884,
          15.713999999999999
         ],
         "yaxis": "y4"
        },
        {
         "legendgroup": "OPT",
         "line": {
          "color": "rgb(141,160,203)",
          "dash": "dashdot"
         },
         "marker": {
          "size": 10,
          "symbol": "triangle-up"
         },
         "mode": "lines+markers",
         "name": "OPT - K=10",
         "showlegend": false,
         "type": "scatter",
         "x": [
          125,
          6700,
          30000
         ],
         "xaxis": "x4",
         "y": [
          10.202,
          21.346,
          22.951999999999998
         ],
         "yaxis": "y4"
        },
        {
         "legendgroup": "Llama2",
         "line": {
          "color": "rgb(231,138,195)",
          "dash": "dashdot"
         },
         "marker": {
          "size": 10,
          "symbol": "triangle-up"
         },
         "mode": "lines+markers",
         "name": "Llama2 - K=10",
         "showlegend": false,
         "type": "scatter",
         "x": [
          7000,
          13000
         ],
         "xaxis": "x4",
         "y": [
          15.532,
          21.747999999999998
         ],
         "yaxis": "y4"
        },
        {
         "legendgroup": "BERT",
         "line": {
          "color": "rgb(102,194,165)",
          "dash": "longdash"
         },
         "marker": {
          "size": 10,
          "symbol": "circle"
         },
         "mode": "lines+markers",
         "name": "BERT - K=100",
         "showlegend": false,
         "type": "scatter",
         "x": [
          4.4,
          11.3,
          29.1,
          41.7,
          110,
          340
         ],
         "xaxis": "x4",
         "y": [
          12.834,
          19.244,
          24.912,
          25.656,
          34.126,
          36.208
         ],
         "yaxis": "y4"
        },
        {
         "legendgroup": "GPT2",
         "line": {
          "color": "rgb(252,141,98)",
          "dash": "longdash"
         },
         "marker": {
          "size": 10,
          "symbol": "circle"
         },
         "mode": "lines+markers",
         "name": "GPT2 - K=100",
         "showlegend": false,
         "type": "scatter",
         "x": [
          117,
          762,
          1542
         ],
         "xaxis": "x4",
         "y": [
          7.587999999999999,
          38.989999999999995,
          42.715999999999994
         ],
         "yaxis": "y4"
        },
        {
         "legendgroup": "OPT",
         "line": {
          "color": "rgb(141,160,203)",
          "dash": "longdash"
         },
         "marker": {
          "size": 10,
          "symbol": "circle"
         },
         "mode": "lines+markers",
         "name": "OPT - K=100",
         "showlegend": false,
         "type": "scatter",
         "x": [
          125,
          6700,
          30000
         ],
         "xaxis": "x4",
         "y": [
          31.714,
          51.584,
          54.388
         ],
         "yaxis": "y4"
        },
        {
         "legendgroup": "Llama2",
         "line": {
          "color": "rgb(231,138,195)",
          "dash": "longdash"
         },
         "marker": {
          "size": 10,
          "symbol": "circle"
         },
         "mode": "lines+markers",
         "name": "Llama2 - K=100",
         "showlegend": false,
         "type": "scatter",
         "x": [
          7000,
          13000
         ],
         "xaxis": "x4",
         "y": [
          41.19,
          51.18
         ],
         "yaxis": "y4"
        },
        {
         "legendgroup": "BERT",
         "line": {
          "color": "rgb(102,194,165)",
          "dash": "dot"
         },
         "marker": {
          "size": 10,
          "symbol": "star"
         },
         "mode": "lines+markers",
         "name": "BERT - K=1",
         "showlegend": false,
         "type": "scatter",
         "x": [
          4.4,
          11.3,
          29.1,
          41.7,
          110,
          340
         ],
         "xaxis": "x5",
         "y": [
          0.45999999999999996,
          0.788,
          1.204,
          1.472,
          2.162,
          2.332
         ],
         "yaxis": "y5"
        },
        {
         "legendgroup": "GPT2",
         "line": {
          "color": "rgb(252,141,98)",
          "dash": "dot"
         },
         "marker": {
          "size": 10,
          "symbol": "star"
         },
         "mode": "lines+markers",
         "name": "GPT2 - K=1",
         "showlegend": false,
         "type": "scatter",
         "x": [
          117,
          762,
          1542
         ],
         "xaxis": "x5",
         "y": [
          0.37,
          2.4240000000000004,
          2.658
         ],
         "yaxis": "y5"
        },
        {
         "legendgroup": "OPT",
         "line": {
          "color": "rgb(141,160,203)",
          "dash": "dot"
         },
         "marker": {
          "size": 10,
          "symbol": "star"
         },
         "mode": "lines+markers",
         "name": "OPT - K=1",
         "showlegend": false,
         "type": "scatter",
         "x": [
          125,
          6700,
          30000
         ],
         "xaxis": "x5",
         "y": [
          1.638,
          4.536,
          4.882
         ],
         "yaxis": "y5"
        },
        {
         "legendgroup": "Llama2",
         "line": {
          "color": "rgb(231,138,195)",
          "dash": "dot"
         },
         "marker": {
          "size": 10,
          "symbol": "star"
         },
         "mode": "lines+markers",
         "name": "Llama2 - K=1",
         "showlegend": false,
         "type": "scatter",
         "x": [
          7000,
          13000
         ],
         "xaxis": "x5",
         "y": [
          3.438,
          5.093999999999999
         ],
         "yaxis": "y5"
        },
        {
         "legendgroup": "BERT",
         "line": {
          "color": "rgb(102,194,165)",
          "dash": "dashdot"
         },
         "marker": {
          "size": 10,
          "symbol": "triangle-up"
         },
         "mode": "lines+markers",
         "name": "BERT - K=10",
         "showlegend": false,
         "type": "scatter",
         "x": [
          4.4,
          11.3,
          29.1,
          41.7,
          110,
          340
         ],
         "xaxis": "x5",
         "y": [
          2.71,
          5.456,
          8.392,
          8.65,
          11.596,
          12.262
         ],
         "yaxis": "y5"
        },
        {
         "legendgroup": "GPT2",
         "line": {
          "color": "rgb(252,141,98)",
          "dash": "dashdot"
         },
         "marker": {
          "size": 10,
          "symbol": "triangle-up"
         },
         "mode": "lines+markers",
         "name": "GPT2 - K=10",
         "showlegend": false,
         "type": "scatter",
         "x": [
          117,
          762,
          1542
         ],
         "xaxis": "x5",
         "y": [
          2.38,
          14.441999999999998,
          16.622
         ],
         "yaxis": "y5"
        },
        {
         "legendgroup": "OPT",
         "line": {
          "color": "rgb(141,160,203)",
          "dash": "dashdot"
         },
         "marker": {
          "size": 10,
          "symbol": "triangle-up"
         },
         "mode": "lines+markers",
         "name": "OPT - K=10",
         "showlegend": false,
         "type": "scatter",
         "x": [
          125,
          6700,
          30000
         ],
         "xaxis": "x5",
         "y": [
          10.626000000000001,
          23.054,
          25.084
         ],
         "yaxis": "y5"
        },
        {
         "legendgroup": "Llama2",
         "line": {
          "color": "rgb(231,138,195)",
          "dash": "dashdot"
         },
         "marker": {
          "size": 10,
          "symbol": "triangle-up"
         },
         "mode": "lines+markers",
         "name": "Llama2 - K=10",
         "showlegend": false,
         "type": "scatter",
         "x": [
          7000,
          13000
         ],
         "xaxis": "x5",
         "y": [
          16.79,
          23.341
         ],
         "yaxis": "y5"
        },
        {
         "legendgroup": "BERT",
         "line": {
          "color": "rgb(102,194,165)",
          "dash": "longdash"
         },
         "marker": {
          "size": 10,
          "symbol": "circle"
         },
         "mode": "lines+markers",
         "name": "BERT - K=100",
         "showlegend": false,
         "type": "scatter",
         "x": [
          4.4,
          11.3,
          29.1,
          41.7,
          110,
          340
         ],
         "xaxis": "x5",
         "y": [
          12.134,
          18.974,
          24.522,
          25.204,
          34.708,
          37.482
         ],
         "yaxis": "y5"
        },
        {
         "legendgroup": "GPT2",
         "line": {
          "color": "rgb(252,141,98)",
          "dash": "longdash"
         },
         "marker": {
          "size": 10,
          "symbol": "circle"
         },
         "mode": "lines+markers",
         "name": "GPT2 - K=100",
         "showlegend": false,
         "type": "scatter",
         "x": [
          117,
          762,
          1542
         ],
         "xaxis": "x5",
         "y": [
          7.498,
          39.676,
          43.501999999999995
         ],
         "yaxis": "y5"
        },
        {
         "legendgroup": "OPT",
         "line": {
          "color": "rgb(141,160,203)",
          "dash": "longdash"
         },
         "marker": {
          "size": 10,
          "symbol": "circle"
         },
         "mode": "lines+markers",
         "name": "OPT - K=100",
         "showlegend": false,
         "type": "scatter",
         "x": [
          125,
          6700,
          30000
         ],
         "xaxis": "x5",
         "y": [
          31.974,
          52.188,
          56.016
         ],
         "yaxis": "y5"
        },
        {
         "legendgroup": "Llama2",
         "line": {
          "color": "rgb(231,138,195)",
          "dash": "longdash"
         },
         "marker": {
          "size": 10,
          "symbol": "circle"
         },
         "mode": "lines+markers",
         "name": "Llama2 - K=100",
         "showlegend": false,
         "type": "scatter",
         "x": [
          7000,
          13000
         ],
         "xaxis": "x5",
         "y": [
          41.932,
          52.648
         ],
         "yaxis": "y5"
        },
        {
         "legendgroup": "BERT",
         "line": {
          "color": "rgb(102,194,165)",
          "dash": "dot"
         },
         "marker": {
          "size": 10,
          "symbol": "star"
         },
         "mode": "lines+markers",
         "name": "BERT - K=1",
         "showlegend": false,
         "type": "scatter",
         "x": [
          4.4,
          11.3,
          29.1,
          41.7,
          110,
          340
         ],
         "xaxis": "x6",
         "y": [
          0.438,
          0.788,
          1.226,
          1.3379999999999999,
          2.114,
          2.2960000000000003
         ],
         "yaxis": "y6"
        },
        {
         "legendgroup": "GPT2",
         "line": {
          "color": "rgb(252,141,98)",
          "dash": "dot"
         },
         "marker": {
          "size": 10,
          "symbol": "star"
         },
         "mode": "lines+markers",
         "name": "GPT2 - K=1",
         "showlegend": false,
         "type": "scatter",
         "x": [
          117,
          762,
          1542
         ],
         "xaxis": "x6",
         "y": [
          0.392,
          2.582,
          2.7760000000000002
         ],
         "yaxis": "y6"
        },
        {
         "legendgroup": "OPT",
         "line": {
          "color": "rgb(141,160,203)",
          "dash": "dot"
         },
         "marker": {
          "size": 10,
          "symbol": "star"
         },
         "mode": "lines+markers",
         "name": "OPT - K=1",
         "showlegend": false,
         "type": "scatter",
         "x": [
          125,
          6700,
          30000
         ],
         "xaxis": "x6",
         "y": [
          1.6039999999999999,
          4.41,
          5.082
         ],
         "yaxis": "y6"
        },
        {
         "legendgroup": "Llama2",
         "line": {
          "color": "rgb(231,138,195)",
          "dash": "dot"
         },
         "marker": {
          "size": 10,
          "symbol": "star"
         },
         "mode": "lines+markers",
         "name": "Llama2 - K=1",
         "showlegend": false,
         "type": "scatter",
         "x": [
          7000,
          13000
         ],
         "xaxis": "x6",
         "y": [
          3.504,
          4.758
         ],
         "yaxis": "y6"
        },
        {
         "legendgroup": "BERT",
         "line": {
          "color": "rgb(102,194,165)",
          "dash": "dashdot"
         },
         "marker": {
          "size": 10,
          "symbol": "triangle-up"
         },
         "mode": "lines+markers",
         "name": "BERT - K=10",
         "showlegend": false,
         "type": "scatter",
         "x": [
          4.4,
          11.3,
          29.1,
          41.7,
          110,
          340
         ],
         "xaxis": "x6",
         "y": [
          2.508,
          5.604,
          8.11,
          8.931999999999999,
          11.474,
          12.508
         ],
         "yaxis": "y6"
        },
        {
         "legendgroup": "GPT2",
         "line": {
          "color": "rgb(252,141,98)",
          "dash": "dashdot"
         },
         "marker": {
          "size": 10,
          "symbol": "triangle-up"
         },
         "mode": "lines+markers",
         "name": "GPT2 - K=10",
         "showlegend": false,
         "type": "scatter",
         "x": [
          117,
          762,
          1542
         ],
         "xaxis": "x6",
         "y": [
          2.288,
          14.601999999999999,
          16.742
         ],
         "yaxis": "y6"
        },
        {
         "legendgroup": "OPT",
         "line": {
          "color": "rgb(141,160,203)",
          "dash": "dashdot"
         },
         "marker": {
          "size": 10,
          "symbol": "triangle-up"
         },
         "mode": "lines+markers",
         "name": "OPT - K=10",
         "showlegend": false,
         "type": "scatter",
         "x": [
          125,
          6700,
          30000
         ],
         "xaxis": "x6",
         "y": [
          10.326,
          23.356,
          24.982
         ],
         "yaxis": "y6"
        },
        {
         "legendgroup": "Llama2",
         "line": {
          "color": "rgb(231,138,195)",
          "dash": "dashdot"
         },
         "marker": {
          "size": 10,
          "symbol": "triangle-up"
         },
         "mode": "lines+markers",
         "name": "Llama2 - K=10",
         "showlegend": false,
         "type": "scatter",
         "x": [
          7000,
          13000
         ],
         "xaxis": "x6",
         "y": [
          17.25,
          24.490000000000002
         ],
         "yaxis": "y6"
        },
        {
         "legendgroup": "BERT",
         "line": {
          "color": "rgb(102,194,165)",
          "dash": "longdash"
         },
         "marker": {
          "size": 10,
          "symbol": "circle"
         },
         "mode": "lines+markers",
         "name": "BERT - K=100",
         "showlegend": false,
         "type": "scatter",
         "x": [
          4.4,
          11.3,
          29.1,
          41.7,
          110,
          340
         ],
         "xaxis": "x6",
         "y": [
          11.452,
          18.381999999999998,
          24.183999999999997,
          25.228,
          34.010000000000005,
          37.489999999999995
         ],
         "yaxis": "y6"
        },
        {
         "legendgroup": "GPT2",
         "line": {
          "color": "rgb(252,141,98)",
          "dash": "longdash"
         },
         "marker": {
          "size": 10,
          "symbol": "circle"
         },
         "mode": "lines+markers",
         "name": "GPT2 - K=100",
         "showlegend": false,
         "type": "scatter",
         "x": [
          117,
          762,
          1542
         ],
         "xaxis": "x6",
         "y": [
          7.037999999999999,
          39.168,
          42.972
         ],
         "yaxis": "y6"
        },
        {
         "legendgroup": "OPT",
         "line": {
          "color": "rgb(141,160,203)",
          "dash": "longdash"
         },
         "marker": {
          "size": 10,
          "symbol": "circle"
         },
         "mode": "lines+markers",
         "name": "OPT - K=100",
         "showlegend": false,
         "type": "scatter",
         "x": [
          125,
          6700,
          30000
         ],
         "xaxis": "x6",
         "y": [
          31.629999999999995,
          52.322,
          55.556
         ],
         "yaxis": "y6"
        },
        {
         "legendgroup": "Llama2",
         "line": {
          "color": "rgb(231,138,195)",
          "dash": "longdash"
         },
         "marker": {
          "size": 10,
          "symbol": "circle"
         },
         "mode": "lines+markers",
         "name": "Llama2 - K=100",
         "showlegend": false,
         "type": "scatter",
         "x": [
          7000,
          13000
         ],
         "xaxis": "x6",
         "y": [
          41.221999999999994,
          52.13199999999999
         ],
         "yaxis": "y6"
        },
        {
         "legendgroup": "BERT",
         "line": {
          "color": "rgb(102,194,165)",
          "dash": "dot"
         },
         "marker": {
          "size": 10,
          "symbol": "star"
         },
         "mode": "lines+markers",
         "name": "BERT - K=1",
         "showlegend": false,
         "type": "scatter",
         "x": [
          4.4,
          11.3,
          29.1,
          41.7,
          110,
          340
         ],
         "xaxis": "x7",
         "y": [
          0.8300000000000001,
          1.144,
          1.528,
          1.9120000000000001,
          2.586,
          2.634
         ],
         "yaxis": "y7"
        },
        {
         "legendgroup": "GPT2",
         "line": {
          "color": "rgb(252,141,98)",
          "dash": "dot"
         },
         "marker": {
          "size": 10,
          "symbol": "star"
         },
         "mode": "lines+markers",
         "name": "GPT2 - K=1",
         "showlegend": false,
         "type": "scatter",
         "x": [
          117,
          762,
          1542
         ],
         "xaxis": "x7",
         "y": [
          0.708,
          3.054,
          3.7939999999999996
         ],
         "yaxis": "y7"
        },
        {
         "legendgroup": "OPT",
         "line": {
          "color": "rgb(141,160,203)",
          "dash": "dot"
         },
         "marker": {
          "size": 10,
          "symbol": "star"
         },
         "mode": "lines+markers",
         "name": "OPT - K=1",
         "showlegend": false,
         "type": "scatter",
         "x": [
          125,
          6700,
          30000
         ],
         "xaxis": "x7",
         "y": [
          2.3579999999999997,
          5.758,
          6.464
         ],
         "yaxis": "y7"
        },
        {
         "legendgroup": "Llama2",
         "line": {
          "color": "rgb(231,138,195)",
          "dash": "dot"
         },
         "marker": {
          "size": 10,
          "symbol": "star"
         },
         "mode": "lines+markers",
         "name": "Llama2 - K=1",
         "showlegend": false,
         "type": "scatter",
         "x": [
          7000,
          13000
         ],
         "xaxis": "x7",
         "y": [
          3.94,
          5.354
         ],
         "yaxis": "y7"
        },
        {
         "legendgroup": "BERT",
         "line": {
          "color": "rgb(102,194,165)",
          "dash": "dashdot"
         },
         "marker": {
          "size": 10,
          "symbol": "triangle-up"
         },
         "mode": "lines+markers",
         "name": "BERT - K=10",
         "showlegend": false,
         "type": "scatter",
         "x": [
          4.4,
          11.3,
          29.1,
          41.7,
          110,
          340
         ],
         "xaxis": "x7",
         "y": [
          4.442,
          7.8420000000000005,
          11.001999999999999,
          11.206,
          14.443999999999999,
          15.398
         ],
         "yaxis": "y7"
        },
        {
         "legendgroup": "GPT2",
         "line": {
          "color": "rgb(252,141,98)",
          "dash": "dashdot"
         },
         "marker": {
          "size": 10,
          "symbol": "triangle-up"
         },
         "mode": "lines+markers",
         "name": "GPT2 - K=10",
         "showlegend": false,
         "type": "scatter",
         "x": [
          117,
          762,
          1542
         ],
         "xaxis": "x7",
         "y": [
          3.132,
          17.878,
          19.564
         ],
         "yaxis": "y7"
        },
        {
         "legendgroup": "OPT",
         "line": {
          "color": "rgb(141,160,203)",
          "dash": "dashdot"
         },
         "marker": {
          "size": 10,
          "symbol": "triangle-up"
         },
         "mode": "lines+markers",
         "name": "OPT - K=10",
         "showlegend": false,
         "type": "scatter",
         "x": [
          125,
          6700,
          30000
         ],
         "xaxis": "x7",
         "y": [
          13.388,
          25.868000000000002,
          27.968
         ],
         "yaxis": "y7"
        },
        {
         "legendgroup": "Llama2",
         "line": {
          "color": "rgb(231,138,195)",
          "dash": "dashdot"
         },
         "marker": {
          "size": 10,
          "symbol": "triangle-up"
         },
         "mode": "lines+markers",
         "name": "Llama2 - K=10",
         "showlegend": false,
         "type": "scatter",
         "x": [
          7000,
          13000
         ],
         "xaxis": "x7",
         "y": [
          18.990000000000002,
          25.342
         ],
         "yaxis": "y7"
        },
        {
         "legendgroup": "BERT",
         "line": {
          "color": "rgb(102,194,165)",
          "dash": "longdash"
         },
         "marker": {
          "size": 10,
          "symbol": "circle"
         },
         "mode": "lines+markers",
         "name": "BERT - K=100",
         "showlegend": false,
         "type": "scatter",
         "x": [
          4.4,
          11.3,
          29.1,
          41.7,
          110,
          340
         ],
         "xaxis": "x7",
         "y": [
          16.726,
          23.044,
          30,
          31.157999999999998,
          39.902,
          42.078
         ],
         "yaxis": "y7"
        },
        {
         "legendgroup": "GPT2",
         "line": {
          "color": "rgb(252,141,98)",
          "dash": "longdash"
         },
         "marker": {
          "size": 10,
          "symbol": "circle"
         },
         "mode": "lines+markers",
         "name": "GPT2 - K=100",
         "showlegend": false,
         "type": "scatter",
         "x": [
          117,
          762,
          1542
         ],
         "xaxis": "x7",
         "y": [
          11.178,
          45.048,
          48.538
         ],
         "yaxis": "y7"
        },
        {
         "legendgroup": "OPT",
         "line": {
          "color": "rgb(141,160,203)",
          "dash": "longdash"
         },
         "marker": {
          "size": 10,
          "symbol": "circle"
         },
         "mode": "lines+markers",
         "name": "OPT - K=100",
         "showlegend": false,
         "type": "scatter",
         "x": [
          125,
          6700,
          30000
         ],
         "xaxis": "x7",
         "y": [
          37.598,
          56.476,
          59.236000000000004
         ],
         "yaxis": "y7"
        },
        {
         "legendgroup": "Llama2",
         "line": {
          "color": "rgb(231,138,195)",
          "dash": "longdash"
         },
         "marker": {
          "size": 10,
          "symbol": "circle"
         },
         "mode": "lines+markers",
         "name": "Llama2 - K=100",
         "showlegend": false,
         "type": "scatter",
         "x": [
          7000,
          13000
         ],
         "xaxis": "x7",
         "y": [
          47.642,
          56.352
         ],
         "yaxis": "y7"
        },
        {
         "legendgroup": "BERT",
         "line": {
          "color": "rgb(102,194,165)",
          "dash": "dot"
         },
         "marker": {
          "size": 10,
          "symbol": "star"
         },
         "mode": "lines+markers",
         "name": "BERT - K=1",
         "showlegend": false,
         "type": "scatter",
         "x": [
          4.4,
          11.3,
          29.1,
          41.7,
          110,
          340
         ],
         "xaxis": "x8",
         "y": [
          0.8240000000000001,
          1.3719999999999999,
          1.778,
          2.002,
          3.07,
          3.116
         ],
         "yaxis": "y8"
        },
        {
         "legendgroup": "GPT2",
         "line": {
          "color": "rgb(252,141,98)",
          "dash": "dot"
         },
         "marker": {
          "size": 10,
          "symbol": "star"
         },
         "mode": "lines+markers",
         "name": "GPT2 - K=1",
         "showlegend": false,
         "type": "scatter",
         "x": [
          117,
          762,
          1542
         ],
         "xaxis": "x8",
         "y": [
          0.774,
          3.582,
          3.9159999999999995
         ],
         "yaxis": "y8"
        },
        {
         "legendgroup": "OPT",
         "line": {
          "color": "rgb(141,160,203)",
          "dash": "dot"
         },
         "marker": {
          "size": 10,
          "symbol": "star"
         },
         "mode": "lines+markers",
         "name": "OPT - K=1",
         "showlegend": false,
         "type": "scatter",
         "x": [
          125,
          6700,
          30000
         ],
         "xaxis": "x8",
         "y": [
          2.662,
          5.878,
          6.756
         ],
         "yaxis": "y8"
        },
        {
         "legendgroup": "Llama2",
         "line": {
          "color": "rgb(231,138,195)",
          "dash": "dot"
         },
         "marker": {
          "size": 10,
          "symbol": "star"
         },
         "mode": "lines+markers",
         "name": "Llama2 - K=1",
         "showlegend": false,
         "type": "scatter",
         "x": [
          7000,
          13000
         ],
         "xaxis": "x8",
         "y": [
          4.848000000000001,
          5.343999999999999
         ],
         "yaxis": "y8"
        },
        {
         "legendgroup": "BERT",
         "line": {
          "color": "rgb(102,194,165)",
          "dash": "dashdot"
         },
         "marker": {
          "size": 10,
          "symbol": "triangle-up"
         },
         "mode": "lines+markers",
         "name": "BERT - K=10",
         "showlegend": false,
         "type": "scatter",
         "x": [
          4.4,
          11.3,
          29.1,
          41.7,
          110,
          340
         ],
         "xaxis": "x8",
         "y": [
          4.723999999999999,
          8.918000000000001,
          12.452,
          12.768,
          16.130000000000003,
          17.028
         ],
         "yaxis": "y8"
        },
        {
         "legendgroup": "GPT2",
         "line": {
          "color": "rgb(252,141,98)",
          "dash": "dashdot"
         },
         "marker": {
          "size": 10,
          "symbol": "triangle-up"
         },
         "mode": "lines+markers",
         "name": "GPT2 - K=10",
         "showlegend": false,
         "type": "scatter",
         "x": [
          117,
          762,
          1542
         ],
         "xaxis": "x8",
         "y": [
          3.7900000000000005,
          20.65,
          22.553
         ],
         "yaxis": "y8"
        },
        {
         "legendgroup": "OPT",
         "line": {
          "color": "rgb(141,160,203)",
          "dash": "dashdot"
         },
         "marker": {
          "size": 10,
          "symbol": "triangle-up"
         },
         "mode": "lines+markers",
         "name": "OPT - K=10",
         "showlegend": false,
         "type": "scatter",
         "x": [
          125,
          6700,
          30000
         ],
         "xaxis": "x8",
         "y": [
          15.366,
          28.956,
          30.714
         ],
         "yaxis": "y8"
        },
        {
         "legendgroup": "Llama2",
         "line": {
          "color": "rgb(231,138,195)",
          "dash": "dashdot"
         },
         "marker": {
          "size": 10,
          "symbol": "triangle-up"
         },
         "mode": "lines+markers",
         "name": "Llama2 - K=10",
         "showlegend": false,
         "type": "scatter",
         "x": [
          7000,
          13000
         ],
         "xaxis": "x8",
         "y": [
          24.378,
          30.708
         ],
         "yaxis": "y8"
        },
        {
         "legendgroup": "BERT",
         "line": {
          "color": "rgb(102,194,165)",
          "dash": "longdash"
         },
         "marker": {
          "size": 10,
          "symbol": "circle"
         },
         "mode": "lines+markers",
         "name": "BERT - K=100",
         "showlegend": false,
         "type": "scatter",
         "x": [
          4.4,
          11.3,
          29.1,
          41.7,
          110,
          340
         ],
         "xaxis": "x8",
         "y": [
          17.736,
          24.407999999999998,
          31.906,
          33.07,
          42.346000000000004,
          45.224000000000004
         ],
         "yaxis": "y8"
        },
        {
         "legendgroup": "GPT2",
         "line": {
          "color": "rgb(252,141,98)",
          "dash": "longdash"
         },
         "marker": {
          "size": 10,
          "symbol": "circle"
         },
         "mode": "lines+markers",
         "name": "GPT2 - K=100",
         "showlegend": false,
         "type": "scatter",
         "x": [
          117,
          762,
          1542
         ],
         "xaxis": "x8",
         "y": [
          12.424000000000001,
          47.766,
          51.314
         ],
         "yaxis": "y8"
        },
        {
         "legendgroup": "OPT",
         "line": {
          "color": "rgb(141,160,203)",
          "dash": "longdash"
         },
         "marker": {
          "size": 10,
          "symbol": "circle"
         },
         "mode": "lines+markers",
         "name": "OPT - K=100",
         "showlegend": false,
         "type": "scatter",
         "x": [
          125,
          6700,
          30000
         ],
         "xaxis": "x8",
         "y": [
          39.968,
          60.516,
          63.120000000000005
         ],
         "yaxis": "y8"
        },
        {
         "legendgroup": "Llama2",
         "line": {
          "color": "rgb(231,138,195)",
          "dash": "longdash"
         },
         "marker": {
          "size": 10,
          "symbol": "circle"
         },
         "mode": "lines+markers",
         "name": "Llama2 - K=100",
         "showlegend": false,
         "type": "scatter",
         "x": [
          7000,
          13000
         ],
         "xaxis": "x8",
         "y": [
          53.489999999999995,
          61.839999999999996
         ],
         "yaxis": "y8"
        },
        {
         "legendgroup": "BERT",
         "line": {
          "color": "rgb(102,194,165)",
          "dash": "dot"
         },
         "marker": {
          "size": 10,
          "symbol": "star"
         },
         "mode": "lines+markers",
         "name": "BERT - K=1",
         "showlegend": false,
         "type": "scatter",
         "x": [
          4.4,
          11.3,
          29.1,
          41.7,
          110,
          340
         ],
         "xaxis": "x9",
         "y": [
          0.9880000000000001,
          1.3279999999999998,
          1.9920000000000002,
          2.2939999999999996,
          3.2619999999999996,
          3.478
         ],
         "yaxis": "y9"
        },
        {
         "legendgroup": "GPT2",
         "line": {
          "color": "rgb(252,141,98)",
          "dash": "dot"
         },
         "marker": {
          "size": 10,
          "symbol": "star"
         },
         "mode": "lines+markers",
         "name": "GPT2 - K=1",
         "showlegend": false,
         "type": "scatter",
         "x": [
          117,
          762,
          1542
         ],
         "xaxis": "x9",
         "y": [
          0.776,
          3.7600000000000002,
          3.8619999999999997
         ],
         "yaxis": "y9"
        },
        {
         "legendgroup": "OPT",
         "line": {
          "color": "rgb(141,160,203)",
          "dash": "dot"
         },
         "marker": {
          "size": 10,
          "symbol": "star"
         },
         "mode": "lines+markers",
         "name": "OPT - K=1",
         "showlegend": false,
         "type": "scatter",
         "x": [
          125,
          6700,
          30000
         ],
         "xaxis": "x9",
         "y": [
          2.82,
          6.3740000000000006,
          6.858
         ],
         "yaxis": "y9"
        },
        {
         "legendgroup": "Llama2",
         "line": {
          "color": "rgb(231,138,195)",
          "dash": "dot"
         },
         "marker": {
          "size": 10,
          "symbol": "star"
         },
         "mode": "lines+markers",
         "name": "Llama2 - K=1",
         "showlegend": false,
         "type": "scatter",
         "x": [
          7000,
          13000
         ],
         "xaxis": "x9",
         "y": [
          4.984,
          5.779999999999999
         ],
         "yaxis": "y9"
        },
        {
         "legendgroup": "BERT",
         "line": {
          "color": "rgb(102,194,165)",
          "dash": "dashdot"
         },
         "marker": {
          "size": 10,
          "symbol": "triangle-up"
         },
         "mode": "lines+markers",
         "name": "BERT - K=10",
         "showlegend": false,
         "type": "scatter",
         "x": [
          4.4,
          11.3,
          29.1,
          41.7,
          110,
          340
         ],
         "xaxis": "x9",
         "y": [
          4.768,
          8.968,
          12.496,
          13.184000000000001,
          17.166,
          18.086000000000002
         ],
         "yaxis": "y9"
        },
        {
         "legendgroup": "GPT2",
         "line": {
          "color": "rgb(252,141,98)",
          "dash": "dashdot"
         },
         "marker": {
          "size": 10,
          "symbol": "triangle-up"
         },
         "mode": "lines+markers",
         "name": "GPT2 - K=10",
         "showlegend": false,
         "type": "scatter",
         "x": [
          117,
          762,
          1542
         ],
         "xaxis": "x9",
         "y": [
          4.064,
          21.404,
          23.413999999999998
         ],
         "yaxis": "y9"
        },
        {
         "legendgroup": "OPT",
         "line": {
          "color": "rgb(141,160,203)",
          "dash": "dashdot"
         },
         "marker": {
          "size": 10,
          "symbol": "triangle-up"
         },
         "mode": "lines+markers",
         "name": "OPT - K=10",
         "showlegend": false,
         "type": "scatter",
         "x": [
          125,
          6700,
          30000
         ],
         "xaxis": "x9",
         "y": [
          15.578,
          29.93,
          31.23
         ],
         "yaxis": "y9"
        },
        {
         "legendgroup": "Llama2",
         "line": {
          "color": "rgb(231,138,195)",
          "dash": "dashdot"
         },
         "marker": {
          "size": 10,
          "symbol": "triangle-up"
         },
         "mode": "lines+markers",
         "name": "Llama2 - K=10",
         "showlegend": false,
         "type": "scatter",
         "x": [
          7000,
          13000
         ],
         "xaxis": "x9",
         "y": [
          25.084,
          31.246000000000002
         ],
         "yaxis": "y9"
        },
        {
         "legendgroup": "BERT",
         "line": {
          "color": "rgb(102,194,165)",
          "dash": "longdash"
         },
         "marker": {
          "size": 10,
          "symbol": "circle"
         },
         "mode": "lines+markers",
         "name": "BERT - K=100",
         "showlegend": false,
         "type": "scatter",
         "x": [
          4.4,
          11.3,
          29.1,
          41.7,
          110,
          340
         ],
         "xaxis": "x9",
         "y": [
          17.726,
          25.016,
          32.19,
          33.9,
          43.494,
          46.465999999999994
         ],
         "yaxis": "y9"
        },
        {
         "legendgroup": "GPT2",
         "line": {
          "color": "rgb(252,141,98)",
          "dash": "longdash"
         },
         "marker": {
          "size": 10,
          "symbol": "circle"
         },
         "mode": "lines+markers",
         "name": "GPT2 - K=100",
         "showlegend": false,
         "type": "scatter",
         "x": [
          117,
          762,
          1542
         ],
         "xaxis": "x9",
         "y": [
          12.947999999999999,
          48.574,
          52.013999999999996
         ],
         "yaxis": "y9"
        },
        {
         "legendgroup": "OPT",
         "line": {
          "color": "rgb(141,160,203)",
          "dash": "longdash"
         },
         "marker": {
          "size": 10,
          "symbol": "circle"
         },
         "mode": "lines+markers",
         "name": "OPT - K=100",
         "showlegend": false,
         "type": "scatter",
         "x": [
          125,
          6700,
          30000
         ],
         "xaxis": "x9",
         "y": [
          40.63,
          61.266,
          64.05
         ],
         "yaxis": "y9"
        },
        {
         "legendgroup": "Llama2",
         "line": {
          "color": "rgb(231,138,195)",
          "dash": "longdash"
         },
         "marker": {
          "size": 10,
          "symbol": "circle"
         },
         "mode": "lines+markers",
         "name": "Llama2 - K=100",
         "showlegend": false,
         "type": "scatter",
         "x": [
          7000,
          13000
         ],
         "xaxis": "x9",
         "y": [
          54.938,
          62.85
         ],
         "yaxis": "y9"
        }
       ],
       "layout": {
        "annotations": [
         {
          "font": {
           "size": 20
          },
          "showarrow": false,
          "text": "SegFormer<sub>B0</sub>",
          "x": 0.16,
          "xanchor": "center",
          "xref": "paper",
          "y": 1,
          "yanchor": "bottom",
          "yref": "paper"
         },
         {
          "font": {
           "size": 20
          },
          "showarrow": false,
          "text": "SegFormer<sub>B3</sub>",
          "x": 0.5,
          "xanchor": "center",
          "xref": "paper",
          "y": 1,
          "yanchor": "bottom",
          "yref": "paper"
         },
         {
          "font": {
           "size": 20
          },
          "showarrow": false,
          "text": "SegFormer<sub>B5</sub>",
          "x": 0.8400000000000001,
          "xanchor": "center",
          "xref": "paper",
          "y": 1,
          "yanchor": "bottom",
          "yref": "paper"
         },
         {
          "font": {
           "size": 20
          },
          "showarrow": false,
          "text": "MAE<sub>Base</sub>",
          "x": 0.16,
          "xanchor": "center",
          "xref": "paper",
          "y": 0.6333333333333333,
          "yanchor": "bottom",
          "yref": "paper"
         },
         {
          "font": {
           "size": 20
          },
          "showarrow": false,
          "text": "MAE<sub>Large</sub>",
          "x": 0.5,
          "xanchor": "center",
          "xref": "paper",
          "y": 0.6333333333333333,
          "yanchor": "bottom",
          "yref": "paper"
         },
         {
          "font": {
           "size": 20
          },
          "showarrow": false,
          "text": "MAE<sub>Huge</sub>",
          "x": 0.8400000000000001,
          "xanchor": "center",
          "xref": "paper",
          "y": 0.6333333333333333,
          "yanchor": "bottom",
          "yref": "paper"
         },
         {
          "font": {
           "size": 20
          },
          "showarrow": false,
          "text": "ResNet18",
          "x": 0.16,
          "xanchor": "center",
          "xref": "paper",
          "y": 0.26666666666666666,
          "yanchor": "bottom",
          "yref": "paper"
         },
         {
          "font": {
           "size": 20
          },
          "showarrow": false,
          "text": "ResNet50",
          "x": 0.5,
          "xanchor": "center",
          "xref": "paper",
          "y": 0.26666666666666666,
          "yanchor": "bottom",
          "yref": "paper"
         },
         {
          "font": {
           "size": 20
          },
          "showarrow": false,
          "text": "ResNet152",
          "x": 0.8400000000000001,
          "xanchor": "center",
          "xref": "paper",
          "y": 0.26666666666666666,
          "yanchor": "bottom",
          "yref": "paper"
         }
        ],
        "height": 1000,
        "legend": {
         "font": {
          "size": 18
         },
         "orientation": "h",
         "x": 0.2,
         "y": -0.1
        },
        "template": {
         "data": {
          "bar": [
           {
            "error_x": {
             "color": "#2a3f5f"
            },
            "error_y": {
             "color": "#2a3f5f"
            },
            "marker": {
             "line": {
              "color": "#E5ECF6",
              "width": 0.5
             },
             "pattern": {
              "fillmode": "overlay",
              "size": 10,
              "solidity": 0.2
             }
            },
            "type": "bar"
           }
          ],
          "barpolar": [
           {
            "marker": {
             "line": {
              "color": "#E5ECF6",
              "width": 0.5
             },
             "pattern": {
              "fillmode": "overlay",
              "size": 10,
              "solidity": 0.2
             }
            },
            "type": "barpolar"
           }
          ],
          "carpet": [
           {
            "aaxis": {
             "endlinecolor": "#2a3f5f",
             "gridcolor": "white",
             "linecolor": "white",
             "minorgridcolor": "white",
             "startlinecolor": "#2a3f5f"
            },
            "baxis": {
             "endlinecolor": "#2a3f5f",
             "gridcolor": "white",
             "linecolor": "white",
             "minorgridcolor": "white",
             "startlinecolor": "#2a3f5f"
            },
            "type": "carpet"
           }
          ],
          "choropleth": [
           {
            "colorbar": {
             "outlinewidth": 0,
             "ticks": ""
            },
            "type": "choropleth"
           }
          ],
          "contour": [
           {
            "colorbar": {
             "outlinewidth": 0,
             "ticks": ""
            },
            "colorscale": [
             [
              0,
              "#0d0887"
             ],
             [
              0.1111111111111111,
              "#46039f"
             ],
             [
              0.2222222222222222,
              "#7201a8"
             ],
             [
              0.3333333333333333,
              "#9c179e"
             ],
             [
              0.4444444444444444,
              "#bd3786"
             ],
             [
              0.5555555555555556,
              "#d8576b"
             ],
             [
              0.6666666666666666,
              "#ed7953"
             ],
             [
              0.7777777777777778,
              "#fb9f3a"
             ],
             [
              0.8888888888888888,
              "#fdca26"
             ],
             [
              1,
              "#f0f921"
             ]
            ],
            "type": "contour"
           }
          ],
          "contourcarpet": [
           {
            "colorbar": {
             "outlinewidth": 0,
             "ticks": ""
            },
            "type": "contourcarpet"
           }
          ],
          "heatmap": [
           {
            "colorbar": {
             "outlinewidth": 0,
             "ticks": ""
            },
            "colorscale": [
             [
              0,
              "#0d0887"
             ],
             [
              0.1111111111111111,
              "#46039f"
             ],
             [
              0.2222222222222222,
              "#7201a8"
             ],
             [
              0.3333333333333333,
              "#9c179e"
             ],
             [
              0.4444444444444444,
              "#bd3786"
             ],
             [
              0.5555555555555556,
              "#d8576b"
             ],
             [
              0.6666666666666666,
              "#ed7953"
             ],
             [
              0.7777777777777778,
              "#fb9f3a"
             ],
             [
              0.8888888888888888,
              "#fdca26"
             ],
             [
              1,
              "#f0f921"
             ]
            ],
            "type": "heatmap"
           }
          ],
          "heatmapgl": [
           {
            "colorbar": {
             "outlinewidth": 0,
             "ticks": ""
            },
            "colorscale": [
             [
              0,
              "#0d0887"
             ],
             [
              0.1111111111111111,
              "#46039f"
             ],
             [
              0.2222222222222222,
              "#7201a8"
             ],
             [
              0.3333333333333333,
              "#9c179e"
             ],
             [
              0.4444444444444444,
              "#bd3786"
             ],
             [
              0.5555555555555556,
              "#d8576b"
             ],
             [
              0.6666666666666666,
              "#ed7953"
             ],
             [
              0.7777777777777778,
              "#fb9f3a"
             ],
             [
              0.8888888888888888,
              "#fdca26"
             ],
             [
              1,
              "#f0f921"
             ]
            ],
            "type": "heatmapgl"
           }
          ],
          "histogram": [
           {
            "marker": {
             "pattern": {
              "fillmode": "overlay",
              "size": 10,
              "solidity": 0.2
             }
            },
            "type": "histogram"
           }
          ],
          "histogram2d": [
           {
            "colorbar": {
             "outlinewidth": 0,
             "ticks": ""
            },
            "colorscale": [
             [
              0,
              "#0d0887"
             ],
             [
              0.1111111111111111,
              "#46039f"
             ],
             [
              0.2222222222222222,
              "#7201a8"
             ],
             [
              0.3333333333333333,
              "#9c179e"
             ],
             [
              0.4444444444444444,
              "#bd3786"
             ],
             [
              0.5555555555555556,
              "#d8576b"
             ],
             [
              0.6666666666666666,
              "#ed7953"
             ],
             [
              0.7777777777777778,
              "#fb9f3a"
             ],
             [
              0.8888888888888888,
              "#fdca26"
             ],
             [
              1,
              "#f0f921"
             ]
            ],
            "type": "histogram2d"
           }
          ],
          "histogram2dcontour": [
           {
            "colorbar": {
             "outlinewidth": 0,
             "ticks": ""
            },
            "colorscale": [
             [
              0,
              "#0d0887"
             ],
             [
              0.1111111111111111,
              "#46039f"
             ],
             [
              0.2222222222222222,
              "#7201a8"
             ],
             [
              0.3333333333333333,
              "#9c179e"
             ],
             [
              0.4444444444444444,
              "#bd3786"
             ],
             [
              0.5555555555555556,
              "#d8576b"
             ],
             [
              0.6666666666666666,
              "#ed7953"
             ],
             [
              0.7777777777777778,
              "#fb9f3a"
             ],
             [
              0.8888888888888888,
              "#fdca26"
             ],
             [
              1,
              "#f0f921"
             ]
            ],
            "type": "histogram2dcontour"
           }
          ],
          "mesh3d": [
           {
            "colorbar": {
             "outlinewidth": 0,
             "ticks": ""
            },
            "type": "mesh3d"
           }
          ],
          "parcoords": [
           {
            "line": {
             "colorbar": {
              "outlinewidth": 0,
              "ticks": ""
             }
            },
            "type": "parcoords"
           }
          ],
          "pie": [
           {
            "automargin": true,
            "type": "pie"
           }
          ],
          "scatter": [
           {
            "fillpattern": {
             "fillmode": "overlay",
             "size": 10,
             "solidity": 0.2
            },
            "type": "scatter"
           }
          ],
          "scatter3d": [
           {
            "line": {
             "colorbar": {
              "outlinewidth": 0,
              "ticks": ""
             }
            },
            "marker": {
             "colorbar": {
              "outlinewidth": 0,
              "ticks": ""
             }
            },
            "type": "scatter3d"
           }
          ],
          "scattercarpet": [
           {
            "marker": {
             "colorbar": {
              "outlinewidth": 0,
              "ticks": ""
             }
            },
            "type": "scattercarpet"
           }
          ],
          "scattergeo": [
           {
            "marker": {
             "colorbar": {
              "outlinewidth": 0,
              "ticks": ""
             }
            },
            "type": "scattergeo"
           }
          ],
          "scattergl": [
           {
            "marker": {
             "colorbar": {
              "outlinewidth": 0,
              "ticks": ""
             }
            },
            "type": "scattergl"
           }
          ],
          "scattermapbox": [
           {
            "marker": {
             "colorbar": {
              "outlinewidth": 0,
              "ticks": ""
             }
            },
            "type": "scattermapbox"
           }
          ],
          "scatterpolar": [
           {
            "marker": {
             "colorbar": {
              "outlinewidth": 0,
              "ticks": ""
             }
            },
            "type": "scatterpolar"
           }
          ],
          "scatterpolargl": [
           {
            "marker": {
             "colorbar": {
              "outlinewidth": 0,
              "ticks": ""
             }
            },
            "type": "scatterpolargl"
           }
          ],
          "scatterternary": [
           {
            "marker": {
             "colorbar": {
              "outlinewidth": 0,
              "ticks": ""
             }
            },
            "type": "scatterternary"
           }
          ],
          "surface": [
           {
            "colorbar": {
             "outlinewidth": 0,
             "ticks": ""
            },
            "colorscale": [
             [
              0,
              "#0d0887"
             ],
             [
              0.1111111111111111,
              "#46039f"
             ],
             [
              0.2222222222222222,
              "#7201a8"
             ],
             [
              0.3333333333333333,
              "#9c179e"
             ],
             [
              0.4444444444444444,
              "#bd3786"
             ],
             [
              0.5555555555555556,
              "#d8576b"
             ],
             [
              0.6666666666666666,
              "#ed7953"
             ],
             [
              0.7777777777777778,
              "#fb9f3a"
             ],
             [
              0.8888888888888888,
              "#fdca26"
             ],
             [
              1,
              "#f0f921"
             ]
            ],
            "type": "surface"
           }
          ],
          "table": [
           {
            "cells": {
             "fill": {
              "color": "#EBF0F8"
             },
             "line": {
              "color": "white"
             }
            },
            "header": {
             "fill": {
              "color": "#C8D4E3"
             },
             "line": {
              "color": "white"
             }
            },
            "type": "table"
           }
          ]
         },
         "layout": {
          "annotationdefaults": {
           "arrowcolor": "#2a3f5f",
           "arrowhead": 0,
           "arrowwidth": 1
          },
          "autotypenumbers": "strict",
          "coloraxis": {
           "colorbar": {
            "outlinewidth": 0,
            "ticks": ""
           }
          },
          "colorscale": {
           "diverging": [
            [
             0,
             "#8e0152"
            ],
            [
             0.1,
             "#c51b7d"
            ],
            [
             0.2,
             "#de77ae"
            ],
            [
             0.3,
             "#f1b6da"
            ],
            [
             0.4,
             "#fde0ef"
            ],
            [
             0.5,
             "#f7f7f7"
            ],
            [
             0.6,
             "#e6f5d0"
            ],
            [
             0.7,
             "#b8e186"
            ],
            [
             0.8,
             "#7fbc41"
            ],
            [
             0.9,
             "#4d9221"
            ],
            [
             1,
             "#276419"
            ]
           ],
           "sequential": [
            [
             0,
             "#0d0887"
            ],
            [
             0.1111111111111111,
             "#46039f"
            ],
            [
             0.2222222222222222,
             "#7201a8"
            ],
            [
             0.3333333333333333,
             "#9c179e"
            ],
            [
             0.4444444444444444,
             "#bd3786"
            ],
            [
             0.5555555555555556,
             "#d8576b"
            ],
            [
             0.6666666666666666,
             "#ed7953"
            ],
            [
             0.7777777777777778,
             "#fb9f3a"
            ],
            [
             0.8888888888888888,
             "#fdca26"
            ],
            [
             1,
             "#f0f921"
            ]
           ],
           "sequentialminus": [
            [
             0,
             "#0d0887"
            ],
            [
             0.1111111111111111,
             "#46039f"
            ],
            [
             0.2222222222222222,
             "#7201a8"
            ],
            [
             0.3333333333333333,
             "#9c179e"
            ],
            [
             0.4444444444444444,
             "#bd3786"
            ],
            [
             0.5555555555555556,
             "#d8576b"
            ],
            [
             0.6666666666666666,
             "#ed7953"
            ],
            [
             0.7777777777777778,
             "#fb9f3a"
            ],
            [
             0.8888888888888888,
             "#fdca26"
            ],
            [
             1,
             "#f0f921"
            ]
           ]
          },
          "colorway": [
           "#636efa",
           "#EF553B",
           "#00cc96",
           "#ab63fa",
           "#FFA15A",
           "#19d3f3",
           "#FF6692",
           "#B6E880",
           "#FF97FF",
           "#FECB52"
          ],
          "font": {
           "color": "#2a3f5f"
          },
          "geo": {
           "bgcolor": "white",
           "lakecolor": "white",
           "landcolor": "#E5ECF6",
           "showlakes": true,
           "showland": true,
           "subunitcolor": "white"
          },
          "hoverlabel": {
           "align": "left"
          },
          "hovermode": "closest",
          "mapbox": {
           "style": "light"
          },
          "paper_bgcolor": "white",
          "plot_bgcolor": "#E5ECF6",
          "polar": {
           "angularaxis": {
            "gridcolor": "white",
            "linecolor": "white",
            "ticks": ""
           },
           "bgcolor": "#E5ECF6",
           "radialaxis": {
            "gridcolor": "white",
            "linecolor": "white",
            "ticks": ""
           }
          },
          "scene": {
           "xaxis": {
            "backgroundcolor": "#E5ECF6",
            "gridcolor": "white",
            "gridwidth": 2,
            "linecolor": "white",
            "showbackground": true,
            "ticks": "",
            "zerolinecolor": "white"
           },
           "yaxis": {
            "backgroundcolor": "#E5ECF6",
            "gridcolor": "white",
            "gridwidth": 2,
            "linecolor": "white",
            "showbackground": true,
            "ticks": "",
            "zerolinecolor": "white"
           },
           "zaxis": {
            "backgroundcolor": "#E5ECF6",
            "gridcolor": "white",
            "gridwidth": 2,
            "linecolor": "white",
            "showbackground": true,
            "ticks": "",
            "zerolinecolor": "white"
           }
          },
          "shapedefaults": {
           "line": {
            "color": "#2a3f5f"
           }
          },
          "ternary": {
           "aaxis": {
            "gridcolor": "white",
            "linecolor": "white",
            "ticks": ""
           },
           "baxis": {
            "gridcolor": "white",
            "linecolor": "white",
            "ticks": ""
           },
           "bgcolor": "#E5ECF6",
           "caxis": {
            "gridcolor": "white",
            "linecolor": "white",
            "ticks": ""
           }
          },
          "title": {
           "x": 0.05
          },
          "xaxis": {
           "automargin": true,
           "gridcolor": "white",
           "linecolor": "white",
           "ticks": "",
           "title": {
            "standoff": 15
           },
           "zerolinecolor": "white",
           "zerolinewidth": 2
          },
          "yaxis": {
           "automargin": true,
           "gridcolor": "white",
           "linecolor": "white",
           "ticks": "",
           "title": {
            "standoff": 15
           },
           "zerolinecolor": "white",
           "zerolinewidth": 2
          }
         }
        },
        "width": 1200,
        "xaxis": {
         "anchor": "y",
         "domain": [
          0,
          0.32
         ],
         "range": [
          0,
          5
         ],
         "tickfont": {
          "size": 15
         },
         "type": "log"
        },
        "xaxis2": {
         "anchor": "y2",
         "domain": [
          0.34,
          0.66
         ],
         "range": [
          0,
          5
         ],
         "tickfont": {
          "size": 15
         },
         "type": "log"
        },
        "xaxis3": {
         "anchor": "y3",
         "domain": [
          0.68,
          1
         ],
         "range": [
          0,
          5
         ],
         "tickfont": {
          "size": 15
         },
         "type": "log"
        },
        "xaxis4": {
         "anchor": "y4",
         "domain": [
          0,
          0.32
         ],
         "range": [
          0,
          5
         ],
         "tickfont": {
          "size": 15
         },
         "type": "log"
        },
        "xaxis5": {
         "anchor": "y5",
         "domain": [
          0.34,
          0.66
         ],
         "range": [
          0,
          5
         ],
         "tickfont": {
          "size": 15
         },
         "type": "log"
        },
        "xaxis6": {
         "anchor": "y6",
         "domain": [
          0.68,
          1
         ],
         "range": [
          0,
          5
         ],
         "tickfont": {
          "size": 15
         },
         "type": "log"
        },
        "xaxis7": {
         "anchor": "y7",
         "domain": [
          0,
          0.32
         ],
         "range": [
          0,
          5
         ],
         "tickfont": {
          "size": 15
         },
         "title": {
          "font": {
           "size": 20
          },
          "text": "Millions of parameters"
         },
         "type": "log"
        },
        "xaxis8": {
         "anchor": "y8",
         "domain": [
          0.34,
          0.66
         ],
         "range": [
          0,
          5
         ],
         "tickfont": {
          "size": 15
         },
         "title": {
          "font": {
           "size": 20
          },
          "text": "Millions of parameters"
         },
         "type": "log"
        },
        "xaxis9": {
         "anchor": "y9",
         "domain": [
          0.68,
          1
         ],
         "range": [
          0,
          5
         ],
         "tickfont": {
          "size": 15
         },
         "title": {
          "font": {
           "size": 20
          },
          "text": "Millions of parameters"
         },
         "type": "log"
        },
        "yaxis": {
         "anchor": "x",
         "domain": [
          0.7333333333333334,
          1
         ],
         "range": [
          0,
          70
         ],
         "tickfont": {
          "size": 18
         },
         "tickvals": [
          0,
          10,
          20,
          30,
          40,
          50,
          60,
          70
         ],
         "title": {
          "font": {
           "size": 20
          },
          "text": "Precision@K"
         }
        },
        "yaxis2": {
         "anchor": "x2",
         "domain": [
          0.7333333333333334,
          1
         ],
         "matches": "y",
         "range": [
          0,
          70
         ],
         "showticklabels": false,
         "tickfont": {
          "size": 18
         },
         "tickvals": [
          0,
          10,
          20,
          30,
          40,
          50,
          60,
          70
         ]
        },
        "yaxis3": {
         "anchor": "x3",
         "domain": [
          0.7333333333333334,
          1
         ],
         "matches": "y",
         "range": [
          0,
          70
         ],
         "showticklabels": false,
         "tickfont": {
          "size": 18
         },
         "tickvals": [
          0,
          10,
          20,
          30,
          40,
          50,
          60,
          70
         ]
        },
        "yaxis4": {
         "anchor": "x4",
         "domain": [
          0.3666666666666667,
          0.6333333333333333
         ],
         "range": [
          0,
          70
         ],
         "tickfont": {
          "size": 18
         },
         "tickvals": [
          0,
          10,
          20,
          30,
          40,
          50,
          60,
          70
         ],
         "title": {
          "font": {
           "size": 20
          },
          "text": "Precision@K"
         }
        },
        "yaxis5": {
         "anchor": "x5",
         "domain": [
          0.3666666666666667,
          0.6333333333333333
         ],
         "matches": "y4",
         "range": [
          0,
          70
         ],
         "showticklabels": false,
         "tickfont": {
          "size": 18
         },
         "tickvals": [
          0,
          10,
          20,
          30,
          40,
          50,
          60,
          70
         ]
        },
        "yaxis6": {
         "anchor": "x6",
         "domain": [
          0.3666666666666667,
          0.6333333333333333
         ],
         "matches": "y4",
         "range": [
          0,
          70
         ],
         "showticklabels": false,
         "tickfont": {
          "size": 18
         },
         "tickvals": [
          0,
          10,
          20,
          30,
          40,
          50,
          60,
          70
         ]
        },
        "yaxis7": {
         "anchor": "x7",
         "domain": [
          0,
          0.26666666666666666
         ],
         "range": [
          0,
          70
         ],
         "tickfont": {
          "size": 18
         },
         "tickvals": [
          0,
          10,
          20,
          30,
          40,
          50,
          60,
          70
         ],
         "title": {
          "font": {
           "size": 20
          },
          "text": "Precision@K"
         }
        },
        "yaxis8": {
         "anchor": "x8",
         "domain": [
          0,
          0.26666666666666666
         ],
         "matches": "y7",
         "range": [
          0,
          70
         ],
         "showticklabels": false,
         "tickfont": {
          "size": 18
         },
         "tickvals": [
          0,
          10,
          20,
          30,
          40,
          50,
          60,
          70
         ]
        },
        "yaxis9": {
         "anchor": "x9",
         "domain": [
          0,
          0.26666666666666666
         ],
         "matches": "y7",
         "range": [
          0,
          70
         ],
         "showticklabels": false,
         "tickfont": {
          "size": 18
         },
         "tickvals": [
          0,
          10,
          20,
          30,
          40,
          50,
          60,
          70
         ]
        }
       }
      }
     },
     "metadata": {},
     "output_type": "display_data"
    }
   ],
   "source": [
    "from matplotlib.ticker import AutoMinorLocator\n",
    "import plotly.graph_objects as go\n",
    "from plotly.subplots import make_subplots\n",
    "import plotly.express as px\n",
    "import numpy as np\n",
    "\n",
    "# Create subplots using Plotly\n",
    "rows, cols = 3, 3\n",
    "fig = make_subplots(rows=rows, cols=cols, shared_yaxes=True, subplot_titles=vm_list,\n",
    "                    horizontal_spacing=0.02, vertical_spacing=0.1)\n",
    "\n",
    "# Define line styles\n",
    "line_styles = ['dot', 'dashdot', 'longdash']\n",
    "\n",
    "# Define marker symbols\n",
    "marker_symbols = ['star', 'triangle-up', 'circle']\n",
    "\n",
    "# colors = [\"#7fcdbb\", \"#1d91c0\", \"#253494\"]\n",
    "colors = px.colors.qualitative.Set2\n",
    "\n",
    "lines = []\n",
    "marker_size = 10\n",
    "\n",
    "for i, vm_specific in enumerate(vm_list):\n",
    "    row = (i // cols) + 1\n",
    "    col = (i % cols) + 1\n",
    "\n",
    "    vm_bert = vm_selected.loc[(vm_selected[\"VM\"] == vm_specific) & (vm_selected[\"LM\"].str.startswith(\"BERT\"))].sort_values(by='Models_size', ascending=True)\n",
    "    vm_gpt2 = vm_selected.loc[(vm_selected[\"VM\"] == vm_specific) & (vm_selected[\"LM\"].str.startswith(\"GPT2\"))].sort_values(by='Models_size', ascending=True)\n",
    "    vm_opt = vm_selected.loc[(vm_selected[\"VM\"] == vm_specific) & (vm_selected[\"LM\"].str.startswith(\"OPT\"))].sort_values(by='Models_size', ascending=True)\n",
    "    vm_llama = vm_selected.loc[(vm_selected[\"VM\"] == vm_specific) & (vm_selected[\"LM\"].str.startswith(\"Llama\"))].sort_values(by='Models_size', ascending=True)\n",
    "\n",
    "    precision_bert = np.array([vm_bert[\"P@1-CSLS\"], vm_bert[\"P@10-CSLS\"], vm_bert[\"P@100-CSLS\"]]).T\n",
    "    precision_gpt2 = np.array([vm_gpt2[\"P@1-CSLS\"], vm_gpt2[\"P@10-CSLS\"], vm_gpt2[\"P@100-CSLS\"]]).T\n",
    "    precision_opt = np.array([vm_opt[\"P@1-CSLS\"], vm_opt[\"P@10-CSLS\"], vm_opt[\"P@100-CSLS\"]]).T\n",
    "    precision_llama = np.array([vm_llama[\"P@1-CSLS\"], vm_llama[\"P@10-CSLS\"], vm_llama[\"P@100-CSLS\"]]).T\n",
    "\n",
    "    for idx, k in enumerate([1, 10, 100]):\n",
    "        line_style = line_styles[idx]\n",
    "        marker_symbol = marker_symbols[idx]\n",
    "        \n",
    "        line1 = go.Scatter(x=vm_bert[\"Models_size\"], y=precision_bert[:, idx],\n",
    "                           mode='lines+markers', line=dict(color=colors[0], dash=line_style),\n",
    "                           marker_symbol=marker_symbol, legendgroup='BERT', name=f'BERT - K={k}',\n",
    "                            showlegend=(i == 0), marker=dict(size=marker_size))\n",
    "        \n",
    "        line2 = go.Scatter(x=vm_gpt2[\"Models_size\"], y=precision_gpt2[:, idx],\n",
    "                           mode='lines+markers', line=dict(color=colors[1], dash=line_style),\n",
    "                           marker_symbol=marker_symbol, legendgroup='GPT2', name=f'GPT2 - K={k}',\n",
    "                           showlegend=(i == 0), marker=dict(size=marker_size))\n",
    "        \n",
    "        line3 = go.Scatter(x=vm_opt[\"Models_size\"], y=precision_opt[:, idx],\n",
    "                           mode='lines+markers', line=dict(color=colors[2], dash=line_style),\n",
    "                           marker_symbol=marker_symbol, legendgroup='OPT', name=f'OPT - K={k}',\n",
    "                           showlegend=(i == 0), marker=dict(size=marker_size))\n",
    "        \n",
    "        line4 = go.Scatter(x=vm_llama[\"Models_size\"], y=precision_llama[:, idx],\n",
    "                           mode='lines+markers', line=dict(color=colors[3], dash=line_style),\n",
    "                           marker_symbol=marker_symbol, legendgroup='Llama2', name=f'Llama2 - K={k}',\n",
    "                           showlegend=(i == 0), marker=dict(size=marker_size))\n",
    "        \n",
    "        fig.add_trace(line1, row=row, col=col)\n",
    "        fig.add_trace(line2, row=row, col=col)\n",
    "        fig.add_trace(line3, row=row, col=col)\n",
    "        fig.add_trace(line4, row=row, col=col)\n",
    "    fig.update_annotations(font=dict(size=20))    \n",
    "    fig.update_xaxes(row=row, col=col, range=[0,5],type=\"log\", tickfont=dict(size=15))\n",
    "    fig.update_yaxes(range=[0,70],tickvals=[0,10,20,30,40,50,60,70], row=row, col=col, tickfont=dict(size=18))\n",
    "    # fig.update_yaxes(range=[0,75],tickvals=[0,10,20,30,40,50,60,70], row=row, col=col)\n",
    "    # fig.update_xaxes(title_text=\"Millions of parameters (log)\", row=row, col=col)\n",
    "    # fig.update_yaxes(title_text=\"Precision@K\", row=row, col=col)\n",
    "    \n",
    "# # Update subplot titles\n",
    "for i, title in enumerate(vm_list):\n",
    "    fig.update_xaxes(title_text=\"Millions of parameters\", row=3, col=(i % cols) + 1, title=dict(font=dict(size=20)))\n",
    "    fig.update_yaxes(title_text=\"Precision@K\", row=i, col=1, title=dict(font=dict(size=20)))\n",
    "    \n",
    "# Create a common legend\n",
    "# fig.update_layout(legend=dict(x=0, y=-0.2, orientation=\"v\"))\n",
    "fig.update_layout(width=1200, height=1000, legend=dict(x=0.2, y=-0.1, orientation=\"h\", font=dict(size=18)), template=\"plotly\")\n",
    "\n",
    "# Show the plot\n",
    "fig.show()\n",
    "fig.write_image(save_path / f\"Res&Segs&MAEs_vs_LMs_{set_name}_v4.pdf\")\n"
   ]
  },
  {
   "cell_type": "code",
   "execution_count": 35,
   "metadata": {},
   "outputs": [
    {
     "data": {
      "application/vnd.plotly.v1+json": {
       "config": {
        "plotlyServerURL": "https://plot.ly"
       },
       "data": [
        {
         "legendgroup": "BERT",
         "line": {
          "color": "rgb(102,194,165)",
          "dash": "dot"
         },
         "marker": {
          "size": 10,
          "symbol": "star"
         },
         "mode": "lines+markers",
         "name": "BERT - K=1",
         "showlegend": true,
         "type": "scatter",
         "x": [
          4.4,
          11.3,
          29.1,
          41.7,
          110,
          340
         ],
         "xaxis": "x",
         "y": [
          1.9919999999999998,
          2.102,
          0.994,
          1.67,
          1.108,
          2.216
         ],
         "yaxis": "y"
        },
        {
         "legendgroup": "GPT2",
         "line": {
          "color": "rgb(252,141,98)",
          "dash": "dot"
         },
         "marker": {
          "size": 10,
          "symbol": "star"
         },
         "mode": "lines+markers",
         "name": "GPT2 - K=1",
         "showlegend": true,
         "type": "scatter",
         "x": [
          117,
          762,
          1542
         ],
         "xaxis": "x",
         "y": [
          2.8899999999999997,
          1.56,
          1.56
         ],
         "yaxis": "y"
        },
        {
         "legendgroup": "OPT",
         "line": {
          "color": "rgb(141,160,203)",
          "dash": "dot"
         },
         "marker": {
          "size": 10,
          "symbol": "star"
         },
         "mode": "lines+markers",
         "name": "OPT - K=1",
         "showlegend": true,
         "type": "scatter",
         "x": [
          125,
          6700,
          30000
         ],
         "xaxis": "x",
         "y": [
          1.228,
          2.8899999999999997,
          3.006
         ],
         "yaxis": "y"
        },
        {
         "legendgroup": "Llama2",
         "line": {
          "color": "rgb(231,138,195)",
          "dash": "dot"
         },
         "marker": {
          "size": 10,
          "symbol": "star"
         },
         "mode": "lines+markers",
         "name": "Llama2 - K=1",
         "showlegend": true,
         "type": "scatter",
         "x": [
          7000,
          13000
         ],
         "xaxis": "x",
         "y": [
          4.562,
          2.444
         ],
         "yaxis": "y"
        },
        {
         "legendgroup": "BERT",
         "line": {
          "color": "rgb(102,194,165)",
          "dash": "dashdot"
         },
         "marker": {
          "size": 10,
          "symbol": "triangle-up"
         },
         "mode": "lines+markers",
         "name": "BERT - K=10",
         "showlegend": true,
         "type": "scatter",
         "x": [
          4.4,
          11.3,
          29.1,
          41.7,
          110,
          340
         ],
         "xaxis": "x",
         "y": [
          11.76,
          21.291999999999998,
          24.648,
          26.416000000000004,
          31.410000000000004,
          30.727999999999998
         ],
         "yaxis": "y"
        },
        {
         "legendgroup": "GPT2",
         "line": {
          "color": "rgb(252,141,98)",
          "dash": "dashdot"
         },
         "marker": {
          "size": 10,
          "symbol": "triangle-up"
         },
         "mode": "lines+markers",
         "name": "GPT2 - K=10",
         "showlegend": true,
         "type": "scatter",
         "x": [
          117,
          762,
          1542
         ],
         "xaxis": "x",
         "y": [
          10.66,
          30.631999999999998,
          30.977999999999998
         ],
         "yaxis": "y"
        },
        {
         "legendgroup": "OPT",
         "line": {
          "color": "rgb(141,160,203)",
          "dash": "dashdot"
         },
         "marker": {
          "size": 10,
          "symbol": "triangle-up"
         },
         "mode": "lines+markers",
         "name": "OPT - K=10",
         "showlegend": true,
         "type": "scatter",
         "x": [
          125,
          6700,
          30000
         ],
         "xaxis": "x",
         "y": [
          28.53,
          35.739999999999995,
          38.19
         ],
         "yaxis": "y"
        },
        {
         "legendgroup": "Llama2",
         "line": {
          "color": "rgb(231,138,195)",
          "dash": "dashdot"
         },
         "marker": {
          "size": 10,
          "symbol": "triangle-up"
         },
         "mode": "lines+markers",
         "name": "Llama2 - K=10",
         "showlegend": true,
         "type": "scatter",
         "x": [
          7000,
          13000
         ],
         "xaxis": "x",
         "y": [
          27.298000000000002,
          30.410000000000004
         ],
         "yaxis": "y"
        },
        {
         "legendgroup": "BERT",
         "line": {
          "color": "rgb(102,194,165)",
          "dash": "longdash"
         },
         "marker": {
          "size": 10,
          "symbol": "circle"
         },
         "mode": "lines+markers",
         "name": "BERT - K=100",
         "showlegend": true,
         "type": "scatter",
         "x": [
          4.4,
          11.3,
          29.1,
          41.7,
          110,
          340
         ],
         "xaxis": "x",
         "y": [
          28.189999999999998,
          39.178,
          45.512,
          46.054,
          54.589999999999996,
          55.918000000000006
         ],
         "yaxis": "y"
        },
        {
         "legendgroup": "GPT2",
         "line": {
          "color": "rgb(252,141,98)",
          "dash": "longdash"
         },
         "marker": {
          "size": 10,
          "symbol": "circle"
         },
         "mode": "lines+markers",
         "name": "GPT2 - K=100",
         "showlegend": true,
         "type": "scatter",
         "x": [
          117,
          762,
          1542
         ],
         "xaxis": "x",
         "y": [
          19.092000000000002,
          56.354,
          57.602
         ],
         "yaxis": "y"
        },
        {
         "legendgroup": "OPT",
         "line": {
          "color": "rgb(141,160,203)",
          "dash": "longdash"
         },
         "marker": {
          "size": 10,
          "symbol": "circle"
         },
         "mode": "lines+markers",
         "name": "OPT - K=100",
         "showlegend": true,
         "type": "scatter",
         "x": [
          125,
          6700,
          30000
         ],
         "xaxis": "x",
         "y": [
          51.6,
          66.366,
          68.692
         ],
         "yaxis": "y"
        },
        {
         "legendgroup": "Llama2",
         "line": {
          "color": "rgb(231,138,195)",
          "dash": "longdash"
         },
         "marker": {
          "size": 10,
          "symbol": "circle"
         },
         "mode": "lines+markers",
         "name": "Llama2 - K=100",
         "showlegend": true,
         "type": "scatter",
         "x": [
          7000,
          13000
         ],
         "xaxis": "x",
         "y": [
          48.176,
          54.598
         ],
         "yaxis": "y"
        },
        {
         "legendgroup": "BERT",
         "line": {
          "color": "rgb(102,194,165)",
          "dash": "dot"
         },
         "marker": {
          "size": 10,
          "symbol": "star"
         },
         "mode": "lines+markers",
         "name": "BERT - K=1",
         "showlegend": false,
         "type": "scatter",
         "x": [
          4.4,
          11.3,
          29.1,
          41.7,
          110,
          340
         ],
         "xaxis": "x2",
         "y": [
          1.9919999999999998,
          1.3279999999999998,
          0.442,
          0.884,
          1.3199999999999998,
          2.654
         ],
         "yaxis": "y2"
        },
        {
         "legendgroup": "GPT2",
         "line": {
          "color": "rgb(252,141,98)",
          "dash": "dot"
         },
         "marker": {
          "size": 10,
          "symbol": "star"
         },
         "mode": "lines+markers",
         "name": "GPT2 - K=1",
         "showlegend": false,
         "type": "scatter",
         "x": [
          117,
          762,
          1542
         ],
         "xaxis": "x2",
         "y": [
          3.004,
          1.108,
          0.882
         ],
         "yaxis": "y2"
        },
        {
         "legendgroup": "OPT",
         "line": {
          "color": "rgb(141,160,203)",
          "dash": "dot"
         },
         "marker": {
          "size": 10,
          "symbol": "star"
         },
         "mode": "lines+markers",
         "name": "OPT - K=1",
         "showlegend": false,
         "type": "scatter",
         "x": [
          125,
          6700,
          30000
         ],
         "xaxis": "x2",
         "y": [
          0.5519999999999999,
          1.884,
          2.32
         ],
         "yaxis": "y2"
        },
        {
         "legendgroup": "Llama2",
         "line": {
          "color": "rgb(231,138,195)",
          "dash": "dot"
         },
         "marker": {
          "size": 10,
          "symbol": "star"
         },
         "mode": "lines+markers",
         "name": "Llama2 - K=1",
         "showlegend": false,
         "type": "scatter",
         "x": [
          7000,
          13000
         ],
         "xaxis": "x2",
         "y": [
          3,
          1.9939999999999998
         ],
         "yaxis": "y2"
        },
        {
         "legendgroup": "BERT",
         "line": {
          "color": "rgb(102,194,165)",
          "dash": "dashdot"
         },
         "marker": {
          "size": 10,
          "symbol": "triangle-up"
         },
         "mode": "lines+markers",
         "name": "BERT - K=10",
         "showlegend": false,
         "type": "scatter",
         "x": [
          4.4,
          11.3,
          29.1,
          41.7,
          110,
          340
         ],
         "xaxis": "x2",
         "y": [
          11.76,
          21.532,
          24.406,
          26.518,
          31.28,
          32.168
         ],
         "yaxis": "y2"
        },
        {
         "legendgroup": "GPT2",
         "line": {
          "color": "rgb(252,141,98)",
          "dash": "dashdot"
         },
         "marker": {
          "size": 10,
          "symbol": "triangle-up"
         },
         "mode": "lines+markers",
         "name": "GPT2 - K=10",
         "showlegend": false,
         "type": "scatter",
         "x": [
          117,
          762,
          1542
         ],
         "xaxis": "x2",
         "y": [
          10.562000000000001,
          31.946000000000005,
          31.613999999999997
         ],
         "yaxis": "y2"
        },
        {
         "legendgroup": "OPT",
         "line": {
          "color": "rgb(141,160,203)",
          "dash": "dashdot"
         },
         "marker": {
          "size": 10,
          "symbol": "triangle-up"
         },
         "mode": "lines+markers",
         "name": "OPT - K=10",
         "showlegend": false,
         "type": "scatter",
         "x": [
          125,
          6700,
          30000
         ],
         "xaxis": "x2",
         "y": [
          28.644,
          37.506,
          38.848
         ],
         "yaxis": "y2"
        },
        {
         "legendgroup": "Llama2",
         "line": {
          "color": "rgb(231,138,195)",
          "dash": "dashdot"
         },
         "marker": {
          "size": 10,
          "symbol": "triangle-up"
         },
         "mode": "lines+markers",
         "name": "Llama2 - K=10",
         "showlegend": false,
         "type": "scatter",
         "x": [
          7000,
          13000
         ],
         "xaxis": "x2",
         "y": [
          28.427999999999997,
          32.302
         ],
         "yaxis": "y2"
        },
        {
         "legendgroup": "BERT",
         "line": {
          "color": "rgb(102,194,165)",
          "dash": "longdash"
         },
         "marker": {
          "size": 10,
          "symbol": "circle"
         },
         "mode": "lines+markers",
         "name": "BERT - K=100",
         "showlegend": false,
         "type": "scatter",
         "x": [
          4.4,
          11.3,
          29.1,
          41.7,
          110,
          340
         ],
         "xaxis": "x2",
         "y": [
          27.524,
          39.29,
          44.507999999999996,
          45.730000000000004,
          54.714,
          56.48
         ],
         "yaxis": "y2"
        },
        {
         "legendgroup": "GPT2",
         "line": {
          "color": "rgb(252,141,98)",
          "dash": "longdash"
         },
         "marker": {
          "size": 10,
          "symbol": "circle"
         },
         "mode": "lines+markers",
         "name": "GPT2 - K=100",
         "showlegend": false,
         "type": "scatter",
         "x": [
          117,
          762,
          1542
         ],
         "xaxis": "x2",
         "y": [
          22.436,
          55.372,
          57.26800000000001
         ],
         "yaxis": "y2"
        },
        {
         "legendgroup": "OPT",
         "line": {
          "color": "rgb(141,160,203)",
          "dash": "longdash"
         },
         "marker": {
          "size": 10,
          "symbol": "circle"
         },
         "mode": "lines+markers",
         "name": "OPT - K=100",
         "showlegend": false,
         "type": "scatter",
         "x": [
          125,
          6700,
          30000
         ],
         "xaxis": "x2",
         "y": [
          52.272000000000006,
          66.59,
          68.694
         ],
         "yaxis": "y2"
        },
        {
         "legendgroup": "Llama2",
         "line": {
          "color": "rgb(231,138,195)",
          "dash": "longdash"
         },
         "marker": {
          "size": 10,
          "symbol": "circle"
         },
         "mode": "lines+markers",
         "name": "Llama2 - K=100",
         "showlegend": false,
         "type": "scatter",
         "x": [
          7000,
          13000
         ],
         "xaxis": "x2",
         "y": [
          48.194,
          56.041999999999994
         ],
         "yaxis": "y2"
        },
        {
         "legendgroup": "BERT",
         "line": {
          "color": "rgb(102,194,165)",
          "dash": "dot"
         },
         "marker": {
          "size": 10,
          "symbol": "star"
         },
         "mode": "lines+markers",
         "name": "BERT - K=1",
         "showlegend": false,
         "type": "scatter",
         "x": [
          4.4,
          11.3,
          29.1,
          41.7,
          110,
          340
         ],
         "xaxis": "x3",
         "y": [
          1.222,
          1.1099999999999999,
          0.662,
          0.44000000000000006,
          1.766,
          1.7739999999999998
         ],
         "yaxis": "y3"
        },
        {
         "legendgroup": "GPT2",
         "line": {
          "color": "rgb(252,141,98)",
          "dash": "dot"
         },
         "marker": {
          "size": 10,
          "symbol": "star"
         },
         "mode": "lines+markers",
         "name": "GPT2 - K=1",
         "showlegend": false,
         "type": "scatter",
         "x": [
          117,
          762,
          1542
         ],
         "xaxis": "x3",
         "y": [
          3.44,
          0.772,
          1.214
         ],
         "yaxis": "y3"
        },
        {
         "legendgroup": "OPT",
         "line": {
          "color": "rgb(141,160,203)",
          "dash": "dot"
         },
         "marker": {
          "size": 10,
          "symbol": "star"
         },
         "mode": "lines+markers",
         "name": "OPT - K=1",
         "showlegend": false,
         "type": "scatter",
         "x": [
          125,
          6700,
          30000
         ],
         "xaxis": "x3",
         "y": [
          0.6620000000000001,
          1.782,
          1.436
         ],
         "yaxis": "y3"
        },
        {
         "legendgroup": "Llama2",
         "line": {
          "color": "rgb(231,138,195)",
          "dash": "dot"
         },
         "marker": {
          "size": 10,
          "symbol": "star"
         },
         "mode": "lines+markers",
         "name": "Llama2 - K=1",
         "showlegend": false,
         "type": "scatter",
         "x": [
          7000,
          13000
         ],
         "xaxis": "x3",
         "y": [
          3.668,
          1.218
         ],
         "yaxis": "y3"
        },
        {
         "legendgroup": "BERT",
         "line": {
          "color": "rgb(102,194,165)",
          "dash": "dashdot"
         },
         "marker": {
          "size": 10,
          "symbol": "triangle-up"
         },
         "mode": "lines+markers",
         "name": "BERT - K=10",
         "showlegend": false,
         "type": "scatter",
         "x": [
          4.4,
          11.3,
          29.1,
          41.7,
          110,
          340
         ],
         "xaxis": "x3",
         "y": [
          12.544,
          21.86,
          23.966,
          26.964,
          31.286,
          31.844
         ],
         "yaxis": "y3"
        },
        {
         "legendgroup": "GPT2",
         "line": {
          "color": "rgb(252,141,98)",
          "dash": "dashdot"
         },
         "marker": {
          "size": 10,
          "symbol": "triangle-up"
         },
         "mode": "lines+markers",
         "name": "GPT2 - K=10",
         "showlegend": false,
         "type": "scatter",
         "x": [
          117,
          762,
          1542
         ],
         "xaxis": "x3",
         "y": [
          12.766,
          29.413999999999998,
          31.07
         ],
         "yaxis": "y3"
        },
        {
         "legendgroup": "OPT",
         "line": {
          "color": "rgb(141,160,203)",
          "dash": "dashdot"
         },
         "marker": {
          "size": 10,
          "symbol": "triangle-up"
         },
         "mode": "lines+markers",
         "name": "OPT - K=10",
         "showlegend": false,
         "type": "scatter",
         "x": [
          125,
          6700,
          30000
         ],
         "xaxis": "x3",
         "y": [
          28.206,
          35.974000000000004,
          35.756
         ],
         "yaxis": "y3"
        },
        {
         "legendgroup": "Llama2",
         "line": {
          "color": "rgb(231,138,195)",
          "dash": "dashdot"
         },
         "marker": {
          "size": 10,
          "symbol": "triangle-up"
         },
         "mode": "lines+markers",
         "name": "Llama2 - K=10",
         "showlegend": false,
         "type": "scatter",
         "x": [
          7000,
          13000
         ],
         "xaxis": "x3",
         "y": [
          27.088,
          29.076
         ],
         "yaxis": "y3"
        },
        {
         "legendgroup": "BERT",
         "line": {
          "color": "rgb(102,194,165)",
          "dash": "longdash"
         },
         "marker": {
          "size": 10,
          "symbol": "circle"
         },
         "mode": "lines+markers",
         "name": "BERT - K=100",
         "showlegend": false,
         "type": "scatter",
         "x": [
          4.4,
          11.3,
          29.1,
          41.7,
          110,
          340
         ],
         "xaxis": "x3",
         "y": [
          25.984,
          37.086,
          43.292,
          45.062,
          52.696000000000005,
          53.272000000000006
         ],
         "yaxis": "y3"
        },
        {
         "legendgroup": "GPT2",
         "line": {
          "color": "rgb(252,141,98)",
          "dash": "longdash"
         },
         "marker": {
          "size": 10,
          "symbol": "circle"
         },
         "mode": "lines+markers",
         "name": "GPT2 - K=100",
         "showlegend": false,
         "type": "scatter",
         "x": [
          117,
          762,
          1542
         ],
         "xaxis": "x3",
         "y": [
          22.770000000000003,
          49.382,
          52.95
         ],
         "yaxis": "y3"
        },
        {
         "legendgroup": "OPT",
         "line": {
          "color": "rgb(141,160,203)",
          "dash": "longdash"
         },
         "marker": {
          "size": 10,
          "symbol": "circle"
         },
         "mode": "lines+markers",
         "name": "OPT - K=100",
         "showlegend": false,
         "type": "scatter",
         "x": [
          125,
          6700,
          30000
         ],
         "xaxis": "x3",
         "y": [
          47.510000000000005,
          61.372,
          61.815999999999995
         ],
         "yaxis": "y3"
        },
        {
         "legendgroup": "Llama2",
         "line": {
          "color": "rgb(231,138,195)",
          "dash": "longdash"
         },
         "marker": {
          "size": 10,
          "symbol": "circle"
         },
         "mode": "lines+markers",
         "name": "Llama2 - K=100",
         "showlegend": false,
         "type": "scatter",
         "x": [
          7000,
          13000
         ],
         "xaxis": "x3",
         "y": [
          44.858,
          51.29
         ],
         "yaxis": "y3"
        },
        {
         "legendgroup": "BERT",
         "line": {
          "color": "rgb(102,194,165)",
          "dash": "dot"
         },
         "marker": {
          "size": 10,
          "symbol": "star"
         },
         "mode": "lines+markers",
         "name": "BERT - K=1",
         "showlegend": false,
         "type": "scatter",
         "x": [
          4.4,
          11.3,
          29.1,
          41.7,
          110,
          340
         ],
         "xaxis": "x4",
         "y": [
          1.332,
          1.326,
          1.222,
          0.8859999999999999,
          2.106,
          2.668
         ],
         "yaxis": "y4"
        },
        {
         "legendgroup": "GPT2",
         "line": {
          "color": "rgb(252,141,98)",
          "dash": "dot"
         },
         "marker": {
          "size": 10,
          "symbol": "star"
         },
         "mode": "lines+markers",
         "name": "GPT2 - K=1",
         "showlegend": false,
         "type": "scatter",
         "x": [
          117,
          762,
          1542
         ],
         "xaxis": "x4",
         "y": [
          2.1119999999999997,
          1.2280000000000002,
          1.226
         ],
         "yaxis": "y4"
        },
        {
         "legendgroup": "OPT",
         "line": {
          "color": "rgb(141,160,203)",
          "dash": "dot"
         },
         "marker": {
          "size": 10,
          "symbol": "star"
         },
         "mode": "lines+markers",
         "name": "OPT - K=1",
         "showlegend": false,
         "type": "scatter",
         "x": [
          125,
          6700,
          30000
         ],
         "xaxis": "x4",
         "y": [
          1.6740000000000002,
          3.122,
          2.7800000000000002
         ],
         "yaxis": "y4"
        },
        {
         "legendgroup": "Llama2",
         "line": {
          "color": "rgb(231,138,195)",
          "dash": "dot"
         },
         "marker": {
          "size": 10,
          "symbol": "star"
         },
         "mode": "lines+markers",
         "name": "Llama2 - K=1",
         "showlegend": false,
         "type": "scatter",
         "x": [
          7000,
          13000
         ],
         "xaxis": "x4",
         "y": [
          2.788,
          2.6719999999999997
         ],
         "yaxis": "y4"
        },
        {
         "legendgroup": "BERT",
         "line": {
          "color": "rgb(102,194,165)",
          "dash": "dashdot"
         },
         "marker": {
          "size": 10,
          "symbol": "triangle-up"
         },
         "mode": "lines+markers",
         "name": "BERT - K=10",
         "showlegend": false,
         "type": "scatter",
         "x": [
          4.4,
          11.3,
          29.1,
          41.7,
          110,
          340
         ],
         "xaxis": "x4",
         "y": [
          11.646,
          21.31,
          25.316,
          27.958000000000006,
          33.946000000000005,
          33.278
         ],
         "yaxis": "y4"
        },
        {
         "legendgroup": "GPT2",
         "line": {
          "color": "rgb(252,141,98)",
          "dash": "dashdot"
         },
         "marker": {
          "size": 10,
          "symbol": "triangle-up"
         },
         "mode": "lines+markers",
         "name": "GPT2 - K=10",
         "showlegend": false,
         "type": "scatter",
         "x": [
          117,
          762,
          1542
         ],
         "xaxis": "x4",
         "y": [
          12.452000000000002,
          32.396,
          34.28
         ],
         "yaxis": "y4"
        },
        {
         "legendgroup": "OPT",
         "line": {
          "color": "rgb(141,160,203)",
          "dash": "dashdot"
         },
         "marker": {
          "size": 10,
          "symbol": "triangle-up"
         },
         "mode": "lines+markers",
         "name": "OPT - K=10",
         "showlegend": false,
         "type": "scatter",
         "x": [
          125,
          6700,
          30000
         ],
         "xaxis": "x4",
         "y": [
          30.089999999999996,
          40.746,
          40.519999999999996
         ],
         "yaxis": "y4"
        },
        {
         "legendgroup": "Llama2",
         "line": {
          "color": "rgb(231,138,195)",
          "dash": "dashdot"
         },
         "marker": {
          "size": 10,
          "symbol": "triangle-up"
         },
         "mode": "lines+markers",
         "name": "Llama2 - K=10",
         "showlegend": false,
         "type": "scatter",
         "x": [
          7000,
          13000
         ],
         "xaxis": "x4",
         "y": [
          29.875999999999998,
          33.292
         ],
         "yaxis": "y4"
        },
        {
         "legendgroup": "BERT",
         "line": {
          "color": "rgb(102,194,165)",
          "dash": "longdash"
         },
         "marker": {
          "size": 10,
          "symbol": "circle"
         },
         "mode": "lines+markers",
         "name": "BERT - K=100",
         "showlegend": false,
         "type": "scatter",
         "x": [
          4.4,
          11.3,
          29.1,
          41.7,
          110,
          340
         ],
         "xaxis": "x4",
         "y": [
          27.986,
          39.53,
          45.495999999999995,
          47.946,
          55.19199999999999,
          58.926
         ],
         "yaxis": "y4"
        },
        {
         "legendgroup": "GPT2",
         "line": {
          "color": "rgb(252,141,98)",
          "dash": "longdash"
         },
         "marker": {
          "size": 10,
          "symbol": "circle"
         },
         "mode": "lines+markers",
         "name": "GPT2 - K=100",
         "showlegend": false,
         "type": "scatter",
         "x": [
          117,
          762,
          1542
         ],
         "xaxis": "x4",
         "y": [
          22.326,
          55.802,
          55.717999999999996
         ],
         "yaxis": "y4"
        },
        {
         "legendgroup": "OPT",
         "line": {
          "color": "rgb(141,160,203)",
          "dash": "longdash"
         },
         "marker": {
          "size": 10,
          "symbol": "circle"
         },
         "mode": "lines+markers",
         "name": "OPT - K=100",
         "showlegend": false,
         "type": "scatter",
         "x": [
          125,
          6700,
          30000
         ],
         "xaxis": "x4",
         "y": [
          51.598,
          65.7,
          69.45599999999999
         ],
         "yaxis": "y4"
        },
        {
         "legendgroup": "Llama2",
         "line": {
          "color": "rgb(231,138,195)",
          "dash": "longdash"
         },
         "marker": {
          "size": 10,
          "symbol": "circle"
         },
         "mode": "lines+markers",
         "name": "Llama2 - K=100",
         "showlegend": false,
         "type": "scatter",
         "x": [
          7000,
          13000
         ],
         "xaxis": "x4",
         "y": [
          47.512,
          55.048
         ],
         "yaxis": "y4"
        },
        {
         "legendgroup": "BERT",
         "line": {
          "color": "rgb(102,194,165)",
          "dash": "dot"
         },
         "marker": {
          "size": 10,
          "symbol": "star"
         },
         "mode": "lines+markers",
         "name": "BERT - K=1",
         "showlegend": false,
         "type": "scatter",
         "x": [
          4.4,
          11.3,
          29.1,
          41.7,
          110,
          340
         ],
         "xaxis": "x5",
         "y": [
          1.222,
          0.662,
          0.774,
          1.106,
          1.5539999999999998,
          2.44
         ],
         "yaxis": "y5"
        },
        {
         "legendgroup": "GPT2",
         "line": {
          "color": "rgb(252,141,98)",
          "dash": "dot"
         },
         "marker": {
          "size": 10,
          "symbol": "star"
         },
         "mode": "lines+markers",
         "name": "GPT2 - K=1",
         "showlegend": false,
         "type": "scatter",
         "x": [
          117,
          762,
          1542
         ],
         "xaxis": "x5",
         "y": [
          3.3299999999999996,
          0.892,
          1.112
         ],
         "yaxis": "y5"
        },
        {
         "legendgroup": "OPT",
         "line": {
          "color": "rgb(141,160,203)",
          "dash": "dot"
         },
         "marker": {
          "size": 10,
          "symbol": "star"
         },
         "mode": "lines+markers",
         "name": "OPT - K=1",
         "showlegend": false,
         "type": "scatter",
         "x": [
          125,
          6700,
          30000
         ],
         "xaxis": "x5",
         "y": [
          1.448,
          1.558,
          1.562
         ],
         "yaxis": "y5"
        },
        {
         "legendgroup": "Llama2",
         "line": {
          "color": "rgb(231,138,195)",
          "dash": "dot"
         },
         "marker": {
          "size": 10,
          "symbol": "star"
         },
         "mode": "lines+markers",
         "name": "Llama2 - K=1",
         "showlegend": false,
         "type": "scatter",
         "x": [
          7000,
          13000
         ],
         "xaxis": "x5",
         "y": [
          2.1119999999999997,
          1.448
         ],
         "yaxis": "y5"
        },
        {
         "legendgroup": "BERT",
         "line": {
          "color": "rgb(102,194,165)",
          "dash": "dashdot"
         },
         "marker": {
          "size": 10,
          "symbol": "triangle-up"
         },
         "mode": "lines+markers",
         "name": "BERT - K=10",
         "showlegend": false,
         "type": "scatter",
         "x": [
          4.4,
          11.3,
          29.1,
          41.7,
          110,
          340
         ],
         "xaxis": "x5",
         "y": [
          12.318000000000001,
          21.424,
          24.204,
          27.845999999999997,
          35.275999999999996,
          34.82000000000001
         ],
         "yaxis": "y5"
        },
        {
         "legendgroup": "GPT2",
         "line": {
          "color": "rgb(252,141,98)",
          "dash": "dashdot"
         },
         "marker": {
          "size": 10,
          "symbol": "triangle-up"
         },
         "mode": "lines+markers",
         "name": "GPT2 - K=10",
         "showlegend": false,
         "type": "scatter",
         "x": [
          117,
          762,
          1542
         ],
         "xaxis": "x5",
         "y": [
          12.564,
          33.612,
          34.95
         ],
         "yaxis": "y5"
        },
        {
         "legendgroup": "OPT",
         "line": {
          "color": "rgb(141,160,203)",
          "dash": "dashdot"
         },
         "marker": {
          "size": 10,
          "symbol": "triangle-up"
         },
         "mode": "lines+markers",
         "name": "OPT - K=10",
         "showlegend": false,
         "type": "scatter",
         "x": [
          125,
          6700,
          30000
         ],
         "xaxis": "x5",
         "y": [
          30.992,
          42.832,
          43.065999999999995
         ],
         "yaxis": "y5"
        },
        {
         "legendgroup": "Llama2",
         "line": {
          "color": "rgb(231,138,195)",
          "dash": "dashdot"
         },
         "marker": {
          "size": 10,
          "symbol": "triangle-up"
         },
         "mode": "lines+markers",
         "name": "Llama2 - K=10",
         "showlegend": false,
         "type": "scatter",
         "x": [
          7000,
          13000
         ],
         "xaxis": "x5",
         "y": [
          35.194,
          38.182
         ],
         "yaxis": "y5"
        },
        {
         "legendgroup": "BERT",
         "line": {
          "color": "rgb(102,194,165)",
          "dash": "longdash"
         },
         "marker": {
          "size": 10,
          "symbol": "circle"
         },
         "mode": "lines+markers",
         "name": "BERT - K=100",
         "showlegend": false,
         "type": "scatter",
         "x": [
          4.4,
          11.3,
          29.1,
          41.7,
          110,
          340
         ],
         "xaxis": "x5",
         "y": [
          27.532,
          39.739999999999995,
          45.058,
          48.838,
          57.164,
          59.70799999999999
         ],
         "yaxis": "y5"
        },
        {
         "legendgroup": "GPT2",
         "line": {
          "color": "rgb(252,141,98)",
          "dash": "longdash"
         },
         "marker": {
          "size": 10,
          "symbol": "circle"
         },
         "mode": "lines+markers",
         "name": "GPT2 - K=100",
         "showlegend": false,
         "type": "scatter",
         "x": [
          117,
          762,
          1542
         ],
         "xaxis": "x5",
         "y": [
          22.326,
          58.918000000000006,
          59.916
         ],
         "yaxis": "y5"
        },
        {
         "legendgroup": "OPT",
         "line": {
          "color": "rgb(141,160,203)",
          "dash": "longdash"
         },
         "marker": {
          "size": 10,
          "symbol": "circle"
         },
         "mode": "lines+markers",
         "name": "OPT - K=100",
         "showlegend": false,
         "type": "scatter",
         "x": [
          125,
          6700,
          30000
         ],
         "xaxis": "x5",
         "y": [
          53.160000000000004,
          71.354,
          73.352
         ],
         "yaxis": "y5"
        },
        {
         "legendgroup": "Llama2",
         "line": {
          "color": "rgb(231,138,195)",
          "dash": "longdash"
         },
         "marker": {
          "size": 10,
          "symbol": "circle"
         },
         "mode": "lines+markers",
         "name": "Llama2 - K=100",
         "showlegend": false,
         "type": "scatter",
         "x": [
          7000,
          13000
         ],
         "xaxis": "x5",
         "y": [
          56.83,
          64.268
         ],
         "yaxis": "y5"
        }
       ],
       "layout": {
        "annotations": [
         {
          "font": {
           "size": 16
          },
          "showarrow": false,
          "text": "SegFormer-B1",
          "x": 0.16,
          "xanchor": "center",
          "xref": "paper",
          "y": 1,
          "yanchor": "bottom",
          "yref": "paper"
         },
         {
          "font": {
           "size": 16
          },
          "showarrow": false,
          "text": "SegFormer-B2",
          "x": 0.5,
          "xanchor": "center",
          "xref": "paper",
          "y": 1,
          "yanchor": "bottom",
          "yref": "paper"
         },
         {
          "font": {
           "size": 16
          },
          "showarrow": false,
          "text": "SegFormer-B4",
          "x": 0.8400000000000001,
          "xanchor": "center",
          "xref": "paper",
          "y": 1,
          "yanchor": "bottom",
          "yref": "paper"
         },
         {
          "font": {
           "size": 16
          },
          "showarrow": false,
          "text": "ResNet34",
          "x": 0.16,
          "xanchor": "center",
          "xref": "paper",
          "y": 0.425,
          "yanchor": "bottom",
          "yref": "paper"
         },
         {
          "font": {
           "size": 16
          },
          "showarrow": false,
          "text": "ResNet101",
          "x": 0.5,
          "xanchor": "center",
          "xref": "paper",
          "y": 0.425,
          "yanchor": "bottom",
          "yref": "paper"
         }
        ],
        "height": 800,
        "legend": {
         "orientation": "h",
         "x": 0.25,
         "y": -0.1
        },
        "template": {
         "data": {
          "bar": [
           {
            "error_x": {
             "color": "#2a3f5f"
            },
            "error_y": {
             "color": "#2a3f5f"
            },
            "marker": {
             "line": {
              "color": "#E5ECF6",
              "width": 0.5
             },
             "pattern": {
              "fillmode": "overlay",
              "size": 10,
              "solidity": 0.2
             }
            },
            "type": "bar"
           }
          ],
          "barpolar": [
           {
            "marker": {
             "line": {
              "color": "#E5ECF6",
              "width": 0.5
             },
             "pattern": {
              "fillmode": "overlay",
              "size": 10,
              "solidity": 0.2
             }
            },
            "type": "barpolar"
           }
          ],
          "carpet": [
           {
            "aaxis": {
             "endlinecolor": "#2a3f5f",
             "gridcolor": "white",
             "linecolor": "white",
             "minorgridcolor": "white",
             "startlinecolor": "#2a3f5f"
            },
            "baxis": {
             "endlinecolor": "#2a3f5f",
             "gridcolor": "white",
             "linecolor": "white",
             "minorgridcolor": "white",
             "startlinecolor": "#2a3f5f"
            },
            "type": "carpet"
           }
          ],
          "choropleth": [
           {
            "colorbar": {
             "outlinewidth": 0,
             "ticks": ""
            },
            "type": "choropleth"
           }
          ],
          "contour": [
           {
            "colorbar": {
             "outlinewidth": 0,
             "ticks": ""
            },
            "colorscale": [
             [
              0,
              "#0d0887"
             ],
             [
              0.1111111111111111,
              "#46039f"
             ],
             [
              0.2222222222222222,
              "#7201a8"
             ],
             [
              0.3333333333333333,
              "#9c179e"
             ],
             [
              0.4444444444444444,
              "#bd3786"
             ],
             [
              0.5555555555555556,
              "#d8576b"
             ],
             [
              0.6666666666666666,
              "#ed7953"
             ],
             [
              0.7777777777777778,
              "#fb9f3a"
             ],
             [
              0.8888888888888888,
              "#fdca26"
             ],
             [
              1,
              "#f0f921"
             ]
            ],
            "type": "contour"
           }
          ],
          "contourcarpet": [
           {
            "colorbar": {
             "outlinewidth": 0,
             "ticks": ""
            },
            "type": "contourcarpet"
           }
          ],
          "heatmap": [
           {
            "colorbar": {
             "outlinewidth": 0,
             "ticks": ""
            },
            "colorscale": [
             [
              0,
              "#0d0887"
             ],
             [
              0.1111111111111111,
              "#46039f"
             ],
             [
              0.2222222222222222,
              "#7201a8"
             ],
             [
              0.3333333333333333,
              "#9c179e"
             ],
             [
              0.4444444444444444,
              "#bd3786"
             ],
             [
              0.5555555555555556,
              "#d8576b"
             ],
             [
              0.6666666666666666,
              "#ed7953"
             ],
             [
              0.7777777777777778,
              "#fb9f3a"
             ],
             [
              0.8888888888888888,
              "#fdca26"
             ],
             [
              1,
              "#f0f921"
             ]
            ],
            "type": "heatmap"
           }
          ],
          "heatmapgl": [
           {
            "colorbar": {
             "outlinewidth": 0,
             "ticks": ""
            },
            "colorscale": [
             [
              0,
              "#0d0887"
             ],
             [
              0.1111111111111111,
              "#46039f"
             ],
             [
              0.2222222222222222,
              "#7201a8"
             ],
             [
              0.3333333333333333,
              "#9c179e"
             ],
             [
              0.4444444444444444,
              "#bd3786"
             ],
             [
              0.5555555555555556,
              "#d8576b"
             ],
             [
              0.6666666666666666,
              "#ed7953"
             ],
             [
              0.7777777777777778,
              "#fb9f3a"
             ],
             [
              0.8888888888888888,
              "#fdca26"
             ],
             [
              1,
              "#f0f921"
             ]
            ],
            "type": "heatmapgl"
           }
          ],
          "histogram": [
           {
            "marker": {
             "pattern": {
              "fillmode": "overlay",
              "size": 10,
              "solidity": 0.2
             }
            },
            "type": "histogram"
           }
          ],
          "histogram2d": [
           {
            "colorbar": {
             "outlinewidth": 0,
             "ticks": ""
            },
            "colorscale": [
             [
              0,
              "#0d0887"
             ],
             [
              0.1111111111111111,
              "#46039f"
             ],
             [
              0.2222222222222222,
              "#7201a8"
             ],
             [
              0.3333333333333333,
              "#9c179e"
             ],
             [
              0.4444444444444444,
              "#bd3786"
             ],
             [
              0.5555555555555556,
              "#d8576b"
             ],
             [
              0.6666666666666666,
              "#ed7953"
             ],
             [
              0.7777777777777778,
              "#fb9f3a"
             ],
             [
              0.8888888888888888,
              "#fdca26"
             ],
             [
              1,
              "#f0f921"
             ]
            ],
            "type": "histogram2d"
           }
          ],
          "histogram2dcontour": [
           {
            "colorbar": {
             "outlinewidth": 0,
             "ticks": ""
            },
            "colorscale": [
             [
              0,
              "#0d0887"
             ],
             [
              0.1111111111111111,
              "#46039f"
             ],
             [
              0.2222222222222222,
              "#7201a8"
             ],
             [
              0.3333333333333333,
              "#9c179e"
             ],
             [
              0.4444444444444444,
              "#bd3786"
             ],
             [
              0.5555555555555556,
              "#d8576b"
             ],
             [
              0.6666666666666666,
              "#ed7953"
             ],
             [
              0.7777777777777778,
              "#fb9f3a"
             ],
             [
              0.8888888888888888,
              "#fdca26"
             ],
             [
              1,
              "#f0f921"
             ]
            ],
            "type": "histogram2dcontour"
           }
          ],
          "mesh3d": [
           {
            "colorbar": {
             "outlinewidth": 0,
             "ticks": ""
            },
            "type": "mesh3d"
           }
          ],
          "parcoords": [
           {
            "line": {
             "colorbar": {
              "outlinewidth": 0,
              "ticks": ""
             }
            },
            "type": "parcoords"
           }
          ],
          "pie": [
           {
            "automargin": true,
            "type": "pie"
           }
          ],
          "scatter": [
           {
            "fillpattern": {
             "fillmode": "overlay",
             "size": 10,
             "solidity": 0.2
            },
            "type": "scatter"
           }
          ],
          "scatter3d": [
           {
            "line": {
             "colorbar": {
              "outlinewidth": 0,
              "ticks": ""
             }
            },
            "marker": {
             "colorbar": {
              "outlinewidth": 0,
              "ticks": ""
             }
            },
            "type": "scatter3d"
           }
          ],
          "scattercarpet": [
           {
            "marker": {
             "colorbar": {
              "outlinewidth": 0,
              "ticks": ""
             }
            },
            "type": "scattercarpet"
           }
          ],
          "scattergeo": [
           {
            "marker": {
             "colorbar": {
              "outlinewidth": 0,
              "ticks": ""
             }
            },
            "type": "scattergeo"
           }
          ],
          "scattergl": [
           {
            "marker": {
             "colorbar": {
              "outlinewidth": 0,
              "ticks": ""
             }
            },
            "type": "scattergl"
           }
          ],
          "scattermapbox": [
           {
            "marker": {
             "colorbar": {
              "outlinewidth": 0,
              "ticks": ""
             }
            },
            "type": "scattermapbox"
           }
          ],
          "scatterpolar": [
           {
            "marker": {
             "colorbar": {
              "outlinewidth": 0,
              "ticks": ""
             }
            },
            "type": "scatterpolar"
           }
          ],
          "scatterpolargl": [
           {
            "marker": {
             "colorbar": {
              "outlinewidth": 0,
              "ticks": ""
             }
            },
            "type": "scatterpolargl"
           }
          ],
          "scatterternary": [
           {
            "marker": {
             "colorbar": {
              "outlinewidth": 0,
              "ticks": ""
             }
            },
            "type": "scatterternary"
           }
          ],
          "surface": [
           {
            "colorbar": {
             "outlinewidth": 0,
             "ticks": ""
            },
            "colorscale": [
             [
              0,
              "#0d0887"
             ],
             [
              0.1111111111111111,
              "#46039f"
             ],
             [
              0.2222222222222222,
              "#7201a8"
             ],
             [
              0.3333333333333333,
              "#9c179e"
             ],
             [
              0.4444444444444444,
              "#bd3786"
             ],
             [
              0.5555555555555556,
              "#d8576b"
             ],
             [
              0.6666666666666666,
              "#ed7953"
             ],
             [
              0.7777777777777778,
              "#fb9f3a"
             ],
             [
              0.8888888888888888,
              "#fdca26"
             ],
             [
              1,
              "#f0f921"
             ]
            ],
            "type": "surface"
           }
          ],
          "table": [
           {
            "cells": {
             "fill": {
              "color": "#EBF0F8"
             },
             "line": {
              "color": "white"
             }
            },
            "header": {
             "fill": {
              "color": "#C8D4E3"
             },
             "line": {
              "color": "white"
             }
            },
            "type": "table"
           }
          ]
         },
         "layout": {
          "annotationdefaults": {
           "arrowcolor": "#2a3f5f",
           "arrowhead": 0,
           "arrowwidth": 1
          },
          "autotypenumbers": "strict",
          "coloraxis": {
           "colorbar": {
            "outlinewidth": 0,
            "ticks": ""
           }
          },
          "colorscale": {
           "diverging": [
            [
             0,
             "#8e0152"
            ],
            [
             0.1,
             "#c51b7d"
            ],
            [
             0.2,
             "#de77ae"
            ],
            [
             0.3,
             "#f1b6da"
            ],
            [
             0.4,
             "#fde0ef"
            ],
            [
             0.5,
             "#f7f7f7"
            ],
            [
             0.6,
             "#e6f5d0"
            ],
            [
             0.7,
             "#b8e186"
            ],
            [
             0.8,
             "#7fbc41"
            ],
            [
             0.9,
             "#4d9221"
            ],
            [
             1,
             "#276419"
            ]
           ],
           "sequential": [
            [
             0,
             "#0d0887"
            ],
            [
             0.1111111111111111,
             "#46039f"
            ],
            [
             0.2222222222222222,
             "#7201a8"
            ],
            [
             0.3333333333333333,
             "#9c179e"
            ],
            [
             0.4444444444444444,
             "#bd3786"
            ],
            [
             0.5555555555555556,
             "#d8576b"
            ],
            [
             0.6666666666666666,
             "#ed7953"
            ],
            [
             0.7777777777777778,
             "#fb9f3a"
            ],
            [
             0.8888888888888888,
             "#fdca26"
            ],
            [
             1,
             "#f0f921"
            ]
           ],
           "sequentialminus": [
            [
             0,
             "#0d0887"
            ],
            [
             0.1111111111111111,
             "#46039f"
            ],
            [
             0.2222222222222222,
             "#7201a8"
            ],
            [
             0.3333333333333333,
             "#9c179e"
            ],
            [
             0.4444444444444444,
             "#bd3786"
            ],
            [
             0.5555555555555556,
             "#d8576b"
            ],
            [
             0.6666666666666666,
             "#ed7953"
            ],
            [
             0.7777777777777778,
             "#fb9f3a"
            ],
            [
             0.8888888888888888,
             "#fdca26"
            ],
            [
             1,
             "#f0f921"
            ]
           ]
          },
          "colorway": [
           "#636efa",
           "#EF553B",
           "#00cc96",
           "#ab63fa",
           "#FFA15A",
           "#19d3f3",
           "#FF6692",
           "#B6E880",
           "#FF97FF",
           "#FECB52"
          ],
          "font": {
           "color": "#2a3f5f"
          },
          "geo": {
           "bgcolor": "white",
           "lakecolor": "white",
           "landcolor": "#E5ECF6",
           "showlakes": true,
           "showland": true,
           "subunitcolor": "white"
          },
          "hoverlabel": {
           "align": "left"
          },
          "hovermode": "closest",
          "mapbox": {
           "style": "light"
          },
          "paper_bgcolor": "white",
          "plot_bgcolor": "#E5ECF6",
          "polar": {
           "angularaxis": {
            "gridcolor": "white",
            "linecolor": "white",
            "ticks": ""
           },
           "bgcolor": "#E5ECF6",
           "radialaxis": {
            "gridcolor": "white",
            "linecolor": "white",
            "ticks": ""
           }
          },
          "scene": {
           "xaxis": {
            "backgroundcolor": "#E5ECF6",
            "gridcolor": "white",
            "gridwidth": 2,
            "linecolor": "white",
            "showbackground": true,
            "ticks": "",
            "zerolinecolor": "white"
           },
           "yaxis": {
            "backgroundcolor": "#E5ECF6",
            "gridcolor": "white",
            "gridwidth": 2,
            "linecolor": "white",
            "showbackground": true,
            "ticks": "",
            "zerolinecolor": "white"
           },
           "zaxis": {
            "backgroundcolor": "#E5ECF6",
            "gridcolor": "white",
            "gridwidth": 2,
            "linecolor": "white",
            "showbackground": true,
            "ticks": "",
            "zerolinecolor": "white"
           }
          },
          "shapedefaults": {
           "line": {
            "color": "#2a3f5f"
           }
          },
          "ternary": {
           "aaxis": {
            "gridcolor": "white",
            "linecolor": "white",
            "ticks": ""
           },
           "baxis": {
            "gridcolor": "white",
            "linecolor": "white",
            "ticks": ""
           },
           "bgcolor": "#E5ECF6",
           "caxis": {
            "gridcolor": "white",
            "linecolor": "white",
            "ticks": ""
           }
          },
          "title": {
           "x": 0.05
          },
          "xaxis": {
           "automargin": true,
           "gridcolor": "white",
           "linecolor": "white",
           "ticks": "",
           "title": {
            "standoff": 15
           },
           "zerolinecolor": "white",
           "zerolinewidth": 2
          },
          "yaxis": {
           "automargin": true,
           "gridcolor": "white",
           "linecolor": "white",
           "ticks": "",
           "title": {
            "standoff": 15
           },
           "zerolinecolor": "white",
           "zerolinewidth": 2
          }
         }
        },
        "width": 1200,
        "xaxis": {
         "anchor": "y",
         "domain": [
          0,
          0.32
         ],
         "range": [
          0,
          5
         ],
         "title": {
          "text": "Millions of parameters"
         },
         "type": "log"
        },
        "xaxis2": {
         "anchor": "y2",
         "domain": [
          0.34,
          0.66
         ],
         "range": [
          0,
          5
         ],
         "title": {
          "text": "Millions of parameters"
         },
         "type": "log"
        },
        "xaxis3": {
         "anchor": "y3",
         "domain": [
          0.68,
          1
         ],
         "range": [
          0,
          5
         ],
         "title": {
          "text": "Millions of parameters"
         },
         "type": "log"
        },
        "xaxis4": {
         "anchor": "y4",
         "domain": [
          0,
          0.32
         ],
         "range": [
          0,
          5
         ],
         "title": {
          "text": "Millions of parameters"
         },
         "type": "log"
        },
        "xaxis5": {
         "anchor": "y5",
         "domain": [
          0.34,
          0.66
         ],
         "range": [
          0,
          5
         ],
         "title": {
          "text": "Millions of parameters"
         },
         "type": "log"
        },
        "xaxis6": {
         "anchor": "y6",
         "domain": [
          0.68,
          1
         ],
         "title": {
          "text": "Millions of parameters"
         }
        },
        "yaxis": {
         "anchor": "x",
         "domain": [
          0.575,
          1
         ],
         "range": [
          0,
          75
         ],
         "tickvals": [
          0,
          10,
          20,
          30,
          40,
          50,
          60,
          70
         ],
         "title": {
          "text": "Precision@K"
         }
        },
        "yaxis2": {
         "anchor": "x2",
         "domain": [
          0.575,
          1
         ],
         "matches": "y",
         "range": [
          0,
          75
         ],
         "showticklabels": false,
         "tickvals": [
          0,
          10,
          20,
          30,
          40,
          50,
          60,
          70
         ]
        },
        "yaxis3": {
         "anchor": "x3",
         "domain": [
          0.575,
          1
         ],
         "matches": "y",
         "range": [
          0,
          75
         ],
         "showticklabels": false,
         "tickvals": [
          0,
          10,
          20,
          30,
          40,
          50,
          60,
          70
         ]
        },
        "yaxis4": {
         "anchor": "x4",
         "domain": [
          0,
          0.425
         ],
         "range": [
          0,
          75
         ],
         "tickvals": [
          0,
          10,
          20,
          30,
          40,
          50,
          60,
          70
         ],
         "title": {
          "text": "Precision@K"
         }
        },
        "yaxis5": {
         "anchor": "x5",
         "domain": [
          0,
          0.425
         ],
         "matches": "y4",
         "range": [
          0,
          75
         ],
         "showticklabels": false,
         "tickvals": [
          0,
          10,
          20,
          30,
          40,
          50,
          60,
          70
         ]
        },
        "yaxis6": {
         "anchor": "x6",
         "domain": [
          0,
          0.425
         ],
         "matches": "y4",
         "showticklabels": false
        }
       }
      },
      "text/html": [
       "<div>                            <div id=\"ea1721a3-5cd6-44fc-b08b-b6e23b6409d6\" class=\"plotly-graph-div\" style=\"height:800px; width:1200px;\"></div>            <script type=\"text/javascript\">                require([\"plotly\"], function(Plotly) {                    window.PLOTLYENV=window.PLOTLYENV || {};                                    if (document.getElementById(\"ea1721a3-5cd6-44fc-b08b-b6e23b6409d6\")) {                    Plotly.newPlot(                        \"ea1721a3-5cd6-44fc-b08b-b6e23b6409d6\",                        [{\"legendgroup\":\"BERT\",\"line\":{\"color\":\"rgb(102,194,165)\",\"dash\":\"dot\"},\"marker\":{\"size\":10,\"symbol\":\"star\"},\"mode\":\"lines+markers\",\"name\":\"BERT - K=1\",\"showlegend\":true,\"x\":[4.4,11.3,29.1,41.7,110.0,340.0],\"y\":[1.9919999999999998,2.102,0.994,1.67,1.108,2.216],\"type\":\"scatter\",\"xaxis\":\"x\",\"yaxis\":\"y\"},{\"legendgroup\":\"GPT2\",\"line\":{\"color\":\"rgb(252,141,98)\",\"dash\":\"dot\"},\"marker\":{\"size\":10,\"symbol\":\"star\"},\"mode\":\"lines+markers\",\"name\":\"GPT2 - K=1\",\"showlegend\":true,\"x\":[117.0,762.0,1542.0],\"y\":[2.8899999999999997,1.56,1.56],\"type\":\"scatter\",\"xaxis\":\"x\",\"yaxis\":\"y\"},{\"legendgroup\":\"OPT\",\"line\":{\"color\":\"rgb(141,160,203)\",\"dash\":\"dot\"},\"marker\":{\"size\":10,\"symbol\":\"star\"},\"mode\":\"lines+markers\",\"name\":\"OPT - K=1\",\"showlegend\":true,\"x\":[125.0,6700.0,30000.0],\"y\":[1.228,2.8899999999999997,3.006],\"type\":\"scatter\",\"xaxis\":\"x\",\"yaxis\":\"y\"},{\"legendgroup\":\"Llama2\",\"line\":{\"color\":\"rgb(231,138,195)\",\"dash\":\"dot\"},\"marker\":{\"size\":10,\"symbol\":\"star\"},\"mode\":\"lines+markers\",\"name\":\"Llama2 - K=1\",\"showlegend\":true,\"x\":[7000.0,13000.0],\"y\":[4.562,2.444],\"type\":\"scatter\",\"xaxis\":\"x\",\"yaxis\":\"y\"},{\"legendgroup\":\"BERT\",\"line\":{\"color\":\"rgb(102,194,165)\",\"dash\":\"dashdot\"},\"marker\":{\"size\":10,\"symbol\":\"triangle-up\"},\"mode\":\"lines+markers\",\"name\":\"BERT - K=10\",\"showlegend\":true,\"x\":[4.4,11.3,29.1,41.7,110.0,340.0],\"y\":[11.76,21.291999999999998,24.648,26.416000000000004,31.410000000000004,30.727999999999998],\"type\":\"scatter\",\"xaxis\":\"x\",\"yaxis\":\"y\"},{\"legendgroup\":\"GPT2\",\"line\":{\"color\":\"rgb(252,141,98)\",\"dash\":\"dashdot\"},\"marker\":{\"size\":10,\"symbol\":\"triangle-up\"},\"mode\":\"lines+markers\",\"name\":\"GPT2 - K=10\",\"showlegend\":true,\"x\":[117.0,762.0,1542.0],\"y\":[10.66,30.631999999999998,30.977999999999998],\"type\":\"scatter\",\"xaxis\":\"x\",\"yaxis\":\"y\"},{\"legendgroup\":\"OPT\",\"line\":{\"color\":\"rgb(141,160,203)\",\"dash\":\"dashdot\"},\"marker\":{\"size\":10,\"symbol\":\"triangle-up\"},\"mode\":\"lines+markers\",\"name\":\"OPT - K=10\",\"showlegend\":true,\"x\":[125.0,6700.0,30000.0],\"y\":[28.53,35.739999999999995,38.19],\"type\":\"scatter\",\"xaxis\":\"x\",\"yaxis\":\"y\"},{\"legendgroup\":\"Llama2\",\"line\":{\"color\":\"rgb(231,138,195)\",\"dash\":\"dashdot\"},\"marker\":{\"size\":10,\"symbol\":\"triangle-up\"},\"mode\":\"lines+markers\",\"name\":\"Llama2 - K=10\",\"showlegend\":true,\"x\":[7000.0,13000.0],\"y\":[27.298000000000002,30.410000000000004],\"type\":\"scatter\",\"xaxis\":\"x\",\"yaxis\":\"y\"},{\"legendgroup\":\"BERT\",\"line\":{\"color\":\"rgb(102,194,165)\",\"dash\":\"longdash\"},\"marker\":{\"size\":10,\"symbol\":\"circle\"},\"mode\":\"lines+markers\",\"name\":\"BERT - K=100\",\"showlegend\":true,\"x\":[4.4,11.3,29.1,41.7,110.0,340.0],\"y\":[28.189999999999998,39.178,45.512,46.054,54.589999999999996,55.918000000000006],\"type\":\"scatter\",\"xaxis\":\"x\",\"yaxis\":\"y\"},{\"legendgroup\":\"GPT2\",\"line\":{\"color\":\"rgb(252,141,98)\",\"dash\":\"longdash\"},\"marker\":{\"size\":10,\"symbol\":\"circle\"},\"mode\":\"lines+markers\",\"name\":\"GPT2 - K=100\",\"showlegend\":true,\"x\":[117.0,762.0,1542.0],\"y\":[19.092000000000002,56.354,57.602],\"type\":\"scatter\",\"xaxis\":\"x\",\"yaxis\":\"y\"},{\"legendgroup\":\"OPT\",\"line\":{\"color\":\"rgb(141,160,203)\",\"dash\":\"longdash\"},\"marker\":{\"size\":10,\"symbol\":\"circle\"},\"mode\":\"lines+markers\",\"name\":\"OPT - K=100\",\"showlegend\":true,\"x\":[125.0,6700.0,30000.0],\"y\":[51.6,66.366,68.692],\"type\":\"scatter\",\"xaxis\":\"x\",\"yaxis\":\"y\"},{\"legendgroup\":\"Llama2\",\"line\":{\"color\":\"rgb(231,138,195)\",\"dash\":\"longdash\"},\"marker\":{\"size\":10,\"symbol\":\"circle\"},\"mode\":\"lines+markers\",\"name\":\"Llama2 - K=100\",\"showlegend\":true,\"x\":[7000.0,13000.0],\"y\":[48.176,54.598],\"type\":\"scatter\",\"xaxis\":\"x\",\"yaxis\":\"y\"},{\"legendgroup\":\"BERT\",\"line\":{\"color\":\"rgb(102,194,165)\",\"dash\":\"dot\"},\"marker\":{\"size\":10,\"symbol\":\"star\"},\"mode\":\"lines+markers\",\"name\":\"BERT - K=1\",\"showlegend\":false,\"x\":[4.4,11.3,29.1,41.7,110.0,340.0],\"y\":[1.9919999999999998,1.3279999999999998,0.442,0.884,1.3199999999999998,2.654],\"type\":\"scatter\",\"xaxis\":\"x2\",\"yaxis\":\"y2\"},{\"legendgroup\":\"GPT2\",\"line\":{\"color\":\"rgb(252,141,98)\",\"dash\":\"dot\"},\"marker\":{\"size\":10,\"symbol\":\"star\"},\"mode\":\"lines+markers\",\"name\":\"GPT2 - K=1\",\"showlegend\":false,\"x\":[117.0,762.0,1542.0],\"y\":[3.004,1.108,0.882],\"type\":\"scatter\",\"xaxis\":\"x2\",\"yaxis\":\"y2\"},{\"legendgroup\":\"OPT\",\"line\":{\"color\":\"rgb(141,160,203)\",\"dash\":\"dot\"},\"marker\":{\"size\":10,\"symbol\":\"star\"},\"mode\":\"lines+markers\",\"name\":\"OPT - K=1\",\"showlegend\":false,\"x\":[125.0,6700.0,30000.0],\"y\":[0.5519999999999999,1.884,2.32],\"type\":\"scatter\",\"xaxis\":\"x2\",\"yaxis\":\"y2\"},{\"legendgroup\":\"Llama2\",\"line\":{\"color\":\"rgb(231,138,195)\",\"dash\":\"dot\"},\"marker\":{\"size\":10,\"symbol\":\"star\"},\"mode\":\"lines+markers\",\"name\":\"Llama2 - K=1\",\"showlegend\":false,\"x\":[7000.0,13000.0],\"y\":[3.0,1.9939999999999998],\"type\":\"scatter\",\"xaxis\":\"x2\",\"yaxis\":\"y2\"},{\"legendgroup\":\"BERT\",\"line\":{\"color\":\"rgb(102,194,165)\",\"dash\":\"dashdot\"},\"marker\":{\"size\":10,\"symbol\":\"triangle-up\"},\"mode\":\"lines+markers\",\"name\":\"BERT - K=10\",\"showlegend\":false,\"x\":[4.4,11.3,29.1,41.7,110.0,340.0],\"y\":[11.76,21.532,24.406,26.518,31.28,32.168],\"type\":\"scatter\",\"xaxis\":\"x2\",\"yaxis\":\"y2\"},{\"legendgroup\":\"GPT2\",\"line\":{\"color\":\"rgb(252,141,98)\",\"dash\":\"dashdot\"},\"marker\":{\"size\":10,\"symbol\":\"triangle-up\"},\"mode\":\"lines+markers\",\"name\":\"GPT2 - K=10\",\"showlegend\":false,\"x\":[117.0,762.0,1542.0],\"y\":[10.562000000000001,31.946000000000005,31.613999999999997],\"type\":\"scatter\",\"xaxis\":\"x2\",\"yaxis\":\"y2\"},{\"legendgroup\":\"OPT\",\"line\":{\"color\":\"rgb(141,160,203)\",\"dash\":\"dashdot\"},\"marker\":{\"size\":10,\"symbol\":\"triangle-up\"},\"mode\":\"lines+markers\",\"name\":\"OPT - K=10\",\"showlegend\":false,\"x\":[125.0,6700.0,30000.0],\"y\":[28.644,37.506,38.848],\"type\":\"scatter\",\"xaxis\":\"x2\",\"yaxis\":\"y2\"},{\"legendgroup\":\"Llama2\",\"line\":{\"color\":\"rgb(231,138,195)\",\"dash\":\"dashdot\"},\"marker\":{\"size\":10,\"symbol\":\"triangle-up\"},\"mode\":\"lines+markers\",\"name\":\"Llama2 - K=10\",\"showlegend\":false,\"x\":[7000.0,13000.0],\"y\":[28.427999999999997,32.302],\"type\":\"scatter\",\"xaxis\":\"x2\",\"yaxis\":\"y2\"},{\"legendgroup\":\"BERT\",\"line\":{\"color\":\"rgb(102,194,165)\",\"dash\":\"longdash\"},\"marker\":{\"size\":10,\"symbol\":\"circle\"},\"mode\":\"lines+markers\",\"name\":\"BERT - K=100\",\"showlegend\":false,\"x\":[4.4,11.3,29.1,41.7,110.0,340.0],\"y\":[27.524,39.29,44.507999999999996,45.730000000000004,54.714,56.48],\"type\":\"scatter\",\"xaxis\":\"x2\",\"yaxis\":\"y2\"},{\"legendgroup\":\"GPT2\",\"line\":{\"color\":\"rgb(252,141,98)\",\"dash\":\"longdash\"},\"marker\":{\"size\":10,\"symbol\":\"circle\"},\"mode\":\"lines+markers\",\"name\":\"GPT2 - K=100\",\"showlegend\":false,\"x\":[117.0,762.0,1542.0],\"y\":[22.436,55.372,57.26800000000001],\"type\":\"scatter\",\"xaxis\":\"x2\",\"yaxis\":\"y2\"},{\"legendgroup\":\"OPT\",\"line\":{\"color\":\"rgb(141,160,203)\",\"dash\":\"longdash\"},\"marker\":{\"size\":10,\"symbol\":\"circle\"},\"mode\":\"lines+markers\",\"name\":\"OPT - K=100\",\"showlegend\":false,\"x\":[125.0,6700.0,30000.0],\"y\":[52.272000000000006,66.59,68.694],\"type\":\"scatter\",\"xaxis\":\"x2\",\"yaxis\":\"y2\"},{\"legendgroup\":\"Llama2\",\"line\":{\"color\":\"rgb(231,138,195)\",\"dash\":\"longdash\"},\"marker\":{\"size\":10,\"symbol\":\"circle\"},\"mode\":\"lines+markers\",\"name\":\"Llama2 - K=100\",\"showlegend\":false,\"x\":[7000.0,13000.0],\"y\":[48.194,56.041999999999994],\"type\":\"scatter\",\"xaxis\":\"x2\",\"yaxis\":\"y2\"},{\"legendgroup\":\"BERT\",\"line\":{\"color\":\"rgb(102,194,165)\",\"dash\":\"dot\"},\"marker\":{\"size\":10,\"symbol\":\"star\"},\"mode\":\"lines+markers\",\"name\":\"BERT - K=1\",\"showlegend\":false,\"x\":[4.4,11.3,29.1,41.7,110.0,340.0],\"y\":[1.222,1.1099999999999999,0.662,0.44000000000000006,1.766,1.7739999999999998],\"type\":\"scatter\",\"xaxis\":\"x3\",\"yaxis\":\"y3\"},{\"legendgroup\":\"GPT2\",\"line\":{\"color\":\"rgb(252,141,98)\",\"dash\":\"dot\"},\"marker\":{\"size\":10,\"symbol\":\"star\"},\"mode\":\"lines+markers\",\"name\":\"GPT2 - K=1\",\"showlegend\":false,\"x\":[117.0,762.0,1542.0],\"y\":[3.44,0.772,1.214],\"type\":\"scatter\",\"xaxis\":\"x3\",\"yaxis\":\"y3\"},{\"legendgroup\":\"OPT\",\"line\":{\"color\":\"rgb(141,160,203)\",\"dash\":\"dot\"},\"marker\":{\"size\":10,\"symbol\":\"star\"},\"mode\":\"lines+markers\",\"name\":\"OPT - K=1\",\"showlegend\":false,\"x\":[125.0,6700.0,30000.0],\"y\":[0.6620000000000001,1.782,1.436],\"type\":\"scatter\",\"xaxis\":\"x3\",\"yaxis\":\"y3\"},{\"legendgroup\":\"Llama2\",\"line\":{\"color\":\"rgb(231,138,195)\",\"dash\":\"dot\"},\"marker\":{\"size\":10,\"symbol\":\"star\"},\"mode\":\"lines+markers\",\"name\":\"Llama2 - K=1\",\"showlegend\":false,\"x\":[7000.0,13000.0],\"y\":[3.668,1.218],\"type\":\"scatter\",\"xaxis\":\"x3\",\"yaxis\":\"y3\"},{\"legendgroup\":\"BERT\",\"line\":{\"color\":\"rgb(102,194,165)\",\"dash\":\"dashdot\"},\"marker\":{\"size\":10,\"symbol\":\"triangle-up\"},\"mode\":\"lines+markers\",\"name\":\"BERT - K=10\",\"showlegend\":false,\"x\":[4.4,11.3,29.1,41.7,110.0,340.0],\"y\":[12.544,21.86,23.966,26.964,31.286,31.844],\"type\":\"scatter\",\"xaxis\":\"x3\",\"yaxis\":\"y3\"},{\"legendgroup\":\"GPT2\",\"line\":{\"color\":\"rgb(252,141,98)\",\"dash\":\"dashdot\"},\"marker\":{\"size\":10,\"symbol\":\"triangle-up\"},\"mode\":\"lines+markers\",\"name\":\"GPT2 - K=10\",\"showlegend\":false,\"x\":[117.0,762.0,1542.0],\"y\":[12.766,29.413999999999998,31.07],\"type\":\"scatter\",\"xaxis\":\"x3\",\"yaxis\":\"y3\"},{\"legendgroup\":\"OPT\",\"line\":{\"color\":\"rgb(141,160,203)\",\"dash\":\"dashdot\"},\"marker\":{\"size\":10,\"symbol\":\"triangle-up\"},\"mode\":\"lines+markers\",\"name\":\"OPT - K=10\",\"showlegend\":false,\"x\":[125.0,6700.0,30000.0],\"y\":[28.206,35.974000000000004,35.756],\"type\":\"scatter\",\"xaxis\":\"x3\",\"yaxis\":\"y3\"},{\"legendgroup\":\"Llama2\",\"line\":{\"color\":\"rgb(231,138,195)\",\"dash\":\"dashdot\"},\"marker\":{\"size\":10,\"symbol\":\"triangle-up\"},\"mode\":\"lines+markers\",\"name\":\"Llama2 - K=10\",\"showlegend\":false,\"x\":[7000.0,13000.0],\"y\":[27.088,29.076],\"type\":\"scatter\",\"xaxis\":\"x3\",\"yaxis\":\"y3\"},{\"legendgroup\":\"BERT\",\"line\":{\"color\":\"rgb(102,194,165)\",\"dash\":\"longdash\"},\"marker\":{\"size\":10,\"symbol\":\"circle\"},\"mode\":\"lines+markers\",\"name\":\"BERT - K=100\",\"showlegend\":false,\"x\":[4.4,11.3,29.1,41.7,110.0,340.0],\"y\":[25.984,37.086,43.292,45.062,52.696000000000005,53.272000000000006],\"type\":\"scatter\",\"xaxis\":\"x3\",\"yaxis\":\"y3\"},{\"legendgroup\":\"GPT2\",\"line\":{\"color\":\"rgb(252,141,98)\",\"dash\":\"longdash\"},\"marker\":{\"size\":10,\"symbol\":\"circle\"},\"mode\":\"lines+markers\",\"name\":\"GPT2 - K=100\",\"showlegend\":false,\"x\":[117.0,762.0,1542.0],\"y\":[22.770000000000003,49.382,52.95],\"type\":\"scatter\",\"xaxis\":\"x3\",\"yaxis\":\"y3\"},{\"legendgroup\":\"OPT\",\"line\":{\"color\":\"rgb(141,160,203)\",\"dash\":\"longdash\"},\"marker\":{\"size\":10,\"symbol\":\"circle\"},\"mode\":\"lines+markers\",\"name\":\"OPT - K=100\",\"showlegend\":false,\"x\":[125.0,6700.0,30000.0],\"y\":[47.510000000000005,61.372,61.815999999999995],\"type\":\"scatter\",\"xaxis\":\"x3\",\"yaxis\":\"y3\"},{\"legendgroup\":\"Llama2\",\"line\":{\"color\":\"rgb(231,138,195)\",\"dash\":\"longdash\"},\"marker\":{\"size\":10,\"symbol\":\"circle\"},\"mode\":\"lines+markers\",\"name\":\"Llama2 - K=100\",\"showlegend\":false,\"x\":[7000.0,13000.0],\"y\":[44.858,51.29],\"type\":\"scatter\",\"xaxis\":\"x3\",\"yaxis\":\"y3\"},{\"legendgroup\":\"BERT\",\"line\":{\"color\":\"rgb(102,194,165)\",\"dash\":\"dot\"},\"marker\":{\"size\":10,\"symbol\":\"star\"},\"mode\":\"lines+markers\",\"name\":\"BERT - K=1\",\"showlegend\":false,\"x\":[4.4,11.3,29.1,41.7,110.0,340.0],\"y\":[1.332,1.326,1.222,0.8859999999999999,2.106,2.668],\"type\":\"scatter\",\"xaxis\":\"x4\",\"yaxis\":\"y4\"},{\"legendgroup\":\"GPT2\",\"line\":{\"color\":\"rgb(252,141,98)\",\"dash\":\"dot\"},\"marker\":{\"size\":10,\"symbol\":\"star\"},\"mode\":\"lines+markers\",\"name\":\"GPT2 - K=1\",\"showlegend\":false,\"x\":[117.0,762.0,1542.0],\"y\":[2.1119999999999997,1.2280000000000002,1.226],\"type\":\"scatter\",\"xaxis\":\"x4\",\"yaxis\":\"y4\"},{\"legendgroup\":\"OPT\",\"line\":{\"color\":\"rgb(141,160,203)\",\"dash\":\"dot\"},\"marker\":{\"size\":10,\"symbol\":\"star\"},\"mode\":\"lines+markers\",\"name\":\"OPT - K=1\",\"showlegend\":false,\"x\":[125.0,6700.0,30000.0],\"y\":[1.6740000000000002,3.122,2.7800000000000002],\"type\":\"scatter\",\"xaxis\":\"x4\",\"yaxis\":\"y4\"},{\"legendgroup\":\"Llama2\",\"line\":{\"color\":\"rgb(231,138,195)\",\"dash\":\"dot\"},\"marker\":{\"size\":10,\"symbol\":\"star\"},\"mode\":\"lines+markers\",\"name\":\"Llama2 - K=1\",\"showlegend\":false,\"x\":[7000.0,13000.0],\"y\":[2.788,2.6719999999999997],\"type\":\"scatter\",\"xaxis\":\"x4\",\"yaxis\":\"y4\"},{\"legendgroup\":\"BERT\",\"line\":{\"color\":\"rgb(102,194,165)\",\"dash\":\"dashdot\"},\"marker\":{\"size\":10,\"symbol\":\"triangle-up\"},\"mode\":\"lines+markers\",\"name\":\"BERT - K=10\",\"showlegend\":false,\"x\":[4.4,11.3,29.1,41.7,110.0,340.0],\"y\":[11.646,21.31,25.316,27.958000000000006,33.946000000000005,33.278],\"type\":\"scatter\",\"xaxis\":\"x4\",\"yaxis\":\"y4\"},{\"legendgroup\":\"GPT2\",\"line\":{\"color\":\"rgb(252,141,98)\",\"dash\":\"dashdot\"},\"marker\":{\"size\":10,\"symbol\":\"triangle-up\"},\"mode\":\"lines+markers\",\"name\":\"GPT2 - K=10\",\"showlegend\":false,\"x\":[117.0,762.0,1542.0],\"y\":[12.452000000000002,32.396,34.28],\"type\":\"scatter\",\"xaxis\":\"x4\",\"yaxis\":\"y4\"},{\"legendgroup\":\"OPT\",\"line\":{\"color\":\"rgb(141,160,203)\",\"dash\":\"dashdot\"},\"marker\":{\"size\":10,\"symbol\":\"triangle-up\"},\"mode\":\"lines+markers\",\"name\":\"OPT - K=10\",\"showlegend\":false,\"x\":[125.0,6700.0,30000.0],\"y\":[30.089999999999996,40.746,40.519999999999996],\"type\":\"scatter\",\"xaxis\":\"x4\",\"yaxis\":\"y4\"},{\"legendgroup\":\"Llama2\",\"line\":{\"color\":\"rgb(231,138,195)\",\"dash\":\"dashdot\"},\"marker\":{\"size\":10,\"symbol\":\"triangle-up\"},\"mode\":\"lines+markers\",\"name\":\"Llama2 - K=10\",\"showlegend\":false,\"x\":[7000.0,13000.0],\"y\":[29.875999999999998,33.292],\"type\":\"scatter\",\"xaxis\":\"x4\",\"yaxis\":\"y4\"},{\"legendgroup\":\"BERT\",\"line\":{\"color\":\"rgb(102,194,165)\",\"dash\":\"longdash\"},\"marker\":{\"size\":10,\"symbol\":\"circle\"},\"mode\":\"lines+markers\",\"name\":\"BERT - K=100\",\"showlegend\":false,\"x\":[4.4,11.3,29.1,41.7,110.0,340.0],\"y\":[27.986,39.53,45.495999999999995,47.946,55.19199999999999,58.926],\"type\":\"scatter\",\"xaxis\":\"x4\",\"yaxis\":\"y4\"},{\"legendgroup\":\"GPT2\",\"line\":{\"color\":\"rgb(252,141,98)\",\"dash\":\"longdash\"},\"marker\":{\"size\":10,\"symbol\":\"circle\"},\"mode\":\"lines+markers\",\"name\":\"GPT2 - K=100\",\"showlegend\":false,\"x\":[117.0,762.0,1542.0],\"y\":[22.326,55.802,55.717999999999996],\"type\":\"scatter\",\"xaxis\":\"x4\",\"yaxis\":\"y4\"},{\"legendgroup\":\"OPT\",\"line\":{\"color\":\"rgb(141,160,203)\",\"dash\":\"longdash\"},\"marker\":{\"size\":10,\"symbol\":\"circle\"},\"mode\":\"lines+markers\",\"name\":\"OPT - K=100\",\"showlegend\":false,\"x\":[125.0,6700.0,30000.0],\"y\":[51.598,65.7,69.45599999999999],\"type\":\"scatter\",\"xaxis\":\"x4\",\"yaxis\":\"y4\"},{\"legendgroup\":\"Llama2\",\"line\":{\"color\":\"rgb(231,138,195)\",\"dash\":\"longdash\"},\"marker\":{\"size\":10,\"symbol\":\"circle\"},\"mode\":\"lines+markers\",\"name\":\"Llama2 - K=100\",\"showlegend\":false,\"x\":[7000.0,13000.0],\"y\":[47.512,55.048],\"type\":\"scatter\",\"xaxis\":\"x4\",\"yaxis\":\"y4\"},{\"legendgroup\":\"BERT\",\"line\":{\"color\":\"rgb(102,194,165)\",\"dash\":\"dot\"},\"marker\":{\"size\":10,\"symbol\":\"star\"},\"mode\":\"lines+markers\",\"name\":\"BERT - K=1\",\"showlegend\":false,\"x\":[4.4,11.3,29.1,41.7,110.0,340.0],\"y\":[1.222,0.662,0.774,1.106,1.5539999999999998,2.44],\"type\":\"scatter\",\"xaxis\":\"x5\",\"yaxis\":\"y5\"},{\"legendgroup\":\"GPT2\",\"line\":{\"color\":\"rgb(252,141,98)\",\"dash\":\"dot\"},\"marker\":{\"size\":10,\"symbol\":\"star\"},\"mode\":\"lines+markers\",\"name\":\"GPT2 - K=1\",\"showlegend\":false,\"x\":[117.0,762.0,1542.0],\"y\":[3.3299999999999996,0.892,1.112],\"type\":\"scatter\",\"xaxis\":\"x5\",\"yaxis\":\"y5\"},{\"legendgroup\":\"OPT\",\"line\":{\"color\":\"rgb(141,160,203)\",\"dash\":\"dot\"},\"marker\":{\"size\":10,\"symbol\":\"star\"},\"mode\":\"lines+markers\",\"name\":\"OPT - K=1\",\"showlegend\":false,\"x\":[125.0,6700.0,30000.0],\"y\":[1.448,1.558,1.562],\"type\":\"scatter\",\"xaxis\":\"x5\",\"yaxis\":\"y5\"},{\"legendgroup\":\"Llama2\",\"line\":{\"color\":\"rgb(231,138,195)\",\"dash\":\"dot\"},\"marker\":{\"size\":10,\"symbol\":\"star\"},\"mode\":\"lines+markers\",\"name\":\"Llama2 - K=1\",\"showlegend\":false,\"x\":[7000.0,13000.0],\"y\":[2.1119999999999997,1.448],\"type\":\"scatter\",\"xaxis\":\"x5\",\"yaxis\":\"y5\"},{\"legendgroup\":\"BERT\",\"line\":{\"color\":\"rgb(102,194,165)\",\"dash\":\"dashdot\"},\"marker\":{\"size\":10,\"symbol\":\"triangle-up\"},\"mode\":\"lines+markers\",\"name\":\"BERT - K=10\",\"showlegend\":false,\"x\":[4.4,11.3,29.1,41.7,110.0,340.0],\"y\":[12.318000000000001,21.424,24.204,27.845999999999997,35.275999999999996,34.82000000000001],\"type\":\"scatter\",\"xaxis\":\"x5\",\"yaxis\":\"y5\"},{\"legendgroup\":\"GPT2\",\"line\":{\"color\":\"rgb(252,141,98)\",\"dash\":\"dashdot\"},\"marker\":{\"size\":10,\"symbol\":\"triangle-up\"},\"mode\":\"lines+markers\",\"name\":\"GPT2 - K=10\",\"showlegend\":false,\"x\":[117.0,762.0,1542.0],\"y\":[12.564,33.612,34.95],\"type\":\"scatter\",\"xaxis\":\"x5\",\"yaxis\":\"y5\"},{\"legendgroup\":\"OPT\",\"line\":{\"color\":\"rgb(141,160,203)\",\"dash\":\"dashdot\"},\"marker\":{\"size\":10,\"symbol\":\"triangle-up\"},\"mode\":\"lines+markers\",\"name\":\"OPT - K=10\",\"showlegend\":false,\"x\":[125.0,6700.0,30000.0],\"y\":[30.992,42.832,43.065999999999995],\"type\":\"scatter\",\"xaxis\":\"x5\",\"yaxis\":\"y5\"},{\"legendgroup\":\"Llama2\",\"line\":{\"color\":\"rgb(231,138,195)\",\"dash\":\"dashdot\"},\"marker\":{\"size\":10,\"symbol\":\"triangle-up\"},\"mode\":\"lines+markers\",\"name\":\"Llama2 - K=10\",\"showlegend\":false,\"x\":[7000.0,13000.0],\"y\":[35.194,38.182],\"type\":\"scatter\",\"xaxis\":\"x5\",\"yaxis\":\"y5\"},{\"legendgroup\":\"BERT\",\"line\":{\"color\":\"rgb(102,194,165)\",\"dash\":\"longdash\"},\"marker\":{\"size\":10,\"symbol\":\"circle\"},\"mode\":\"lines+markers\",\"name\":\"BERT - K=100\",\"showlegend\":false,\"x\":[4.4,11.3,29.1,41.7,110.0,340.0],\"y\":[27.532,39.739999999999995,45.058,48.838,57.164,59.70799999999999],\"type\":\"scatter\",\"xaxis\":\"x5\",\"yaxis\":\"y5\"},{\"legendgroup\":\"GPT2\",\"line\":{\"color\":\"rgb(252,141,98)\",\"dash\":\"longdash\"},\"marker\":{\"size\":10,\"symbol\":\"circle\"},\"mode\":\"lines+markers\",\"name\":\"GPT2 - K=100\",\"showlegend\":false,\"x\":[117.0,762.0,1542.0],\"y\":[22.326,58.918000000000006,59.916],\"type\":\"scatter\",\"xaxis\":\"x5\",\"yaxis\":\"y5\"},{\"legendgroup\":\"OPT\",\"line\":{\"color\":\"rgb(141,160,203)\",\"dash\":\"longdash\"},\"marker\":{\"size\":10,\"symbol\":\"circle\"},\"mode\":\"lines+markers\",\"name\":\"OPT - K=100\",\"showlegend\":false,\"x\":[125.0,6700.0,30000.0],\"y\":[53.160000000000004,71.354,73.352],\"type\":\"scatter\",\"xaxis\":\"x5\",\"yaxis\":\"y5\"},{\"legendgroup\":\"Llama2\",\"line\":{\"color\":\"rgb(231,138,195)\",\"dash\":\"longdash\"},\"marker\":{\"size\":10,\"symbol\":\"circle\"},\"mode\":\"lines+markers\",\"name\":\"Llama2 - K=100\",\"showlegend\":false,\"x\":[7000.0,13000.0],\"y\":[56.83,64.268],\"type\":\"scatter\",\"xaxis\":\"x5\",\"yaxis\":\"y5\"}],                        {\"template\":{\"data\":{\"histogram2dcontour\":[{\"type\":\"histogram2dcontour\",\"colorbar\":{\"outlinewidth\":0,\"ticks\":\"\"},\"colorscale\":[[0.0,\"#0d0887\"],[0.1111111111111111,\"#46039f\"],[0.2222222222222222,\"#7201a8\"],[0.3333333333333333,\"#9c179e\"],[0.4444444444444444,\"#bd3786\"],[0.5555555555555556,\"#d8576b\"],[0.6666666666666666,\"#ed7953\"],[0.7777777777777778,\"#fb9f3a\"],[0.8888888888888888,\"#fdca26\"],[1.0,\"#f0f921\"]]}],\"choropleth\":[{\"type\":\"choropleth\",\"colorbar\":{\"outlinewidth\":0,\"ticks\":\"\"}}],\"histogram2d\":[{\"type\":\"histogram2d\",\"colorbar\":{\"outlinewidth\":0,\"ticks\":\"\"},\"colorscale\":[[0.0,\"#0d0887\"],[0.1111111111111111,\"#46039f\"],[0.2222222222222222,\"#7201a8\"],[0.3333333333333333,\"#9c179e\"],[0.4444444444444444,\"#bd3786\"],[0.5555555555555556,\"#d8576b\"],[0.6666666666666666,\"#ed7953\"],[0.7777777777777778,\"#fb9f3a\"],[0.8888888888888888,\"#fdca26\"],[1.0,\"#f0f921\"]]}],\"heatmap\":[{\"type\":\"heatmap\",\"colorbar\":{\"outlinewidth\":0,\"ticks\":\"\"},\"colorscale\":[[0.0,\"#0d0887\"],[0.1111111111111111,\"#46039f\"],[0.2222222222222222,\"#7201a8\"],[0.3333333333333333,\"#9c179e\"],[0.4444444444444444,\"#bd3786\"],[0.5555555555555556,\"#d8576b\"],[0.6666666666666666,\"#ed7953\"],[0.7777777777777778,\"#fb9f3a\"],[0.8888888888888888,\"#fdca26\"],[1.0,\"#f0f921\"]]}],\"heatmapgl\":[{\"type\":\"heatmapgl\",\"colorbar\":{\"outlinewidth\":0,\"ticks\":\"\"},\"colorscale\":[[0.0,\"#0d0887\"],[0.1111111111111111,\"#46039f\"],[0.2222222222222222,\"#7201a8\"],[0.3333333333333333,\"#9c179e\"],[0.4444444444444444,\"#bd3786\"],[0.5555555555555556,\"#d8576b\"],[0.6666666666666666,\"#ed7953\"],[0.7777777777777778,\"#fb9f3a\"],[0.8888888888888888,\"#fdca26\"],[1.0,\"#f0f921\"]]}],\"contourcarpet\":[{\"type\":\"contourcarpet\",\"colorbar\":{\"outlinewidth\":0,\"ticks\":\"\"}}],\"contour\":[{\"type\":\"contour\",\"colorbar\":{\"outlinewidth\":0,\"ticks\":\"\"},\"colorscale\":[[0.0,\"#0d0887\"],[0.1111111111111111,\"#46039f\"],[0.2222222222222222,\"#7201a8\"],[0.3333333333333333,\"#9c179e\"],[0.4444444444444444,\"#bd3786\"],[0.5555555555555556,\"#d8576b\"],[0.6666666666666666,\"#ed7953\"],[0.7777777777777778,\"#fb9f3a\"],[0.8888888888888888,\"#fdca26\"],[1.0,\"#f0f921\"]]}],\"surface\":[{\"type\":\"surface\",\"colorbar\":{\"outlinewidth\":0,\"ticks\":\"\"},\"colorscale\":[[0.0,\"#0d0887\"],[0.1111111111111111,\"#46039f\"],[0.2222222222222222,\"#7201a8\"],[0.3333333333333333,\"#9c179e\"],[0.4444444444444444,\"#bd3786\"],[0.5555555555555556,\"#d8576b\"],[0.6666666666666666,\"#ed7953\"],[0.7777777777777778,\"#fb9f3a\"],[0.8888888888888888,\"#fdca26\"],[1.0,\"#f0f921\"]]}],\"mesh3d\":[{\"type\":\"mesh3d\",\"colorbar\":{\"outlinewidth\":0,\"ticks\":\"\"}}],\"scatter\":[{\"fillpattern\":{\"fillmode\":\"overlay\",\"size\":10,\"solidity\":0.2},\"type\":\"scatter\"}],\"parcoords\":[{\"type\":\"parcoords\",\"line\":{\"colorbar\":{\"outlinewidth\":0,\"ticks\":\"\"}}}],\"scatterpolargl\":[{\"type\":\"scatterpolargl\",\"marker\":{\"colorbar\":{\"outlinewidth\":0,\"ticks\":\"\"}}}],\"bar\":[{\"error_x\":{\"color\":\"#2a3f5f\"},\"error_y\":{\"color\":\"#2a3f5f\"},\"marker\":{\"line\":{\"color\":\"#E5ECF6\",\"width\":0.5},\"pattern\":{\"fillmode\":\"overlay\",\"size\":10,\"solidity\":0.2}},\"type\":\"bar\"}],\"scattergeo\":[{\"type\":\"scattergeo\",\"marker\":{\"colorbar\":{\"outlinewidth\":0,\"ticks\":\"\"}}}],\"scatterpolar\":[{\"type\":\"scatterpolar\",\"marker\":{\"colorbar\":{\"outlinewidth\":0,\"ticks\":\"\"}}}],\"histogram\":[{\"marker\":{\"pattern\":{\"fillmode\":\"overlay\",\"size\":10,\"solidity\":0.2}},\"type\":\"histogram\"}],\"scattergl\":[{\"type\":\"scattergl\",\"marker\":{\"colorbar\":{\"outlinewidth\":0,\"ticks\":\"\"}}}],\"scatter3d\":[{\"type\":\"scatter3d\",\"line\":{\"colorbar\":{\"outlinewidth\":0,\"ticks\":\"\"}},\"marker\":{\"colorbar\":{\"outlinewidth\":0,\"ticks\":\"\"}}}],\"scattermapbox\":[{\"type\":\"scattermapbox\",\"marker\":{\"colorbar\":{\"outlinewidth\":0,\"ticks\":\"\"}}}],\"scatterternary\":[{\"type\":\"scatterternary\",\"marker\":{\"colorbar\":{\"outlinewidth\":0,\"ticks\":\"\"}}}],\"scattercarpet\":[{\"type\":\"scattercarpet\",\"marker\":{\"colorbar\":{\"outlinewidth\":0,\"ticks\":\"\"}}}],\"carpet\":[{\"aaxis\":{\"endlinecolor\":\"#2a3f5f\",\"gridcolor\":\"white\",\"linecolor\":\"white\",\"minorgridcolor\":\"white\",\"startlinecolor\":\"#2a3f5f\"},\"baxis\":{\"endlinecolor\":\"#2a3f5f\",\"gridcolor\":\"white\",\"linecolor\":\"white\",\"minorgridcolor\":\"white\",\"startlinecolor\":\"#2a3f5f\"},\"type\":\"carpet\"}],\"table\":[{\"cells\":{\"fill\":{\"color\":\"#EBF0F8\"},\"line\":{\"color\":\"white\"}},\"header\":{\"fill\":{\"color\":\"#C8D4E3\"},\"line\":{\"color\":\"white\"}},\"type\":\"table\"}],\"barpolar\":[{\"marker\":{\"line\":{\"color\":\"#E5ECF6\",\"width\":0.5},\"pattern\":{\"fillmode\":\"overlay\",\"size\":10,\"solidity\":0.2}},\"type\":\"barpolar\"}],\"pie\":[{\"automargin\":true,\"type\":\"pie\"}]},\"layout\":{\"autotypenumbers\":\"strict\",\"colorway\":[\"#636efa\",\"#EF553B\",\"#00cc96\",\"#ab63fa\",\"#FFA15A\",\"#19d3f3\",\"#FF6692\",\"#B6E880\",\"#FF97FF\",\"#FECB52\"],\"font\":{\"color\":\"#2a3f5f\"},\"hovermode\":\"closest\",\"hoverlabel\":{\"align\":\"left\"},\"paper_bgcolor\":\"white\",\"plot_bgcolor\":\"#E5ECF6\",\"polar\":{\"bgcolor\":\"#E5ECF6\",\"angularaxis\":{\"gridcolor\":\"white\",\"linecolor\":\"white\",\"ticks\":\"\"},\"radialaxis\":{\"gridcolor\":\"white\",\"linecolor\":\"white\",\"ticks\":\"\"}},\"ternary\":{\"bgcolor\":\"#E5ECF6\",\"aaxis\":{\"gridcolor\":\"white\",\"linecolor\":\"white\",\"ticks\":\"\"},\"baxis\":{\"gridcolor\":\"white\",\"linecolor\":\"white\",\"ticks\":\"\"},\"caxis\":{\"gridcolor\":\"white\",\"linecolor\":\"white\",\"ticks\":\"\"}},\"coloraxis\":{\"colorbar\":{\"outlinewidth\":0,\"ticks\":\"\"}},\"colorscale\":{\"sequential\":[[0.0,\"#0d0887\"],[0.1111111111111111,\"#46039f\"],[0.2222222222222222,\"#7201a8\"],[0.3333333333333333,\"#9c179e\"],[0.4444444444444444,\"#bd3786\"],[0.5555555555555556,\"#d8576b\"],[0.6666666666666666,\"#ed7953\"],[0.7777777777777778,\"#fb9f3a\"],[0.8888888888888888,\"#fdca26\"],[1.0,\"#f0f921\"]],\"sequentialminus\":[[0.0,\"#0d0887\"],[0.1111111111111111,\"#46039f\"],[0.2222222222222222,\"#7201a8\"],[0.3333333333333333,\"#9c179e\"],[0.4444444444444444,\"#bd3786\"],[0.5555555555555556,\"#d8576b\"],[0.6666666666666666,\"#ed7953\"],[0.7777777777777778,\"#fb9f3a\"],[0.8888888888888888,\"#fdca26\"],[1.0,\"#f0f921\"]],\"diverging\":[[0,\"#8e0152\"],[0.1,\"#c51b7d\"],[0.2,\"#de77ae\"],[0.3,\"#f1b6da\"],[0.4,\"#fde0ef\"],[0.5,\"#f7f7f7\"],[0.6,\"#e6f5d0\"],[0.7,\"#b8e186\"],[0.8,\"#7fbc41\"],[0.9,\"#4d9221\"],[1,\"#276419\"]]},\"xaxis\":{\"gridcolor\":\"white\",\"linecolor\":\"white\",\"ticks\":\"\",\"title\":{\"standoff\":15},\"zerolinecolor\":\"white\",\"automargin\":true,\"zerolinewidth\":2},\"yaxis\":{\"gridcolor\":\"white\",\"linecolor\":\"white\",\"ticks\":\"\",\"title\":{\"standoff\":15},\"zerolinecolor\":\"white\",\"automargin\":true,\"zerolinewidth\":2},\"scene\":{\"xaxis\":{\"backgroundcolor\":\"#E5ECF6\",\"gridcolor\":\"white\",\"linecolor\":\"white\",\"showbackground\":true,\"ticks\":\"\",\"zerolinecolor\":\"white\",\"gridwidth\":2},\"yaxis\":{\"backgroundcolor\":\"#E5ECF6\",\"gridcolor\":\"white\",\"linecolor\":\"white\",\"showbackground\":true,\"ticks\":\"\",\"zerolinecolor\":\"white\",\"gridwidth\":2},\"zaxis\":{\"backgroundcolor\":\"#E5ECF6\",\"gridcolor\":\"white\",\"linecolor\":\"white\",\"showbackground\":true,\"ticks\":\"\",\"zerolinecolor\":\"white\",\"gridwidth\":2}},\"shapedefaults\":{\"line\":{\"color\":\"#2a3f5f\"}},\"annotationdefaults\":{\"arrowcolor\":\"#2a3f5f\",\"arrowhead\":0,\"arrowwidth\":1},\"geo\":{\"bgcolor\":\"white\",\"landcolor\":\"#E5ECF6\",\"subunitcolor\":\"white\",\"showland\":true,\"showlakes\":true,\"lakecolor\":\"white\"},\"title\":{\"x\":0.05},\"mapbox\":{\"style\":\"light\"}}},\"xaxis\":{\"anchor\":\"y\",\"domain\":[0.0,0.32],\"range\":[0,5],\"type\":\"log\",\"title\":{\"text\":\"Millions of parameters\"}},\"yaxis\":{\"anchor\":\"x\",\"domain\":[0.575,1.0],\"range\":[0,75],\"tickvals\":[0,10,20,30,40,50,60,70],\"title\":{\"text\":\"Precision@K\"}},\"xaxis2\":{\"anchor\":\"y2\",\"domain\":[0.34,0.66],\"range\":[0,5],\"type\":\"log\",\"title\":{\"text\":\"Millions of parameters\"}},\"yaxis2\":{\"anchor\":\"x2\",\"domain\":[0.575,1.0],\"matches\":\"y\",\"showticklabels\":false,\"range\":[0,75],\"tickvals\":[0,10,20,30,40,50,60,70]},\"xaxis3\":{\"anchor\":\"y3\",\"domain\":[0.68,1.0],\"range\":[0,5],\"type\":\"log\",\"title\":{\"text\":\"Millions of parameters\"}},\"yaxis3\":{\"anchor\":\"x3\",\"domain\":[0.575,1.0],\"matches\":\"y\",\"showticklabels\":false,\"range\":[0,75],\"tickvals\":[0,10,20,30,40,50,60,70]},\"xaxis4\":{\"anchor\":\"y4\",\"domain\":[0.0,0.32],\"range\":[0,5],\"type\":\"log\",\"title\":{\"text\":\"Millions of parameters\"}},\"yaxis4\":{\"anchor\":\"x4\",\"domain\":[0.0,0.425],\"range\":[0,75],\"tickvals\":[0,10,20,30,40,50,60,70],\"title\":{\"text\":\"Precision@K\"}},\"xaxis5\":{\"anchor\":\"y5\",\"domain\":[0.34,0.66],\"range\":[0,5],\"type\":\"log\",\"title\":{\"text\":\"Millions of parameters\"}},\"yaxis5\":{\"anchor\":\"x5\",\"domain\":[0.0,0.425],\"matches\":\"y4\",\"showticklabels\":false,\"range\":[0,75],\"tickvals\":[0,10,20,30,40,50,60,70]},\"xaxis6\":{\"anchor\":\"y6\",\"domain\":[0.68,1.0],\"title\":{\"text\":\"Millions of parameters\"}},\"yaxis6\":{\"anchor\":\"x6\",\"domain\":[0.0,0.425],\"matches\":\"y4\",\"showticklabels\":false},\"annotations\":[{\"font\":{\"size\":16},\"showarrow\":false,\"text\":\"SegFormer-B1\",\"x\":0.16,\"xanchor\":\"center\",\"xref\":\"paper\",\"y\":1.0,\"yanchor\":\"bottom\",\"yref\":\"paper\"},{\"font\":{\"size\":16},\"showarrow\":false,\"text\":\"SegFormer-B2\",\"x\":0.5,\"xanchor\":\"center\",\"xref\":\"paper\",\"y\":1.0,\"yanchor\":\"bottom\",\"yref\":\"paper\"},{\"font\":{\"size\":16},\"showarrow\":false,\"text\":\"SegFormer-B4\",\"x\":0.8400000000000001,\"xanchor\":\"center\",\"xref\":\"paper\",\"y\":1.0,\"yanchor\":\"bottom\",\"yref\":\"paper\"},{\"font\":{\"size\":16},\"showarrow\":false,\"text\":\"ResNet34\",\"x\":0.16,\"xanchor\":\"center\",\"xref\":\"paper\",\"y\":0.425,\"yanchor\":\"bottom\",\"yref\":\"paper\"},{\"font\":{\"size\":16},\"showarrow\":false,\"text\":\"ResNet101\",\"x\":0.5,\"xanchor\":\"center\",\"xref\":\"paper\",\"y\":0.425,\"yanchor\":\"bottom\",\"yref\":\"paper\"}],\"legend\":{\"x\":0.25,\"y\":-0.1,\"orientation\":\"h\"},\"width\":1200,\"height\":800},                        {\"responsive\": true}                    ).then(function(){\n",
       "                            \n",
       "var gd = document.getElementById('ea1721a3-5cd6-44fc-b08b-b6e23b6409d6');\n",
       "var x = new MutationObserver(function (mutations, observer) {{\n",
       "        var display = window.getComputedStyle(gd).display;\n",
       "        if (!display || display === 'none') {{\n",
       "            console.log([gd, 'removed!']);\n",
       "            Plotly.purge(gd);\n",
       "            observer.disconnect();\n",
       "        }}\n",
       "}});\n",
       "\n",
       "// Listen for the removal of the full notebook cells\n",
       "var notebookContainer = gd.closest('#notebook-container');\n",
       "if (notebookContainer) {{\n",
       "    x.observe(notebookContainer, {childList: true});\n",
       "}}\n",
       "\n",
       "// Listen for the clearing of the current output cell\n",
       "var outputEl = gd.closest('.output');\n",
       "if (outputEl) {{\n",
       "    x.observe(outputEl, {childList: true});\n",
       "}}\n",
       "\n",
       "                        })                };                });            </script>        </div>"
      ]
     },
     "metadata": {},
     "output_type": "display_data"
    }
   ],
   "source": [
    "import plotly.graph_objects as go\n",
    "from plotly.subplots import make_subplots\n",
    "import plotly.express as px\n",
    "import numpy as np\n",
    "\n",
    "# Create subplots using Plotly\n",
    "rows, cols = 2, 3\n",
    "fig = make_subplots(rows=rows, cols=cols, shared_yaxes=True, subplot_titles=vm_left,\n",
    "                    horizontal_spacing=0.02, vertical_spacing=0.15)\n",
    "\n",
    "# Define line styles\n",
    "line_styles = ['dot', 'dashdot', 'longdash']\n",
    "\n",
    "# Define marker symbols\n",
    "marker_symbols = ['star', 'triangle-up', 'circle']\n",
    "\n",
    "# colors = [\"#7fcdbb\", \"#1d91c0\", \"#253494\"]\n",
    "colors = px.colors.qualitative.Set2\n",
    "\n",
    "lines = []\n",
    "marker_size = 10\n",
    "\n",
    "for i, vm_specific in enumerate(vm_left):\n",
    "    row = (i // cols) + 1\n",
    "    col = (i % cols) + 1\n",
    "\n",
    "    vm_bert = vm_selected_left.loc[(vm_selected_left[\"VM\"] == vm_specific) & (vm_selected_left[\"LM\"].str.startswith(\"BERT\"))].sort_values(by='Models_size', ascending=True)\n",
    "    vm_gpt2 = vm_selected_left.loc[(vm_selected_left[\"VM\"] == vm_specific) & (vm_selected_left[\"LM\"].str.startswith(\"GPT2\"))].sort_values(by='Models_size', ascending=True)\n",
    "    vm_opt = vm_selected_left.loc[(vm_selected_left[\"VM\"] == vm_specific) & (vm_selected_left[\"LM\"].str.startswith(\"OPT\"))].sort_values(by='Models_size', ascending=True)\n",
    "    vm_llama = vm_selected_left.loc[(vm_selected_left[\"VM\"] == vm_specific) & (vm_selected_left[\"LM\"].str.startswith(\"Llama\"))].sort_values(by='Models_size', ascending=True)\n",
    "\n",
    "    precision_bert = np.array([vm_bert[\"P@1-CSLS\"], vm_bert[\"P@10-CSLS\"], vm_bert[\"P@100-CSLS\"]]).T\n",
    "    precision_gpt2 = np.array([vm_gpt2[\"P@1-CSLS\"], vm_gpt2[\"P@10-CSLS\"], vm_gpt2[\"P@100-CSLS\"]]).T\n",
    "    precision_opt = np.array([vm_opt[\"P@1-CSLS\"], vm_opt[\"P@10-CSLS\"], vm_opt[\"P@100-CSLS\"]]).T\n",
    "    precision_llama = np.array([vm_llama[\"P@1-CSLS\"], vm_llama[\"P@10-CSLS\"], vm_llama[\"P@100-CSLS\"]]).T\n",
    "\n",
    "    for idx, k in enumerate([1, 10, 100]):\n",
    "        line_style = line_styles[idx]\n",
    "        marker_symbol = marker_symbols[idx]\n",
    "        \n",
    "        line1 = go.Scatter(x=vm_bert[\"Models_size\"], y=precision_bert[:, idx],\n",
    "                           mode='lines+markers', line=dict(color=colors[0], dash=line_style),\n",
    "                           marker_symbol=marker_symbol, legendgroup='BERT', name=f'BERT - K={k}',\n",
    "                            showlegend=(i == 0), marker=dict(size=marker_size))\n",
    "        \n",
    "        line2 = go.Scatter(x=vm_gpt2[\"Models_size\"], y=precision_gpt2[:, idx],\n",
    "                           mode='lines+markers', line=dict(color=colors[1], dash=line_style),\n",
    "                           marker_symbol=marker_symbol, legendgroup='GPT2', name=f'GPT2 - K={k}',\n",
    "                           showlegend=(i == 0), marker=dict(size=marker_size))\n",
    "        \n",
    "        line3 = go.Scatter(x=vm_opt[\"Models_size\"], y=precision_opt[:, idx],\n",
    "                           mode='lines+markers', line=dict(color=colors[2], dash=line_style),\n",
    "                           marker_symbol=marker_symbol, legendgroup='OPT', name=f'OPT - K={k}',\n",
    "                           showlegend=(i == 0), marker=dict(size=marker_size))\n",
    "        \n",
    "        line4 = go.Scatter(x=vm_llama[\"Models_size\"], y=precision_llama[:, idx],\n",
    "                           mode='lines+markers', line=dict(color=colors[3], dash=line_style),\n",
    "                           marker_symbol=marker_symbol, legendgroup='Llama2', name=f'Llama2 - K={k}',\n",
    "                           showlegend=(i == 0), marker=dict(size=marker_size))\n",
    "        \n",
    "        fig.add_trace(line1, row=row, col=col)\n",
    "        fig.add_trace(line2, row=row, col=col)\n",
    "        fig.add_trace(line3, row=row, col=col)\n",
    "        fig.add_trace(line4, row=row, col=col)\n",
    "\n",
    "    fig.update_xaxes(row=row, col=col, range=[0,5],type=\"log\")\n",
    "    # fig.update_yaxes(range=[0,60],tickvals=[0,10,20,30,40,50,60], row=row, col=col)\n",
    "    fig.update_yaxes(range=[0,75],tickvals=[0,10,20,30,40,50,60,70], row=row, col=col)\n",
    "    # fig.update_xaxes(row=row, col=col, range=[0,4.7],type=\"log\")\n",
    "    # fig.update_yaxes(range=[0,80],tickvals=[0,10,20,30,40,50,60,70], row=row, col=col,)\n",
    "    # fig.update_xaxes(title_text=\"Millions of parameters (log)\", row=row, col=col)\n",
    "    # fig.update_yaxes(title_text=\"Precision@K\", row=row, col=col)\n",
    "    \n",
    "# # Update subplot titles\n",
    "for i, title in enumerate(vm_list):\n",
    "    fig.update_xaxes(title_text=\"Millions of parameters\", row=(i // cols) + 1, col=(i % cols) + 1)\n",
    "    fig.update_yaxes(title_text=\"Precision@K\", row=i, col=1)\n",
    "    \n",
    "# Create a common legend\n",
    "# fig.update_layout(legend=dict(x=0, y=-0.2, orientation=\"v\"))\n",
    "fig.update_layout(width=1200, height=800, legend=dict(x=0.25, y=-0.1, orientation=\"h\")) \n",
    "\n",
    "# Show the plot\n",
    "fig.show()\n",
    "fig.write_image(f\"left_vm_vs_LMs_{set_name}_v2.pdf\")"
   ]
  }
 ],
 "metadata": {
  "kernelspec": {
   "display_name": "pytorch",
   "language": "python",
   "name": "python3"
  },
  "language_info": {
   "codemirror_mode": {
    "name": "ipython",
    "version": 3
   },
   "file_extension": ".py",
   "mimetype": "text/x-python",
   "name": "python",
   "nbconvert_exporter": "python",
   "pygments_lexer": "ipython3",
   "version": "3.11.5"
  },
  "orig_nbformat": 4
 },
 "nbformat": 4,
 "nbformat_minor": 2
}
