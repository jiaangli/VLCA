{
 "cells": [
  {
   "cell_type": "code",
   "execution_count": 1,
   "metadata": {},
   "outputs": [],
   "source": [
    "import pandas as pd\n",
    "import wandb\n",
    "import json\n",
    "from pathlib import Path"
   ]
  },
  {
   "cell_type": "code",
   "execution_count": 2,
   "metadata": {},
   "outputs": [],
   "source": [
    "method=\"procrustes\" \n",
    "extend_exp=\"\"\n",
    "save_path = Path(\"./figures\")\n",
    "save_path.mkdir(exist_ok=True, parents=True)\n",
    "vm_name = {\n",
    "    'resnet152': 'ResNet152',\n",
    "    'segformer-b5-finetuned-ade-640-640': 'SegFormer-B5',\n",
    "    'vit-mae-huge': 'MAE-Huge',\n",
    "}\n"
   ]
  },
  {
   "cell_type": "code",
   "execution_count": 3,
   "metadata": {},
   "outputs": [],
   "source": [
    "api = wandb.Api()\n",
    "df = pd.DataFrame()\n",
    "\n",
    "model_name = {'bert_uncased_L-2_H-128_A-2': \"BERT_TINY\",\n",
    "                'bert_uncased_L-4_H-256_A-4': \"BERT_MINI\" ,\n",
    "                'bert_uncased_L-4_H-512_A-8': \"BERT_SMALL\",\n",
    "                'bert_uncased_L-8_H-512_A-8': \"BERT_MEDIUM\",\n",
    "                'bert-base-uncased': \"BERT_BASE\",\n",
    "                'bert-large-uncased': \"BERT_LARGE\",\n",
    "                'gpt2': \"GPT2_BASE\",\n",
    "                'gpt2-medium': \"GPT2_MEDIUM\",\n",
    "                'gpt2-large': \"GPT2_LARGE\",\n",
    "                'gpt2-xl': \"GPT2_XL\",\n",
    "                'opt-125m': \"OPT_125M\",\n",
    "                'opt-1.3b': \"OPT_1.3B\",\n",
    "                'opt-6.7b': \"OPT_6.7B\",\n",
    "                'opt-30b': \"OPT_30B\",\n",
    "                'opt-66b': \"OPT_66B\",\n",
    "                'Llama-2-7b-hf': \"Llama-2-7b\",\n",
    "                'Llama-2-13b-hf': \"Llama-2-13b\",\n",
    "                'Llama-2-70b-hf': \"Llama-2-70b\",\n",
    "                \"fasttext\":\"fastText\"}\n",
    "\n",
    "model_size = {'bert_uncased_L-2_H-128_A-2':4.4, 'bert_uncased_L-4_H-256_A-4':11.3, 'bert_uncased_L-4_H-512_A-8':29.1, \n",
    "    'bert_uncased_L-8_H-512_A-8':41.7, 'bert-base-uncased':110, 'bert-large-uncased':340, \n",
    "    'gpt2':117,  'gpt2-large':762, 'gpt2-xl':1542, 'opt-125m':125, 'opt-6.7b':6700, 'opt-30b':30000,'opt-66b':66000,\n",
    "    'Llama-2-7b-hf': 7000,\n",
    "    'Llama-2-13b-hf': 13000,\n",
    "    'Llama-2-70b-hf': 70000,}\n",
    "\n",
    "model_tags = {\n",
    "    \"ft\": \"fasttext\",\n",
    "    \"bert\": \"bert\",\n",
    "    \"gpt2\": \"gpt2\",\n",
    "    \"opt\": \"opt\"\n",
    "}\n",
    "\n",
    "set_name = \"cleaned\"\n",
    "\n",
    "\n",
    "# for model_alias in [\"LM\"]:\n",
    "    # method_name = \"Procrustes Analysis\" if method == \"procrustes\" else \"Ridge Regression\"\n",
    "runs = api.runs(path=f\"jiaangli00/train_ratio_TACL\")\n",
    "    # metrics = runs.summary[\"Results\"]\n",
    "\n",
    "    # data = []\n",
    "for i, single_run in enumerate(runs):\n",
    "    metric = json.load(single_run.file(single_run.summary[\"Results\"][\"path\"]).download(exist_ok=True))\n",
    "    df = pd.concat([df,pd.DataFrame(metric[\"data\"], columns=metric[\"columns\"])])\n",
    "\n",
    "# # df['Subjects'] = df['Subjects'].replace({f'brain_{i}': f'Subject-{i}' for i in range(1, num_subs + 1)})\n",
    "# df['Layers'] = df['Layers'].replace({f'layer_{i}': f'layer-{i})\n",
    "df['Models_size'] = df['LM'].copy()\n",
    "df['Models_size'] = df['Models_size'].replace(model_size)\n",
    "df['VM'] = df['VM'].replace(vm_name)\n",
    "df['LM'] = df['LM'].replace(model_name)\n",
    "\n",
    "# df = df.loc[(df[\"LM\"] != \"Llama-2-70b-hf\") | (df[\"LM\"] != \"opt-66b\")]\n",
    "df = df[~df[\"LM\"].isin([\"Llama-2-70b\",\"OPT_66B\"])]\n",
    "# #\n",
    "group_names: list[str] = [\"LM\", \"VM\", \"train_ratio\"]\n",
    "if extend_exp != \"\":\n",
    "    group_names.append(\"Bins\")\n",
    "#\n",
    "precision_csls, precision_nn = [], []\n",
    "for k in [10, 100]:\n",
    "    precision_csls.append(f'P@{k}-CSLS')\n",
    "    precision_nn.append(f'P@{k}-NN')\n",
    "\n",
    "precision = precision_csls\n",
    "#\n",
    "precision.append(\"Models_size\")"
   ]
  },
  {
   "cell_type": "code",
   "execution_count": 4,
   "metadata": {},
   "outputs": [],
   "source": [
    "\n",
    "seed_avg = df.groupby(group_names)[precision].mean().reset_index().sort_values(by='Models_size', ascending=True)\n",
    "# seed_avg = df.groupby(group_names)[precision].mean().reset_index().round(1)\n",
    "\n",
    "vm_selected = seed_avg.loc[(seed_avg[\"VM\"] == \"ResNet18\") | (seed_avg[\"VM\"] == \"ResNet50\") | (seed_avg[\"VM\"] == \"ResNet152\") | (seed_avg[\"VM\"] == \"SegFormer-B0\") | (seed_avg[\"VM\"] == \"SegFormer-B3\") | (seed_avg[\"VM\"] == \"SegFormer-B5\") | (seed_avg[\"VM\"] == \"MAE-Base\") | (seed_avg[\"VM\"] == \"MAE-Large\") | (seed_avg[\"VM\"] == \"MAE-Huge\")]\n",
    "# seed_avg[\"VM\"][:14]\n",
    "# vm_list = [\"SegFormer-B0\", \"SegFormer-B3\" , \"SegFormer-B5\", \"MAE-Base\" , \"MAE-Large\", \"MAE-Huge\", \"ResNet18\", \"ResNet50\" , \"ResNet152\"]\n",
    "# vm_left = [\"SegFormer-B1\", \"SegFormer-B2\" , \"SegFormer-B4\",\"ResNet34\", \"ResNet101\"]\n",
    "vm_selected_left = seed_avg.loc[(seed_avg[\"VM\"] == \"ResNet34\") | (seed_avg[\"VM\"] == \"ResNet101\") | (seed_avg[\"VM\"] == \"SegFormer-B1\") | (seed_avg[\"VM\"] == \"SegFormer-B2\") | (seed_avg[\"VM\"] == \"SegFormer-B4\")]\n"
   ]
  },
  {
   "cell_type": "code",
   "execution_count": 5,
   "metadata": {},
   "outputs": [
    {
     "data": {
      "text/html": [
       "<div>\n",
       "<style scoped>\n",
       "    .dataframe tbody tr th:only-of-type {\n",
       "        vertical-align: middle;\n",
       "    }\n",
       "\n",
       "    .dataframe tbody tr th {\n",
       "        vertical-align: top;\n",
       "    }\n",
       "\n",
       "    .dataframe thead th {\n",
       "        text-align: right;\n",
       "    }\n",
       "</style>\n",
       "<table border=\"1\" class=\"dataframe\">\n",
       "  <thead>\n",
       "    <tr style=\"text-align: right;\">\n",
       "      <th></th>\n",
       "      <th>LM</th>\n",
       "      <th>VM</th>\n",
       "      <th>train_ratio</th>\n",
       "      <th>P@10-CSLS</th>\n",
       "      <th>P@100-CSLS</th>\n",
       "      <th>Models_size</th>\n",
       "    </tr>\n",
       "  </thead>\n",
       "  <tbody>\n",
       "    <tr>\n",
       "      <th>0</th>\n",
       "      <td>OPT_30B</td>\n",
       "      <td>MAE-Huge</td>\n",
       "      <td>0.1</td>\n",
       "      <td>0.648</td>\n",
       "      <td>5.254</td>\n",
       "      <td>30000.0</td>\n",
       "    </tr>\n",
       "    <tr>\n",
       "      <th>1</th>\n",
       "      <td>OPT_30B</td>\n",
       "      <td>MAE-Huge</td>\n",
       "      <td>0.5</td>\n",
       "      <td>2.634</td>\n",
       "      <td>15.306</td>\n",
       "      <td>30000.0</td>\n",
       "    </tr>\n",
       "    <tr>\n",
       "      <th>2</th>\n",
       "      <td>OPT_30B</td>\n",
       "      <td>MAE-Huge</td>\n",
       "      <td>1.0</td>\n",
       "      <td>4.626</td>\n",
       "      <td>23.654</td>\n",
       "      <td>30000.0</td>\n",
       "    </tr>\n",
       "    <tr>\n",
       "      <th>3</th>\n",
       "      <td>OPT_30B</td>\n",
       "      <td>MAE-Huge</td>\n",
       "      <td>5.0</td>\n",
       "      <td>13.857</td>\n",
       "      <td>46.488</td>\n",
       "      <td>30000.0</td>\n",
       "    </tr>\n",
       "    <tr>\n",
       "      <th>4</th>\n",
       "      <td>OPT_30B</td>\n",
       "      <td>MAE-Huge</td>\n",
       "      <td>10.0</td>\n",
       "      <td>18.648</td>\n",
       "      <td>53.659</td>\n",
       "      <td>30000.0</td>\n",
       "    </tr>\n",
       "    <tr>\n",
       "      <th>5</th>\n",
       "      <td>OPT_30B</td>\n",
       "      <td>MAE-Huge</td>\n",
       "      <td>15.0</td>\n",
       "      <td>21.224</td>\n",
       "      <td>56.818</td>\n",
       "      <td>30000.0</td>\n",
       "    </tr>\n",
       "    <tr>\n",
       "      <th>6</th>\n",
       "      <td>OPT_30B</td>\n",
       "      <td>MAE-Huge</td>\n",
       "      <td>20.0</td>\n",
       "      <td>23.042</td>\n",
       "      <td>58.240</td>\n",
       "      <td>30000.0</td>\n",
       "    </tr>\n",
       "    <tr>\n",
       "      <th>7</th>\n",
       "      <td>OPT_30B</td>\n",
       "      <td>MAE-Huge</td>\n",
       "      <td>25.0</td>\n",
       "      <td>24.552</td>\n",
       "      <td>59.680</td>\n",
       "      <td>30000.0</td>\n",
       "    </tr>\n",
       "    <tr>\n",
       "      <th>8</th>\n",
       "      <td>OPT_30B</td>\n",
       "      <td>MAE-Huge</td>\n",
       "      <td>30.0</td>\n",
       "      <td>25.554</td>\n",
       "      <td>60.712</td>\n",
       "      <td>30000.0</td>\n",
       "    </tr>\n",
       "    <tr>\n",
       "      <th>9</th>\n",
       "      <td>OPT_30B</td>\n",
       "      <td>MAE-Huge</td>\n",
       "      <td>40.0</td>\n",
       "      <td>27.158</td>\n",
       "      <td>62.614</td>\n",
       "      <td>30000.0</td>\n",
       "    </tr>\n",
       "    <tr>\n",
       "      <th>10</th>\n",
       "      <td>OPT_30B</td>\n",
       "      <td>MAE-Huge</td>\n",
       "      <td>50.0</td>\n",
       "      <td>28.236</td>\n",
       "      <td>63.308</td>\n",
       "      <td>30000.0</td>\n",
       "    </tr>\n",
       "    <tr>\n",
       "      <th>11</th>\n",
       "      <td>OPT_30B</td>\n",
       "      <td>MAE-Huge</td>\n",
       "      <td>60.0</td>\n",
       "      <td>28.710</td>\n",
       "      <td>64.132</td>\n",
       "      <td>30000.0</td>\n",
       "    </tr>\n",
       "    <tr>\n",
       "      <th>12</th>\n",
       "      <td>OPT_30B</td>\n",
       "      <td>MAE-Huge</td>\n",
       "      <td>70.0</td>\n",
       "      <td>29.095</td>\n",
       "      <td>64.434</td>\n",
       "      <td>30000.0</td>\n",
       "    </tr>\n",
       "  </tbody>\n",
       "</table>\n",
       "</div>"
      ],
      "text/plain": [
       "         LM        VM  train_ratio  P@10-CSLS  P@100-CSLS  Models_size\n",
       "0   OPT_30B  MAE-Huge          0.1      0.648       5.254      30000.0\n",
       "1   OPT_30B  MAE-Huge          0.5      2.634      15.306      30000.0\n",
       "2   OPT_30B  MAE-Huge          1.0      4.626      23.654      30000.0\n",
       "3   OPT_30B  MAE-Huge          5.0     13.857      46.488      30000.0\n",
       "4   OPT_30B  MAE-Huge         10.0     18.648      53.659      30000.0\n",
       "5   OPT_30B  MAE-Huge         15.0     21.224      56.818      30000.0\n",
       "6   OPT_30B  MAE-Huge         20.0     23.042      58.240      30000.0\n",
       "7   OPT_30B  MAE-Huge         25.0     24.552      59.680      30000.0\n",
       "8   OPT_30B  MAE-Huge         30.0     25.554      60.712      30000.0\n",
       "9   OPT_30B  MAE-Huge         40.0     27.158      62.614      30000.0\n",
       "10  OPT_30B  MAE-Huge         50.0     28.236      63.308      30000.0\n",
       "11  OPT_30B  MAE-Huge         60.0     28.710      64.132      30000.0\n",
       "12  OPT_30B  MAE-Huge         70.0     29.095      64.434      30000.0"
      ]
     },
     "execution_count": 5,
     "metadata": {},
     "output_type": "execute_result"
    }
   ],
   "source": [
    "vm_selected.loc[vm_selected[\"VM\"]==\"MAE-Huge\"].sort_values(by='train_ratio', ascending=True)"
   ]
  },
  {
   "cell_type": "code",
   "execution_count": 6,
   "metadata": {},
   "outputs": [
    {
     "data": {
      "text/html": [
       "<div>\n",
       "<style scoped>\n",
       "    .dataframe tbody tr th:only-of-type {\n",
       "        vertical-align: middle;\n",
       "    }\n",
       "\n",
       "    .dataframe tbody tr th {\n",
       "        vertical-align: top;\n",
       "    }\n",
       "\n",
       "    .dataframe thead th {\n",
       "        text-align: right;\n",
       "    }\n",
       "</style>\n",
       "<table border=\"1\" class=\"dataframe\">\n",
       "  <thead>\n",
       "    <tr style=\"text-align: right;\">\n",
       "      <th></th>\n",
       "      <th>LM</th>\n",
       "      <th>VM</th>\n",
       "      <th>train_ratio</th>\n",
       "      <th>P@10-CSLS</th>\n",
       "      <th>P@100-CSLS</th>\n",
       "      <th>Models_size</th>\n",
       "    </tr>\n",
       "  </thead>\n",
       "  <tbody>\n",
       "    <tr>\n",
       "      <th>0</th>\n",
       "      <td>OPT_30B</td>\n",
       "      <td>MAE-Huge</td>\n",
       "      <td>0.1</td>\n",
       "      <td>0.648</td>\n",
       "      <td>5.254</td>\n",
       "      <td>30000.0</td>\n",
       "    </tr>\n",
       "    <tr>\n",
       "      <th>21</th>\n",
       "      <td>OPT_30B</td>\n",
       "      <td>ResNet152</td>\n",
       "      <td>30.0</td>\n",
       "      <td>32.038</td>\n",
       "      <td>70.488</td>\n",
       "      <td>30000.0</td>\n",
       "    </tr>\n",
       "    <tr>\n",
       "      <th>22</th>\n",
       "      <td>OPT_30B</td>\n",
       "      <td>ResNet152</td>\n",
       "      <td>40.0</td>\n",
       "      <td>33.766</td>\n",
       "      <td>71.752</td>\n",
       "      <td>30000.0</td>\n",
       "    </tr>\n",
       "    <tr>\n",
       "      <th>23</th>\n",
       "      <td>OPT_30B</td>\n",
       "      <td>ResNet152</td>\n",
       "      <td>50.0</td>\n",
       "      <td>34.566</td>\n",
       "      <td>72.384</td>\n",
       "      <td>30000.0</td>\n",
       "    </tr>\n",
       "    <tr>\n",
       "      <th>24</th>\n",
       "      <td>OPT_30B</td>\n",
       "      <td>ResNet152</td>\n",
       "      <td>60.0</td>\n",
       "      <td>35.446</td>\n",
       "      <td>72.906</td>\n",
       "      <td>30000.0</td>\n",
       "    </tr>\n",
       "    <tr>\n",
       "      <th>25</th>\n",
       "      <td>OPT_30B</td>\n",
       "      <td>ResNet152</td>\n",
       "      <td>70.0</td>\n",
       "      <td>35.962</td>\n",
       "      <td>73.154</td>\n",
       "      <td>30000.0</td>\n",
       "    </tr>\n",
       "    <tr>\n",
       "      <th>26</th>\n",
       "      <td>OPT_30B</td>\n",
       "      <td>SegFormer-B5</td>\n",
       "      <td>0.1</td>\n",
       "      <td>0.820</td>\n",
       "      <td>5.966</td>\n",
       "      <td>30000.0</td>\n",
       "    </tr>\n",
       "    <tr>\n",
       "      <th>27</th>\n",
       "      <td>OPT_30B</td>\n",
       "      <td>SegFormer-B5</td>\n",
       "      <td>0.5</td>\n",
       "      <td>2.722</td>\n",
       "      <td>16.730</td>\n",
       "      <td>30000.0</td>\n",
       "    </tr>\n",
       "    <tr>\n",
       "      <th>20</th>\n",
       "      <td>OPT_30B</td>\n",
       "      <td>ResNet152</td>\n",
       "      <td>25.0</td>\n",
       "      <td>31.230</td>\n",
       "      <td>69.590</td>\n",
       "      <td>30000.0</td>\n",
       "    </tr>\n",
       "    <tr>\n",
       "      <th>28</th>\n",
       "      <td>OPT_30B</td>\n",
       "      <td>SegFormer-B5</td>\n",
       "      <td>1.0</td>\n",
       "      <td>5.228</td>\n",
       "      <td>26.528</td>\n",
       "      <td>30000.0</td>\n",
       "    </tr>\n",
       "    <tr>\n",
       "      <th>30</th>\n",
       "      <td>OPT_30B</td>\n",
       "      <td>SegFormer-B5</td>\n",
       "      <td>10.0</td>\n",
       "      <td>22.092</td>\n",
       "      <td>60.702</td>\n",
       "      <td>30000.0</td>\n",
       "    </tr>\n",
       "    <tr>\n",
       "      <th>31</th>\n",
       "      <td>OPT_30B</td>\n",
       "      <td>SegFormer-B5</td>\n",
       "      <td>15.0</td>\n",
       "      <td>25.216</td>\n",
       "      <td>63.382</td>\n",
       "      <td>30000.0</td>\n",
       "    </tr>\n",
       "    <tr>\n",
       "      <th>32</th>\n",
       "      <td>OPT_30B</td>\n",
       "      <td>SegFormer-B5</td>\n",
       "      <td>20.0</td>\n",
       "      <td>26.828</td>\n",
       "      <td>64.794</td>\n",
       "      <td>30000.0</td>\n",
       "    </tr>\n",
       "    <tr>\n",
       "      <th>33</th>\n",
       "      <td>OPT_30B</td>\n",
       "      <td>SegFormer-B5</td>\n",
       "      <td>25.0</td>\n",
       "      <td>28.468</td>\n",
       "      <td>66.248</td>\n",
       "      <td>30000.0</td>\n",
       "    </tr>\n",
       "    <tr>\n",
       "      <th>34</th>\n",
       "      <td>OPT_30B</td>\n",
       "      <td>SegFormer-B5</td>\n",
       "      <td>30.0</td>\n",
       "      <td>29.640</td>\n",
       "      <td>67.296</td>\n",
       "      <td>30000.0</td>\n",
       "    </tr>\n",
       "    <tr>\n",
       "      <th>35</th>\n",
       "      <td>OPT_30B</td>\n",
       "      <td>SegFormer-B5</td>\n",
       "      <td>40.0</td>\n",
       "      <td>31.126</td>\n",
       "      <td>68.496</td>\n",
       "      <td>30000.0</td>\n",
       "    </tr>\n",
       "    <tr>\n",
       "      <th>36</th>\n",
       "      <td>OPT_30B</td>\n",
       "      <td>SegFormer-B5</td>\n",
       "      <td>50.0</td>\n",
       "      <td>31.846</td>\n",
       "      <td>68.944</td>\n",
       "      <td>30000.0</td>\n",
       "    </tr>\n",
       "    <tr>\n",
       "      <th>29</th>\n",
       "      <td>OPT_30B</td>\n",
       "      <td>SegFormer-B5</td>\n",
       "      <td>5.0</td>\n",
       "      <td>16.540</td>\n",
       "      <td>53.578</td>\n",
       "      <td>30000.0</td>\n",
       "    </tr>\n",
       "    <tr>\n",
       "      <th>37</th>\n",
       "      <td>OPT_30B</td>\n",
       "      <td>SegFormer-B5</td>\n",
       "      <td>60.0</td>\n",
       "      <td>32.464</td>\n",
       "      <td>69.546</td>\n",
       "      <td>30000.0</td>\n",
       "    </tr>\n",
       "    <tr>\n",
       "      <th>19</th>\n",
       "      <td>OPT_30B</td>\n",
       "      <td>ResNet152</td>\n",
       "      <td>20.0</td>\n",
       "      <td>29.398</td>\n",
       "      <td>68.572</td>\n",
       "      <td>30000.0</td>\n",
       "    </tr>\n",
       "    <tr>\n",
       "      <th>17</th>\n",
       "      <td>OPT_30B</td>\n",
       "      <td>ResNet152</td>\n",
       "      <td>10.0</td>\n",
       "      <td>24.312</td>\n",
       "      <td>64.721</td>\n",
       "      <td>30000.0</td>\n",
       "    </tr>\n",
       "    <tr>\n",
       "      <th>1</th>\n",
       "      <td>OPT_30B</td>\n",
       "      <td>MAE-Huge</td>\n",
       "      <td>0.5</td>\n",
       "      <td>2.634</td>\n",
       "      <td>15.306</td>\n",
       "      <td>30000.0</td>\n",
       "    </tr>\n",
       "    <tr>\n",
       "      <th>2</th>\n",
       "      <td>OPT_30B</td>\n",
       "      <td>MAE-Huge</td>\n",
       "      <td>1.0</td>\n",
       "      <td>4.626</td>\n",
       "      <td>23.654</td>\n",
       "      <td>30000.0</td>\n",
       "    </tr>\n",
       "    <tr>\n",
       "      <th>3</th>\n",
       "      <td>OPT_30B</td>\n",
       "      <td>MAE-Huge</td>\n",
       "      <td>5.0</td>\n",
       "      <td>13.857</td>\n",
       "      <td>46.488</td>\n",
       "      <td>30000.0</td>\n",
       "    </tr>\n",
       "    <tr>\n",
       "      <th>4</th>\n",
       "      <td>OPT_30B</td>\n",
       "      <td>MAE-Huge</td>\n",
       "      <td>10.0</td>\n",
       "      <td>18.648</td>\n",
       "      <td>53.659</td>\n",
       "      <td>30000.0</td>\n",
       "    </tr>\n",
       "    <tr>\n",
       "      <th>5</th>\n",
       "      <td>OPT_30B</td>\n",
       "      <td>MAE-Huge</td>\n",
       "      <td>15.0</td>\n",
       "      <td>21.224</td>\n",
       "      <td>56.818</td>\n",
       "      <td>30000.0</td>\n",
       "    </tr>\n",
       "    <tr>\n",
       "      <th>6</th>\n",
       "      <td>OPT_30B</td>\n",
       "      <td>MAE-Huge</td>\n",
       "      <td>20.0</td>\n",
       "      <td>23.042</td>\n",
       "      <td>58.240</td>\n",
       "      <td>30000.0</td>\n",
       "    </tr>\n",
       "    <tr>\n",
       "      <th>7</th>\n",
       "      <td>OPT_30B</td>\n",
       "      <td>MAE-Huge</td>\n",
       "      <td>25.0</td>\n",
       "      <td>24.552</td>\n",
       "      <td>59.680</td>\n",
       "      <td>30000.0</td>\n",
       "    </tr>\n",
       "    <tr>\n",
       "      <th>18</th>\n",
       "      <td>OPT_30B</td>\n",
       "      <td>ResNet152</td>\n",
       "      <td>15.0</td>\n",
       "      <td>27.682</td>\n",
       "      <td>67.134</td>\n",
       "      <td>30000.0</td>\n",
       "    </tr>\n",
       "    <tr>\n",
       "      <th>8</th>\n",
       "      <td>OPT_30B</td>\n",
       "      <td>MAE-Huge</td>\n",
       "      <td>30.0</td>\n",
       "      <td>25.554</td>\n",
       "      <td>60.712</td>\n",
       "      <td>30000.0</td>\n",
       "    </tr>\n",
       "    <tr>\n",
       "      <th>10</th>\n",
       "      <td>OPT_30B</td>\n",
       "      <td>MAE-Huge</td>\n",
       "      <td>50.0</td>\n",
       "      <td>28.236</td>\n",
       "      <td>63.308</td>\n",
       "      <td>30000.0</td>\n",
       "    </tr>\n",
       "    <tr>\n",
       "      <th>11</th>\n",
       "      <td>OPT_30B</td>\n",
       "      <td>MAE-Huge</td>\n",
       "      <td>60.0</td>\n",
       "      <td>28.710</td>\n",
       "      <td>64.132</td>\n",
       "      <td>30000.0</td>\n",
       "    </tr>\n",
       "    <tr>\n",
       "      <th>12</th>\n",
       "      <td>OPT_30B</td>\n",
       "      <td>MAE-Huge</td>\n",
       "      <td>70.0</td>\n",
       "      <td>29.095</td>\n",
       "      <td>64.434</td>\n",
       "      <td>30000.0</td>\n",
       "    </tr>\n",
       "    <tr>\n",
       "      <th>13</th>\n",
       "      <td>OPT_30B</td>\n",
       "      <td>ResNet152</td>\n",
       "      <td>0.1</td>\n",
       "      <td>0.858</td>\n",
       "      <td>6.668</td>\n",
       "      <td>30000.0</td>\n",
       "    </tr>\n",
       "    <tr>\n",
       "      <th>14</th>\n",
       "      <td>OPT_30B</td>\n",
       "      <td>ResNet152</td>\n",
       "      <td>0.5</td>\n",
       "      <td>3.437</td>\n",
       "      <td>20.547</td>\n",
       "      <td>30000.0</td>\n",
       "    </tr>\n",
       "    <tr>\n",
       "      <th>15</th>\n",
       "      <td>OPT_30B</td>\n",
       "      <td>ResNet152</td>\n",
       "      <td>1.0</td>\n",
       "      <td>6.041</td>\n",
       "      <td>30.988</td>\n",
       "      <td>30000.0</td>\n",
       "    </tr>\n",
       "    <tr>\n",
       "      <th>16</th>\n",
       "      <td>OPT_30B</td>\n",
       "      <td>ResNet152</td>\n",
       "      <td>5.0</td>\n",
       "      <td>18.036</td>\n",
       "      <td>57.548</td>\n",
       "      <td>30000.0</td>\n",
       "    </tr>\n",
       "    <tr>\n",
       "      <th>9</th>\n",
       "      <td>OPT_30B</td>\n",
       "      <td>MAE-Huge</td>\n",
       "      <td>40.0</td>\n",
       "      <td>27.158</td>\n",
       "      <td>62.614</td>\n",
       "      <td>30000.0</td>\n",
       "    </tr>\n",
       "    <tr>\n",
       "      <th>38</th>\n",
       "      <td>OPT_30B</td>\n",
       "      <td>SegFormer-B5</td>\n",
       "      <td>70.0</td>\n",
       "      <td>32.638</td>\n",
       "      <td>70.032</td>\n",
       "      <td>30000.0</td>\n",
       "    </tr>\n",
       "  </tbody>\n",
       "</table>\n",
       "</div>"
      ],
      "text/plain": [
       "         LM            VM  train_ratio  P@10-CSLS  P@100-CSLS  Models_size\n",
       "0   OPT_30B      MAE-Huge          0.1      0.648       5.254      30000.0\n",
       "21  OPT_30B     ResNet152         30.0     32.038      70.488      30000.0\n",
       "22  OPT_30B     ResNet152         40.0     33.766      71.752      30000.0\n",
       "23  OPT_30B     ResNet152         50.0     34.566      72.384      30000.0\n",
       "24  OPT_30B     ResNet152         60.0     35.446      72.906      30000.0\n",
       "25  OPT_30B     ResNet152         70.0     35.962      73.154      30000.0\n",
       "26  OPT_30B  SegFormer-B5          0.1      0.820       5.966      30000.0\n",
       "27  OPT_30B  SegFormer-B5          0.5      2.722      16.730      30000.0\n",
       "20  OPT_30B     ResNet152         25.0     31.230      69.590      30000.0\n",
       "28  OPT_30B  SegFormer-B5          1.0      5.228      26.528      30000.0\n",
       "30  OPT_30B  SegFormer-B5         10.0     22.092      60.702      30000.0\n",
       "31  OPT_30B  SegFormer-B5         15.0     25.216      63.382      30000.0\n",
       "32  OPT_30B  SegFormer-B5         20.0     26.828      64.794      30000.0\n",
       "33  OPT_30B  SegFormer-B5         25.0     28.468      66.248      30000.0\n",
       "34  OPT_30B  SegFormer-B5         30.0     29.640      67.296      30000.0\n",
       "35  OPT_30B  SegFormer-B5         40.0     31.126      68.496      30000.0\n",
       "36  OPT_30B  SegFormer-B5         50.0     31.846      68.944      30000.0\n",
       "29  OPT_30B  SegFormer-B5          5.0     16.540      53.578      30000.0\n",
       "37  OPT_30B  SegFormer-B5         60.0     32.464      69.546      30000.0\n",
       "19  OPT_30B     ResNet152         20.0     29.398      68.572      30000.0\n",
       "17  OPT_30B     ResNet152         10.0     24.312      64.721      30000.0\n",
       "1   OPT_30B      MAE-Huge          0.5      2.634      15.306      30000.0\n",
       "2   OPT_30B      MAE-Huge          1.0      4.626      23.654      30000.0\n",
       "3   OPT_30B      MAE-Huge          5.0     13.857      46.488      30000.0\n",
       "4   OPT_30B      MAE-Huge         10.0     18.648      53.659      30000.0\n",
       "5   OPT_30B      MAE-Huge         15.0     21.224      56.818      30000.0\n",
       "6   OPT_30B      MAE-Huge         20.0     23.042      58.240      30000.0\n",
       "7   OPT_30B      MAE-Huge         25.0     24.552      59.680      30000.0\n",
       "18  OPT_30B     ResNet152         15.0     27.682      67.134      30000.0\n",
       "8   OPT_30B      MAE-Huge         30.0     25.554      60.712      30000.0\n",
       "10  OPT_30B      MAE-Huge         50.0     28.236      63.308      30000.0\n",
       "11  OPT_30B      MAE-Huge         60.0     28.710      64.132      30000.0\n",
       "12  OPT_30B      MAE-Huge         70.0     29.095      64.434      30000.0\n",
       "13  OPT_30B     ResNet152          0.1      0.858       6.668      30000.0\n",
       "14  OPT_30B     ResNet152          0.5      3.437      20.547      30000.0\n",
       "15  OPT_30B     ResNet152          1.0      6.041      30.988      30000.0\n",
       "16  OPT_30B     ResNet152          5.0     18.036      57.548      30000.0\n",
       "9   OPT_30B      MAE-Huge         40.0     27.158      62.614      30000.0\n",
       "38  OPT_30B  SegFormer-B5         70.0     32.638      70.032      30000.0"
      ]
     },
     "execution_count": 6,
     "metadata": {},
     "output_type": "execute_result"
    }
   ],
   "source": [
    "vm_test = vm_selected\n",
    "vm_test"
   ]
  },
  {
   "cell_type": "code",
   "execution_count": 28,
   "metadata": {},
   "outputs": [
    {
     "data": {
      "application/vnd.plotly.v1+json": {
       "config": {
        "plotlyServerURL": "https://plot.ly"
       },
       "data": [
        {
         "legendgroup": "MAE",
         "line": {
          "color": "rgb(102,194,165)",
          "dash": "dot",
          "width": 5
         },
         "marker": {
          "size": 20,
          "symbol": "triangle-up"
         },
         "mode": "lines+markers",
         "name": "MAE - K=10",
         "type": "scatter",
         "x": [
          0.1,
          0.5,
          1,
          5,
          10,
          15,
          20,
          25,
          30,
          40,
          50,
          60,
          70
         ],
         "y": [
          0.648,
          2.634,
          4.6259999999999994,
          13.857,
          18.648,
          21.224,
          23.042,
          24.552,
          25.554,
          27.157999999999998,
          28.236,
          28.71,
          29.095
         ]
        },
        {
         "legendgroup": "ResNet",
         "line": {
          "color": "rgb(252,141,98)",
          "dash": "dot",
          "width": 5
         },
         "marker": {
          "size": 20,
          "symbol": "triangle-up"
         },
         "mode": "lines+markers",
         "name": "ResNet - K=10",
         "type": "scatter",
         "x": [
          0.1,
          0.5,
          1,
          5,
          10,
          15,
          20,
          25,
          30,
          40,
          50,
          60,
          70
         ],
         "y": [
          0.858,
          3.437,
          6.0409999999999995,
          18.036,
          24.312,
          27.682,
          29.398000000000003,
          31.23,
          32.038,
          33.766,
          34.566,
          35.446000000000005,
          35.962
         ]
        },
        {
         "legendgroup": "SegFormer",
         "line": {
          "color": "rgb(141,160,203)",
          "dash": "dot",
          "width": 5
         },
         "marker": {
          "size": 20,
          "symbol": "triangle-up"
         },
         "mode": "lines+markers",
         "name": "SegFormer - K=10",
         "type": "scatter",
         "x": [
          0.1,
          0.5,
          1,
          5,
          10,
          15,
          20,
          25,
          30,
          40,
          50,
          60,
          70
         ],
         "y": [
          0.82,
          2.722,
          5.228,
          16.54,
          22.092,
          25.216,
          26.827999999999996,
          28.468,
          29.639999999999997,
          31.125999999999998,
          31.845999999999997,
          32.464,
          32.638
         ]
        },
        {
         "legendgroup": "MAE",
         "line": {
          "color": "rgb(102,194,165)",
          "dash": "dashdot",
          "width": 5
         },
         "marker": {
          "size": 20,
          "symbol": "circle"
         },
         "mode": "lines+markers",
         "name": "MAE - K=100",
         "type": "scatter",
         "x": [
          0.1,
          0.5,
          1,
          5,
          10,
          15,
          20,
          25,
          30,
          40,
          50,
          60,
          70
         ],
         "y": [
          5.254,
          15.306000000000001,
          23.654,
          46.488,
          53.659000000000006,
          56.818000000000005,
          58.239999999999995,
          59.67999999999999,
          60.712,
          62.614,
          63.30800000000001,
          64.13199999999999,
          64.434
         ]
        },
        {
         "legendgroup": "ResNet",
         "line": {
          "color": "rgb(252,141,98)",
          "dash": "dashdot",
          "width": 5
         },
         "marker": {
          "size": 20,
          "symbol": "circle"
         },
         "mode": "lines+markers",
         "name": "ResNet - K=100",
         "type": "scatter",
         "x": [
          0.1,
          0.5,
          1,
          5,
          10,
          15,
          20,
          25,
          30,
          40,
          50,
          60,
          70
         ],
         "y": [
          6.668000000000001,
          20.547,
          30.988,
          57.548,
          64.721,
          67.134,
          68.572,
          69.59,
          70.488,
          71.752,
          72.38399999999999,
          72.90599999999999,
          73.154
         ]
        },
        {
         "legendgroup": "SegFormer",
         "line": {
          "color": "rgb(141,160,203)",
          "dash": "dashdot",
          "width": 5
         },
         "marker": {
          "size": 20,
          "symbol": "circle"
         },
         "mode": "lines+markers",
         "name": "SegFormer - K=100",
         "type": "scatter",
         "x": [
          0.1,
          0.5,
          1,
          5,
          10,
          15,
          20,
          25,
          30,
          40,
          50,
          60,
          70
         ],
         "y": [
          5.965999999999999,
          16.73,
          26.528,
          53.577999999999996,
          60.702,
          63.382000000000005,
          64.79400000000001,
          66.248,
          67.296,
          68.49600000000001,
          68.944,
          69.546,
          70.032
         ]
        }
       ],
       "layout": {
        "height": 1000,
        "legend": {
         "font": {
          "size": 20
         },
         "orientation": "h",
         "x": 0.25,
         "y": -0.1
        },
        "template": {
         "data": {
          "bar": [
           {
            "error_x": {
             "color": "#2a3f5f"
            },
            "error_y": {
             "color": "#2a3f5f"
            },
            "marker": {
             "line": {
              "color": "#E5ECF6",
              "width": 0.5
             },
             "pattern": {
              "fillmode": "overlay",
              "size": 10,
              "solidity": 0.2
             }
            },
            "type": "bar"
           }
          ],
          "barpolar": [
           {
            "marker": {
             "line": {
              "color": "#E5ECF6",
              "width": 0.5
             },
             "pattern": {
              "fillmode": "overlay",
              "size": 10,
              "solidity": 0.2
             }
            },
            "type": "barpolar"
           }
          ],
          "carpet": [
           {
            "aaxis": {
             "endlinecolor": "#2a3f5f",
             "gridcolor": "white",
             "linecolor": "white",
             "minorgridcolor": "white",
             "startlinecolor": "#2a3f5f"
            },
            "baxis": {
             "endlinecolor": "#2a3f5f",
             "gridcolor": "white",
             "linecolor": "white",
             "minorgridcolor": "white",
             "startlinecolor": "#2a3f5f"
            },
            "type": "carpet"
           }
          ],
          "choropleth": [
           {
            "colorbar": {
             "outlinewidth": 0,
             "ticks": ""
            },
            "type": "choropleth"
           }
          ],
          "contour": [
           {
            "colorbar": {
             "outlinewidth": 0,
             "ticks": ""
            },
            "colorscale": [
             [
              0,
              "#0d0887"
             ],
             [
              0.1111111111111111,
              "#46039f"
             ],
             [
              0.2222222222222222,
              "#7201a8"
             ],
             [
              0.3333333333333333,
              "#9c179e"
             ],
             [
              0.4444444444444444,
              "#bd3786"
             ],
             [
              0.5555555555555556,
              "#d8576b"
             ],
             [
              0.6666666666666666,
              "#ed7953"
             ],
             [
              0.7777777777777778,
              "#fb9f3a"
             ],
             [
              0.8888888888888888,
              "#fdca26"
             ],
             [
              1,
              "#f0f921"
             ]
            ],
            "type": "contour"
           }
          ],
          "contourcarpet": [
           {
            "colorbar": {
             "outlinewidth": 0,
             "ticks": ""
            },
            "type": "contourcarpet"
           }
          ],
          "heatmap": [
           {
            "colorbar": {
             "outlinewidth": 0,
             "ticks": ""
            },
            "colorscale": [
             [
              0,
              "#0d0887"
             ],
             [
              0.1111111111111111,
              "#46039f"
             ],
             [
              0.2222222222222222,
              "#7201a8"
             ],
             [
              0.3333333333333333,
              "#9c179e"
             ],
             [
              0.4444444444444444,
              "#bd3786"
             ],
             [
              0.5555555555555556,
              "#d8576b"
             ],
             [
              0.6666666666666666,
              "#ed7953"
             ],
             [
              0.7777777777777778,
              "#fb9f3a"
             ],
             [
              0.8888888888888888,
              "#fdca26"
             ],
             [
              1,
              "#f0f921"
             ]
            ],
            "type": "heatmap"
           }
          ],
          "heatmapgl": [
           {
            "colorbar": {
             "outlinewidth": 0,
             "ticks": ""
            },
            "colorscale": [
             [
              0,
              "#0d0887"
             ],
             [
              0.1111111111111111,
              "#46039f"
             ],
             [
              0.2222222222222222,
              "#7201a8"
             ],
             [
              0.3333333333333333,
              "#9c179e"
             ],
             [
              0.4444444444444444,
              "#bd3786"
             ],
             [
              0.5555555555555556,
              "#d8576b"
             ],
             [
              0.6666666666666666,
              "#ed7953"
             ],
             [
              0.7777777777777778,
              "#fb9f3a"
             ],
             [
              0.8888888888888888,
              "#fdca26"
             ],
             [
              1,
              "#f0f921"
             ]
            ],
            "type": "heatmapgl"
           }
          ],
          "histogram": [
           {
            "marker": {
             "pattern": {
              "fillmode": "overlay",
              "size": 10,
              "solidity": 0.2
             }
            },
            "type": "histogram"
           }
          ],
          "histogram2d": [
           {
            "colorbar": {
             "outlinewidth": 0,
             "ticks": ""
            },
            "colorscale": [
             [
              0,
              "#0d0887"
             ],
             [
              0.1111111111111111,
              "#46039f"
             ],
             [
              0.2222222222222222,
              "#7201a8"
             ],
             [
              0.3333333333333333,
              "#9c179e"
             ],
             [
              0.4444444444444444,
              "#bd3786"
             ],
             [
              0.5555555555555556,
              "#d8576b"
             ],
             [
              0.6666666666666666,
              "#ed7953"
             ],
             [
              0.7777777777777778,
              "#fb9f3a"
             ],
             [
              0.8888888888888888,
              "#fdca26"
             ],
             [
              1,
              "#f0f921"
             ]
            ],
            "type": "histogram2d"
           }
          ],
          "histogram2dcontour": [
           {
            "colorbar": {
             "outlinewidth": 0,
             "ticks": ""
            },
            "colorscale": [
             [
              0,
              "#0d0887"
             ],
             [
              0.1111111111111111,
              "#46039f"
             ],
             [
              0.2222222222222222,
              "#7201a8"
             ],
             [
              0.3333333333333333,
              "#9c179e"
             ],
             [
              0.4444444444444444,
              "#bd3786"
             ],
             [
              0.5555555555555556,
              "#d8576b"
             ],
             [
              0.6666666666666666,
              "#ed7953"
             ],
             [
              0.7777777777777778,
              "#fb9f3a"
             ],
             [
              0.8888888888888888,
              "#fdca26"
             ],
             [
              1,
              "#f0f921"
             ]
            ],
            "type": "histogram2dcontour"
           }
          ],
          "mesh3d": [
           {
            "colorbar": {
             "outlinewidth": 0,
             "ticks": ""
            },
            "type": "mesh3d"
           }
          ],
          "parcoords": [
           {
            "line": {
             "colorbar": {
              "outlinewidth": 0,
              "ticks": ""
             }
            },
            "type": "parcoords"
           }
          ],
          "pie": [
           {
            "automargin": true,
            "type": "pie"
           }
          ],
          "scatter": [
           {
            "fillpattern": {
             "fillmode": "overlay",
             "size": 10,
             "solidity": 0.2
            },
            "type": "scatter"
           }
          ],
          "scatter3d": [
           {
            "line": {
             "colorbar": {
              "outlinewidth": 0,
              "ticks": ""
             }
            },
            "marker": {
             "colorbar": {
              "outlinewidth": 0,
              "ticks": ""
             }
            },
            "type": "scatter3d"
           }
          ],
          "scattercarpet": [
           {
            "marker": {
             "colorbar": {
              "outlinewidth": 0,
              "ticks": ""
             }
            },
            "type": "scattercarpet"
           }
          ],
          "scattergeo": [
           {
            "marker": {
             "colorbar": {
              "outlinewidth": 0,
              "ticks": ""
             }
            },
            "type": "scattergeo"
           }
          ],
          "scattergl": [
           {
            "marker": {
             "colorbar": {
              "outlinewidth": 0,
              "ticks": ""
             }
            },
            "type": "scattergl"
           }
          ],
          "scattermapbox": [
           {
            "marker": {
             "colorbar": {
              "outlinewidth": 0,
              "ticks": ""
             }
            },
            "type": "scattermapbox"
           }
          ],
          "scatterpolar": [
           {
            "marker": {
             "colorbar": {
              "outlinewidth": 0,
              "ticks": ""
             }
            },
            "type": "scatterpolar"
           }
          ],
          "scatterpolargl": [
           {
            "marker": {
             "colorbar": {
              "outlinewidth": 0,
              "ticks": ""
             }
            },
            "type": "scatterpolargl"
           }
          ],
          "scatterternary": [
           {
            "marker": {
             "colorbar": {
              "outlinewidth": 0,
              "ticks": ""
             }
            },
            "type": "scatterternary"
           }
          ],
          "surface": [
           {
            "colorbar": {
             "outlinewidth": 0,
             "ticks": ""
            },
            "colorscale": [
             [
              0,
              "#0d0887"
             ],
             [
              0.1111111111111111,
              "#46039f"
             ],
             [
              0.2222222222222222,
              "#7201a8"
             ],
             [
              0.3333333333333333,
              "#9c179e"
             ],
             [
              0.4444444444444444,
              "#bd3786"
             ],
             [
              0.5555555555555556,
              "#d8576b"
             ],
             [
              0.6666666666666666,
              "#ed7953"
             ],
             [
              0.7777777777777778,
              "#fb9f3a"
             ],
             [
              0.8888888888888888,
              "#fdca26"
             ],
             [
              1,
              "#f0f921"
             ]
            ],
            "type": "surface"
           }
          ],
          "table": [
           {
            "cells": {
             "fill": {
              "color": "#EBF0F8"
             },
             "line": {
              "color": "white"
             }
            },
            "header": {
             "fill": {
              "color": "#C8D4E3"
             },
             "line": {
              "color": "white"
             }
            },
            "type": "table"
           }
          ]
         },
         "layout": {
          "annotationdefaults": {
           "arrowcolor": "#2a3f5f",
           "arrowhead": 0,
           "arrowwidth": 1
          },
          "autotypenumbers": "strict",
          "coloraxis": {
           "colorbar": {
            "outlinewidth": 0,
            "ticks": ""
           }
          },
          "colorscale": {
           "diverging": [
            [
             0,
             "#8e0152"
            ],
            [
             0.1,
             "#c51b7d"
            ],
            [
             0.2,
             "#de77ae"
            ],
            [
             0.3,
             "#f1b6da"
            ],
            [
             0.4,
             "#fde0ef"
            ],
            [
             0.5,
             "#f7f7f7"
            ],
            [
             0.6,
             "#e6f5d0"
            ],
            [
             0.7,
             "#b8e186"
            ],
            [
             0.8,
             "#7fbc41"
            ],
            [
             0.9,
             "#4d9221"
            ],
            [
             1,
             "#276419"
            ]
           ],
           "sequential": [
            [
             0,
             "#0d0887"
            ],
            [
             0.1111111111111111,
             "#46039f"
            ],
            [
             0.2222222222222222,
             "#7201a8"
            ],
            [
             0.3333333333333333,
             "#9c179e"
            ],
            [
             0.4444444444444444,
             "#bd3786"
            ],
            [
             0.5555555555555556,
             "#d8576b"
            ],
            [
             0.6666666666666666,
             "#ed7953"
            ],
            [
             0.7777777777777778,
             "#fb9f3a"
            ],
            [
             0.8888888888888888,
             "#fdca26"
            ],
            [
             1,
             "#f0f921"
            ]
           ],
           "sequentialminus": [
            [
             0,
             "#0d0887"
            ],
            [
             0.1111111111111111,
             "#46039f"
            ],
            [
             0.2222222222222222,
             "#7201a8"
            ],
            [
             0.3333333333333333,
             "#9c179e"
            ],
            [
             0.4444444444444444,
             "#bd3786"
            ],
            [
             0.5555555555555556,
             "#d8576b"
            ],
            [
             0.6666666666666666,
             "#ed7953"
            ],
            [
             0.7777777777777778,
             "#fb9f3a"
            ],
            [
             0.8888888888888888,
             "#fdca26"
            ],
            [
             1,
             "#f0f921"
            ]
           ]
          },
          "colorway": [
           "#636efa",
           "#EF553B",
           "#00cc96",
           "#ab63fa",
           "#FFA15A",
           "#19d3f3",
           "#FF6692",
           "#B6E880",
           "#FF97FF",
           "#FECB52"
          ],
          "font": {
           "color": "#2a3f5f"
          },
          "geo": {
           "bgcolor": "white",
           "lakecolor": "white",
           "landcolor": "#E5ECF6",
           "showlakes": true,
           "showland": true,
           "subunitcolor": "white"
          },
          "hoverlabel": {
           "align": "left"
          },
          "hovermode": "closest",
          "mapbox": {
           "style": "light"
          },
          "paper_bgcolor": "white",
          "plot_bgcolor": "#E5ECF6",
          "polar": {
           "angularaxis": {
            "gridcolor": "white",
            "linecolor": "white",
            "ticks": ""
           },
           "bgcolor": "#E5ECF6",
           "radialaxis": {
            "gridcolor": "white",
            "linecolor": "white",
            "ticks": ""
           }
          },
          "scene": {
           "xaxis": {
            "backgroundcolor": "#E5ECF6",
            "gridcolor": "white",
            "gridwidth": 2,
            "linecolor": "white",
            "showbackground": true,
            "ticks": "",
            "zerolinecolor": "white"
           },
           "yaxis": {
            "backgroundcolor": "#E5ECF6",
            "gridcolor": "white",
            "gridwidth": 2,
            "linecolor": "white",
            "showbackground": true,
            "ticks": "",
            "zerolinecolor": "white"
           },
           "zaxis": {
            "backgroundcolor": "#E5ECF6",
            "gridcolor": "white",
            "gridwidth": 2,
            "linecolor": "white",
            "showbackground": true,
            "ticks": "",
            "zerolinecolor": "white"
           }
          },
          "shapedefaults": {
           "line": {
            "color": "#2a3f5f"
           }
          },
          "ternary": {
           "aaxis": {
            "gridcolor": "white",
            "linecolor": "white",
            "ticks": ""
           },
           "baxis": {
            "gridcolor": "white",
            "linecolor": "white",
            "ticks": ""
           },
           "bgcolor": "#E5ECF6",
           "caxis": {
            "gridcolor": "white",
            "linecolor": "white",
            "ticks": ""
           }
          },
          "title": {
           "x": 0.05
          },
          "xaxis": {
           "automargin": true,
           "gridcolor": "white",
           "linecolor": "white",
           "ticks": "",
           "title": {
            "standoff": 15
           },
           "zerolinecolor": "white",
           "zerolinewidth": 2
          },
          "yaxis": {
           "automargin": true,
           "gridcolor": "white",
           "linecolor": "white",
           "ticks": "",
           "title": {
            "standoff": 15
           },
           "zerolinecolor": "white",
           "zerolinewidth": 2
          }
         }
        },
        "width": 1200,
        "xaxis": {
         "range": [
          0,
          75
         ],
         "tickfont": {
          "size": 23
         },
         "title": {
          "font": {
           "size": 30
          },
          "text": "Training Ratio"
         }
        },
        "yaxis": {
         "range": [
          0,
          80
         ],
         "tickfont": {
          "size": 23
         },
         "tickvals": [
          0,
          10,
          20,
          30,
          40,
          50,
          60,
          70,
          80
         ],
         "title": {
          "font": {
           "size": 30
          },
          "text": "Precision@K"
         }
        }
       }
      }
     },
     "metadata": {},
     "output_type": "display_data"
    }
   ],
   "source": [
    "import plotly.graph_objects as go\n",
    "import plotly.express as px\n",
    "import numpy as np\n",
    "\n",
    "# Define line styles\n",
    "line_styles = ['dot', 'dashdot', 'longdash']\n",
    "\n",
    "# Define marker symbols\n",
    "marker_symbols = ['triangle-up', 'circle']\n",
    "marker_size = 20\n",
    "width_size = 5\n",
    "\n",
    "# colors = [\"#7fcdbb\", \"#1d91c0\", \"#253494\"]\n",
    "colors = px.colors.qualitative.Set2\n",
    "\n",
    "# Create a single plot\n",
    "fig = go.Figure()\n",
    "\n",
    "mae_opt = vm_selected.loc[(vm_selected[\"VM\"] == \"MAE-Huge\") & (vm_selected[\"LM\"].str.startswith(\"OPT\"))].sort_values(by='train_ratio', ascending=True)\n",
    "res_opt = vm_selected.loc[(vm_selected[\"VM\"] == \"ResNet152\") & (vm_selected[\"LM\"].str.startswith(\"OPT\"))].sort_values(by='train_ratio', ascending=True)\n",
    "seg_opt = vm_selected.loc[(vm_selected[\"VM\"] == \"SegFormer-B5\") & (vm_selected[\"LM\"].str.startswith(\"OPT\"))].sort_values(by='train_ratio', ascending=True)\n",
    "\n",
    "precision_mae = np.array([mae_opt[\"P@10-CSLS\"], mae_opt[\"P@100-CSLS\"]]).T\n",
    "precision_res = np.array([res_opt[\"P@10-CSLS\"], res_opt[\"P@100-CSLS\"]]).T\n",
    "precision_seg = np.array([seg_opt[\"P@10-CSLS\"], seg_opt[\"P@100-CSLS\"]]).T\n",
    "\n",
    "for idx, k in enumerate([10, 100]):\n",
    "    line_style = line_styles[idx]\n",
    "    marker_symbol = marker_symbols[idx]\n",
    "\n",
    "    line1 = go.Scatter(x=mae_opt[\"train_ratio\"], y=precision_mae[:, idx],\n",
    "                      mode='lines+markers', line=dict(color=colors[0], dash=line_style, width=width_size),\n",
    "                      marker_symbol=marker_symbol, legendgroup='MAE', name=f'MAE - K={k}',\n",
    "                      marker=dict(size=marker_size))\n",
    "\n",
    "    line2 = go.Scatter(x=res_opt[\"train_ratio\"], y=precision_res[:, idx],\n",
    "                      mode='lines+markers', line=dict(color=colors[1], dash=line_style, width=width_size),\n",
    "                      marker_symbol=marker_symbol, legendgroup='ResNet', name=f'ResNet - K={k}',\n",
    "                      marker=dict(size=marker_size))\n",
    "\n",
    "    line3 = go.Scatter(x=seg_opt[\"train_ratio\"], y=precision_seg[:, idx],\n",
    "                      mode='lines+markers', line=dict(color=colors[2], dash=line_style, width=width_size),\n",
    "                      marker_symbol=marker_symbol, legendgroup='SegFormer', name=f'SegFormer - K={k}',\n",
    "                      marker=dict(size=marker_size))\n",
    "\n",
    "    fig.add_trace(line1)\n",
    "    fig.add_trace(line2)\n",
    "    fig.add_trace(line3)\n",
    "\n",
    "# fig.update_xaxes(range=[-1, 2], type=\"log\")\n",
    "fig.update_xaxes(range=[0, 75])\n",
    "fig.update_yaxes(range=[0, 80], tickvals=[0, 10, 20, 30, 40, 50, 60, 70, 80])\n",
    "fig.update_layout(\n",
    "    xaxis=dict(\n",
    "        tickfont=dict(size=23)\n",
    "    ),\n",
    "    yaxis=dict(\n",
    "        tickfont=dict(size=23)\n",
    "    ),\n",
    "    # title=dict(text=\"Effect of Variation in Training Set Sizes\", font=dict(size=30)),\n",
    "    xaxis_title=dict(text=\"Training Ratio\", font=dict(size=30)),\n",
    "    yaxis_title=dict(text=\"Precision@K\", font=dict(size=30)),\n",
    "    legend=dict(x=0.25, y=-0.1, orientation=\"h\", font=dict(size=20)),\n",
    "    width=1200,\n",
    "    height=1000\n",
    ")\n",
    "\n",
    "# Show the plot\n",
    "fig.show()\n",
    "fig.write_image(save_path / f\"train_ratio_v2.pdf\")\n"
   ]
  }
 ],
 "metadata": {
  "kernelspec": {
   "display_name": "pytorch",
   "language": "python",
   "name": "python3"
  },
  "language_info": {
   "codemirror_mode": {
    "name": "ipython",
    "version": 3
   },
   "file_extension": ".py",
   "mimetype": "text/x-python",
   "name": "python",
   "nbconvert_exporter": "python",
   "pygments_lexer": "ipython3",
   "version": "3.11.5"
  }
 },
 "nbformat": 4,
 "nbformat_minor": 2
}
