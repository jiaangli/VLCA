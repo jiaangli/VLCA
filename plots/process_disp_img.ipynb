{
 "cells": [
  {
   "cell_type": "code",
   "execution_count": 2,
   "metadata": {},
   "outputs": [],
   "source": [
    "import pandas as pd\n",
    "import wandb\n",
    "from pathlib import Path\n",
    "import json\n",
    "import numpy as np"
   ]
  },
  {
   "cell_type": "code",
   "execution_count": 3,
   "metadata": {},
   "outputs": [],
   "source": [
    "method=\"procrustes\" \n",
    "extend_exp=\"image_disp\"\n",
    "vm_name = {\n",
    "    'resnet101': 'ResNet101',\n",
    "    'resnet152': 'ResNet152',\n",
    "    'resnet18': 'ResNet18',\n",
    "    'resnet34': 'ResNet34',\n",
    "    'resnet50': 'ResNet50',\n",
    "    'segformer-b0-finetuned-ade-512-512': 'SegFormer<sub>B0</sub>',\n",
    "    'segformer-b1-finetuned-ade-512-512': 'SegFormer<sub>B1</sub>',\n",
    "    'segformer-b2-finetuned-ade-512-512': 'SegFormer<sub>B2</sub>',\n",
    "    'segformer-b3-finetuned-ade-512-512': 'SegFormer<sub>B3</sub>',\n",
    "    'segformer-b4-finetuned-ade-512-512': 'SegFormer<sub>B4</sub>',\n",
    "    'segformer-b5-finetuned-ade-640-640': 'SegFormer<sub>B5</sub>',\n",
    "    'vit-mae-base': 'MAE<sub>Base</sub>',\n",
    "    'vit-mae-huge': 'MAE<sub>Huge</sub>',\n",
    "    'vit-mae-large': 'MAE<sub>Large</sub>'\n",
    "}\n",
    "\n",
    "model_name = {'bert_uncased_L-2_H-128_A-2': \"BERT<sub>TINY</sub>\",\n",
    "                'bert_uncased_L-4_H-256_A-4': \"BERT<sub>MINI</sub>\" ,\n",
    "                'bert_uncased_L-4_H-512_A-8': \"BERT<sub>SMALL</sub>\",\n",
    "                'bert_uncased_L-8_H-512_A-8': \"BERT<sub>MEDIUM</sub>\",\n",
    "                'bert-base-uncased': \"BERT<sub>BASE</sub>\",\n",
    "                'bert-large-uncased': \"BERT<sub>LARGE</sub>\",\n",
    "                'gpt2': \"GPT2<sub>BASE</sub>\",\n",
    "                'gpt2-medium': \"GPT2<sub>MEDIUM</sub>\",\n",
    "                'gpt2-large': \"GPT2<sub>LARGE</sub>\",\n",
    "                'gpt2-xl': \"GPT2<sub>XL</sub>\",\n",
    "                'opt-125m': \"OPT<sub>125M</sub>\",\n",
    "                'opt-1.3b': \"OPT<sub>1.3B</sub>\",\n",
    "                'opt-6.7b': \"OPT<sub>6.7B</sub>\",\n",
    "                'opt-30b': \"OPT<sub>30B</sub>\",\n",
    "                'opt-66b': \"OPT<sub>66B</sub>\",\n",
    "                'Llama-2-7b-hf': \"Llama-2<sub>7B</sub>\",\n",
    "                'Llama-2-13b-hf': \"Llama-2<sub>13B</sub>\",\n",
    "                'Llama-2-70b-hf': \"Llama-2<sub>70B</sub>\",\n",
    "                \"fasttext\":\"fastText\"}\n",
    "\n",
    "model_size = {'bert_uncased_L-2_H-128_A-2':4.4, 'bert_uncased_L-4_H-256_A-4':11.3, 'bert_uncased_L-4_H-512_A-8':29.1, \n",
    "    'bert_uncased_L-8_H-512_A-8':41.7, 'bert-base-uncased':110, 'bert-large-uncased':340, \n",
    "    'gpt2':117,  'gpt2-large':762, 'gpt2-xl':1542, 'opt-125m':125, 'opt-6.7b':6700, 'opt-30b':30000,'opt-66b':66000,\n",
    "    'Llama-2-7b-hf': 7000,\n",
    "    'Llama-2-13b-hf': 13000,\n",
    "    'Llama-2-70b-hf': 70000,}\n",
    "\n",
    "model_tags = {\n",
    "    \"ft\": \"fasttext\",\n",
    "    \"bert\": \"bert\",\n",
    "    \"gpt2\": \"gpt2\",\n",
    "    \"opt\": \"opt\"\n",
    "}\n",
    "\n",
    "bins = {\n",
    "    \"_low\":\"low\",\n",
    "    \"_medium\":'medium',\n",
    "    \"_high\":\"high\"\n",
    "}\n",
    "\n",
    "bins_order = {\n",
    "    \"_low\":\"0\",\n",
    "    \"_medium\":'1',\n",
    "    \"_high\":\"2\"\n",
    "}\n",
    "\n",
    "set_name = \"cleaned\""
   ]
  },
  {
   "cell_type": "code",
   "execution_count": 4,
   "metadata": {},
   "outputs": [],
   "source": [
    "\n",
    "\n",
    "api = wandb.Api()\n",
    "df = pd.DataFrame()\n",
    "\n",
    "for model_alias in [\"VM\"]:\n",
    "    # method_name = \"Procrustes Analysis\" if method == \"procrustes\" else \"Ridge Regression\"\n",
    "    runs = api.runs(path=f\"jiaangli00/image2{model_alias}-TACL-{set_name}{extend_exp}\")\n",
    "    # metrics = runs.summary[\"Results\"]\n",
    "\n",
    "    # data = []\n",
    "    for i, single_run in enumerate(runs):\n",
    "        metric = json.load(single_run.file(single_run.summary[\"Results\"][\"path\"]).download(exist_ok=True))\n",
    "        df = pd.concat([df,pd.DataFrame(metric[\"data\"], columns=metric[\"columns\"])])\n",
    "\n",
    "# # df['Subjects'] = df['Subjects'].replace({f'brain_{i}': f'Subject-{i}' for i in range(1, num_subs + 1)})\n",
    "# df['Layers'] = df['Layers'].replace({f'layer_{i}': f'layer-{i})\n",
    "df['Models_size'] = df['LM'].copy()\n",
    "df['Models_size'] = df['Models_size'].replace(model_size)\n",
    "df['VM'] = df['VM'].replace(vm_name)\n",
    "df['LM'] = df['LM'].replace(model_name)\n",
    "df['Bins_order'] = df['Bins'].copy()\n",
    "df['Bins_order'] = df['Bins_order'].replace(bins_order)\n",
    "df[\"Bins\"] = df[\"Bins\"].replace(bins)\n",
    "# #\n",
    "group_names: list[str] = [\"LM\", \"VM\"]\n",
    "if extend_exp != \"\":\n",
    "    group_names.append(\"Bins\")\n",
    "    group_names.append(\"Bins_order\")\n",
    "#\n",
    "precision_csls, precision_nn = [], []\n",
    "for k in [100]:\n",
    "    precision_csls.append(f'P@{k}-CSLS')\n",
    "    precision_nn.append(f'P@{k}-NN')\n",
    "\n",
    "precision = precision_csls\n",
    "#\n",
    "precision.append(\"Models_size\")\n",
    "# precision.append(\"Bins_order\")"
   ]
  },
  {
   "cell_type": "code",
   "execution_count": 5,
   "metadata": {},
   "outputs": [
    {
     "data": {
      "text/html": [
       "<div>\n",
       "<style scoped>\n",
       "    .dataframe tbody tr th:only-of-type {\n",
       "        vertical-align: middle;\n",
       "    }\n",
       "\n",
       "    .dataframe tbody tr th {\n",
       "        vertical-align: top;\n",
       "    }\n",
       "\n",
       "    .dataframe thead th {\n",
       "        text-align: right;\n",
       "    }\n",
       "</style>\n",
       "<table border=\"1\" class=\"dataframe\">\n",
       "  <thead>\n",
       "    <tr style=\"text-align: right;\">\n",
       "      <th></th>\n",
       "      <th>LM</th>\n",
       "      <th>VM</th>\n",
       "      <th>Bins</th>\n",
       "      <th>Bins_order</th>\n",
       "      <th>P@100-CSLS</th>\n",
       "      <th>Models_size</th>\n",
       "    </tr>\n",
       "  </thead>\n",
       "  <tbody>\n",
       "    <tr>\n",
       "      <th>0</th>\n",
       "      <td>BERT&lt;sub&gt;BASE&lt;/sub&gt;</td>\n",
       "      <td>MAE&lt;sub&gt;Huge&lt;/sub&gt;</td>\n",
       "      <td>high</td>\n",
       "      <td>2</td>\n",
       "      <td>27.0</td>\n",
       "      <td>110.0</td>\n",
       "    </tr>\n",
       "    <tr>\n",
       "      <th>1</th>\n",
       "      <td>BERT&lt;sub&gt;BASE&lt;/sub&gt;</td>\n",
       "      <td>MAE&lt;sub&gt;Huge&lt;/sub&gt;</td>\n",
       "      <td>low</td>\n",
       "      <td>0</td>\n",
       "      <td>37.4</td>\n",
       "      <td>110.0</td>\n",
       "    </tr>\n",
       "    <tr>\n",
       "      <th>2</th>\n",
       "      <td>BERT&lt;sub&gt;BASE&lt;/sub&gt;</td>\n",
       "      <td>MAE&lt;sub&gt;Huge&lt;/sub&gt;</td>\n",
       "      <td>medium</td>\n",
       "      <td>1</td>\n",
       "      <td>36.5</td>\n",
       "      <td>110.0</td>\n",
       "    </tr>\n",
       "    <tr>\n",
       "      <th>3</th>\n",
       "      <td>BERT&lt;sub&gt;BASE&lt;/sub&gt;</td>\n",
       "      <td>ResNet152</td>\n",
       "      <td>high</td>\n",
       "      <td>2</td>\n",
       "      <td>39.7</td>\n",
       "      <td>110.0</td>\n",
       "    </tr>\n",
       "    <tr>\n",
       "      <th>4</th>\n",
       "      <td>BERT&lt;sub&gt;BASE&lt;/sub&gt;</td>\n",
       "      <td>ResNet152</td>\n",
       "      <td>low</td>\n",
       "      <td>0</td>\n",
       "      <td>48.1</td>\n",
       "      <td>110.0</td>\n",
       "    </tr>\n",
       "    <tr>\n",
       "      <th>...</th>\n",
       "      <td>...</td>\n",
       "      <td>...</td>\n",
       "      <td>...</td>\n",
       "      <td>...</td>\n",
       "      <td>...</td>\n",
       "      <td>...</td>\n",
       "    </tr>\n",
       "    <tr>\n",
       "      <th>121</th>\n",
       "      <td>OPT&lt;sub&gt;6.7B&lt;/sub&gt;</td>\n",
       "      <td>ResNet152</td>\n",
       "      <td>low</td>\n",
       "      <td>0</td>\n",
       "      <td>67.5</td>\n",
       "      <td>6700.0</td>\n",
       "    </tr>\n",
       "    <tr>\n",
       "      <th>122</th>\n",
       "      <td>OPT&lt;sub&gt;6.7B&lt;/sub&gt;</td>\n",
       "      <td>ResNet152</td>\n",
       "      <td>medium</td>\n",
       "      <td>1</td>\n",
       "      <td>61.0</td>\n",
       "      <td>6700.0</td>\n",
       "    </tr>\n",
       "    <tr>\n",
       "      <th>123</th>\n",
       "      <td>OPT&lt;sub&gt;6.7B&lt;/sub&gt;</td>\n",
       "      <td>SegFormer&lt;sub&gt;B5&lt;/sub&gt;</td>\n",
       "      <td>high</td>\n",
       "      <td>2</td>\n",
       "      <td>55.7</td>\n",
       "      <td>6700.0</td>\n",
       "    </tr>\n",
       "    <tr>\n",
       "      <th>124</th>\n",
       "      <td>OPT&lt;sub&gt;6.7B&lt;/sub&gt;</td>\n",
       "      <td>SegFormer&lt;sub&gt;B5&lt;/sub&gt;</td>\n",
       "      <td>low</td>\n",
       "      <td>0</td>\n",
       "      <td>58.8</td>\n",
       "      <td>6700.0</td>\n",
       "    </tr>\n",
       "    <tr>\n",
       "      <th>125</th>\n",
       "      <td>OPT&lt;sub&gt;6.7B&lt;/sub&gt;</td>\n",
       "      <td>SegFormer&lt;sub&gt;B5&lt;/sub&gt;</td>\n",
       "      <td>medium</td>\n",
       "      <td>1</td>\n",
       "      <td>57.6</td>\n",
       "      <td>6700.0</td>\n",
       "    </tr>\n",
       "  </tbody>\n",
       "</table>\n",
       "<p>126 rows × 6 columns</p>\n",
       "</div>"
      ],
      "text/plain": [
       "                      LM                      VM    Bins Bins_order  \\\n",
       "0    BERT<sub>BASE</sub>      MAE<sub>Huge</sub>    high          2   \n",
       "1    BERT<sub>BASE</sub>      MAE<sub>Huge</sub>     low          0   \n",
       "2    BERT<sub>BASE</sub>      MAE<sub>Huge</sub>  medium          1   \n",
       "3    BERT<sub>BASE</sub>               ResNet152    high          2   \n",
       "4    BERT<sub>BASE</sub>               ResNet152     low          0   \n",
       "..                   ...                     ...     ...        ...   \n",
       "121   OPT<sub>6.7B</sub>               ResNet152     low          0   \n",
       "122   OPT<sub>6.7B</sub>               ResNet152  medium          1   \n",
       "123   OPT<sub>6.7B</sub>  SegFormer<sub>B5</sub>    high          2   \n",
       "124   OPT<sub>6.7B</sub>  SegFormer<sub>B5</sub>     low          0   \n",
       "125   OPT<sub>6.7B</sub>  SegFormer<sub>B5</sub>  medium          1   \n",
       "\n",
       "     P@100-CSLS  Models_size  \n",
       "0          27.0        110.0  \n",
       "1          37.4        110.0  \n",
       "2          36.5        110.0  \n",
       "3          39.7        110.0  \n",
       "4          48.1        110.0  \n",
       "..          ...          ...  \n",
       "121        67.5       6700.0  \n",
       "122        61.0       6700.0  \n",
       "123        55.7       6700.0  \n",
       "124        58.8       6700.0  \n",
       "125        57.6       6700.0  \n",
       "\n",
       "[126 rows x 6 columns]"
      ]
     },
     "execution_count": 5,
     "metadata": {},
     "output_type": "execute_result"
    }
   ],
   "source": [
    "seed_avg = df.groupby(group_names)[precision].mean().round(1).reset_index()\n",
    "_selected = seed_avg.loc[(seed_avg[\"LM\"] == \"BERT_LARGE\") | (seed_avg[\"LM\"] == \"GPT2_XL\") | (seed_avg[\"LM\"] == \"OPT_30B\") | (seed_avg[\"LM\"] == \"Llama-2-13B\")]\n",
    "# _selected\n",
    "# seed_avg.to_csv(\"lang_disp.csv\")\n",
    "seed_avg"
   ]
  },
  {
   "cell_type": "code",
   "execution_count": 6,
   "metadata": {},
   "outputs": [],
   "source": [
    "table = _selected.loc[(seed_avg[\"VM\"] == \"MAE-Huge\") | (seed_avg[\"VM\"] == \"SegFormer-B5\") | (seed_avg[\"VM\"] == \"ResNet152\") ]"
   ]
  },
  {
   "cell_type": "code",
   "execution_count": 7,
   "metadata": {},
   "outputs": [
    {
     "data": {
      "text/html": [
       "<div>\n",
       "<style scoped>\n",
       "    .dataframe tbody tr th:only-of-type {\n",
       "        vertical-align: middle;\n",
       "    }\n",
       "\n",
       "    .dataframe tbody tr th {\n",
       "        vertical-align: top;\n",
       "    }\n",
       "\n",
       "    .dataframe thead th {\n",
       "        text-align: right;\n",
       "    }\n",
       "</style>\n",
       "<table border=\"1\" class=\"dataframe\">\n",
       "  <thead>\n",
       "    <tr style=\"text-align: right;\">\n",
       "      <th></th>\n",
       "      <th>LM</th>\n",
       "      <th>VM</th>\n",
       "      <th>Bins</th>\n",
       "      <th>Bins_order</th>\n",
       "      <th>P@100-CSLS</th>\n",
       "      <th>Models_size</th>\n",
       "    </tr>\n",
       "  </thead>\n",
       "  <tbody>\n",
       "  </tbody>\n",
       "</table>\n",
       "</div>"
      ],
      "text/plain": [
       "Empty DataFrame\n",
       "Columns: [LM, VM, Bins, Bins_order, P@100-CSLS, Models_size]\n",
       "Index: []"
      ]
     },
     "execution_count": 7,
     "metadata": {},
     "output_type": "execute_result"
    }
   ],
   "source": [
    "table"
   ]
  },
  {
   "cell_type": "code",
   "execution_count": 8,
   "metadata": {},
   "outputs": [
    {
     "data": {
      "text/html": [
       "<div>\n",
       "<style scoped>\n",
       "    .dataframe tbody tr th:only-of-type {\n",
       "        vertical-align: middle;\n",
       "    }\n",
       "\n",
       "    .dataframe tbody tr th {\n",
       "        vertical-align: top;\n",
       "    }\n",
       "\n",
       "    .dataframe thead th {\n",
       "        text-align: right;\n",
       "    }\n",
       "</style>\n",
       "<table border=\"1\" class=\"dataframe\">\n",
       "  <thead>\n",
       "    <tr style=\"text-align: right;\">\n",
       "      <th></th>\n",
       "      <th>LM</th>\n",
       "      <th>VM</th>\n",
       "      <th>Bins</th>\n",
       "      <th>Bins_order</th>\n",
       "      <th>P@100-CSLS</th>\n",
       "      <th>Models_size</th>\n",
       "    </tr>\n",
       "  </thead>\n",
       "  <tbody>\n",
       "    <tr>\n",
       "      <th>46</th>\n",
       "      <td>BERT&lt;sub&gt;TINY&lt;/sub&gt;</td>\n",
       "      <td>MAE&lt;sub&gt;Huge&lt;/sub&gt;</td>\n",
       "      <td>low</td>\n",
       "      <td>0</td>\n",
       "      <td>14.9</td>\n",
       "      <td>4.4</td>\n",
       "    </tr>\n",
       "    <tr>\n",
       "      <th>49</th>\n",
       "      <td>BERT&lt;sub&gt;TINY&lt;/sub&gt;</td>\n",
       "      <td>ResNet152</td>\n",
       "      <td>low</td>\n",
       "      <td>0</td>\n",
       "      <td>20.0</td>\n",
       "      <td>4.4</td>\n",
       "    </tr>\n",
       "    <tr>\n",
       "      <th>52</th>\n",
       "      <td>BERT&lt;sub&gt;TINY&lt;/sub&gt;</td>\n",
       "      <td>SegFormer&lt;sub&gt;B5&lt;/sub&gt;</td>\n",
       "      <td>low</td>\n",
       "      <td>0</td>\n",
       "      <td>14.9</td>\n",
       "      <td>4.4</td>\n",
       "    </tr>\n",
       "    <tr>\n",
       "      <th>28</th>\n",
       "      <td>BERT&lt;sub&gt;MINI&lt;/sub&gt;</td>\n",
       "      <td>MAE&lt;sub&gt;Huge&lt;/sub&gt;</td>\n",
       "      <td>low</td>\n",
       "      <td>0</td>\n",
       "      <td>21.5</td>\n",
       "      <td>11.3</td>\n",
       "    </tr>\n",
       "    <tr>\n",
       "      <th>31</th>\n",
       "      <td>BERT&lt;sub&gt;MINI&lt;/sub&gt;</td>\n",
       "      <td>ResNet152</td>\n",
       "      <td>low</td>\n",
       "      <td>0</td>\n",
       "      <td>29.0</td>\n",
       "      <td>11.3</td>\n",
       "    </tr>\n",
       "    <tr>\n",
       "      <th>...</th>\n",
       "      <td>...</td>\n",
       "      <td>...</td>\n",
       "      <td>...</td>\n",
       "      <td>...</td>\n",
       "      <td>...</td>\n",
       "      <td>...</td>\n",
       "    </tr>\n",
       "    <tr>\n",
       "      <th>120</th>\n",
       "      <td>OPT&lt;sub&gt;6.7B&lt;/sub&gt;</td>\n",
       "      <td>ResNet152</td>\n",
       "      <td>high</td>\n",
       "      <td>2</td>\n",
       "      <td>55.4</td>\n",
       "      <td>6700.0</td>\n",
       "    </tr>\n",
       "    <tr>\n",
       "      <th>123</th>\n",
       "      <td>OPT&lt;sub&gt;6.7B&lt;/sub&gt;</td>\n",
       "      <td>SegFormer&lt;sub&gt;B5&lt;/sub&gt;</td>\n",
       "      <td>high</td>\n",
       "      <td>2</td>\n",
       "      <td>55.7</td>\n",
       "      <td>6700.0</td>\n",
       "    </tr>\n",
       "    <tr>\n",
       "      <th>90</th>\n",
       "      <td>Llama-2&lt;sub&gt;7B&lt;/sub&gt;</td>\n",
       "      <td>MAE&lt;sub&gt;Huge&lt;/sub&gt;</td>\n",
       "      <td>high</td>\n",
       "      <td>2</td>\n",
       "      <td>34.7</td>\n",
       "      <td>7000.0</td>\n",
       "    </tr>\n",
       "    <tr>\n",
       "      <th>93</th>\n",
       "      <td>Llama-2&lt;sub&gt;7B&lt;/sub&gt;</td>\n",
       "      <td>ResNet152</td>\n",
       "      <td>high</td>\n",
       "      <td>2</td>\n",
       "      <td>47.4</td>\n",
       "      <td>7000.0</td>\n",
       "    </tr>\n",
       "    <tr>\n",
       "      <th>96</th>\n",
       "      <td>Llama-2&lt;sub&gt;7B&lt;/sub&gt;</td>\n",
       "      <td>SegFormer&lt;sub&gt;B5&lt;/sub&gt;</td>\n",
       "      <td>high</td>\n",
       "      <td>2</td>\n",
       "      <td>43.0</td>\n",
       "      <td>7000.0</td>\n",
       "    </tr>\n",
       "  </tbody>\n",
       "</table>\n",
       "<p>90 rows × 6 columns</p>\n",
       "</div>"
      ],
      "text/plain": [
       "                       LM                      VM  Bins Bins_order  \\\n",
       "46    BERT<sub>TINY</sub>      MAE<sub>Huge</sub>   low          0   \n",
       "49    BERT<sub>TINY</sub>               ResNet152   low          0   \n",
       "52    BERT<sub>TINY</sub>  SegFormer<sub>B5</sub>   low          0   \n",
       "28    BERT<sub>MINI</sub>      MAE<sub>Huge</sub>   low          0   \n",
       "31    BERT<sub>MINI</sub>               ResNet152   low          0   \n",
       "..                    ...                     ...   ...        ...   \n",
       "120    OPT<sub>6.7B</sub>               ResNet152  high          2   \n",
       "123    OPT<sub>6.7B</sub>  SegFormer<sub>B5</sub>  high          2   \n",
       "90   Llama-2<sub>7B</sub>      MAE<sub>Huge</sub>  high          2   \n",
       "93   Llama-2<sub>7B</sub>               ResNet152  high          2   \n",
       "96   Llama-2<sub>7B</sub>  SegFormer<sub>B5</sub>  high          2   \n",
       "\n",
       "     P@100-CSLS  Models_size  \n",
       "46         14.9          4.4  \n",
       "49         20.0          4.4  \n",
       "52         14.9          4.4  \n",
       "28         21.5         11.3  \n",
       "31         29.0         11.3  \n",
       "..          ...          ...  \n",
       "120        55.4       6700.0  \n",
       "123        55.7       6700.0  \n",
       "90         34.7       7000.0  \n",
       "93         47.4       7000.0  \n",
       "96         43.0       7000.0  \n",
       "\n",
       "[90 rows x 6 columns]"
      ]
     },
     "execution_count": 8,
     "metadata": {},
     "output_type": "execute_result"
    }
   ],
   "source": [
    "# table2 = _selected.loc[(seed_avg[\"VM\"] != \"MAE-Huge\") & (seed_avg[\"VM\"] != \"SegFormer-B5\") & (seed_avg[\"VM\"] != \"ResNet152\") ]\n",
    "table2 = seed_avg.loc[(seed_avg[\"LM\"] != \"OPT<sub>30B</sub>\") & (seed_avg[\"LM\"] != \"Llama-2<sub>13B</sub>\") & (seed_avg[\"LM\"] != \"GPT2<sub>XL</sub>\") & (seed_avg[\"LM\"] != \"BERT<sub>LARGE</sub>\") ]\n",
    "table2 = table2.sort_values(by=['Bins_order',\"Models_size\"], ascending=True)\n",
    "table2"
   ]
  },
  {
   "cell_type": "code",
   "execution_count": 9,
   "metadata": {},
   "outputs": [
    {
     "data": {
      "application/vnd.plotly.v1+json": {
       "config": {
        "plotlyServerURL": "https://plot.ly"
       },
       "data": [
        {
         "alignmentgroup": "True",
         "hovertemplate": "Bins=low<br>VM=MAE<sub>Huge</sub><br>LM=%{x}<br>P@100=%{y}<extra></extra>",
         "legendgroup": "low",
         "marker": {
          "color": "rgb(253,180,98)",
          "opacity": 0.8,
          "pattern": {
           "shape": ""
          }
         },
         "name": "low",
         "offsetgroup": "low",
         "orientation": "v",
         "showlegend": true,
         "textposition": "auto",
         "type": "bar",
         "x": [
          "BERT<sub>TINY</sub>",
          "BERT<sub>MINI</sub>",
          "BERT<sub>SMALL</sub>",
          "BERT<sub>MEDIUM</sub>",
          "BERT<sub>BASE</sub>",
          "GPT2<sub>BASE</sub>",
          "OPT<sub>125M</sub>",
          "GPT2<sub>LARGE</sub>",
          "OPT<sub>6.7B</sub>",
          "Llama-2<sub>7B</sub>"
         ],
         "xaxis": "x",
         "y": [
          14.9,
          21.5,
          28.6,
          29.4,
          37.4,
          6.2,
          33.8,
          39.9,
          54.4,
          45
         ],
         "yaxis": "y"
        },
        {
         "alignmentgroup": "True",
         "hovertemplate": "Bins=low<br>VM=ResNet152<br>LM=%{x}<br>P@100=%{y}<extra></extra>",
         "legendgroup": "low",
         "marker": {
          "color": "rgb(253,180,98)",
          "opacity": 0.8,
          "pattern": {
           "shape": ""
          }
         },
         "name": "low",
         "offsetgroup": "low",
         "orientation": "v",
         "showlegend": false,
         "textposition": "auto",
         "type": "bar",
         "x": [
          "BERT<sub>TINY</sub>",
          "BERT<sub>MINI</sub>",
          "BERT<sub>SMALL</sub>",
          "BERT<sub>MEDIUM</sub>",
          "BERT<sub>BASE</sub>",
          "GPT2<sub>BASE</sub>",
          "OPT<sub>125M</sub>",
          "GPT2<sub>LARGE</sub>",
          "OPT<sub>6.7B</sub>",
          "Llama-2<sub>7B</sub>"
         ],
         "xaxis": "x2",
         "y": [
          20,
          29,
          37.4,
          38.2,
          48.1,
          15.3,
          44.1,
          53.1,
          67.5,
          65.2
         ],
         "yaxis": "y2"
        },
        {
         "alignmentgroup": "True",
         "hovertemplate": "Bins=low<br>VM=SegFormer<sub>B5</sub><br>LM=%{x}<br>P@100=%{y}<extra></extra>",
         "legendgroup": "low",
         "marker": {
          "color": "rgb(253,180,98)",
          "opacity": 0.8,
          "pattern": {
           "shape": ""
          }
         },
         "name": "low",
         "offsetgroup": "low",
         "orientation": "v",
         "showlegend": false,
         "textposition": "auto",
         "type": "bar",
         "x": [
          "BERT<sub>TINY</sub>",
          "BERT<sub>MINI</sub>",
          "BERT<sub>SMALL</sub>",
          "BERT<sub>MEDIUM</sub>",
          "BERT<sub>BASE</sub>",
          "GPT2<sub>BASE</sub>",
          "OPT<sub>125M</sub>",
          "GPT2<sub>LARGE</sub>",
          "OPT<sub>6.7B</sub>",
          "Llama-2<sub>7B</sub>"
         ],
         "xaxis": "x3",
         "y": [
          14.9,
          23.5,
          31.5,
          32.6,
          40.8,
          11.9,
          38.7,
          44.2,
          58.8,
          52.3
         ],
         "yaxis": "y3"
        },
        {
         "alignmentgroup": "True",
         "hovertemplate": "Bins=medium<br>VM=MAE<sub>Huge</sub><br>LM=%{x}<br>P@100=%{y}<extra></extra>",
         "legendgroup": "medium",
         "marker": {
          "color": "rgb(141,211,199)",
          "opacity": 0.8,
          "pattern": {
           "shape": ""
          }
         },
         "name": "medium",
         "offsetgroup": "medium",
         "orientation": "v",
         "showlegend": true,
         "textposition": "auto",
         "type": "bar",
         "x": [
          "BERT<sub>TINY</sub>",
          "BERT<sub>MINI</sub>",
          "BERT<sub>SMALL</sub>",
          "BERT<sub>MEDIUM</sub>",
          "BERT<sub>BASE</sub>",
          "GPT2<sub>BASE</sub>",
          "OPT<sub>125M</sub>",
          "GPT2<sub>LARGE</sub>",
          "OPT<sub>6.7B</sub>",
          "Llama-2<sub>7B</sub>"
         ],
         "xaxis": "x",
         "y": [
          12.2,
          19.8,
          25.4,
          26.4,
          36.5,
          8.2,
          33.1,
          40.3,
          52.3,
          42.7
         ],
         "yaxis": "y"
        },
        {
         "alignmentgroup": "True",
         "hovertemplate": "Bins=medium<br>VM=ResNet152<br>LM=%{x}<br>P@100=%{y}<extra></extra>",
         "legendgroup": "medium",
         "marker": {
          "color": "rgb(141,211,199)",
          "opacity": 0.8,
          "pattern": {
           "shape": ""
          }
         },
         "name": "medium",
         "offsetgroup": "medium",
         "orientation": "v",
         "showlegend": false,
         "textposition": "auto",
         "type": "bar",
         "x": [
          "BERT<sub>TINY</sub>",
          "BERT<sub>MINI</sub>",
          "BERT<sub>SMALL</sub>",
          "BERT<sub>MEDIUM</sub>",
          "BERT<sub>BASE</sub>",
          "GPT2<sub>BASE</sub>",
          "OPT<sub>125M</sub>",
          "GPT2<sub>LARGE</sub>",
          "OPT<sub>6.7B</sub>",
          "Llama-2<sub>7B</sub>"
         ],
         "xaxis": "x2",
         "y": [
          18.4,
          24.5,
          32,
          34.4,
          42.7,
          13.1,
          41.9,
          48.3,
          61,
          52.5
         ],
         "yaxis": "y2"
        },
        {
         "alignmentgroup": "True",
         "hovertemplate": "Bins=medium<br>VM=SegFormer<sub>B5</sub><br>LM=%{x}<br>P@100=%{y}<extra></extra>",
         "legendgroup": "medium",
         "marker": {
          "color": "rgb(141,211,199)",
          "opacity": 0.8,
          "pattern": {
           "shape": ""
          }
         },
         "name": "medium",
         "offsetgroup": "medium",
         "orientation": "v",
         "showlegend": false,
         "textposition": "auto",
         "type": "bar",
         "x": [
          "BERT<sub>TINY</sub>",
          "BERT<sub>MINI</sub>",
          "BERT<sub>SMALL</sub>",
          "BERT<sub>MEDIUM</sub>",
          "BERT<sub>BASE</sub>",
          "GPT2<sub>BASE</sub>",
          "OPT<sub>125M</sub>",
          "GPT2<sub>LARGE</sub>",
          "OPT<sub>6.7B</sub>",
          "Llama-2<sub>7B</sub>"
         ],
         "xaxis": "x3",
         "y": [
          14.2,
          22.4,
          29.1,
          30.8,
          40,
          12.8,
          37.7,
          45.6,
          57.6,
          48
         ],
         "yaxis": "y3"
        },
        {
         "alignmentgroup": "True",
         "hovertemplate": "Bins=high<br>VM=MAE<sub>Huge</sub><br>LM=%{x}<br>P@100=%{y}<extra></extra>",
         "legendgroup": "high",
         "marker": {
          "color": "rgb(251,128,114)",
          "opacity": 0.8,
          "pattern": {
           "shape": ""
          }
         },
         "name": "high",
         "offsetgroup": "high",
         "orientation": "v",
         "showlegend": true,
         "textposition": "auto",
         "type": "bar",
         "x": [
          "BERT<sub>TINY</sub>",
          "BERT<sub>MINI</sub>",
          "BERT<sub>SMALL</sub>",
          "BERT<sub>MEDIUM</sub>",
          "BERT<sub>BASE</sub>",
          "GPT2<sub>BASE</sub>",
          "OPT<sub>125M</sub>",
          "GPT2<sub>LARGE</sub>",
          "OPT<sub>6.7B</sub>",
          "Llama-2<sub>7B</sub>"
         ],
         "xaxis": "x",
         "y": [
          6.4,
          12.6,
          17,
          17.9,
          27,
          6.9,
          27.3,
          37,
          49.7,
          34.7
         ],
         "yaxis": "y"
        },
        {
         "alignmentgroup": "True",
         "hovertemplate": "Bins=high<br>VM=ResNet152<br>LM=%{x}<br>P@100=%{y}<extra></extra>",
         "legendgroup": "high",
         "marker": {
          "color": "rgb(251,128,114)",
          "opacity": 0.8,
          "pattern": {
           "shape": ""
          }
         },
         "name": "high",
         "offsetgroup": "high",
         "orientation": "v",
         "showlegend": false,
         "textposition": "auto",
         "type": "bar",
         "x": [
          "BERT<sub>TINY</sub>",
          "BERT<sub>MINI</sub>",
          "BERT<sub>SMALL</sub>",
          "BERT<sub>MEDIUM</sub>",
          "BERT<sub>BASE</sub>",
          "GPT2<sub>BASE</sub>",
          "OPT<sub>125M</sub>",
          "GPT2<sub>LARGE</sub>",
          "OPT<sub>6.7B</sub>",
          "Llama-2<sub>7B</sub>"
         ],
         "xaxis": "x2",
         "y": [
          15.3,
          21.7,
          27.2,
          29.2,
          39.7,
          10.4,
          35.8,
          44.5,
          55.4,
          47.4
         ],
         "yaxis": "y2"
        },
        {
         "alignmentgroup": "True",
         "hovertemplate": "Bins=high<br>VM=SegFormer<sub>B5</sub><br>LM=%{x}<br>P@100=%{y}<extra></extra>",
         "legendgroup": "high",
         "marker": {
          "color": "rgb(251,128,114)",
          "opacity": 0.8,
          "pattern": {
           "shape": ""
          }
         },
         "name": "high",
         "offsetgroup": "high",
         "orientation": "v",
         "showlegend": false,
         "textposition": "auto",
         "type": "bar",
         "x": [
          "BERT<sub>TINY</sub>",
          "BERT<sub>MINI</sub>",
          "BERT<sub>SMALL</sub>",
          "BERT<sub>MEDIUM</sub>",
          "BERT<sub>BASE</sub>",
          "GPT2<sub>BASE</sub>",
          "OPT<sub>125M</sub>",
          "GPT2<sub>LARGE</sub>",
          "OPT<sub>6.7B</sub>",
          "Llama-2<sub>7B</sub>"
         ],
         "xaxis": "x3",
         "y": [
          13.5,
          21.1,
          27.8,
          29.7,
          39.5,
          10.6,
          36.4,
          44.8,
          55.7,
          43
         ],
         "yaxis": "y3"
        }
       ],
       "layout": {
        "annotations": [
         {
          "font": {},
          "showarrow": false,
          "text": "MAE<sub>Huge</sub>",
          "x": 0.15999999999999998,
          "xanchor": "center",
          "xref": "paper",
          "y": 1,
          "yanchor": "bottom",
          "yref": "paper"
         },
         {
          "font": {},
          "showarrow": false,
          "text": "ResNet152",
          "x": 0.49999999999999994,
          "xanchor": "center",
          "xref": "paper",
          "y": 1,
          "yanchor": "bottom",
          "yref": "paper"
         },
         {
          "font": {},
          "showarrow": false,
          "text": "SegFormer<sub>B5</sub>",
          "x": 0.8399999999999999,
          "xanchor": "center",
          "xref": "paper",
          "y": 1,
          "yanchor": "bottom",
          "yref": "paper"
         }
        ],
        "barmode": "overlay",
        "font": {
         "size": 30
        },
        "height": 500,
        "legend": {
         "title": {
          "font": {
           "size": 30
          },
          "text": "Img Disp."
         },
         "tracegroupgap": 0
        },
        "margin": {
         "t": 60
        },
        "showlegend": true,
        "template": {
         "data": {
          "bar": [
           {
            "error_x": {
             "color": "#2a3f5f"
            },
            "error_y": {
             "color": "#2a3f5f"
            },
            "marker": {
             "line": {
              "color": "white",
              "width": 0.5
             },
             "pattern": {
              "fillmode": "overlay",
              "size": 10,
              "solidity": 0.2
             }
            },
            "type": "bar"
           }
          ],
          "barpolar": [
           {
            "marker": {
             "line": {
              "color": "white",
              "width": 0.5
             },
             "pattern": {
              "fillmode": "overlay",
              "size": 10,
              "solidity": 0.2
             }
            },
            "type": "barpolar"
           }
          ],
          "carpet": [
           {
            "aaxis": {
             "endlinecolor": "#2a3f5f",
             "gridcolor": "#C8D4E3",
             "linecolor": "#C8D4E3",
             "minorgridcolor": "#C8D4E3",
             "startlinecolor": "#2a3f5f"
            },
            "baxis": {
             "endlinecolor": "#2a3f5f",
             "gridcolor": "#C8D4E3",
             "linecolor": "#C8D4E3",
             "minorgridcolor": "#C8D4E3",
             "startlinecolor": "#2a3f5f"
            },
            "type": "carpet"
           }
          ],
          "choropleth": [
           {
            "colorbar": {
             "outlinewidth": 0,
             "ticks": ""
            },
            "type": "choropleth"
           }
          ],
          "contour": [
           {
            "colorbar": {
             "outlinewidth": 0,
             "ticks": ""
            },
            "colorscale": [
             [
              0,
              "#0d0887"
             ],
             [
              0.1111111111111111,
              "#46039f"
             ],
             [
              0.2222222222222222,
              "#7201a8"
             ],
             [
              0.3333333333333333,
              "#9c179e"
             ],
             [
              0.4444444444444444,
              "#bd3786"
             ],
             [
              0.5555555555555556,
              "#d8576b"
             ],
             [
              0.6666666666666666,
              "#ed7953"
             ],
             [
              0.7777777777777778,
              "#fb9f3a"
             ],
             [
              0.8888888888888888,
              "#fdca26"
             ],
             [
              1,
              "#f0f921"
             ]
            ],
            "type": "contour"
           }
          ],
          "contourcarpet": [
           {
            "colorbar": {
             "outlinewidth": 0,
             "ticks": ""
            },
            "type": "contourcarpet"
           }
          ],
          "heatmap": [
           {
            "colorbar": {
             "outlinewidth": 0,
             "ticks": ""
            },
            "colorscale": [
             [
              0,
              "#0d0887"
             ],
             [
              0.1111111111111111,
              "#46039f"
             ],
             [
              0.2222222222222222,
              "#7201a8"
             ],
             [
              0.3333333333333333,
              "#9c179e"
             ],
             [
              0.4444444444444444,
              "#bd3786"
             ],
             [
              0.5555555555555556,
              "#d8576b"
             ],
             [
              0.6666666666666666,
              "#ed7953"
             ],
             [
              0.7777777777777778,
              "#fb9f3a"
             ],
             [
              0.8888888888888888,
              "#fdca26"
             ],
             [
              1,
              "#f0f921"
             ]
            ],
            "type": "heatmap"
           }
          ],
          "heatmapgl": [
           {
            "colorbar": {
             "outlinewidth": 0,
             "ticks": ""
            },
            "colorscale": [
             [
              0,
              "#0d0887"
             ],
             [
              0.1111111111111111,
              "#46039f"
             ],
             [
              0.2222222222222222,
              "#7201a8"
             ],
             [
              0.3333333333333333,
              "#9c179e"
             ],
             [
              0.4444444444444444,
              "#bd3786"
             ],
             [
              0.5555555555555556,
              "#d8576b"
             ],
             [
              0.6666666666666666,
              "#ed7953"
             ],
             [
              0.7777777777777778,
              "#fb9f3a"
             ],
             [
              0.8888888888888888,
              "#fdca26"
             ],
             [
              1,
              "#f0f921"
             ]
            ],
            "type": "heatmapgl"
           }
          ],
          "histogram": [
           {
            "marker": {
             "pattern": {
              "fillmode": "overlay",
              "size": 10,
              "solidity": 0.2
             }
            },
            "type": "histogram"
           }
          ],
          "histogram2d": [
           {
            "colorbar": {
             "outlinewidth": 0,
             "ticks": ""
            },
            "colorscale": [
             [
              0,
              "#0d0887"
             ],
             [
              0.1111111111111111,
              "#46039f"
             ],
             [
              0.2222222222222222,
              "#7201a8"
             ],
             [
              0.3333333333333333,
              "#9c179e"
             ],
             [
              0.4444444444444444,
              "#bd3786"
             ],
             [
              0.5555555555555556,
              "#d8576b"
             ],
             [
              0.6666666666666666,
              "#ed7953"
             ],
             [
              0.7777777777777778,
              "#fb9f3a"
             ],
             [
              0.8888888888888888,
              "#fdca26"
             ],
             [
              1,
              "#f0f921"
             ]
            ],
            "type": "histogram2d"
           }
          ],
          "histogram2dcontour": [
           {
            "colorbar": {
             "outlinewidth": 0,
             "ticks": ""
            },
            "colorscale": [
             [
              0,
              "#0d0887"
             ],
             [
              0.1111111111111111,
              "#46039f"
             ],
             [
              0.2222222222222222,
              "#7201a8"
             ],
             [
              0.3333333333333333,
              "#9c179e"
             ],
             [
              0.4444444444444444,
              "#bd3786"
             ],
             [
              0.5555555555555556,
              "#d8576b"
             ],
             [
              0.6666666666666666,
              "#ed7953"
             ],
             [
              0.7777777777777778,
              "#fb9f3a"
             ],
             [
              0.8888888888888888,
              "#fdca26"
             ],
             [
              1,
              "#f0f921"
             ]
            ],
            "type": "histogram2dcontour"
           }
          ],
          "mesh3d": [
           {
            "colorbar": {
             "outlinewidth": 0,
             "ticks": ""
            },
            "type": "mesh3d"
           }
          ],
          "parcoords": [
           {
            "line": {
             "colorbar": {
              "outlinewidth": 0,
              "ticks": ""
             }
            },
            "type": "parcoords"
           }
          ],
          "pie": [
           {
            "automargin": true,
            "type": "pie"
           }
          ],
          "scatter": [
           {
            "fillpattern": {
             "fillmode": "overlay",
             "size": 10,
             "solidity": 0.2
            },
            "type": "scatter"
           }
          ],
          "scatter3d": [
           {
            "line": {
             "colorbar": {
              "outlinewidth": 0,
              "ticks": ""
             }
            },
            "marker": {
             "colorbar": {
              "outlinewidth": 0,
              "ticks": ""
             }
            },
            "type": "scatter3d"
           }
          ],
          "scattercarpet": [
           {
            "marker": {
             "colorbar": {
              "outlinewidth": 0,
              "ticks": ""
             }
            },
            "type": "scattercarpet"
           }
          ],
          "scattergeo": [
           {
            "marker": {
             "colorbar": {
              "outlinewidth": 0,
              "ticks": ""
             }
            },
            "type": "scattergeo"
           }
          ],
          "scattergl": [
           {
            "marker": {
             "colorbar": {
              "outlinewidth": 0,
              "ticks": ""
             }
            },
            "type": "scattergl"
           }
          ],
          "scattermapbox": [
           {
            "marker": {
             "colorbar": {
              "outlinewidth": 0,
              "ticks": ""
             }
            },
            "type": "scattermapbox"
           }
          ],
          "scatterpolar": [
           {
            "marker": {
             "colorbar": {
              "outlinewidth": 0,
              "ticks": ""
             }
            },
            "type": "scatterpolar"
           }
          ],
          "scatterpolargl": [
           {
            "marker": {
             "colorbar": {
              "outlinewidth": 0,
              "ticks": ""
             }
            },
            "type": "scatterpolargl"
           }
          ],
          "scatterternary": [
           {
            "marker": {
             "colorbar": {
              "outlinewidth": 0,
              "ticks": ""
             }
            },
            "type": "scatterternary"
           }
          ],
          "surface": [
           {
            "colorbar": {
             "outlinewidth": 0,
             "ticks": ""
            },
            "colorscale": [
             [
              0,
              "#0d0887"
             ],
             [
              0.1111111111111111,
              "#46039f"
             ],
             [
              0.2222222222222222,
              "#7201a8"
             ],
             [
              0.3333333333333333,
              "#9c179e"
             ],
             [
              0.4444444444444444,
              "#bd3786"
             ],
             [
              0.5555555555555556,
              "#d8576b"
             ],
             [
              0.6666666666666666,
              "#ed7953"
             ],
             [
              0.7777777777777778,
              "#fb9f3a"
             ],
             [
              0.8888888888888888,
              "#fdca26"
             ],
             [
              1,
              "#f0f921"
             ]
            ],
            "type": "surface"
           }
          ],
          "table": [
           {
            "cells": {
             "fill": {
              "color": "#EBF0F8"
             },
             "line": {
              "color": "white"
             }
            },
            "header": {
             "fill": {
              "color": "#C8D4E3"
             },
             "line": {
              "color": "white"
             }
            },
            "type": "table"
           }
          ]
         },
         "layout": {
          "annotationdefaults": {
           "arrowcolor": "#2a3f5f",
           "arrowhead": 0,
           "arrowwidth": 1
          },
          "autotypenumbers": "strict",
          "coloraxis": {
           "colorbar": {
            "outlinewidth": 0,
            "ticks": ""
           }
          },
          "colorscale": {
           "diverging": [
            [
             0,
             "#8e0152"
            ],
            [
             0.1,
             "#c51b7d"
            ],
            [
             0.2,
             "#de77ae"
            ],
            [
             0.3,
             "#f1b6da"
            ],
            [
             0.4,
             "#fde0ef"
            ],
            [
             0.5,
             "#f7f7f7"
            ],
            [
             0.6,
             "#e6f5d0"
            ],
            [
             0.7,
             "#b8e186"
            ],
            [
             0.8,
             "#7fbc41"
            ],
            [
             0.9,
             "#4d9221"
            ],
            [
             1,
             "#276419"
            ]
           ],
           "sequential": [
            [
             0,
             "#0d0887"
            ],
            [
             0.1111111111111111,
             "#46039f"
            ],
            [
             0.2222222222222222,
             "#7201a8"
            ],
            [
             0.3333333333333333,
             "#9c179e"
            ],
            [
             0.4444444444444444,
             "#bd3786"
            ],
            [
             0.5555555555555556,
             "#d8576b"
            ],
            [
             0.6666666666666666,
             "#ed7953"
            ],
            [
             0.7777777777777778,
             "#fb9f3a"
            ],
            [
             0.8888888888888888,
             "#fdca26"
            ],
            [
             1,
             "#f0f921"
            ]
           ],
           "sequentialminus": [
            [
             0,
             "#0d0887"
            ],
            [
             0.1111111111111111,
             "#46039f"
            ],
            [
             0.2222222222222222,
             "#7201a8"
            ],
            [
             0.3333333333333333,
             "#9c179e"
            ],
            [
             0.4444444444444444,
             "#bd3786"
            ],
            [
             0.5555555555555556,
             "#d8576b"
            ],
            [
             0.6666666666666666,
             "#ed7953"
            ],
            [
             0.7777777777777778,
             "#fb9f3a"
            ],
            [
             0.8888888888888888,
             "#fdca26"
            ],
            [
             1,
             "#f0f921"
            ]
           ]
          },
          "colorway": [
           "#636efa",
           "#EF553B",
           "#00cc96",
           "#ab63fa",
           "#FFA15A",
           "#19d3f3",
           "#FF6692",
           "#B6E880",
           "#FF97FF",
           "#FECB52"
          ],
          "font": {
           "color": "#2a3f5f"
          },
          "geo": {
           "bgcolor": "white",
           "lakecolor": "white",
           "landcolor": "white",
           "showlakes": true,
           "showland": true,
           "subunitcolor": "#C8D4E3"
          },
          "hoverlabel": {
           "align": "left"
          },
          "hovermode": "closest",
          "mapbox": {
           "style": "light"
          },
          "paper_bgcolor": "white",
          "plot_bgcolor": "white",
          "polar": {
           "angularaxis": {
            "gridcolor": "#EBF0F8",
            "linecolor": "#EBF0F8",
            "ticks": ""
           },
           "bgcolor": "white",
           "radialaxis": {
            "gridcolor": "#EBF0F8",
            "linecolor": "#EBF0F8",
            "ticks": ""
           }
          },
          "scene": {
           "xaxis": {
            "backgroundcolor": "white",
            "gridcolor": "#DFE8F3",
            "gridwidth": 2,
            "linecolor": "#EBF0F8",
            "showbackground": true,
            "ticks": "",
            "zerolinecolor": "#EBF0F8"
           },
           "yaxis": {
            "backgroundcolor": "white",
            "gridcolor": "#DFE8F3",
            "gridwidth": 2,
            "linecolor": "#EBF0F8",
            "showbackground": true,
            "ticks": "",
            "zerolinecolor": "#EBF0F8"
           },
           "zaxis": {
            "backgroundcolor": "white",
            "gridcolor": "#DFE8F3",
            "gridwidth": 2,
            "linecolor": "#EBF0F8",
            "showbackground": true,
            "ticks": "",
            "zerolinecolor": "#EBF0F8"
           }
          },
          "shapedefaults": {
           "line": {
            "color": "#2a3f5f"
           }
          },
          "ternary": {
           "aaxis": {
            "gridcolor": "#DFE8F3",
            "linecolor": "#A2B1C6",
            "ticks": ""
           },
           "baxis": {
            "gridcolor": "#DFE8F3",
            "linecolor": "#A2B1C6",
            "ticks": ""
           },
           "bgcolor": "white",
           "caxis": {
            "gridcolor": "#DFE8F3",
            "linecolor": "#A2B1C6",
            "ticks": ""
           }
          },
          "title": {
           "x": 0.05
          },
          "xaxis": {
           "automargin": true,
           "gridcolor": "#EBF0F8",
           "linecolor": "#EBF0F8",
           "ticks": "",
           "title": {
            "standoff": 15
           },
           "zerolinecolor": "#EBF0F8",
           "zerolinewidth": 2
          },
          "yaxis": {
           "automargin": true,
           "gridcolor": "#EBF0F8",
           "linecolor": "#EBF0F8",
           "ticks": "",
           "title": {
            "standoff": 15
           },
           "zerolinecolor": "#EBF0F8",
           "zerolinewidth": 2
          }
         }
        },
        "width": 1500,
        "xaxis": {
         "anchor": "y",
         "domain": [
          0,
          0.31999999999999995
         ],
         "tickfont": {
          "size": 20
         },
         "title": {
          "text": ""
         }
        },
        "xaxis2": {
         "anchor": "y2",
         "domain": [
          0.33999999999999997,
          0.6599999999999999
         ],
         "matches": "x",
         "tickfont": {
          "size": 20
         },
         "title": {
          "text": ""
         }
        },
        "xaxis3": {
         "anchor": "y3",
         "domain": [
          0.6799999999999999,
          0.9999999999999999
         ],
         "matches": "x",
         "tickfont": {
          "size": 20
         },
         "title": {
          "text": ""
         }
        },
        "yaxis": {
         "anchor": "x",
         "domain": [
          0,
          1
         ],
         "tickfont": {
          "size": 25
         },
         "title": {
          "font": {
           "size": 30
          },
          "text": "P@100"
         }
        },
        "yaxis2": {
         "anchor": "x2",
         "domain": [
          0,
          1
         ],
         "matches": "y",
         "showticklabels": false
        },
        "yaxis3": {
         "anchor": "x3",
         "domain": [
          0,
          1
         ],
         "matches": "y",
         "showticklabels": false
        }
       }
      }
     },
     "metadata": {},
     "output_type": "display_data"
    }
   ],
   "source": [
    "import plotly.express as px\n",
    "# import plotly.graph_objects as go\n",
    "\n",
    "# fig = go.Figure()\n",
    "traces = []\n",
    "# df['VM_Bins'] = table2['VM'] + '_' + table2['Bins']\n",
    "color_scale = px.colors.qualitative.Set3\n",
    "\n",
    "# Create stacked and grouped bar chart\n",
    "fig = px.bar(table2, x='LM', y='P@100-CSLS', color='Bins', facet_col=\"VM\",\n",
    "             labels={'P@100-CSLS': 'P@100'},\n",
    "            #  facet_col_wrap=3,\n",
    "            #  category_orders={'VM': ['MAE-Huge', 'ResNet152', 'SegFormer-B5']},\n",
    "             color_discrete_map={'low': color_scale[5],\"medium\":color_scale[0],\"high\":color_scale[3]},\n",
    "             height=500, width=1500,\n",
    "             \n",
    "            #  facet_col_titles='none'\n",
    "            #  barmode=\"group\"\n",
    "             )\n",
    "\n",
    "\n",
    "for i, trace in enumerate(fig.data):\n",
    "    # trace.marker.color = color_scale[i%3]  # Set color\n",
    "    trace.marker.opacity = 0.8  # Set opacity\n",
    "\n",
    "\n",
    "# Update layout for better appearance\n",
    "fig.update_layout(barmode='overlay', showlegend=True,\n",
    "                  font=dict(size=30),\n",
    "                  yaxis=dict(title=dict(text='P@100', font=dict(size=30)), tickfont=dict(size=25)),  # Change y-axis font size\n",
    "                  legend=dict(title=dict(text='Img Disp.', font=dict(size=30))),\n",
    "                  xaxis=dict(title=dict(text=''),tickfont=dict(size=20)),\n",
    "                  xaxis2=dict(title=dict(text=''),tickfont=dict(size=20)),\n",
    "                  xaxis3=dict(title=dict(text=''),tickfont=dict(size=20)),\n",
    "                  template=\"plotly_white\"\n",
    "                  ) \n",
    "\n",
    "fig.for_each_annotation(lambda a: a.update(text=a.text.split(\"=\")[-1]))\n",
    "\n",
    "# fig.update_xaxes(title_text='', showgrid=False)\n",
    "\n",
    "# fig.update_xaxes(title_font=dict(size=20), tickfont=dict(size=20))\n",
    "\n",
    "# Show the plot\n",
    "fig.show()\n",
    "# fig.write_image(f\"img_disp_remain_{set_name}.pdf\")"
   ]
  },
  {
   "cell_type": "code",
   "execution_count": 10,
   "metadata": {},
   "outputs": [
    {
     "data": {
      "application/vnd.plotly.v1+json": {
       "config": {
        "plotlyServerURL": "https://plot.ly"
       },
       "data": [
        {
         "hovertemplate": "Bins=low<br>VM=MAE<sub>Huge</sub><br>LM=%{x}<br>P@100=%{y}<extra></extra>",
         "legendgroup": "low",
         "marker": {
          "color": "rgb(253,180,98)",
          "opacity": 1,
          "size": 15,
          "symbol": "circle"
         },
         "mode": "markers",
         "name": "low",
         "orientation": "v",
         "showlegend": true,
         "type": "scatter",
         "x": [
          "BERT<sub>TINY</sub>",
          "BERT<sub>MINI</sub>",
          "BERT<sub>SMALL</sub>",
          "BERT<sub>MEDIUM</sub>",
          "BERT<sub>BASE</sub>",
          "GPT2<sub>BASE</sub>",
          "OPT<sub>125M</sub>",
          "GPT2<sub>LARGE</sub>",
          "OPT<sub>6.7B</sub>",
          "Llama-2<sub>7B</sub>"
         ],
         "xaxis": "x",
         "y": [
          14.9,
          21.5,
          28.6,
          29.4,
          37.4,
          6.2,
          33.8,
          39.9,
          54.4,
          45
         ],
         "yaxis": "y"
        },
        {
         "hovertemplate": "Bins=low<br>VM=ResNet152<br>LM=%{x}<br>P@100=%{y}<extra></extra>",
         "legendgroup": "low",
         "marker": {
          "color": "rgb(253,180,98)",
          "opacity": 1,
          "size": 15,
          "symbol": "circle"
         },
         "mode": "markers",
         "name": "low",
         "orientation": "v",
         "showlegend": false,
         "type": "scatter",
         "x": [
          "BERT<sub>TINY</sub>",
          "BERT<sub>MINI</sub>",
          "BERT<sub>SMALL</sub>",
          "BERT<sub>MEDIUM</sub>",
          "BERT<sub>BASE</sub>",
          "GPT2<sub>BASE</sub>",
          "OPT<sub>125M</sub>",
          "GPT2<sub>LARGE</sub>",
          "OPT<sub>6.7B</sub>",
          "Llama-2<sub>7B</sub>"
         ],
         "xaxis": "x2",
         "y": [
          20,
          29,
          37.4,
          38.2,
          48.1,
          15.3,
          44.1,
          53.1,
          67.5,
          65.2
         ],
         "yaxis": "y2"
        },
        {
         "hovertemplate": "Bins=low<br>VM=SegFormer<sub>B5</sub><br>LM=%{x}<br>P@100=%{y}<extra></extra>",
         "legendgroup": "low",
         "marker": {
          "color": "rgb(253,180,98)",
          "opacity": 1,
          "size": 15,
          "symbol": "circle"
         },
         "mode": "markers",
         "name": "low",
         "orientation": "v",
         "showlegend": false,
         "type": "scatter",
         "x": [
          "BERT<sub>TINY</sub>",
          "BERT<sub>MINI</sub>",
          "BERT<sub>SMALL</sub>",
          "BERT<sub>MEDIUM</sub>",
          "BERT<sub>BASE</sub>",
          "GPT2<sub>BASE</sub>",
          "OPT<sub>125M</sub>",
          "GPT2<sub>LARGE</sub>",
          "OPT<sub>6.7B</sub>",
          "Llama-2<sub>7B</sub>"
         ],
         "xaxis": "x3",
         "y": [
          14.9,
          23.5,
          31.5,
          32.6,
          40.8,
          11.9,
          38.7,
          44.2,
          58.8,
          52.3
         ],
         "yaxis": "y3"
        },
        {
         "hovertemplate": "Bins=medium<br>VM=MAE<sub>Huge</sub><br>LM=%{x}<br>P@100=%{y}<extra></extra>",
         "legendgroup": "medium",
         "marker": {
          "color": "rgb(141,211,199)",
          "opacity": 0.6,
          "size": 15,
          "symbol": "diamond"
         },
         "mode": "markers",
         "name": "medium",
         "orientation": "v",
         "showlegend": true,
         "type": "scatter",
         "x": [
          "BERT<sub>TINY</sub>",
          "BERT<sub>MINI</sub>",
          "BERT<sub>SMALL</sub>",
          "BERT<sub>MEDIUM</sub>",
          "BERT<sub>BASE</sub>",
          "GPT2<sub>BASE</sub>",
          "OPT<sub>125M</sub>",
          "GPT2<sub>LARGE</sub>",
          "OPT<sub>6.7B</sub>",
          "Llama-2<sub>7B</sub>"
         ],
         "xaxis": "x",
         "y": [
          12.2,
          19.8,
          25.4,
          26.4,
          36.5,
          8.2,
          33.1,
          40.3,
          52.3,
          42.7
         ],
         "yaxis": "y"
        },
        {
         "hovertemplate": "Bins=medium<br>VM=ResNet152<br>LM=%{x}<br>P@100=%{y}<extra></extra>",
         "legendgroup": "medium",
         "marker": {
          "color": "rgb(141,211,199)",
          "opacity": 0.6,
          "size": 15,
          "symbol": "diamond"
         },
         "mode": "markers",
         "name": "medium",
         "orientation": "v",
         "showlegend": false,
         "type": "scatter",
         "x": [
          "BERT<sub>TINY</sub>",
          "BERT<sub>MINI</sub>",
          "BERT<sub>SMALL</sub>",
          "BERT<sub>MEDIUM</sub>",
          "BERT<sub>BASE</sub>",
          "GPT2<sub>BASE</sub>",
          "OPT<sub>125M</sub>",
          "GPT2<sub>LARGE</sub>",
          "OPT<sub>6.7B</sub>",
          "Llama-2<sub>7B</sub>"
         ],
         "xaxis": "x2",
         "y": [
          18.4,
          24.5,
          32,
          34.4,
          42.7,
          13.1,
          41.9,
          48.3,
          61,
          52.5
         ],
         "yaxis": "y2"
        },
        {
         "hovertemplate": "Bins=medium<br>VM=SegFormer<sub>B5</sub><br>LM=%{x}<br>P@100=%{y}<extra></extra>",
         "legendgroup": "medium",
         "marker": {
          "color": "rgb(141,211,199)",
          "opacity": 0.6,
          "size": 15,
          "symbol": "diamond"
         },
         "mode": "markers",
         "name": "medium",
         "orientation": "v",
         "showlegend": false,
         "type": "scatter",
         "x": [
          "BERT<sub>TINY</sub>",
          "BERT<sub>MINI</sub>",
          "BERT<sub>SMALL</sub>",
          "BERT<sub>MEDIUM</sub>",
          "BERT<sub>BASE</sub>",
          "GPT2<sub>BASE</sub>",
          "OPT<sub>125M</sub>",
          "GPT2<sub>LARGE</sub>",
          "OPT<sub>6.7B</sub>",
          "Llama-2<sub>7B</sub>"
         ],
         "xaxis": "x3",
         "y": [
          14.2,
          22.4,
          29.1,
          30.8,
          40,
          12.8,
          37.7,
          45.6,
          57.6,
          48
         ],
         "yaxis": "y3"
        },
        {
         "hovertemplate": "Bins=high<br>VM=MAE<sub>Huge</sub><br>LM=%{x}<br>P@100=%{y}<extra></extra>",
         "legendgroup": "high",
         "marker": {
          "color": "rgb(251,128,114)",
          "opacity": 0.5,
          "size": 15,
          "symbol": "square"
         },
         "mode": "markers",
         "name": "high",
         "orientation": "v",
         "showlegend": true,
         "type": "scatter",
         "x": [
          "BERT<sub>TINY</sub>",
          "BERT<sub>MINI</sub>",
          "BERT<sub>SMALL</sub>",
          "BERT<sub>MEDIUM</sub>",
          "BERT<sub>BASE</sub>",
          "GPT2<sub>BASE</sub>",
          "OPT<sub>125M</sub>",
          "GPT2<sub>LARGE</sub>",
          "OPT<sub>6.7B</sub>",
          "Llama-2<sub>7B</sub>"
         ],
         "xaxis": "x",
         "y": [
          6.4,
          12.6,
          17,
          17.9,
          27,
          6.9,
          27.3,
          37,
          49.7,
          34.7
         ],
         "yaxis": "y"
        },
        {
         "hovertemplate": "Bins=high<br>VM=ResNet152<br>LM=%{x}<br>P@100=%{y}<extra></extra>",
         "legendgroup": "high",
         "marker": {
          "color": "rgb(251,128,114)",
          "opacity": 0.5,
          "size": 15,
          "symbol": "square"
         },
         "mode": "markers",
         "name": "high",
         "orientation": "v",
         "showlegend": false,
         "type": "scatter",
         "x": [
          "BERT<sub>TINY</sub>",
          "BERT<sub>MINI</sub>",
          "BERT<sub>SMALL</sub>",
          "BERT<sub>MEDIUM</sub>",
          "BERT<sub>BASE</sub>",
          "GPT2<sub>BASE</sub>",
          "OPT<sub>125M</sub>",
          "GPT2<sub>LARGE</sub>",
          "OPT<sub>6.7B</sub>",
          "Llama-2<sub>7B</sub>"
         ],
         "xaxis": "x2",
         "y": [
          15.3,
          21.7,
          27.2,
          29.2,
          39.7,
          10.4,
          35.8,
          44.5,
          55.4,
          47.4
         ],
         "yaxis": "y2"
        },
        {
         "hovertemplate": "Bins=high<br>VM=SegFormer<sub>B5</sub><br>LM=%{x}<br>P@100=%{y}<extra></extra>",
         "legendgroup": "high",
         "marker": {
          "color": "rgb(251,128,114)",
          "opacity": 0.5,
          "size": 15,
          "symbol": "square"
         },
         "mode": "markers",
         "name": "high",
         "orientation": "v",
         "showlegend": false,
         "type": "scatter",
         "x": [
          "BERT<sub>TINY</sub>",
          "BERT<sub>MINI</sub>",
          "BERT<sub>SMALL</sub>",
          "BERT<sub>MEDIUM</sub>",
          "BERT<sub>BASE</sub>",
          "GPT2<sub>BASE</sub>",
          "OPT<sub>125M</sub>",
          "GPT2<sub>LARGE</sub>",
          "OPT<sub>6.7B</sub>",
          "Llama-2<sub>7B</sub>"
         ],
         "xaxis": "x3",
         "y": [
          13.5,
          21.1,
          27.8,
          29.7,
          39.5,
          10.6,
          36.4,
          44.8,
          55.7,
          43
         ],
         "yaxis": "y3"
        }
       ],
       "layout": {
        "annotations": [
         {
          "font": {},
          "showarrow": false,
          "text": "MAE<sub>Huge</sub>",
          "x": 0.15999999999999998,
          "xanchor": "center",
          "xref": "paper",
          "y": 1,
          "yanchor": "bottom",
          "yref": "paper"
         },
         {
          "font": {},
          "showarrow": false,
          "text": "ResNet152",
          "x": 0.49999999999999994,
          "xanchor": "center",
          "xref": "paper",
          "y": 1,
          "yanchor": "bottom",
          "yref": "paper"
         },
         {
          "font": {},
          "showarrow": false,
          "text": "SegFormer<sub>B5</sub>",
          "x": 0.8399999999999999,
          "xanchor": "center",
          "xref": "paper",
          "y": 1,
          "yanchor": "bottom",
          "yref": "paper"
         }
        ],
        "barmode": "group",
        "font": {
         "size": 30
        },
        "height": 500,
        "legend": {
         "title": {
          "font": {
           "size": 30
          },
          "text": "Img Disp."
         },
         "tracegroupgap": 0
        },
        "margin": {
         "t": 60
        },
        "showlegend": true,
        "template": {
         "data": {
          "bar": [
           {
            "error_x": {
             "color": "#2a3f5f"
            },
            "error_y": {
             "color": "#2a3f5f"
            },
            "marker": {
             "line": {
              "color": "white",
              "width": 0.5
             },
             "pattern": {
              "fillmode": "overlay",
              "size": 10,
              "solidity": 0.2
             }
            },
            "type": "bar"
           }
          ],
          "barpolar": [
           {
            "marker": {
             "line": {
              "color": "white",
              "width": 0.5
             },
             "pattern": {
              "fillmode": "overlay",
              "size": 10,
              "solidity": 0.2
             }
            },
            "type": "barpolar"
           }
          ],
          "carpet": [
           {
            "aaxis": {
             "endlinecolor": "#2a3f5f",
             "gridcolor": "#C8D4E3",
             "linecolor": "#C8D4E3",
             "minorgridcolor": "#C8D4E3",
             "startlinecolor": "#2a3f5f"
            },
            "baxis": {
             "endlinecolor": "#2a3f5f",
             "gridcolor": "#C8D4E3",
             "linecolor": "#C8D4E3",
             "minorgridcolor": "#C8D4E3",
             "startlinecolor": "#2a3f5f"
            },
            "type": "carpet"
           }
          ],
          "choropleth": [
           {
            "colorbar": {
             "outlinewidth": 0,
             "ticks": ""
            },
            "type": "choropleth"
           }
          ],
          "contour": [
           {
            "colorbar": {
             "outlinewidth": 0,
             "ticks": ""
            },
            "colorscale": [
             [
              0,
              "#0d0887"
             ],
             [
              0.1111111111111111,
              "#46039f"
             ],
             [
              0.2222222222222222,
              "#7201a8"
             ],
             [
              0.3333333333333333,
              "#9c179e"
             ],
             [
              0.4444444444444444,
              "#bd3786"
             ],
             [
              0.5555555555555556,
              "#d8576b"
             ],
             [
              0.6666666666666666,
              "#ed7953"
             ],
             [
              0.7777777777777778,
              "#fb9f3a"
             ],
             [
              0.8888888888888888,
              "#fdca26"
             ],
             [
              1,
              "#f0f921"
             ]
            ],
            "type": "contour"
           }
          ],
          "contourcarpet": [
           {
            "colorbar": {
             "outlinewidth": 0,
             "ticks": ""
            },
            "type": "contourcarpet"
           }
          ],
          "heatmap": [
           {
            "colorbar": {
             "outlinewidth": 0,
             "ticks": ""
            },
            "colorscale": [
             [
              0,
              "#0d0887"
             ],
             [
              0.1111111111111111,
              "#46039f"
             ],
             [
              0.2222222222222222,
              "#7201a8"
             ],
             [
              0.3333333333333333,
              "#9c179e"
             ],
             [
              0.4444444444444444,
              "#bd3786"
             ],
             [
              0.5555555555555556,
              "#d8576b"
             ],
             [
              0.6666666666666666,
              "#ed7953"
             ],
             [
              0.7777777777777778,
              "#fb9f3a"
             ],
             [
              0.8888888888888888,
              "#fdca26"
             ],
             [
              1,
              "#f0f921"
             ]
            ],
            "type": "heatmap"
           }
          ],
          "heatmapgl": [
           {
            "colorbar": {
             "outlinewidth": 0,
             "ticks": ""
            },
            "colorscale": [
             [
              0,
              "#0d0887"
             ],
             [
              0.1111111111111111,
              "#46039f"
             ],
             [
              0.2222222222222222,
              "#7201a8"
             ],
             [
              0.3333333333333333,
              "#9c179e"
             ],
             [
              0.4444444444444444,
              "#bd3786"
             ],
             [
              0.5555555555555556,
              "#d8576b"
             ],
             [
              0.6666666666666666,
              "#ed7953"
             ],
             [
              0.7777777777777778,
              "#fb9f3a"
             ],
             [
              0.8888888888888888,
              "#fdca26"
             ],
             [
              1,
              "#f0f921"
             ]
            ],
            "type": "heatmapgl"
           }
          ],
          "histogram": [
           {
            "marker": {
             "pattern": {
              "fillmode": "overlay",
              "size": 10,
              "solidity": 0.2
             }
            },
            "type": "histogram"
           }
          ],
          "histogram2d": [
           {
            "colorbar": {
             "outlinewidth": 0,
             "ticks": ""
            },
            "colorscale": [
             [
              0,
              "#0d0887"
             ],
             [
              0.1111111111111111,
              "#46039f"
             ],
             [
              0.2222222222222222,
              "#7201a8"
             ],
             [
              0.3333333333333333,
              "#9c179e"
             ],
             [
              0.4444444444444444,
              "#bd3786"
             ],
             [
              0.5555555555555556,
              "#d8576b"
             ],
             [
              0.6666666666666666,
              "#ed7953"
             ],
             [
              0.7777777777777778,
              "#fb9f3a"
             ],
             [
              0.8888888888888888,
              "#fdca26"
             ],
             [
              1,
              "#f0f921"
             ]
            ],
            "type": "histogram2d"
           }
          ],
          "histogram2dcontour": [
           {
            "colorbar": {
             "outlinewidth": 0,
             "ticks": ""
            },
            "colorscale": [
             [
              0,
              "#0d0887"
             ],
             [
              0.1111111111111111,
              "#46039f"
             ],
             [
              0.2222222222222222,
              "#7201a8"
             ],
             [
              0.3333333333333333,
              "#9c179e"
             ],
             [
              0.4444444444444444,
              "#bd3786"
             ],
             [
              0.5555555555555556,
              "#d8576b"
             ],
             [
              0.6666666666666666,
              "#ed7953"
             ],
             [
              0.7777777777777778,
              "#fb9f3a"
             ],
             [
              0.8888888888888888,
              "#fdca26"
             ],
             [
              1,
              "#f0f921"
             ]
            ],
            "type": "histogram2dcontour"
           }
          ],
          "mesh3d": [
           {
            "colorbar": {
             "outlinewidth": 0,
             "ticks": ""
            },
            "type": "mesh3d"
           }
          ],
          "parcoords": [
           {
            "line": {
             "colorbar": {
              "outlinewidth": 0,
              "ticks": ""
             }
            },
            "type": "parcoords"
           }
          ],
          "pie": [
           {
            "automargin": true,
            "type": "pie"
           }
          ],
          "scatter": [
           {
            "fillpattern": {
             "fillmode": "overlay",
             "size": 10,
             "solidity": 0.2
            },
            "type": "scatter"
           }
          ],
          "scatter3d": [
           {
            "line": {
             "colorbar": {
              "outlinewidth": 0,
              "ticks": ""
             }
            },
            "marker": {
             "colorbar": {
              "outlinewidth": 0,
              "ticks": ""
             }
            },
            "type": "scatter3d"
           }
          ],
          "scattercarpet": [
           {
            "marker": {
             "colorbar": {
              "outlinewidth": 0,
              "ticks": ""
             }
            },
            "type": "scattercarpet"
           }
          ],
          "scattergeo": [
           {
            "marker": {
             "colorbar": {
              "outlinewidth": 0,
              "ticks": ""
             }
            },
            "type": "scattergeo"
           }
          ],
          "scattergl": [
           {
            "marker": {
             "colorbar": {
              "outlinewidth": 0,
              "ticks": ""
             }
            },
            "type": "scattergl"
           }
          ],
          "scattermapbox": [
           {
            "marker": {
             "colorbar": {
              "outlinewidth": 0,
              "ticks": ""
             }
            },
            "type": "scattermapbox"
           }
          ],
          "scatterpolar": [
           {
            "marker": {
             "colorbar": {
              "outlinewidth": 0,
              "ticks": ""
             }
            },
            "type": "scatterpolar"
           }
          ],
          "scatterpolargl": [
           {
            "marker": {
             "colorbar": {
              "outlinewidth": 0,
              "ticks": ""
             }
            },
            "type": "scatterpolargl"
           }
          ],
          "scatterternary": [
           {
            "marker": {
             "colorbar": {
              "outlinewidth": 0,
              "ticks": ""
             }
            },
            "type": "scatterternary"
           }
          ],
          "surface": [
           {
            "colorbar": {
             "outlinewidth": 0,
             "ticks": ""
            },
            "colorscale": [
             [
              0,
              "#0d0887"
             ],
             [
              0.1111111111111111,
              "#46039f"
             ],
             [
              0.2222222222222222,
              "#7201a8"
             ],
             [
              0.3333333333333333,
              "#9c179e"
             ],
             [
              0.4444444444444444,
              "#bd3786"
             ],
             [
              0.5555555555555556,
              "#d8576b"
             ],
             [
              0.6666666666666666,
              "#ed7953"
             ],
             [
              0.7777777777777778,
              "#fb9f3a"
             ],
             [
              0.8888888888888888,
              "#fdca26"
             ],
             [
              1,
              "#f0f921"
             ]
            ],
            "type": "surface"
           }
          ],
          "table": [
           {
            "cells": {
             "fill": {
              "color": "#EBF0F8"
             },
             "line": {
              "color": "white"
             }
            },
            "header": {
             "fill": {
              "color": "#C8D4E3"
             },
             "line": {
              "color": "white"
             }
            },
            "type": "table"
           }
          ]
         },
         "layout": {
          "annotationdefaults": {
           "arrowcolor": "#2a3f5f",
           "arrowhead": 0,
           "arrowwidth": 1
          },
          "autotypenumbers": "strict",
          "coloraxis": {
           "colorbar": {
            "outlinewidth": 0,
            "ticks": ""
           }
          },
          "colorscale": {
           "diverging": [
            [
             0,
             "#8e0152"
            ],
            [
             0.1,
             "#c51b7d"
            ],
            [
             0.2,
             "#de77ae"
            ],
            [
             0.3,
             "#f1b6da"
            ],
            [
             0.4,
             "#fde0ef"
            ],
            [
             0.5,
             "#f7f7f7"
            ],
            [
             0.6,
             "#e6f5d0"
            ],
            [
             0.7,
             "#b8e186"
            ],
            [
             0.8,
             "#7fbc41"
            ],
            [
             0.9,
             "#4d9221"
            ],
            [
             1,
             "#276419"
            ]
           ],
           "sequential": [
            [
             0,
             "#0d0887"
            ],
            [
             0.1111111111111111,
             "#46039f"
            ],
            [
             0.2222222222222222,
             "#7201a8"
            ],
            [
             0.3333333333333333,
             "#9c179e"
            ],
            [
             0.4444444444444444,
             "#bd3786"
            ],
            [
             0.5555555555555556,
             "#d8576b"
            ],
            [
             0.6666666666666666,
             "#ed7953"
            ],
            [
             0.7777777777777778,
             "#fb9f3a"
            ],
            [
             0.8888888888888888,
             "#fdca26"
            ],
            [
             1,
             "#f0f921"
            ]
           ],
           "sequentialminus": [
            [
             0,
             "#0d0887"
            ],
            [
             0.1111111111111111,
             "#46039f"
            ],
            [
             0.2222222222222222,
             "#7201a8"
            ],
            [
             0.3333333333333333,
             "#9c179e"
            ],
            [
             0.4444444444444444,
             "#bd3786"
            ],
            [
             0.5555555555555556,
             "#d8576b"
            ],
            [
             0.6666666666666666,
             "#ed7953"
            ],
            [
             0.7777777777777778,
             "#fb9f3a"
            ],
            [
             0.8888888888888888,
             "#fdca26"
            ],
            [
             1,
             "#f0f921"
            ]
           ]
          },
          "colorway": [
           "#636efa",
           "#EF553B",
           "#00cc96",
           "#ab63fa",
           "#FFA15A",
           "#19d3f3",
           "#FF6692",
           "#B6E880",
           "#FF97FF",
           "#FECB52"
          ],
          "font": {
           "color": "#2a3f5f"
          },
          "geo": {
           "bgcolor": "white",
           "lakecolor": "white",
           "landcolor": "white",
           "showlakes": true,
           "showland": true,
           "subunitcolor": "#C8D4E3"
          },
          "hoverlabel": {
           "align": "left"
          },
          "hovermode": "closest",
          "mapbox": {
           "style": "light"
          },
          "paper_bgcolor": "white",
          "plot_bgcolor": "white",
          "polar": {
           "angularaxis": {
            "gridcolor": "#EBF0F8",
            "linecolor": "#EBF0F8",
            "ticks": ""
           },
           "bgcolor": "white",
           "radialaxis": {
            "gridcolor": "#EBF0F8",
            "linecolor": "#EBF0F8",
            "ticks": ""
           }
          },
          "scene": {
           "xaxis": {
            "backgroundcolor": "white",
            "gridcolor": "#DFE8F3",
            "gridwidth": 2,
            "linecolor": "#EBF0F8",
            "showbackground": true,
            "ticks": "",
            "zerolinecolor": "#EBF0F8"
           },
           "yaxis": {
            "backgroundcolor": "white",
            "gridcolor": "#DFE8F3",
            "gridwidth": 2,
            "linecolor": "#EBF0F8",
            "showbackground": true,
            "ticks": "",
            "zerolinecolor": "#EBF0F8"
           },
           "zaxis": {
            "backgroundcolor": "white",
            "gridcolor": "#DFE8F3",
            "gridwidth": 2,
            "linecolor": "#EBF0F8",
            "showbackground": true,
            "ticks": "",
            "zerolinecolor": "#EBF0F8"
           }
          },
          "shapedefaults": {
           "line": {
            "color": "#2a3f5f"
           }
          },
          "ternary": {
           "aaxis": {
            "gridcolor": "#DFE8F3",
            "linecolor": "#A2B1C6",
            "ticks": ""
           },
           "baxis": {
            "gridcolor": "#DFE8F3",
            "linecolor": "#A2B1C6",
            "ticks": ""
           },
           "bgcolor": "white",
           "caxis": {
            "gridcolor": "#DFE8F3",
            "linecolor": "#A2B1C6",
            "ticks": ""
           }
          },
          "title": {
           "x": 0.05
          },
          "xaxis": {
           "automargin": true,
           "gridcolor": "#EBF0F8",
           "linecolor": "#EBF0F8",
           "ticks": "",
           "title": {
            "standoff": 15
           },
           "zerolinecolor": "#EBF0F8",
           "zerolinewidth": 2
          },
          "yaxis": {
           "automargin": true,
           "gridcolor": "#EBF0F8",
           "linecolor": "#EBF0F8",
           "ticks": "",
           "title": {
            "standoff": 15
           },
           "zerolinecolor": "#EBF0F8",
           "zerolinewidth": 2
          }
         }
        },
        "width": 1500,
        "xaxis": {
         "anchor": "y",
         "domain": [
          0,
          0.31999999999999995
         ],
         "tickfont": {
          "size": 20
         },
         "title": {
          "text": ""
         }
        },
        "xaxis2": {
         "anchor": "y2",
         "domain": [
          0.33999999999999997,
          0.6599999999999999
         ],
         "matches": "x",
         "tickfont": {
          "size": 20
         },
         "title": {
          "text": ""
         }
        },
        "xaxis3": {
         "anchor": "y3",
         "domain": [
          0.6799999999999999,
          0.9999999999999999
         ],
         "matches": "x",
         "tickfont": {
          "size": 20
         },
         "title": {
          "text": ""
         }
        },
        "xaxis4": {
         "tickfont": {
          "size": 20
         },
         "title": {
          "text": ""
         }
        },
        "yaxis": {
         "anchor": "x",
         "domain": [
          0,
          1
         ],
         "tickfont": {
          "size": 25
         },
         "title": {
          "font": {
           "size": 30
          },
          "text": "P@100"
         }
        },
        "yaxis2": {
         "anchor": "x2",
         "domain": [
          0,
          1
         ],
         "matches": "y",
         "showticklabels": false
        },
        "yaxis3": {
         "anchor": "x3",
         "domain": [
          0,
          1
         ],
         "matches": "y",
         "showticklabels": false
        }
       }
      }
     },
     "metadata": {},
     "output_type": "display_data"
    }
   ],
   "source": [
    "import plotly.express as px\n",
    "# import plotly.graph_objects as go\n",
    "\n",
    "# fig = go.Figure()\n",
    "traces = []\n",
    "# df['VM_Bins'] = table2['VM'] + '_' + table2['Bins']\n",
    "color_scale = px.colors.qualitative.Set3\n",
    "\n",
    "# Create stacked and grouped bar chart\n",
    "fig = px.scatter(table2, x='LM', y='P@100-CSLS', color='Bins', facet_col=\"VM\",\n",
    "             labels={'P@100-CSLS': 'P@100'},\n",
    "             color_discrete_map={'low': color_scale[5],\"medium\":color_scale[0],\"high\":color_scale[3]},\n",
    "             height=500, width=1500,\n",
    "             symbol=\"Bins\",\n",
    "            #  radar_polar=True\n",
    "            #  facet_col_titles='none'\n",
    "            #  barmode=\"group\"\n",
    "             )\n",
    "\n",
    "\n",
    "for i, trace in enumerate(fig.data):\n",
    "    if \"Bins=medium\" in trace[\"hovertemplate\"]:\n",
    "    # trace.marker.color = color_scale[i%3]  # Set color\n",
    "        trace.marker.opacity = 0.6  # Set opacity\n",
    "    elif \"Bins=high\" in trace[\"hovertemplate\"]:\n",
    "        trace.marker.opacity = 0.5  # Set opacity\n",
    "    else:\n",
    "        trace.marker.opacity = 1\n",
    "    # trace.marker.color = color_scale[i%3]  # Set color\n",
    "    # trace.marker.opacity = 0.6  # Set opacity\n",
    "    trace.marker.size=15\n",
    "\n",
    "\n",
    "# Update layout for better appearance\n",
    "fig.update_layout(barmode='group', showlegend=True,\n",
    "                  font=dict(size=30),\n",
    "                  yaxis=dict(title=dict(text='P@100', font=dict(size=30)), tickfont=dict(size=25)),  # Change y-axis font size\n",
    "                  legend=dict(title=dict(text='Img Disp.', font=dict(size=30))),\n",
    "                  xaxis=dict(title=dict(text=''),tickfont=dict(size=20)),\n",
    "                  xaxis2=dict(title=dict(text=''),tickfont=dict(size=20)),\n",
    "                  xaxis3=dict(title=dict(text=''),tickfont=dict(size=20)),\n",
    "                  xaxis4=dict(title=dict(text=''),tickfont=dict(size=20)),\n",
    "                  template=\"plotly_white\"\n",
    "                  ) \n",
    "\n",
    "fig.for_each_annotation(lambda a: a.update(text=a.text.split(\"=\")[-1]))\n",
    "\n",
    "# fig.update_xaxes(title_text='', showgrid=False)\n",
    "\n",
    "# fig.update_xaxes(title_font=dict(size=20), tickfont=dict(size=20))\n",
    "\n",
    "# Show the plot\n",
    "fig.show()\n",
    "fig.write_image(f\"img_disp_remain_{set_name}_v1.pdf\")"
   ]
  },
  {
   "cell_type": "code",
   "execution_count": 21,
   "metadata": {},
   "outputs": [
    {
     "data": {
      "application/vnd.plotly.v1+json": {
       "config": {
        "plotlyServerURL": "https://plot.ly"
       },
       "data": [
        {
         "fill": "toself",
         "line": {
          "color": "rgb(102,194,165)"
         },
         "marker": {
          "color": "rgb(102,194,165)"
         },
         "name": "ResNet152",
         "r": [
          52.5,
          47.4,
          65.2,
          61,
          67.5,
          55.4,
          48.3,
          53.1,
          44.5,
          35.8,
          44.1,
          41.9,
          13.1,
          15.3,
          10.4,
          39.7,
          48.1,
          42.7,
          34.4,
          38.2,
          29.2,
          27.2,
          37.4,
          32,
          24.5,
          21.7,
          29,
          15.3,
          20,
          18.4
         ],
         "theta": [
          "Llama-2-7B",
          "OPT_6.7B",
          "GPT2_LARGE",
          "OPT_125M",
          "GPT2_BASE",
          "BERT_BASE",
          "BERT_MEDIUM",
          "BERT_SMALL",
          "BERT_MINI",
          "BERT_TINY"
         ],
         "type": "scatterpolar"
        },
        {
         "fill": "toself",
         "line": {
          "color": "rgb(252,141,98)"
         },
         "marker": {
          "color": "rgb(252,141,98)"
         },
         "name": "SegFormer-B5",
         "r": [
          48,
          43,
          52.3,
          57.6,
          58.8,
          55.7,
          45.6,
          44.2,
          44.8,
          37.7,
          38.7,
          36.4,
          12.8,
          11.9,
          10.6,
          40,
          39.5,
          40.8,
          32.6,
          29.7,
          30.8,
          29.1,
          27.8,
          31.5,
          21.1,
          23.5,
          22.4,
          14.2,
          13.5,
          14.9
         ],
         "theta": [
          "Llama-2-7B",
          "OPT_6.7B",
          "GPT2_LARGE",
          "OPT_125M",
          "GPT2_BASE",
          "BERT_BASE",
          "BERT_MEDIUM",
          "BERT_SMALL",
          "BERT_MINI",
          "BERT_TINY"
         ],
         "type": "scatterpolar"
        },
        {
         "fill": "toself",
         "line": {
          "color": "rgb(141,160,203)"
         },
         "marker": {
          "color": "rgb(141,160,203)"
         },
         "name": "MAE-Huge",
         "r": [
          34.7,
          45,
          42.7,
          49.7,
          52.3,
          54.4,
          40.3,
          39.9,
          37,
          27.3,
          33.8,
          33.1,
          6.2,
          8.2,
          6.9,
          37.4,
          36.5,
          27,
          17.9,
          26.4,
          29.4,
          17,
          28.6,
          25.4,
          12.6,
          21.5,
          19.8,
          14.9,
          12.2,
          6.4
         ],
         "theta": [
          "Llama-2-7B",
          "OPT_6.7B",
          "GPT2_LARGE",
          "OPT_125M",
          "GPT2_BASE",
          "BERT_BASE",
          "BERT_MEDIUM",
          "BERT_SMALL",
          "BERT_MINI",
          "BERT_TINY"
         ],
         "type": "scatterpolar"
        }
       ],
       "layout": {
        "font": {
         "size": 30
        },
        "height": 1000,
        "legend": {
         "font": {
          "size": 20
         },
         "orientation": "h",
         "x": 0,
         "y": 1.1
        },
        "polar": {
         "angularaxis": {
          "gridwidth": 3,
          "tickfont": {
           "size": 20
          },
          "visible": true
         },
         "radialaxis": {
          "range": [
           0,
           70
          ],
          "tickfont": {
           "size": 20
          },
          "visible": true
         }
        },
        "showlegend": true,
        "template": {
         "data": {
          "bar": [
           {
            "error_x": {
             "color": "#2a3f5f"
            },
            "error_y": {
             "color": "#2a3f5f"
            },
            "marker": {
             "line": {
              "color": "#E5ECF6",
              "width": 0.5
             },
             "pattern": {
              "fillmode": "overlay",
              "size": 10,
              "solidity": 0.2
             }
            },
            "type": "bar"
           }
          ],
          "barpolar": [
           {
            "marker": {
             "line": {
              "color": "#E5ECF6",
              "width": 0.5
             },
             "pattern": {
              "fillmode": "overlay",
              "size": 10,
              "solidity": 0.2
             }
            },
            "type": "barpolar"
           }
          ],
          "carpet": [
           {
            "aaxis": {
             "endlinecolor": "#2a3f5f",
             "gridcolor": "white",
             "linecolor": "white",
             "minorgridcolor": "white",
             "startlinecolor": "#2a3f5f"
            },
            "baxis": {
             "endlinecolor": "#2a3f5f",
             "gridcolor": "white",
             "linecolor": "white",
             "minorgridcolor": "white",
             "startlinecolor": "#2a3f5f"
            },
            "type": "carpet"
           }
          ],
          "choropleth": [
           {
            "colorbar": {
             "outlinewidth": 0,
             "ticks": ""
            },
            "type": "choropleth"
           }
          ],
          "contour": [
           {
            "colorbar": {
             "outlinewidth": 0,
             "ticks": ""
            },
            "colorscale": [
             [
              0,
              "#0d0887"
             ],
             [
              0.1111111111111111,
              "#46039f"
             ],
             [
              0.2222222222222222,
              "#7201a8"
             ],
             [
              0.3333333333333333,
              "#9c179e"
             ],
             [
              0.4444444444444444,
              "#bd3786"
             ],
             [
              0.5555555555555556,
              "#d8576b"
             ],
             [
              0.6666666666666666,
              "#ed7953"
             ],
             [
              0.7777777777777778,
              "#fb9f3a"
             ],
             [
              0.8888888888888888,
              "#fdca26"
             ],
             [
              1,
              "#f0f921"
             ]
            ],
            "type": "contour"
           }
          ],
          "contourcarpet": [
           {
            "colorbar": {
             "outlinewidth": 0,
             "ticks": ""
            },
            "type": "contourcarpet"
           }
          ],
          "heatmap": [
           {
            "colorbar": {
             "outlinewidth": 0,
             "ticks": ""
            },
            "colorscale": [
             [
              0,
              "#0d0887"
             ],
             [
              0.1111111111111111,
              "#46039f"
             ],
             [
              0.2222222222222222,
              "#7201a8"
             ],
             [
              0.3333333333333333,
              "#9c179e"
             ],
             [
              0.4444444444444444,
              "#bd3786"
             ],
             [
              0.5555555555555556,
              "#d8576b"
             ],
             [
              0.6666666666666666,
              "#ed7953"
             ],
             [
              0.7777777777777778,
              "#fb9f3a"
             ],
             [
              0.8888888888888888,
              "#fdca26"
             ],
             [
              1,
              "#f0f921"
             ]
            ],
            "type": "heatmap"
           }
          ],
          "heatmapgl": [
           {
            "colorbar": {
             "outlinewidth": 0,
             "ticks": ""
            },
            "colorscale": [
             [
              0,
              "#0d0887"
             ],
             [
              0.1111111111111111,
              "#46039f"
             ],
             [
              0.2222222222222222,
              "#7201a8"
             ],
             [
              0.3333333333333333,
              "#9c179e"
             ],
             [
              0.4444444444444444,
              "#bd3786"
             ],
             [
              0.5555555555555556,
              "#d8576b"
             ],
             [
              0.6666666666666666,
              "#ed7953"
             ],
             [
              0.7777777777777778,
              "#fb9f3a"
             ],
             [
              0.8888888888888888,
              "#fdca26"
             ],
             [
              1,
              "#f0f921"
             ]
            ],
            "type": "heatmapgl"
           }
          ],
          "histogram": [
           {
            "marker": {
             "pattern": {
              "fillmode": "overlay",
              "size": 10,
              "solidity": 0.2
             }
            },
            "type": "histogram"
           }
          ],
          "histogram2d": [
           {
            "colorbar": {
             "outlinewidth": 0,
             "ticks": ""
            },
            "colorscale": [
             [
              0,
              "#0d0887"
             ],
             [
              0.1111111111111111,
              "#46039f"
             ],
             [
              0.2222222222222222,
              "#7201a8"
             ],
             [
              0.3333333333333333,
              "#9c179e"
             ],
             [
              0.4444444444444444,
              "#bd3786"
             ],
             [
              0.5555555555555556,
              "#d8576b"
             ],
             [
              0.6666666666666666,
              "#ed7953"
             ],
             [
              0.7777777777777778,
              "#fb9f3a"
             ],
             [
              0.8888888888888888,
              "#fdca26"
             ],
             [
              1,
              "#f0f921"
             ]
            ],
            "type": "histogram2d"
           }
          ],
          "histogram2dcontour": [
           {
            "colorbar": {
             "outlinewidth": 0,
             "ticks": ""
            },
            "colorscale": [
             [
              0,
              "#0d0887"
             ],
             [
              0.1111111111111111,
              "#46039f"
             ],
             [
              0.2222222222222222,
              "#7201a8"
             ],
             [
              0.3333333333333333,
              "#9c179e"
             ],
             [
              0.4444444444444444,
              "#bd3786"
             ],
             [
              0.5555555555555556,
              "#d8576b"
             ],
             [
              0.6666666666666666,
              "#ed7953"
             ],
             [
              0.7777777777777778,
              "#fb9f3a"
             ],
             [
              0.8888888888888888,
              "#fdca26"
             ],
             [
              1,
              "#f0f921"
             ]
            ],
            "type": "histogram2dcontour"
           }
          ],
          "mesh3d": [
           {
            "colorbar": {
             "outlinewidth": 0,
             "ticks": ""
            },
            "type": "mesh3d"
           }
          ],
          "parcoords": [
           {
            "line": {
             "colorbar": {
              "outlinewidth": 0,
              "ticks": ""
             }
            },
            "type": "parcoords"
           }
          ],
          "pie": [
           {
            "automargin": true,
            "type": "pie"
           }
          ],
          "scatter": [
           {
            "fillpattern": {
             "fillmode": "overlay",
             "size": 10,
             "solidity": 0.2
            },
            "type": "scatter"
           }
          ],
          "scatter3d": [
           {
            "line": {
             "colorbar": {
              "outlinewidth": 0,
              "ticks": ""
             }
            },
            "marker": {
             "colorbar": {
              "outlinewidth": 0,
              "ticks": ""
             }
            },
            "type": "scatter3d"
           }
          ],
          "scattercarpet": [
           {
            "marker": {
             "colorbar": {
              "outlinewidth": 0,
              "ticks": ""
             }
            },
            "type": "scattercarpet"
           }
          ],
          "scattergeo": [
           {
            "marker": {
             "colorbar": {
              "outlinewidth": 0,
              "ticks": ""
             }
            },
            "type": "scattergeo"
           }
          ],
          "scattergl": [
           {
            "marker": {
             "colorbar": {
              "outlinewidth": 0,
              "ticks": ""
             }
            },
            "type": "scattergl"
           }
          ],
          "scattermapbox": [
           {
            "marker": {
             "colorbar": {
              "outlinewidth": 0,
              "ticks": ""
             }
            },
            "type": "scattermapbox"
           }
          ],
          "scatterpolar": [
           {
            "marker": {
             "colorbar": {
              "outlinewidth": 0,
              "ticks": ""
             }
            },
            "type": "scatterpolar"
           }
          ],
          "scatterpolargl": [
           {
            "marker": {
             "colorbar": {
              "outlinewidth": 0,
              "ticks": ""
             }
            },
            "type": "scatterpolargl"
           }
          ],
          "scatterternary": [
           {
            "marker": {
             "colorbar": {
              "outlinewidth": 0,
              "ticks": ""
             }
            },
            "type": "scatterternary"
           }
          ],
          "surface": [
           {
            "colorbar": {
             "outlinewidth": 0,
             "ticks": ""
            },
            "colorscale": [
             [
              0,
              "#0d0887"
             ],
             [
              0.1111111111111111,
              "#46039f"
             ],
             [
              0.2222222222222222,
              "#7201a8"
             ],
             [
              0.3333333333333333,
              "#9c179e"
             ],
             [
              0.4444444444444444,
              "#bd3786"
             ],
             [
              0.5555555555555556,
              "#d8576b"
             ],
             [
              0.6666666666666666,
              "#ed7953"
             ],
             [
              0.7777777777777778,
              "#fb9f3a"
             ],
             [
              0.8888888888888888,
              "#fdca26"
             ],
             [
              1,
              "#f0f921"
             ]
            ],
            "type": "surface"
           }
          ],
          "table": [
           {
            "cells": {
             "fill": {
              "color": "#EBF0F8"
             },
             "line": {
              "color": "white"
             }
            },
            "header": {
             "fill": {
              "color": "#C8D4E3"
             },
             "line": {
              "color": "white"
             }
            },
            "type": "table"
           }
          ]
         },
         "layout": {
          "annotationdefaults": {
           "arrowcolor": "#2a3f5f",
           "arrowhead": 0,
           "arrowwidth": 1
          },
          "autotypenumbers": "strict",
          "coloraxis": {
           "colorbar": {
            "outlinewidth": 0,
            "ticks": ""
           }
          },
          "colorscale": {
           "diverging": [
            [
             0,
             "#8e0152"
            ],
            [
             0.1,
             "#c51b7d"
            ],
            [
             0.2,
             "#de77ae"
            ],
            [
             0.3,
             "#f1b6da"
            ],
            [
             0.4,
             "#fde0ef"
            ],
            [
             0.5,
             "#f7f7f7"
            ],
            [
             0.6,
             "#e6f5d0"
            ],
            [
             0.7,
             "#b8e186"
            ],
            [
             0.8,
             "#7fbc41"
            ],
            [
             0.9,
             "#4d9221"
            ],
            [
             1,
             "#276419"
            ]
           ],
           "sequential": [
            [
             0,
             "#0d0887"
            ],
            [
             0.1111111111111111,
             "#46039f"
            ],
            [
             0.2222222222222222,
             "#7201a8"
            ],
            [
             0.3333333333333333,
             "#9c179e"
            ],
            [
             0.4444444444444444,
             "#bd3786"
            ],
            [
             0.5555555555555556,
             "#d8576b"
            ],
            [
             0.6666666666666666,
             "#ed7953"
            ],
            [
             0.7777777777777778,
             "#fb9f3a"
            ],
            [
             0.8888888888888888,
             "#fdca26"
            ],
            [
             1,
             "#f0f921"
            ]
           ],
           "sequentialminus": [
            [
             0,
             "#0d0887"
            ],
            [
             0.1111111111111111,
             "#46039f"
            ],
            [
             0.2222222222222222,
             "#7201a8"
            ],
            [
             0.3333333333333333,
             "#9c179e"
            ],
            [
             0.4444444444444444,
             "#bd3786"
            ],
            [
             0.5555555555555556,
             "#d8576b"
            ],
            [
             0.6666666666666666,
             "#ed7953"
            ],
            [
             0.7777777777777778,
             "#fb9f3a"
            ],
            [
             0.8888888888888888,
             "#fdca26"
            ],
            [
             1,
             "#f0f921"
            ]
           ]
          },
          "colorway": [
           "#636efa",
           "#EF553B",
           "#00cc96",
           "#ab63fa",
           "#FFA15A",
           "#19d3f3",
           "#FF6692",
           "#B6E880",
           "#FF97FF",
           "#FECB52"
          ],
          "font": {
           "color": "#2a3f5f"
          },
          "geo": {
           "bgcolor": "white",
           "lakecolor": "white",
           "landcolor": "#E5ECF6",
           "showlakes": true,
           "showland": true,
           "subunitcolor": "white"
          },
          "hoverlabel": {
           "align": "left"
          },
          "hovermode": "closest",
          "mapbox": {
           "style": "light"
          },
          "paper_bgcolor": "white",
          "plot_bgcolor": "#E5ECF6",
          "polar": {
           "angularaxis": {
            "gridcolor": "white",
            "linecolor": "white",
            "ticks": ""
           },
           "bgcolor": "#E5ECF6",
           "radialaxis": {
            "gridcolor": "white",
            "linecolor": "white",
            "ticks": ""
           }
          },
          "scene": {
           "xaxis": {
            "backgroundcolor": "#E5ECF6",
            "gridcolor": "white",
            "gridwidth": 2,
            "linecolor": "white",
            "showbackground": true,
            "ticks": "",
            "zerolinecolor": "white"
           },
           "yaxis": {
            "backgroundcolor": "#E5ECF6",
            "gridcolor": "white",
            "gridwidth": 2,
            "linecolor": "white",
            "showbackground": true,
            "ticks": "",
            "zerolinecolor": "white"
           },
           "zaxis": {
            "backgroundcolor": "#E5ECF6",
            "gridcolor": "white",
            "gridwidth": 2,
            "linecolor": "white",
            "showbackground": true,
            "ticks": "",
            "zerolinecolor": "white"
           }
          },
          "shapedefaults": {
           "line": {
            "color": "#2a3f5f"
           }
          },
          "ternary": {
           "aaxis": {
            "gridcolor": "white",
            "linecolor": "white",
            "ticks": ""
           },
           "baxis": {
            "gridcolor": "white",
            "linecolor": "white",
            "ticks": ""
           },
           "bgcolor": "#E5ECF6",
           "caxis": {
            "gridcolor": "white",
            "linecolor": "white",
            "ticks": ""
           }
          },
          "title": {
           "x": 0.05
          },
          "xaxis": {
           "automargin": true,
           "gridcolor": "white",
           "linecolor": "white",
           "ticks": "",
           "title": {
            "standoff": 15
           },
           "zerolinecolor": "white",
           "zerolinewidth": 2
          },
          "yaxis": {
           "automargin": true,
           "gridcolor": "white",
           "linecolor": "white",
           "ticks": "",
           "title": {
            "standoff": 15
           },
           "zerolinecolor": "white",
           "zerolinewidth": 2
          }
         }
        },
        "width": 1200
       }
      }
     },
     "metadata": {},
     "output_type": "display_data"
    }
   ],
   "source": [
    "# import plotly.express as px\n",
    "# import plotly.graph_objects as go\n",
    "\n",
    "# # VMs = [\"ResNet101\",  \"ResNet34\", \"SegFormer-B4\", \"SegFormer-B2\", \"SegFormer-B1\" ]\n",
    "# colors = px.colors.qualitative.Set2\n",
    "# fig = go.Figure()\n",
    "# classes = table2['LM'].unique()\n",
    "# VMs = table2['VM'].unique()\n",
    "# # print(classes)\n",
    "\n",
    "# # Create radar chart traces for each VM\n",
    "# traces = []\n",
    "# for i, vm in enumerate(VMs):\n",
    "#     trace = go.Scatterpolar(\n",
    "#         r=table2[table2['VM'] == vm][\"P@100-CSLS\"].tolist(),\n",
    "#         theta=classes,\n",
    "#         fill='toself',\n",
    "#         name=,\n",
    "#         line=dict(color=colors[i]),\n",
    "#         marker=dict(color=colors[i])\n",
    "#     )\n",
    "#     traces.append(trace)\n",
    "\n",
    "# for trace in traces:\n",
    "#     fig.add_trace(trace)\n",
    "\n",
    "# # fig.add_trace(go.Scatterpolar(\n",
    "# #       r=[1, 5, 2, 2, 3],\n",
    "# #       theta=categories,\n",
    "# #       fill='toself',\n",
    "# #       name='Product A'\n",
    "# # ))\n",
    "# # fig.add_trace(go.Scatterpolar(\n",
    "# #       r=[4, 3, 2.5, 1, 2],\n",
    "# #       theta=categories,\n",
    "# #       fill='toself',\n",
    "# #       name='Product B'\n",
    "# # ))\n",
    "\n",
    "# fig.update_layout(\n",
    "#   polar=dict(\n",
    "#     angularaxis=dict(\n",
    "#       visible=True,\n",
    "#       gridwidth=3,\n",
    "#       tickfont=dict(size=20)  # Adjust the font size here\n",
    "#         ),\n",
    "#     radialaxis=dict(\n",
    "#       visible=True,\n",
    "#       range=[0, 70],\n",
    "#       tickfont=dict(size=20)\n",
    "#       # line_close=True\n",
    "#     )),\n",
    "#   showlegend=True\n",
    "# )\n",
    "\n",
    "# fig.update_layout(\n",
    "#     width=1200, \n",
    "#     height=1000, \n",
    "#     legend=dict(x=0, y=1.1, orientation=\"h\",font=dict(size=20)), \n",
    "#     template=\"plotly\",\n",
    "#     font=dict(size=30)\n",
    "#     )\n",
    "\n",
    "# # fig.write_image(f\"left_vm_vs_LMs_{set_name}_v3.pdf\")\n"
   ]
  },
  {
   "cell_type": "code",
   "execution_count": 33,
   "metadata": {},
   "outputs": [],
   "source": [
    "# table.to_csv(\"image_disp.csv\")"
   ]
  },
  {
   "cell_type": "code",
   "execution_count": 37,
   "metadata": {},
   "outputs": [
    {
     "name": "stdout",
     "output_type": "stream",
     "text": [
      "SegFormer-B5\n",
      "& low & 43.2 & 47.8 & 58.7 & 60.6\\\\\n",
      "& medium & 42.2 & 48.7 & 56.9 & 60.4\\\\\n",
      "& high & 43.3 & 47.1 & 53.3 & 57.6\\\\\n",
      "MAE-Huge\n",
      "& low & 41.1 & 44.7 & 54.9 & 56.7\\\\\n",
      "& medium & 37.6 & 43.6 & 53.8 & 55.3\\\\\n",
      "& high & 32.7 & 40.1 & 46.7 & 54.3\\\\\n",
      "ResNet152\n",
      "& low & 50.8 & 57.6 & 71.3 & 70.5\\\\\n",
      "& medium & 45.9 & 51.8 & 60.8 & 63.4\\\\\n",
      "& high & 43.4 & 46.8 & 56.7 & 58.4\\\\\n"
     ]
    }
   ],
   "source": [
    "for j in [\"SegFormer-B5\", \"MAE-Huge\", \"ResNet152\"]:\n",
    "    print(j)\n",
    "    for i in [\"_low\", \"_medium\", \"_high\"]:\n",
    "        all_values = table.loc[(_selected[\"VM\"] == j) & (_selected[\"Bins\"] == i), precision]\n",
    "        # print(all_values)\n",
    "        formatted_values = \" & \".join(f\"{value}\" for one_model_value in all_values.values for value in one_model_value)\n",
    "        print(f\"& {i[1:]} & \" + formatted_values + \"\\\\\\\\\")"
   ]
  },
  {
   "cell_type": "code",
   "execution_count": 21,
   "metadata": {},
   "outputs": [
    {
     "name": "stdout",
     "output_type": "stream",
     "text": [
      "BERT_LARGE\n",
      "& low & \\\\\n",
      "& medium & \\\\\n",
      "& high & \\\\\n",
      "GPT2_XL\n",
      "& low & 46.3 & 53.9 & 50.3\\\\\n",
      "& medium & 42.0 & 52.3 & 47.0\\\\\n",
      "& high & 25.2 & 34.3 & 30.7\\\\\n",
      "OPT_30B\n",
      "& low & 60.4 & 67.6 & 63.2\\\\\n",
      "& medium & 55.1 & 65.1 & 59.7\\\\\n",
      "& high & 35.6 & 43.7 & 40.4\\\\\n",
      "Llama-2-13B\n",
      "& low & 58.7 & 68.5 & 62.3\\\\\n",
      "& medium & 52.9 & 65.1 & 57.3\\\\\n",
      "& high & 32.3 & 42.1 & 36.8\\\\\n"
     ]
    }
   ],
   "source": [
    "for j in [\"BERT_LARGE\", \"GPT2_XL\", \"OPT_30B\", \"Llama-2-13B\"]:\n",
    "    print(j)\n",
    "    for i in [\"_low\", \"_medium\", \"_high\"]:\n",
    "        all_values = table.loc[(_selected[\"LM\"] == j) & (_selected[\"Bins\"] == i), precision].values\n",
    "        formatted_values = \" & \".join(f\"{value}\" for one_model_value in all_values for value in one_model_value)\n",
    "        print(f\"& {i[1:]} & \" + formatted_values + \"\\\\\\\\\")\n"
   ]
  }
 ],
 "metadata": {
  "kernelspec": {
   "display_name": "pytorch",
   "language": "python",
   "name": "python3"
  },
  "language_info": {
   "codemirror_mode": {
    "name": "ipython",
    "version": 3
   },
   "file_extension": ".py",
   "mimetype": "text/x-python",
   "name": "python",
   "nbconvert_exporter": "python",
   "pygments_lexer": "ipython3",
   "version": "3.11.5"
  },
  "orig_nbformat": 4
 },
 "nbformat": 4,
 "nbformat_minor": 2
}
