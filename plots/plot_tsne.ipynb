{
 "cells": [
  {
   "cell_type": "code",
   "execution_count": 1,
   "metadata": {},
   "outputs": [],
   "source": [
    "import torch\n",
    "import json\n",
    "import numpy as np\n",
    "from sklearn.manifold import TSNE\n",
    "import pandas as pd\n",
    "import plotly.express as px"
   ]
  },
  {
   "cell_type": "code",
   "execution_count": 2,
   "metadata": {},
   "outputs": [
    {
     "name": "stdout",
     "output_type": "stream",
     "text": [
      "6433\n",
      "['n03216402', 'n02445004', 'n03645577', 'n03549732', 'n02971167', 'n11704620', 'n03241335', 'n02960690', 'n04343740', 'n07601572']\n",
      "['n03216402', 'n02445004', 'n03645577', 'n03549732', 'n02971167', 'n11704620', 'n03241335', 'n02960690', 'n04343740', 'n07601572']\n",
      "['diving_dress', 'river_otter', 'lateen', 'promenade_deck', 'rubber_tire', 'camphor_tree', 'violin_bow', 'karabiner', 'student_union', 'candy_cane']\n"
     ]
    }
   ],
   "source": [
    "pair_dict = json.load(open(\"../data/id_pairs_21k.json\",\"r\"))\n",
    "\n",
    "# IDS = [\"n03216402\",\"n02445004\",\"n03645577\", \"n03549732\", \"n02971167\", \"n11704620\", \"n03332271\", \"n02960690\", \"n04343740\", \"n07601572\"]\n",
    "# WORDS = [\"diving_dress\",\"river_otter\",\"lateen\",\"promenade_deck\",\"rubber_tire\",\"camphor_tree\",\"violin_bow\",\"karabiner\",\"student_union\",\"candy_cane\"]\n",
    "_num_image = [9, 22, 31, 50, 51, 2571, 28, 12, 18, 135]\n",
    "_num_words = [5441, 4880, 3926, 5526, 1065, 3059, 994, 5934, 533, 3699]\n",
    "# _num = 50\n",
    "file_X_map = torch.load('../vectors-mae.pth') \n",
    "X_map = file_X_map['vectors'].numpy()[_num_image]\n",
    "print(len(file_X_map[\"dico\"]))\n",
    "words_X = [file_X_map['dico'][i] for i in _num_image]\n",
    "# words_X \n",
    "print(words_X)\n",
    "\n",
    "file_X = torch.load('../vit-mae-huge_1280.pth') \n",
    "X = file_X['vectors'].numpy()[_num_image]\n",
    "words_X = [file_X['dico'][i] for i in _num_image]\n",
    "print(words_X)\n",
    "\n",
    "file_Y = torch.load('../vectors-opt.pth')\n",
    "Y = file_Y['vectors'].numpy()[_num_words]\n",
    "words_Y = [file_Y['dico'][i] for i in _num_words]\n",
    "print(words_Y)\n",
    "# words_Y = file_Y['dico'][:_num]\n",
    "# print([(i,j) for i, j in enumerate(words_Y)])\n",
    "\n",
    "# print([(i,j) for i, j in enumerate(file_Y['dico'][:50])])\n",
    "words_X = words_Y\n",
    "\n",
    "Z = np.concatenate([X_map, Y])\n",
    "# Z = X\n",
    "# Z = X + Y\n"
   ]
  },
  {
   "cell_type": "code",
   "execution_count": 3,
   "metadata": {},
   "outputs": [],
   "source": [
    "perp = 9\n",
    "n_iter = 1000\n",
    "lr = \"auto\"\n",
    "init_method = \"pca\"\n",
    "seed=42"
   ]
  },
  {
   "cell_type": "code",
   "execution_count": 10,
   "metadata": {},
   "outputs": [
    {
     "data": {
      "application/vnd.plotly.v1+json": {
       "config": {
        "plotlyServerURL": "https://plot.ly"
       },
       "data": [
        {
         "hovertemplate": "X=%{x}<br>Y=%{y}<extra></extra>",
         "legendgroup": "",
         "marker": {
          "color": "#636efa",
          "size": 0,
          "symbol": "circle"
         },
         "mode": "text",
         "name": "",
         "orientation": "v",
         "showlegend": false,
         "textposition": "top center",
         "type": "scatter",
         "x": [
          -25.97031021118164,
          -38.73006057739258,
          15.003326416015625,
          -0.18716289103031158,
          13.288925170898438,
          38.48278045654297,
          -16.01749610900879,
          -6.477942943572998,
          -42.60752868652344,
          34.22966384887695
         ],
         "xaxis": "x",
         "y": [
          -37.5015983581543,
          34.462276458740234,
          -36.49000930786133,
          43.171207427978516,
          8.45677375793457,
          -9.96901798248291,
          14.410626411437988,
          -13.94349479675293,
          -4.87531852722168,
          30.75748062133789
         ],
         "yaxis": "y"
        }
       ],
       "layout": {
        "annotations": [
         {
          "font": {
           "color": "#4285f4",
           "size": 100
          },
          "showarrow": false,
          "text": "diving_dress",
          "x": -25.97031021118164,
          "y": -37.5015983581543
         },
         {
          "font": {
           "color": "#4285f4",
           "size": 100
          },
          "showarrow": false,
          "text": "river_otter",
          "x": -38.73006057739258,
          "y": 34.462276458740234
         },
         {
          "font": {
           "color": "#4285f4",
           "size": 100
          },
          "showarrow": false,
          "text": "lateen",
          "x": 15.003326416015625,
          "y": -36.49000930786133
         },
         {
          "font": {
           "color": "#4285f4",
           "size": 100
          },
          "showarrow": false,
          "text": "promenade_deck",
          "x": -0.18716289103031158,
          "y": 43.171207427978516
         },
         {
          "font": {
           "color": "#4285f4",
           "size": 100
          },
          "showarrow": false,
          "text": "rubber_tire",
          "x": 13.288925170898438,
          "y": 8.45677375793457
         },
         {
          "font": {
           "color": "#4285f4",
           "size": 100
          },
          "showarrow": false,
          "text": "camphor_tree",
          "x": 38.48278045654297,
          "y": -9.96901798248291
         },
         {
          "font": {
           "color": "#4285f4",
           "size": 100
          },
          "showarrow": false,
          "text": "violin_bow",
          "x": -16.01749610900879,
          "y": 14.410626411437988
         },
         {
          "font": {
           "color": "#4285f4",
           "size": 100
          },
          "showarrow": false,
          "text": "karabiner",
          "x": -6.477942943572998,
          "y": -13.94349479675293
         },
         {
          "font": {
           "color": "#4285f4",
           "size": 100
          },
          "showarrow": false,
          "text": "student_union",
          "x": -42.60752868652344,
          "y": -4.87531852722168
         },
         {
          "font": {
           "color": "#4285f4",
           "size": 100
          },
          "showarrow": false,
          "text": "candy_cane",
          "x": 34.22966384887695,
          "y": 30.75748062133789
         }
        ],
        "height": 2000,
        "legend": {
         "tracegroupgap": 0
        },
        "margin": {
         "t": 60
        },
        "template": {
         "data": {
          "bar": [
           {
            "error_x": {
             "color": "#2a3f5f"
            },
            "error_y": {
             "color": "#2a3f5f"
            },
            "marker": {
             "line": {
              "color": "white",
              "width": 0.5
             },
             "pattern": {
              "fillmode": "overlay",
              "size": 10,
              "solidity": 0.2
             }
            },
            "type": "bar"
           }
          ],
          "barpolar": [
           {
            "marker": {
             "line": {
              "color": "white",
              "width": 0.5
             },
             "pattern": {
              "fillmode": "overlay",
              "size": 10,
              "solidity": 0.2
             }
            },
            "type": "barpolar"
           }
          ],
          "carpet": [
           {
            "aaxis": {
             "endlinecolor": "#2a3f5f",
             "gridcolor": "#C8D4E3",
             "linecolor": "#C8D4E3",
             "minorgridcolor": "#C8D4E3",
             "startlinecolor": "#2a3f5f"
            },
            "baxis": {
             "endlinecolor": "#2a3f5f",
             "gridcolor": "#C8D4E3",
             "linecolor": "#C8D4E3",
             "minorgridcolor": "#C8D4E3",
             "startlinecolor": "#2a3f5f"
            },
            "type": "carpet"
           }
          ],
          "choropleth": [
           {
            "colorbar": {
             "outlinewidth": 0,
             "ticks": ""
            },
            "type": "choropleth"
           }
          ],
          "contour": [
           {
            "colorbar": {
             "outlinewidth": 0,
             "ticks": ""
            },
            "colorscale": [
             [
              0,
              "#0d0887"
             ],
             [
              0.1111111111111111,
              "#46039f"
             ],
             [
              0.2222222222222222,
              "#7201a8"
             ],
             [
              0.3333333333333333,
              "#9c179e"
             ],
             [
              0.4444444444444444,
              "#bd3786"
             ],
             [
              0.5555555555555556,
              "#d8576b"
             ],
             [
              0.6666666666666666,
              "#ed7953"
             ],
             [
              0.7777777777777778,
              "#fb9f3a"
             ],
             [
              0.8888888888888888,
              "#fdca26"
             ],
             [
              1,
              "#f0f921"
             ]
            ],
            "type": "contour"
           }
          ],
          "contourcarpet": [
           {
            "colorbar": {
             "outlinewidth": 0,
             "ticks": ""
            },
            "type": "contourcarpet"
           }
          ],
          "heatmap": [
           {
            "colorbar": {
             "outlinewidth": 0,
             "ticks": ""
            },
            "colorscale": [
             [
              0,
              "#0d0887"
             ],
             [
              0.1111111111111111,
              "#46039f"
             ],
             [
              0.2222222222222222,
              "#7201a8"
             ],
             [
              0.3333333333333333,
              "#9c179e"
             ],
             [
              0.4444444444444444,
              "#bd3786"
             ],
             [
              0.5555555555555556,
              "#d8576b"
             ],
             [
              0.6666666666666666,
              "#ed7953"
             ],
             [
              0.7777777777777778,
              "#fb9f3a"
             ],
             [
              0.8888888888888888,
              "#fdca26"
             ],
             [
              1,
              "#f0f921"
             ]
            ],
            "type": "heatmap"
           }
          ],
          "heatmapgl": [
           {
            "colorbar": {
             "outlinewidth": 0,
             "ticks": ""
            },
            "colorscale": [
             [
              0,
              "#0d0887"
             ],
             [
              0.1111111111111111,
              "#46039f"
             ],
             [
              0.2222222222222222,
              "#7201a8"
             ],
             [
              0.3333333333333333,
              "#9c179e"
             ],
             [
              0.4444444444444444,
              "#bd3786"
             ],
             [
              0.5555555555555556,
              "#d8576b"
             ],
             [
              0.6666666666666666,
              "#ed7953"
             ],
             [
              0.7777777777777778,
              "#fb9f3a"
             ],
             [
              0.8888888888888888,
              "#fdca26"
             ],
             [
              1,
              "#f0f921"
             ]
            ],
            "type": "heatmapgl"
           }
          ],
          "histogram": [
           {
            "marker": {
             "pattern": {
              "fillmode": "overlay",
              "size": 10,
              "solidity": 0.2
             }
            },
            "type": "histogram"
           }
          ],
          "histogram2d": [
           {
            "colorbar": {
             "outlinewidth": 0,
             "ticks": ""
            },
            "colorscale": [
             [
              0,
              "#0d0887"
             ],
             [
              0.1111111111111111,
              "#46039f"
             ],
             [
              0.2222222222222222,
              "#7201a8"
             ],
             [
              0.3333333333333333,
              "#9c179e"
             ],
             [
              0.4444444444444444,
              "#bd3786"
             ],
             [
              0.5555555555555556,
              "#d8576b"
             ],
             [
              0.6666666666666666,
              "#ed7953"
             ],
             [
              0.7777777777777778,
              "#fb9f3a"
             ],
             [
              0.8888888888888888,
              "#fdca26"
             ],
             [
              1,
              "#f0f921"
             ]
            ],
            "type": "histogram2d"
           }
          ],
          "histogram2dcontour": [
           {
            "colorbar": {
             "outlinewidth": 0,
             "ticks": ""
            },
            "colorscale": [
             [
              0,
              "#0d0887"
             ],
             [
              0.1111111111111111,
              "#46039f"
             ],
             [
              0.2222222222222222,
              "#7201a8"
             ],
             [
              0.3333333333333333,
              "#9c179e"
             ],
             [
              0.4444444444444444,
              "#bd3786"
             ],
             [
              0.5555555555555556,
              "#d8576b"
             ],
             [
              0.6666666666666666,
              "#ed7953"
             ],
             [
              0.7777777777777778,
              "#fb9f3a"
             ],
             [
              0.8888888888888888,
              "#fdca26"
             ],
             [
              1,
              "#f0f921"
             ]
            ],
            "type": "histogram2dcontour"
           }
          ],
          "mesh3d": [
           {
            "colorbar": {
             "outlinewidth": 0,
             "ticks": ""
            },
            "type": "mesh3d"
           }
          ],
          "parcoords": [
           {
            "line": {
             "colorbar": {
              "outlinewidth": 0,
              "ticks": ""
             }
            },
            "type": "parcoords"
           }
          ],
          "pie": [
           {
            "automargin": true,
            "type": "pie"
           }
          ],
          "scatter": [
           {
            "fillpattern": {
             "fillmode": "overlay",
             "size": 10,
             "solidity": 0.2
            },
            "type": "scatter"
           }
          ],
          "scatter3d": [
           {
            "line": {
             "colorbar": {
              "outlinewidth": 0,
              "ticks": ""
             }
            },
            "marker": {
             "colorbar": {
              "outlinewidth": 0,
              "ticks": ""
             }
            },
            "type": "scatter3d"
           }
          ],
          "scattercarpet": [
           {
            "marker": {
             "colorbar": {
              "outlinewidth": 0,
              "ticks": ""
             }
            },
            "type": "scattercarpet"
           }
          ],
          "scattergeo": [
           {
            "marker": {
             "colorbar": {
              "outlinewidth": 0,
              "ticks": ""
             }
            },
            "type": "scattergeo"
           }
          ],
          "scattergl": [
           {
            "marker": {
             "colorbar": {
              "outlinewidth": 0,
              "ticks": ""
             }
            },
            "type": "scattergl"
           }
          ],
          "scattermapbox": [
           {
            "marker": {
             "colorbar": {
              "outlinewidth": 0,
              "ticks": ""
             }
            },
            "type": "scattermapbox"
           }
          ],
          "scatterpolar": [
           {
            "marker": {
             "colorbar": {
              "outlinewidth": 0,
              "ticks": ""
             }
            },
            "type": "scatterpolar"
           }
          ],
          "scatterpolargl": [
           {
            "marker": {
             "colorbar": {
              "outlinewidth": 0,
              "ticks": ""
             }
            },
            "type": "scatterpolargl"
           }
          ],
          "scatterternary": [
           {
            "marker": {
             "colorbar": {
              "outlinewidth": 0,
              "ticks": ""
             }
            },
            "type": "scatterternary"
           }
          ],
          "surface": [
           {
            "colorbar": {
             "outlinewidth": 0,
             "ticks": ""
            },
            "colorscale": [
             [
              0,
              "#0d0887"
             ],
             [
              0.1111111111111111,
              "#46039f"
             ],
             [
              0.2222222222222222,
              "#7201a8"
             ],
             [
              0.3333333333333333,
              "#9c179e"
             ],
             [
              0.4444444444444444,
              "#bd3786"
             ],
             [
              0.5555555555555556,
              "#d8576b"
             ],
             [
              0.6666666666666666,
              "#ed7953"
             ],
             [
              0.7777777777777778,
              "#fb9f3a"
             ],
             [
              0.8888888888888888,
              "#fdca26"
             ],
             [
              1,
              "#f0f921"
             ]
            ],
            "type": "surface"
           }
          ],
          "table": [
           {
            "cells": {
             "fill": {
              "color": "#EBF0F8"
             },
             "line": {
              "color": "white"
             }
            },
            "header": {
             "fill": {
              "color": "#C8D4E3"
             },
             "line": {
              "color": "white"
             }
            },
            "type": "table"
           }
          ]
         },
         "layout": {
          "annotationdefaults": {
           "arrowcolor": "#2a3f5f",
           "arrowhead": 0,
           "arrowwidth": 1
          },
          "autotypenumbers": "strict",
          "coloraxis": {
           "colorbar": {
            "outlinewidth": 0,
            "ticks": ""
           }
          },
          "colorscale": {
           "diverging": [
            [
             0,
             "#8e0152"
            ],
            [
             0.1,
             "#c51b7d"
            ],
            [
             0.2,
             "#de77ae"
            ],
            [
             0.3,
             "#f1b6da"
            ],
            [
             0.4,
             "#fde0ef"
            ],
            [
             0.5,
             "#f7f7f7"
            ],
            [
             0.6,
             "#e6f5d0"
            ],
            [
             0.7,
             "#b8e186"
            ],
            [
             0.8,
             "#7fbc41"
            ],
            [
             0.9,
             "#4d9221"
            ],
            [
             1,
             "#276419"
            ]
           ],
           "sequential": [
            [
             0,
             "#0d0887"
            ],
            [
             0.1111111111111111,
             "#46039f"
            ],
            [
             0.2222222222222222,
             "#7201a8"
            ],
            [
             0.3333333333333333,
             "#9c179e"
            ],
            [
             0.4444444444444444,
             "#bd3786"
            ],
            [
             0.5555555555555556,
             "#d8576b"
            ],
            [
             0.6666666666666666,
             "#ed7953"
            ],
            [
             0.7777777777777778,
             "#fb9f3a"
            ],
            [
             0.8888888888888888,
             "#fdca26"
            ],
            [
             1,
             "#f0f921"
            ]
           ],
           "sequentialminus": [
            [
             0,
             "#0d0887"
            ],
            [
             0.1111111111111111,
             "#46039f"
            ],
            [
             0.2222222222222222,
             "#7201a8"
            ],
            [
             0.3333333333333333,
             "#9c179e"
            ],
            [
             0.4444444444444444,
             "#bd3786"
            ],
            [
             0.5555555555555556,
             "#d8576b"
            ],
            [
             0.6666666666666666,
             "#ed7953"
            ],
            [
             0.7777777777777778,
             "#fb9f3a"
            ],
            [
             0.8888888888888888,
             "#fdca26"
            ],
            [
             1,
             "#f0f921"
            ]
           ]
          },
          "colorway": [
           "#636efa",
           "#EF553B",
           "#00cc96",
           "#ab63fa",
           "#FFA15A",
           "#19d3f3",
           "#FF6692",
           "#B6E880",
           "#FF97FF",
           "#FECB52"
          ],
          "font": {
           "color": "#2a3f5f"
          },
          "geo": {
           "bgcolor": "white",
           "lakecolor": "white",
           "landcolor": "white",
           "showlakes": true,
           "showland": true,
           "subunitcolor": "#C8D4E3"
          },
          "hoverlabel": {
           "align": "left"
          },
          "hovermode": "closest",
          "mapbox": {
           "style": "light"
          },
          "paper_bgcolor": "white",
          "plot_bgcolor": "white",
          "polar": {
           "angularaxis": {
            "gridcolor": "#EBF0F8",
            "linecolor": "#EBF0F8",
            "ticks": ""
           },
           "bgcolor": "white",
           "radialaxis": {
            "gridcolor": "#EBF0F8",
            "linecolor": "#EBF0F8",
            "ticks": ""
           }
          },
          "scene": {
           "xaxis": {
            "backgroundcolor": "white",
            "gridcolor": "#DFE8F3",
            "gridwidth": 2,
            "linecolor": "#EBF0F8",
            "showbackground": true,
            "ticks": "",
            "zerolinecolor": "#EBF0F8"
           },
           "yaxis": {
            "backgroundcolor": "white",
            "gridcolor": "#DFE8F3",
            "gridwidth": 2,
            "linecolor": "#EBF0F8",
            "showbackground": true,
            "ticks": "",
            "zerolinecolor": "#EBF0F8"
           },
           "zaxis": {
            "backgroundcolor": "white",
            "gridcolor": "#DFE8F3",
            "gridwidth": 2,
            "linecolor": "#EBF0F8",
            "showbackground": true,
            "ticks": "",
            "zerolinecolor": "#EBF0F8"
           }
          },
          "shapedefaults": {
           "line": {
            "color": "#2a3f5f"
           }
          },
          "ternary": {
           "aaxis": {
            "gridcolor": "#DFE8F3",
            "linecolor": "#A2B1C6",
            "ticks": ""
           },
           "baxis": {
            "gridcolor": "#DFE8F3",
            "linecolor": "#A2B1C6",
            "ticks": ""
           },
           "bgcolor": "white",
           "caxis": {
            "gridcolor": "#DFE8F3",
            "linecolor": "#A2B1C6",
            "ticks": ""
           }
          },
          "title": {
           "x": 0.05
          },
          "xaxis": {
           "automargin": true,
           "gridcolor": "#EBF0F8",
           "linecolor": "#EBF0F8",
           "ticks": "",
           "title": {
            "standoff": 15
           },
           "zerolinecolor": "#EBF0F8",
           "zerolinewidth": 2
          },
          "yaxis": {
           "automargin": true,
           "gridcolor": "#EBF0F8",
           "linecolor": "#EBF0F8",
           "ticks": "",
           "title": {
            "standoff": 15
           },
           "zerolinecolor": "#EBF0F8",
           "zerolinewidth": 2
          }
         }
        },
        "width": 2000,
        "xaxis": {
         "anchor": "y",
         "domain": [
          0,
          1
         ],
         "showgrid": false,
         "tickfont": {
          "size": 50
         },
         "title": {
          "text": "X"
         }
        },
        "yaxis": {
         "anchor": "x",
         "domain": [
          0,
          1
         ],
         "showgrid": false,
         "tickfont": {
          "size": 50
         },
         "title": {
          "text": "Y"
         }
        }
       }
      }
     },
     "metadata": {},
     "output_type": "display_data"
    }
   ],
   "source": [
    "embedded = TSNE(n_components=2, learning_rate=lr,random_state=seed, init=init_method, perplexity=perp, n_iter=n_iter).fit_transform(X)\n",
    "\n",
    "# array_X = embedded[:len(X)]\n",
    "array_X = embedded[:len(X)]\n",
    "# array_Y = embedded[len(X):]\n",
    "\n",
    "\n",
    "#DF\n",
    "df = pd.DataFrame(embedded, columns=[\"X\", \"Y\"])\n",
    "# words = words_X + words_Y\n",
    "words = words_X\n",
    "df['words'] = words\n",
    "# df['Modalities'] = ['MAE-Huge_Mapped'] * len(array_X)\n",
    "\n",
    "\n",
    "# Scatter plot using Plotly Express\n",
    "fig = px.scatter(df, x=\"X\", y='Y')\n",
    "\n",
    "# Add annotations for each text label with custom colors\n",
    "for index, row in df.iterrows():\n",
    "    fig.add_annotation(x=row['X'], y=row['Y'], text=row['words'], showarrow=False, font=dict(color=\"#4285f4\", size=100))\n",
    "\n",
    "fig.update_traces(\n",
    "    mode='text',  # Set mode to display only text\n",
    "    textposition='top center',  # Adjust the position of the text labels\n",
    "    marker=dict(size=0),  # Set marker size to 0 to remove scatter points\n",
    "    # textfont=dict(color=\"blue\") # Specify text color for each class\n",
    ")\n",
    "\n",
    "# Customize the legend\n",
    "fig.update_layout(\n",
    "    # legend_title_text='Modalities',  # Set legend title\n",
    "    # legend=dict(orientation=\"h\", yanchor=\"bottom\", y=1.02, xanchor=\"right\", x=1), # Adjust legend position\n",
    "    template=\"plotly_white\",\n",
    "    xaxis=dict(showgrid=False,tickfont=dict(size=50)),\n",
    "    yaxis=dict(showgrid=False,tickfont=dict(size=50)),\n",
    "    width=2000,\n",
    "    height=2000\n",
    "    # Update layout to remove grid\n",
    ")\n",
    "\n",
    "# Show the plot\n",
    "fig.show()\n",
    "fig.write_image(\"mae_before.png\")\n",
    "\n"
   ]
  },
  {
   "cell_type": "code",
   "execution_count": 25,
   "metadata": {},
   "outputs": [
    {
     "data": {
      "application/vnd.plotly.v1+json": {
       "config": {
        "plotlyServerURL": "https://plot.ly"
       },
       "data": [
        {
         "hovertemplate": "X=%{x}<br>Y=%{y}<extra></extra>",
         "legendgroup": "",
         "marker": {
          "color": "#636efa",
          "size": 0,
          "symbol": "circle"
         },
         "mode": "text",
         "name": "",
         "orientation": "v",
         "showlegend": false,
         "textposition": "top center",
         "type": "scatter",
         "x": [
          -1.7235314846038818,
          50.96656799316406,
          -47.78440856933594,
          13.628216743469238,
          -10.545604705810547,
          -22.38184356689453,
          5.142062187194824,
          40.95009231567383,
          -37.46080780029297,
          25.21497344970703
         ],
         "xaxis": "x",
         "y": [
          55.825679779052734,
          9.842652320861816,
          3.2982733249664307,
          -4.1519880294799805,
          16.926652908325195,
          -20.953866958618164,
          -42.71184158325195,
          -27.66502571105957,
          40.76806640625,
          33.52167510986328
         ],
         "yaxis": "y"
        }
       ],
       "layout": {
        "annotations": [
         {
          "font": {
           "color": "blue",
           "size": 15
          },
          "showarrow": false,
          "text": "diving_dress",
          "x": -1.7235314846038818,
          "y": 55.825679779052734
         },
         {
          "font": {
           "color": "blue",
           "size": 15
          },
          "showarrow": false,
          "text": "river_otter",
          "x": 50.96656799316406,
          "y": 9.842652320861816
         },
         {
          "font": {
           "color": "blue",
           "size": 15
          },
          "showarrow": false,
          "text": "lateen",
          "x": -47.78440856933594,
          "y": 3.2982733249664307
         },
         {
          "font": {
           "color": "blue",
           "size": 15
          },
          "showarrow": false,
          "text": "promenade_deck",
          "x": 13.628216743469238,
          "y": -4.1519880294799805
         },
         {
          "font": {
           "color": "blue",
           "size": 15
          },
          "showarrow": false,
          "text": "rubber_tire",
          "x": -10.545604705810547,
          "y": 16.926652908325195
         },
         {
          "font": {
           "color": "blue",
           "size": 15
          },
          "showarrow": false,
          "text": "camphor_tree",
          "x": -22.38184356689453,
          "y": -20.953866958618164
         },
         {
          "font": {
           "color": "blue",
           "size": 15
          },
          "showarrow": false,
          "text": "violin_bow",
          "x": 5.142062187194824,
          "y": -42.71184158325195
         },
         {
          "font": {
           "color": "blue",
           "size": 15
          },
          "showarrow": false,
          "text": "karabiner",
          "x": 40.95009231567383,
          "y": -27.66502571105957
         },
         {
          "font": {
           "color": "blue",
           "size": 15
          },
          "showarrow": false,
          "text": "student_union",
          "x": -37.46080780029297,
          "y": 40.76806640625
         },
         {
          "font": {
           "color": "blue",
           "size": 15
          },
          "showarrow": false,
          "text": "candy_cane",
          "x": 25.21497344970703,
          "y": 33.52167510986328
         }
        ],
        "height": 500,
        "legend": {
         "orientation": "h",
         "tracegroupgap": 0,
         "x": 1,
         "xanchor": "right",
         "y": 1.02,
         "yanchor": "bottom"
        },
        "margin": {
         "t": 60
        },
        "template": {
         "data": {
          "bar": [
           {
            "error_x": {
             "color": "#2a3f5f"
            },
            "error_y": {
             "color": "#2a3f5f"
            },
            "marker": {
             "line": {
              "color": "white",
              "width": 0.5
             },
             "pattern": {
              "fillmode": "overlay",
              "size": 10,
              "solidity": 0.2
             }
            },
            "type": "bar"
           }
          ],
          "barpolar": [
           {
            "marker": {
             "line": {
              "color": "white",
              "width": 0.5
             },
             "pattern": {
              "fillmode": "overlay",
              "size": 10,
              "solidity": 0.2
             }
            },
            "type": "barpolar"
           }
          ],
          "carpet": [
           {
            "aaxis": {
             "endlinecolor": "#2a3f5f",
             "gridcolor": "#C8D4E3",
             "linecolor": "#C8D4E3",
             "minorgridcolor": "#C8D4E3",
             "startlinecolor": "#2a3f5f"
            },
            "baxis": {
             "endlinecolor": "#2a3f5f",
             "gridcolor": "#C8D4E3",
             "linecolor": "#C8D4E3",
             "minorgridcolor": "#C8D4E3",
             "startlinecolor": "#2a3f5f"
            },
            "type": "carpet"
           }
          ],
          "choropleth": [
           {
            "colorbar": {
             "outlinewidth": 0,
             "ticks": ""
            },
            "type": "choropleth"
           }
          ],
          "contour": [
           {
            "colorbar": {
             "outlinewidth": 0,
             "ticks": ""
            },
            "colorscale": [
             [
              0,
              "#0d0887"
             ],
             [
              0.1111111111111111,
              "#46039f"
             ],
             [
              0.2222222222222222,
              "#7201a8"
             ],
             [
              0.3333333333333333,
              "#9c179e"
             ],
             [
              0.4444444444444444,
              "#bd3786"
             ],
             [
              0.5555555555555556,
              "#d8576b"
             ],
             [
              0.6666666666666666,
              "#ed7953"
             ],
             [
              0.7777777777777778,
              "#fb9f3a"
             ],
             [
              0.8888888888888888,
              "#fdca26"
             ],
             [
              1,
              "#f0f921"
             ]
            ],
            "type": "contour"
           }
          ],
          "contourcarpet": [
           {
            "colorbar": {
             "outlinewidth": 0,
             "ticks": ""
            },
            "type": "contourcarpet"
           }
          ],
          "heatmap": [
           {
            "colorbar": {
             "outlinewidth": 0,
             "ticks": ""
            },
            "colorscale": [
             [
              0,
              "#0d0887"
             ],
             [
              0.1111111111111111,
              "#46039f"
             ],
             [
              0.2222222222222222,
              "#7201a8"
             ],
             [
              0.3333333333333333,
              "#9c179e"
             ],
             [
              0.4444444444444444,
              "#bd3786"
             ],
             [
              0.5555555555555556,
              "#d8576b"
             ],
             [
              0.6666666666666666,
              "#ed7953"
             ],
             [
              0.7777777777777778,
              "#fb9f3a"
             ],
             [
              0.8888888888888888,
              "#fdca26"
             ],
             [
              1,
              "#f0f921"
             ]
            ],
            "type": "heatmap"
           }
          ],
          "heatmapgl": [
           {
            "colorbar": {
             "outlinewidth": 0,
             "ticks": ""
            },
            "colorscale": [
             [
              0,
              "#0d0887"
             ],
             [
              0.1111111111111111,
              "#46039f"
             ],
             [
              0.2222222222222222,
              "#7201a8"
             ],
             [
              0.3333333333333333,
              "#9c179e"
             ],
             [
              0.4444444444444444,
              "#bd3786"
             ],
             [
              0.5555555555555556,
              "#d8576b"
             ],
             [
              0.6666666666666666,
              "#ed7953"
             ],
             [
              0.7777777777777778,
              "#fb9f3a"
             ],
             [
              0.8888888888888888,
              "#fdca26"
             ],
             [
              1,
              "#f0f921"
             ]
            ],
            "type": "heatmapgl"
           }
          ],
          "histogram": [
           {
            "marker": {
             "pattern": {
              "fillmode": "overlay",
              "size": 10,
              "solidity": 0.2
             }
            },
            "type": "histogram"
           }
          ],
          "histogram2d": [
           {
            "colorbar": {
             "outlinewidth": 0,
             "ticks": ""
            },
            "colorscale": [
             [
              0,
              "#0d0887"
             ],
             [
              0.1111111111111111,
              "#46039f"
             ],
             [
              0.2222222222222222,
              "#7201a8"
             ],
             [
              0.3333333333333333,
              "#9c179e"
             ],
             [
              0.4444444444444444,
              "#bd3786"
             ],
             [
              0.5555555555555556,
              "#d8576b"
             ],
             [
              0.6666666666666666,
              "#ed7953"
             ],
             [
              0.7777777777777778,
              "#fb9f3a"
             ],
             [
              0.8888888888888888,
              "#fdca26"
             ],
             [
              1,
              "#f0f921"
             ]
            ],
            "type": "histogram2d"
           }
          ],
          "histogram2dcontour": [
           {
            "colorbar": {
             "outlinewidth": 0,
             "ticks": ""
            },
            "colorscale": [
             [
              0,
              "#0d0887"
             ],
             [
              0.1111111111111111,
              "#46039f"
             ],
             [
              0.2222222222222222,
              "#7201a8"
             ],
             [
              0.3333333333333333,
              "#9c179e"
             ],
             [
              0.4444444444444444,
              "#bd3786"
             ],
             [
              0.5555555555555556,
              "#d8576b"
             ],
             [
              0.6666666666666666,
              "#ed7953"
             ],
             [
              0.7777777777777778,
              "#fb9f3a"
             ],
             [
              0.8888888888888888,
              "#fdca26"
             ],
             [
              1,
              "#f0f921"
             ]
            ],
            "type": "histogram2dcontour"
           }
          ],
          "mesh3d": [
           {
            "colorbar": {
             "outlinewidth": 0,
             "ticks": ""
            },
            "type": "mesh3d"
           }
          ],
          "parcoords": [
           {
            "line": {
             "colorbar": {
              "outlinewidth": 0,
              "ticks": ""
             }
            },
            "type": "parcoords"
           }
          ],
          "pie": [
           {
            "automargin": true,
            "type": "pie"
           }
          ],
          "scatter": [
           {
            "fillpattern": {
             "fillmode": "overlay",
             "size": 10,
             "solidity": 0.2
            },
            "type": "scatter"
           }
          ],
          "scatter3d": [
           {
            "line": {
             "colorbar": {
              "outlinewidth": 0,
              "ticks": ""
             }
            },
            "marker": {
             "colorbar": {
              "outlinewidth": 0,
              "ticks": ""
             }
            },
            "type": "scatter3d"
           }
          ],
          "scattercarpet": [
           {
            "marker": {
             "colorbar": {
              "outlinewidth": 0,
              "ticks": ""
             }
            },
            "type": "scattercarpet"
           }
          ],
          "scattergeo": [
           {
            "marker": {
             "colorbar": {
              "outlinewidth": 0,
              "ticks": ""
             }
            },
            "type": "scattergeo"
           }
          ],
          "scattergl": [
           {
            "marker": {
             "colorbar": {
              "outlinewidth": 0,
              "ticks": ""
             }
            },
            "type": "scattergl"
           }
          ],
          "scattermapbox": [
           {
            "marker": {
             "colorbar": {
              "outlinewidth": 0,
              "ticks": ""
             }
            },
            "type": "scattermapbox"
           }
          ],
          "scatterpolar": [
           {
            "marker": {
             "colorbar": {
              "outlinewidth": 0,
              "ticks": ""
             }
            },
            "type": "scatterpolar"
           }
          ],
          "scatterpolargl": [
           {
            "marker": {
             "colorbar": {
              "outlinewidth": 0,
              "ticks": ""
             }
            },
            "type": "scatterpolargl"
           }
          ],
          "scatterternary": [
           {
            "marker": {
             "colorbar": {
              "outlinewidth": 0,
              "ticks": ""
             }
            },
            "type": "scatterternary"
           }
          ],
          "surface": [
           {
            "colorbar": {
             "outlinewidth": 0,
             "ticks": ""
            },
            "colorscale": [
             [
              0,
              "#0d0887"
             ],
             [
              0.1111111111111111,
              "#46039f"
             ],
             [
              0.2222222222222222,
              "#7201a8"
             ],
             [
              0.3333333333333333,
              "#9c179e"
             ],
             [
              0.4444444444444444,
              "#bd3786"
             ],
             [
              0.5555555555555556,
              "#d8576b"
             ],
             [
              0.6666666666666666,
              "#ed7953"
             ],
             [
              0.7777777777777778,
              "#fb9f3a"
             ],
             [
              0.8888888888888888,
              "#fdca26"
             ],
             [
              1,
              "#f0f921"
             ]
            ],
            "type": "surface"
           }
          ],
          "table": [
           {
            "cells": {
             "fill": {
              "color": "#EBF0F8"
             },
             "line": {
              "color": "white"
             }
            },
            "header": {
             "fill": {
              "color": "#C8D4E3"
             },
             "line": {
              "color": "white"
             }
            },
            "type": "table"
           }
          ]
         },
         "layout": {
          "annotationdefaults": {
           "arrowcolor": "#2a3f5f",
           "arrowhead": 0,
           "arrowwidth": 1
          },
          "autotypenumbers": "strict",
          "coloraxis": {
           "colorbar": {
            "outlinewidth": 0,
            "ticks": ""
           }
          },
          "colorscale": {
           "diverging": [
            [
             0,
             "#8e0152"
            ],
            [
             0.1,
             "#c51b7d"
            ],
            [
             0.2,
             "#de77ae"
            ],
            [
             0.3,
             "#f1b6da"
            ],
            [
             0.4,
             "#fde0ef"
            ],
            [
             0.5,
             "#f7f7f7"
            ],
            [
             0.6,
             "#e6f5d0"
            ],
            [
             0.7,
             "#b8e186"
            ],
            [
             0.8,
             "#7fbc41"
            ],
            [
             0.9,
             "#4d9221"
            ],
            [
             1,
             "#276419"
            ]
           ],
           "sequential": [
            [
             0,
             "#0d0887"
            ],
            [
             0.1111111111111111,
             "#46039f"
            ],
            [
             0.2222222222222222,
             "#7201a8"
            ],
            [
             0.3333333333333333,
             "#9c179e"
            ],
            [
             0.4444444444444444,
             "#bd3786"
            ],
            [
             0.5555555555555556,
             "#d8576b"
            ],
            [
             0.6666666666666666,
             "#ed7953"
            ],
            [
             0.7777777777777778,
             "#fb9f3a"
            ],
            [
             0.8888888888888888,
             "#fdca26"
            ],
            [
             1,
             "#f0f921"
            ]
           ],
           "sequentialminus": [
            [
             0,
             "#0d0887"
            ],
            [
             0.1111111111111111,
             "#46039f"
            ],
            [
             0.2222222222222222,
             "#7201a8"
            ],
            [
             0.3333333333333333,
             "#9c179e"
            ],
            [
             0.4444444444444444,
             "#bd3786"
            ],
            [
             0.5555555555555556,
             "#d8576b"
            ],
            [
             0.6666666666666666,
             "#ed7953"
            ],
            [
             0.7777777777777778,
             "#fb9f3a"
            ],
            [
             0.8888888888888888,
             "#fdca26"
            ],
            [
             1,
             "#f0f921"
            ]
           ]
          },
          "colorway": [
           "#636efa",
           "#EF553B",
           "#00cc96",
           "#ab63fa",
           "#FFA15A",
           "#19d3f3",
           "#FF6692",
           "#B6E880",
           "#FF97FF",
           "#FECB52"
          ],
          "font": {
           "color": "#2a3f5f"
          },
          "geo": {
           "bgcolor": "white",
           "lakecolor": "white",
           "landcolor": "white",
           "showlakes": true,
           "showland": true,
           "subunitcolor": "#C8D4E3"
          },
          "hoverlabel": {
           "align": "left"
          },
          "hovermode": "closest",
          "mapbox": {
           "style": "light"
          },
          "paper_bgcolor": "white",
          "plot_bgcolor": "white",
          "polar": {
           "angularaxis": {
            "gridcolor": "#EBF0F8",
            "linecolor": "#EBF0F8",
            "ticks": ""
           },
           "bgcolor": "white",
           "radialaxis": {
            "gridcolor": "#EBF0F8",
            "linecolor": "#EBF0F8",
            "ticks": ""
           }
          },
          "scene": {
           "xaxis": {
            "backgroundcolor": "white",
            "gridcolor": "#DFE8F3",
            "gridwidth": 2,
            "linecolor": "#EBF0F8",
            "showbackground": true,
            "ticks": "",
            "zerolinecolor": "#EBF0F8"
           },
           "yaxis": {
            "backgroundcolor": "white",
            "gridcolor": "#DFE8F3",
            "gridwidth": 2,
            "linecolor": "#EBF0F8",
            "showbackground": true,
            "ticks": "",
            "zerolinecolor": "#EBF0F8"
           },
           "zaxis": {
            "backgroundcolor": "white",
            "gridcolor": "#DFE8F3",
            "gridwidth": 2,
            "linecolor": "#EBF0F8",
            "showbackground": true,
            "ticks": "",
            "zerolinecolor": "#EBF0F8"
           }
          },
          "shapedefaults": {
           "line": {
            "color": "#2a3f5f"
           }
          },
          "ternary": {
           "aaxis": {
            "gridcolor": "#DFE8F3",
            "linecolor": "#A2B1C6",
            "ticks": ""
           },
           "baxis": {
            "gridcolor": "#DFE8F3",
            "linecolor": "#A2B1C6",
            "ticks": ""
           },
           "bgcolor": "white",
           "caxis": {
            "gridcolor": "#DFE8F3",
            "linecolor": "#A2B1C6",
            "ticks": ""
           }
          },
          "title": {
           "x": 0.05
          },
          "xaxis": {
           "automargin": true,
           "gridcolor": "#EBF0F8",
           "linecolor": "#EBF0F8",
           "ticks": "",
           "title": {
            "standoff": 15
           },
           "zerolinecolor": "#EBF0F8",
           "zerolinewidth": 2
          },
          "yaxis": {
           "automargin": true,
           "gridcolor": "#EBF0F8",
           "linecolor": "#EBF0F8",
           "ticks": "",
           "title": {
            "standoff": 15
           },
           "zerolinecolor": "#EBF0F8",
           "zerolinewidth": 2
          }
         }
        },
        "width": 500,
        "xaxis": {
         "anchor": "y",
         "domain": [
          0,
          1
         ],
         "showgrid": false,
         "title": {
          "text": "X"
         }
        },
        "yaxis": {
         "anchor": "x",
         "domain": [
          0,
          1
         ],
         "showgrid": false,
         "title": {
          "text": "Y"
         }
        }
       }
      }
     },
     "metadata": {},
     "output_type": "display_data"
    }
   ],
   "source": [
    "embedded = TSNE(n_components=2, learning_rate=lr,random_state=seed, init=init_method, perplexity=perp, n_iter=n_iter).fit_transform(X_map)\n",
    "\n",
    "# array_X = embedded[:len(X)]\n",
    "array_X = embedded[:len(X)]\n",
    "# array_Y = embedded[len(X):]\n",
    "\n",
    "\n",
    "#DF\n",
    "df = pd.DataFrame(embedded, columns=[\"X\", \"Y\"])\n",
    "# words = words_X + words_Y\n",
    "words = words_X\n",
    "df['words'] = words\n",
    "# df['Modalities'] = ['MAE-Huge_Mapped'] * len(array_X)\n",
    "\n",
    "\n",
    "# Scatter plot using Plotly Express\n",
    "fig = px.scatter(df, x=\"X\", y='Y')\n",
    "\n",
    "# Add annotations for each text label with custom colors\n",
    "for index, row in df.iterrows():\n",
    "    fig.add_annotation(x=row['X'], y=row['Y'], text=row['words'], showarrow=False, font=dict(color=\"blue\", size=1000))\n",
    "\n",
    "fig.update_traces(\n",
    "    mode='text',  # Set mode to display only text\n",
    "    textposition='top center',  # Adjust the position of the text labels\n",
    "    marker=dict(size=0),  # Set marker size to 0 to remove scatter points\n",
    "    # textfont=dict(color=\"blue\") # Specify text color for each class\n",
    ")\n",
    "\n",
    "# Customize the legend\n",
    "fig.update_layout(\n",
    "    # legend_title_text='Modalities',  # Set legend title\n",
    "    legend=dict(orientation=\"h\", yanchor=\"bottom\", y=1.02, xanchor=\"right\", x=1), # Adjust legend position\n",
    "    template=\"plotly_white\",\n",
    "    xaxis=dict(showgrid=False,tickfont=dict(size=50)),\n",
    "    yaxis=dict(showgrid=False,tickfont=dict(size=50)),\n",
    "    width=500,\n",
    "    height=500\n",
    "    # Update layout to remove grid\n",
    ")\n",
    "\n",
    "# Show the plot\n",
    "fig.show()\n",
    "# fig.write_image(\"tsne.png\")\n",
    "\n"
   ]
  },
  {
   "cell_type": "code",
   "execution_count": 19,
   "metadata": {},
   "outputs": [
    {
     "data": {
      "application/vnd.plotly.v1+json": {
       "config": {
        "plotlyServerURL": "https://plot.ly"
       },
       "data": [
        {
         "hovertemplate": "X=%{x}<br>Y=%{y}<extra></extra>",
         "legendgroup": "",
         "marker": {
          "color": "#636efa",
          "size": 0,
          "symbol": "circle"
         },
         "mode": "text",
         "name": "",
         "orientation": "v",
         "showlegend": false,
         "textposition": "top center",
         "type": "scatter",
         "x": [
          127.9919204711914,
          43.326499938964844,
          14.953215599060059,
          -148.04580688476562,
          29.134483337402344,
          -111.64130401611328,
          -53.835453033447266,
          -22.3002872467041,
          -103.5766830444336,
          112.409912109375
         ],
         "xaxis": "x",
         "y": [
          55.384727478027344,
          0.7696791887283325,
          112.40132904052734,
          -26.690031051635742,
          -162.4924774169922,
          102.9858169555664,
          20.560754776000977,
          -73.64323425292969,
          -136.23716735839844,
          -78.64737701416016
         ],
         "yaxis": "y"
        }
       ],
       "layout": {
        "annotations": [
         {
          "font": {
           "color": "#ff9900",
           "size": 100
          },
          "showarrow": false,
          "text": "diving_dress",
          "x": 127.9919204711914,
          "y": 55.384727478027344
         },
         {
          "font": {
           "color": "#ff9900",
           "size": 100
          },
          "showarrow": false,
          "text": "river_otter",
          "x": 43.326499938964844,
          "y": 0.7696791887283325
         },
         {
          "font": {
           "color": "#ff9900",
           "size": 100
          },
          "showarrow": false,
          "text": "lateen",
          "x": 14.953215599060059,
          "y": 112.40132904052734
         },
         {
          "font": {
           "color": "#ff9900",
           "size": 100
          },
          "showarrow": false,
          "text": "promenade_deck",
          "x": -148.04580688476562,
          "y": -26.690031051635742
         },
         {
          "font": {
           "color": "#ff9900",
           "size": 100
          },
          "showarrow": false,
          "text": "rubber_tire",
          "x": 29.134483337402344,
          "y": -162.4924774169922
         },
         {
          "font": {
           "color": "#ff9900",
           "size": 100
          },
          "showarrow": false,
          "text": "camphor_tree",
          "x": -111.64130401611328,
          "y": 102.9858169555664
         },
         {
          "font": {
           "color": "#ff9900",
           "size": 100
          },
          "showarrow": false,
          "text": "violin_bow",
          "x": -53.835453033447266,
          "y": 20.560754776000977
         },
         {
          "font": {
           "color": "#ff9900",
           "size": 100
          },
          "showarrow": false,
          "text": "karabiner",
          "x": -22.3002872467041,
          "y": -73.64323425292969
         },
         {
          "font": {
           "color": "#ff9900",
           "size": 100
          },
          "showarrow": false,
          "text": "student_union",
          "x": -103.5766830444336,
          "y": -136.23716735839844
         },
         {
          "font": {
           "color": "#ff9900",
           "size": 100
          },
          "showarrow": false,
          "text": "candy_cane",
          "x": 112.409912109375,
          "y": -78.64737701416016
         }
        ],
        "height": 2000,
        "legend": {
         "orientation": "h",
         "tracegroupgap": 0,
         "x": 1,
         "xanchor": "right",
         "y": 1.02,
         "yanchor": "bottom"
        },
        "margin": {
         "t": 60
        },
        "template": {
         "data": {
          "bar": [
           {
            "error_x": {
             "color": "#2a3f5f"
            },
            "error_y": {
             "color": "#2a3f5f"
            },
            "marker": {
             "line": {
              "color": "white",
              "width": 0.5
             },
             "pattern": {
              "fillmode": "overlay",
              "size": 10,
              "solidity": 0.2
             }
            },
            "type": "bar"
           }
          ],
          "barpolar": [
           {
            "marker": {
             "line": {
              "color": "white",
              "width": 0.5
             },
             "pattern": {
              "fillmode": "overlay",
              "size": 10,
              "solidity": 0.2
             }
            },
            "type": "barpolar"
           }
          ],
          "carpet": [
           {
            "aaxis": {
             "endlinecolor": "#2a3f5f",
             "gridcolor": "#C8D4E3",
             "linecolor": "#C8D4E3",
             "minorgridcolor": "#C8D4E3",
             "startlinecolor": "#2a3f5f"
            },
            "baxis": {
             "endlinecolor": "#2a3f5f",
             "gridcolor": "#C8D4E3",
             "linecolor": "#C8D4E3",
             "minorgridcolor": "#C8D4E3",
             "startlinecolor": "#2a3f5f"
            },
            "type": "carpet"
           }
          ],
          "choropleth": [
           {
            "colorbar": {
             "outlinewidth": 0,
             "ticks": ""
            },
            "type": "choropleth"
           }
          ],
          "contour": [
           {
            "colorbar": {
             "outlinewidth": 0,
             "ticks": ""
            },
            "colorscale": [
             [
              0,
              "#0d0887"
             ],
             [
              0.1111111111111111,
              "#46039f"
             ],
             [
              0.2222222222222222,
              "#7201a8"
             ],
             [
              0.3333333333333333,
              "#9c179e"
             ],
             [
              0.4444444444444444,
              "#bd3786"
             ],
             [
              0.5555555555555556,
              "#d8576b"
             ],
             [
              0.6666666666666666,
              "#ed7953"
             ],
             [
              0.7777777777777778,
              "#fb9f3a"
             ],
             [
              0.8888888888888888,
              "#fdca26"
             ],
             [
              1,
              "#f0f921"
             ]
            ],
            "type": "contour"
           }
          ],
          "contourcarpet": [
           {
            "colorbar": {
             "outlinewidth": 0,
             "ticks": ""
            },
            "type": "contourcarpet"
           }
          ],
          "heatmap": [
           {
            "colorbar": {
             "outlinewidth": 0,
             "ticks": ""
            },
            "colorscale": [
             [
              0,
              "#0d0887"
             ],
             [
              0.1111111111111111,
              "#46039f"
             ],
             [
              0.2222222222222222,
              "#7201a8"
             ],
             [
              0.3333333333333333,
              "#9c179e"
             ],
             [
              0.4444444444444444,
              "#bd3786"
             ],
             [
              0.5555555555555556,
              "#d8576b"
             ],
             [
              0.6666666666666666,
              "#ed7953"
             ],
             [
              0.7777777777777778,
              "#fb9f3a"
             ],
             [
              0.8888888888888888,
              "#fdca26"
             ],
             [
              1,
              "#f0f921"
             ]
            ],
            "type": "heatmap"
           }
          ],
          "heatmapgl": [
           {
            "colorbar": {
             "outlinewidth": 0,
             "ticks": ""
            },
            "colorscale": [
             [
              0,
              "#0d0887"
             ],
             [
              0.1111111111111111,
              "#46039f"
             ],
             [
              0.2222222222222222,
              "#7201a8"
             ],
             [
              0.3333333333333333,
              "#9c179e"
             ],
             [
              0.4444444444444444,
              "#bd3786"
             ],
             [
              0.5555555555555556,
              "#d8576b"
             ],
             [
              0.6666666666666666,
              "#ed7953"
             ],
             [
              0.7777777777777778,
              "#fb9f3a"
             ],
             [
              0.8888888888888888,
              "#fdca26"
             ],
             [
              1,
              "#f0f921"
             ]
            ],
            "type": "heatmapgl"
           }
          ],
          "histogram": [
           {
            "marker": {
             "pattern": {
              "fillmode": "overlay",
              "size": 10,
              "solidity": 0.2
             }
            },
            "type": "histogram"
           }
          ],
          "histogram2d": [
           {
            "colorbar": {
             "outlinewidth": 0,
             "ticks": ""
            },
            "colorscale": [
             [
              0,
              "#0d0887"
             ],
             [
              0.1111111111111111,
              "#46039f"
             ],
             [
              0.2222222222222222,
              "#7201a8"
             ],
             [
              0.3333333333333333,
              "#9c179e"
             ],
             [
              0.4444444444444444,
              "#bd3786"
             ],
             [
              0.5555555555555556,
              "#d8576b"
             ],
             [
              0.6666666666666666,
              "#ed7953"
             ],
             [
              0.7777777777777778,
              "#fb9f3a"
             ],
             [
              0.8888888888888888,
              "#fdca26"
             ],
             [
              1,
              "#f0f921"
             ]
            ],
            "type": "histogram2d"
           }
          ],
          "histogram2dcontour": [
           {
            "colorbar": {
             "outlinewidth": 0,
             "ticks": ""
            },
            "colorscale": [
             [
              0,
              "#0d0887"
             ],
             [
              0.1111111111111111,
              "#46039f"
             ],
             [
              0.2222222222222222,
              "#7201a8"
             ],
             [
              0.3333333333333333,
              "#9c179e"
             ],
             [
              0.4444444444444444,
              "#bd3786"
             ],
             [
              0.5555555555555556,
              "#d8576b"
             ],
             [
              0.6666666666666666,
              "#ed7953"
             ],
             [
              0.7777777777777778,
              "#fb9f3a"
             ],
             [
              0.8888888888888888,
              "#fdca26"
             ],
             [
              1,
              "#f0f921"
             ]
            ],
            "type": "histogram2dcontour"
           }
          ],
          "mesh3d": [
           {
            "colorbar": {
             "outlinewidth": 0,
             "ticks": ""
            },
            "type": "mesh3d"
           }
          ],
          "parcoords": [
           {
            "line": {
             "colorbar": {
              "outlinewidth": 0,
              "ticks": ""
             }
            },
            "type": "parcoords"
           }
          ],
          "pie": [
           {
            "automargin": true,
            "type": "pie"
           }
          ],
          "scatter": [
           {
            "fillpattern": {
             "fillmode": "overlay",
             "size": 10,
             "solidity": 0.2
            },
            "type": "scatter"
           }
          ],
          "scatter3d": [
           {
            "line": {
             "colorbar": {
              "outlinewidth": 0,
              "ticks": ""
             }
            },
            "marker": {
             "colorbar": {
              "outlinewidth": 0,
              "ticks": ""
             }
            },
            "type": "scatter3d"
           }
          ],
          "scattercarpet": [
           {
            "marker": {
             "colorbar": {
              "outlinewidth": 0,
              "ticks": ""
             }
            },
            "type": "scattercarpet"
           }
          ],
          "scattergeo": [
           {
            "marker": {
             "colorbar": {
              "outlinewidth": 0,
              "ticks": ""
             }
            },
            "type": "scattergeo"
           }
          ],
          "scattergl": [
           {
            "marker": {
             "colorbar": {
              "outlinewidth": 0,
              "ticks": ""
             }
            },
            "type": "scattergl"
           }
          ],
          "scattermapbox": [
           {
            "marker": {
             "colorbar": {
              "outlinewidth": 0,
              "ticks": ""
             }
            },
            "type": "scattermapbox"
           }
          ],
          "scatterpolar": [
           {
            "marker": {
             "colorbar": {
              "outlinewidth": 0,
              "ticks": ""
             }
            },
            "type": "scatterpolar"
           }
          ],
          "scatterpolargl": [
           {
            "marker": {
             "colorbar": {
              "outlinewidth": 0,
              "ticks": ""
             }
            },
            "type": "scatterpolargl"
           }
          ],
          "scatterternary": [
           {
            "marker": {
             "colorbar": {
              "outlinewidth": 0,
              "ticks": ""
             }
            },
            "type": "scatterternary"
           }
          ],
          "surface": [
           {
            "colorbar": {
             "outlinewidth": 0,
             "ticks": ""
            },
            "colorscale": [
             [
              0,
              "#0d0887"
             ],
             [
              0.1111111111111111,
              "#46039f"
             ],
             [
              0.2222222222222222,
              "#7201a8"
             ],
             [
              0.3333333333333333,
              "#9c179e"
             ],
             [
              0.4444444444444444,
              "#bd3786"
             ],
             [
              0.5555555555555556,
              "#d8576b"
             ],
             [
              0.6666666666666666,
              "#ed7953"
             ],
             [
              0.7777777777777778,
              "#fb9f3a"
             ],
             [
              0.8888888888888888,
              "#fdca26"
             ],
             [
              1,
              "#f0f921"
             ]
            ],
            "type": "surface"
           }
          ],
          "table": [
           {
            "cells": {
             "fill": {
              "color": "#EBF0F8"
             },
             "line": {
              "color": "white"
             }
            },
            "header": {
             "fill": {
              "color": "#C8D4E3"
             },
             "line": {
              "color": "white"
             }
            },
            "type": "table"
           }
          ]
         },
         "layout": {
          "annotationdefaults": {
           "arrowcolor": "#2a3f5f",
           "arrowhead": 0,
           "arrowwidth": 1
          },
          "autotypenumbers": "strict",
          "coloraxis": {
           "colorbar": {
            "outlinewidth": 0,
            "ticks": ""
           }
          },
          "colorscale": {
           "diverging": [
            [
             0,
             "#8e0152"
            ],
            [
             0.1,
             "#c51b7d"
            ],
            [
             0.2,
             "#de77ae"
            ],
            [
             0.3,
             "#f1b6da"
            ],
            [
             0.4,
             "#fde0ef"
            ],
            [
             0.5,
             "#f7f7f7"
            ],
            [
             0.6,
             "#e6f5d0"
            ],
            [
             0.7,
             "#b8e186"
            ],
            [
             0.8,
             "#7fbc41"
            ],
            [
             0.9,
             "#4d9221"
            ],
            [
             1,
             "#276419"
            ]
           ],
           "sequential": [
            [
             0,
             "#0d0887"
            ],
            [
             0.1111111111111111,
             "#46039f"
            ],
            [
             0.2222222222222222,
             "#7201a8"
            ],
            [
             0.3333333333333333,
             "#9c179e"
            ],
            [
             0.4444444444444444,
             "#bd3786"
            ],
            [
             0.5555555555555556,
             "#d8576b"
            ],
            [
             0.6666666666666666,
             "#ed7953"
            ],
            [
             0.7777777777777778,
             "#fb9f3a"
            ],
            [
             0.8888888888888888,
             "#fdca26"
            ],
            [
             1,
             "#f0f921"
            ]
           ],
           "sequentialminus": [
            [
             0,
             "#0d0887"
            ],
            [
             0.1111111111111111,
             "#46039f"
            ],
            [
             0.2222222222222222,
             "#7201a8"
            ],
            [
             0.3333333333333333,
             "#9c179e"
            ],
            [
             0.4444444444444444,
             "#bd3786"
            ],
            [
             0.5555555555555556,
             "#d8576b"
            ],
            [
             0.6666666666666666,
             "#ed7953"
            ],
            [
             0.7777777777777778,
             "#fb9f3a"
            ],
            [
             0.8888888888888888,
             "#fdca26"
            ],
            [
             1,
             "#f0f921"
            ]
           ]
          },
          "colorway": [
           "#636efa",
           "#EF553B",
           "#00cc96",
           "#ab63fa",
           "#FFA15A",
           "#19d3f3",
           "#FF6692",
           "#B6E880",
           "#FF97FF",
           "#FECB52"
          ],
          "font": {
           "color": "#2a3f5f"
          },
          "geo": {
           "bgcolor": "white",
           "lakecolor": "white",
           "landcolor": "white",
           "showlakes": true,
           "showland": true,
           "subunitcolor": "#C8D4E3"
          },
          "hoverlabel": {
           "align": "left"
          },
          "hovermode": "closest",
          "mapbox": {
           "style": "light"
          },
          "paper_bgcolor": "white",
          "plot_bgcolor": "white",
          "polar": {
           "angularaxis": {
            "gridcolor": "#EBF0F8",
            "linecolor": "#EBF0F8",
            "ticks": ""
           },
           "bgcolor": "white",
           "radialaxis": {
            "gridcolor": "#EBF0F8",
            "linecolor": "#EBF0F8",
            "ticks": ""
           }
          },
          "scene": {
           "xaxis": {
            "backgroundcolor": "white",
            "gridcolor": "#DFE8F3",
            "gridwidth": 2,
            "linecolor": "#EBF0F8",
            "showbackground": true,
            "ticks": "",
            "zerolinecolor": "#EBF0F8"
           },
           "yaxis": {
            "backgroundcolor": "white",
            "gridcolor": "#DFE8F3",
            "gridwidth": 2,
            "linecolor": "#EBF0F8",
            "showbackground": true,
            "ticks": "",
            "zerolinecolor": "#EBF0F8"
           },
           "zaxis": {
            "backgroundcolor": "white",
            "gridcolor": "#DFE8F3",
            "gridwidth": 2,
            "linecolor": "#EBF0F8",
            "showbackground": true,
            "ticks": "",
            "zerolinecolor": "#EBF0F8"
           }
          },
          "shapedefaults": {
           "line": {
            "color": "#2a3f5f"
           }
          },
          "ternary": {
           "aaxis": {
            "gridcolor": "#DFE8F3",
            "linecolor": "#A2B1C6",
            "ticks": ""
           },
           "baxis": {
            "gridcolor": "#DFE8F3",
            "linecolor": "#A2B1C6",
            "ticks": ""
           },
           "bgcolor": "white",
           "caxis": {
            "gridcolor": "#DFE8F3",
            "linecolor": "#A2B1C6",
            "ticks": ""
           }
          },
          "title": {
           "x": 0.05
          },
          "xaxis": {
           "automargin": true,
           "gridcolor": "#EBF0F8",
           "linecolor": "#EBF0F8",
           "ticks": "",
           "title": {
            "standoff": 15
           },
           "zerolinecolor": "#EBF0F8",
           "zerolinewidth": 2
          },
          "yaxis": {
           "automargin": true,
           "gridcolor": "#EBF0F8",
           "linecolor": "#EBF0F8",
           "ticks": "",
           "title": {
            "standoff": 15
           },
           "zerolinecolor": "#EBF0F8",
           "zerolinewidth": 2
          }
         }
        },
        "width": 2000,
        "xaxis": {
         "anchor": "y",
         "domain": [
          0,
          1
         ],
         "showgrid": false,
         "tickfont": {
          "size": 50
         },
         "title": {
          "text": "X"
         }
        },
        "yaxis": {
         "anchor": "x",
         "domain": [
          0,
          1
         ],
         "showgrid": false,
         "tickfont": {
          "size": 50
         },
         "title": {
          "text": "Y"
         }
        }
       }
      }
     },
     "metadata": {},
     "output_type": "display_data"
    }
   ],
   "source": [
    "embedded = TSNE(n_components=2, learning_rate=lr,random_state=seed, init=init_method, perplexity=perp, n_iter=n_iter).fit_transform(Y)\n",
    "\n",
    "# array_X = embedded[:len(X)]\n",
    "array_X = embedded[:len(X)]\n",
    "# array_Y = embedded[len(X):]\n",
    "\n",
    "\n",
    "#DF\n",
    "df = pd.DataFrame(embedded, columns=[\"X\", \"Y\"])\n",
    "# words = words_X + words_Y\n",
    "words = words_X\n",
    "df['words'] = words\n",
    "# df['Modalities'] = ['MAE-Huge_Mapped'] * len(array_X)\n",
    "\n",
    "\n",
    "# Scatter plot using Plotly Express\n",
    "fig = px.scatter(df, x=\"X\", y='Y')\n",
    "\n",
    "# Add annotations for each text label with custom colors\n",
    "for index, row in df.iterrows():\n",
    "    fig.add_annotation(x=row['X'], y=row['Y'], text=row['words'], showarrow=False, font=dict(color=\"#ff9900\", size=100))\n",
    "\n",
    "fig.update_traces(\n",
    "    mode='text',  # Set mode to display only text\n",
    "    textposition='top center',  # Adjust the position of the text labels\n",
    "    marker=dict(size=0),  # Set marker size to 0 to remove scatter points\n",
    "    # textfont=dict(color=\"blue\") # Specify text color for each class\n",
    ")\n",
    "\n",
    "# Customize the legend\n",
    "fig.update_layout(\n",
    "    # legend_title_text='Modalities',  # Set legend title\n",
    "    legend=dict(orientation=\"h\", yanchor=\"bottom\", y=1.02, xanchor=\"right\", x=1), # Adjust legend position\n",
    "    template=\"plotly_white\",\n",
    "    xaxis=dict(showgrid=False,tickfont=dict(size=50)),\n",
    "    yaxis=dict(showgrid=False,tickfont=dict(size=50)),\n",
    "    width=2000,\n",
    "    height=2000\n",
    "    # Update layout to remove grid\n",
    ")\n",
    "\n",
    "# Show the plot\n",
    "fig.show()\n",
    "fig.write_image(\"opt.png\")"
   ]
  },
  {
   "cell_type": "code",
   "execution_count": 18,
   "metadata": {},
   "outputs": [
    {
     "data": {
      "application/vnd.plotly.v1+json": {
       "config": {
        "plotlyServerURL": "https://plot.ly"
       },
       "data": [
        {
         "hovertemplate": "Modalities=MAE-Huge_Mapped<br>X=%{x}<br>Y=%{y}<extra></extra>",
         "legendgroup": "MAE-Huge_Mapped",
         "marker": {
          "color": "#636efa",
          "size": 0,
          "symbol": "circle"
         },
         "mode": "text",
         "name": "MAE-Huge_Mapped",
         "orientation": "v",
         "showlegend": true,
         "textposition": "top center",
         "type": "scatter",
         "x": [
          2.185243606567383,
          -36.219661712646484,
          -33.50361251831055,
          -16.015872955322266,
          24.73084259033203,
          -46.274925231933594,
          -12.252057075500488,
          -12.64542007446289,
          1.816644549369812,
          25.42763900756836
         ],
         "xaxis": "x",
         "y": [
          6.1688551902771,
          -5.879860877990723,
          24.941144943237305,
          14.77089786529541,
          19.94215965270996,
          -25.948827743530273,
          -4.835264682769775,
          -32.512508392333984,
          27.079975128173828,
          -2.2651329040527344
         ],
         "yaxis": "y"
        },
        {
         "hovertemplate": "Modalities=OPT_30B<br>X=%{x}<br>Y=%{y}<extra></extra>",
         "legendgroup": "OPT_30B",
         "marker": {
          "color": "#EF553B",
          "size": 0,
          "symbol": "circle"
         },
         "mode": "text",
         "name": "OPT_30B",
         "orientation": "v",
         "showlegend": true,
         "textposition": "top center",
         "type": "scatter",
         "x": [
          -21.69026756286621,
          -57.39670944213867,
          -53.73059844970703,
          9.503419876098633,
          53.46833038330078,
          33.45631790161133,
          3.116351366043091,
          -40.86983871459961,
          11.300701141357422,
          46.83551025390625
         ],
         "xaxis": "x",
         "y": [
          61.611026763916016,
          -0.697884738445282,
          38.25538635253906,
          -19.608720779418945,
          32.58381271362305,
          -39.42420959472656,
          -58.98375701904297,
          -56.01365280151367,
          48.64606475830078,
          -6.35010290145874
         ],
         "yaxis": "y"
        }
       ],
       "layout": {
        "annotations": [
         {
          "font": {
           "color": "#6aa84f",
           "size": 60
          },
          "showarrow": false,
          "text": "diving_dress",
          "x": 2.185243606567383,
          "y": 6.1688551902771
         },
         {
          "font": {
           "color": "#6aa84f",
           "size": 60
          },
          "showarrow": false,
          "text": "river_otter",
          "x": -36.219661712646484,
          "y": -5.879860877990723
         },
         {
          "font": {
           "color": "#6aa84f",
           "size": 60
          },
          "showarrow": false,
          "text": "lateen",
          "x": -33.50361251831055,
          "y": 24.941144943237305
         },
         {
          "font": {
           "color": "#6aa84f",
           "size": 60
          },
          "showarrow": false,
          "text": "promenade_deck",
          "x": -16.015872955322266,
          "y": 14.77089786529541
         },
         {
          "font": {
           "color": "#6aa84f",
           "size": 60
          },
          "showarrow": false,
          "text": "rubber_tire",
          "x": 24.73084259033203,
          "y": 19.94215965270996
         },
         {
          "font": {
           "color": "#6aa84f",
           "size": 60
          },
          "showarrow": false,
          "text": "camphor_tree",
          "x": -46.274925231933594,
          "y": -25.948827743530273
         },
         {
          "font": {
           "color": "#6aa84f",
           "size": 60
          },
          "showarrow": false,
          "text": "violin_bow",
          "x": -12.252057075500488,
          "y": -4.835264682769775
         },
         {
          "font": {
           "color": "#6aa84f",
           "size": 60
          },
          "showarrow": false,
          "text": "karabiner",
          "x": -12.64542007446289,
          "y": -32.512508392333984
         },
         {
          "font": {
           "color": "#6aa84f",
           "size": 60
          },
          "showarrow": false,
          "text": "student_union",
          "x": 1.816644549369812,
          "y": 27.079975128173828
         },
         {
          "font": {
           "color": "#6aa84f",
           "size": 60
          },
          "showarrow": false,
          "text": "candy_cane",
          "x": 25.42763900756836,
          "y": -2.2651329040527344
         },
         {
          "font": {
           "color": "#ff9900",
           "size": 60
          },
          "showarrow": false,
          "text": "diving_dress",
          "x": -21.69026756286621,
          "y": 61.611026763916016
         },
         {
          "font": {
           "color": "#ff9900",
           "size": 60
          },
          "showarrow": false,
          "text": "river_otter",
          "x": -57.39670944213867,
          "y": -0.697884738445282
         },
         {
          "font": {
           "color": "#ff9900",
           "size": 60
          },
          "showarrow": false,
          "text": "lateen",
          "x": -53.73059844970703,
          "y": 38.25538635253906
         },
         {
          "font": {
           "color": "#ff9900",
           "size": 60
          },
          "showarrow": false,
          "text": "promenade_deck",
          "x": 9.503419876098633,
          "y": -19.608720779418945
         },
         {
          "font": {
           "color": "#ff9900",
           "size": 60
          },
          "showarrow": false,
          "text": "rubber_tire",
          "x": 53.46833038330078,
          "y": 32.58381271362305
         },
         {
          "font": {
           "color": "#ff9900",
           "size": 60
          },
          "showarrow": false,
          "text": "camphor_tree",
          "x": 33.45631790161133,
          "y": -39.42420959472656
         },
         {
          "font": {
           "color": "#ff9900",
           "size": 60
          },
          "showarrow": false,
          "text": "violin_bow",
          "x": 3.116351366043091,
          "y": -58.98375701904297
         },
         {
          "font": {
           "color": "#ff9900",
           "size": 60
          },
          "showarrow": false,
          "text": "karabiner",
          "x": -40.86983871459961,
          "y": -56.01365280151367
         },
         {
          "font": {
           "color": "#ff9900",
           "size": 60
          },
          "showarrow": false,
          "text": "student_union",
          "x": 11.300701141357422,
          "y": 48.64606475830078
         },
         {
          "font": {
           "color": "#ff9900",
           "size": 60
          },
          "showarrow": false,
          "text": "candy_cane",
          "x": 46.83551025390625,
          "y": -6.35010290145874
         }
        ],
        "height": 2000,
        "legend": {
         "title": {
          "text": "Modalities"
         },
         "tracegroupgap": 0
        },
        "margin": {
         "t": 60
        },
        "showlegend": false,
        "template": {
         "data": {
          "bar": [
           {
            "error_x": {
             "color": "#2a3f5f"
            },
            "error_y": {
             "color": "#2a3f5f"
            },
            "marker": {
             "line": {
              "color": "white",
              "width": 0.5
             },
             "pattern": {
              "fillmode": "overlay",
              "size": 10,
              "solidity": 0.2
             }
            },
            "type": "bar"
           }
          ],
          "barpolar": [
           {
            "marker": {
             "line": {
              "color": "white",
              "width": 0.5
             },
             "pattern": {
              "fillmode": "overlay",
              "size": 10,
              "solidity": 0.2
             }
            },
            "type": "barpolar"
           }
          ],
          "carpet": [
           {
            "aaxis": {
             "endlinecolor": "#2a3f5f",
             "gridcolor": "#C8D4E3",
             "linecolor": "#C8D4E3",
             "minorgridcolor": "#C8D4E3",
             "startlinecolor": "#2a3f5f"
            },
            "baxis": {
             "endlinecolor": "#2a3f5f",
             "gridcolor": "#C8D4E3",
             "linecolor": "#C8D4E3",
             "minorgridcolor": "#C8D4E3",
             "startlinecolor": "#2a3f5f"
            },
            "type": "carpet"
           }
          ],
          "choropleth": [
           {
            "colorbar": {
             "outlinewidth": 0,
             "ticks": ""
            },
            "type": "choropleth"
           }
          ],
          "contour": [
           {
            "colorbar": {
             "outlinewidth": 0,
             "ticks": ""
            },
            "colorscale": [
             [
              0,
              "#0d0887"
             ],
             [
              0.1111111111111111,
              "#46039f"
             ],
             [
              0.2222222222222222,
              "#7201a8"
             ],
             [
              0.3333333333333333,
              "#9c179e"
             ],
             [
              0.4444444444444444,
              "#bd3786"
             ],
             [
              0.5555555555555556,
              "#d8576b"
             ],
             [
              0.6666666666666666,
              "#ed7953"
             ],
             [
              0.7777777777777778,
              "#fb9f3a"
             ],
             [
              0.8888888888888888,
              "#fdca26"
             ],
             [
              1,
              "#f0f921"
             ]
            ],
            "type": "contour"
           }
          ],
          "contourcarpet": [
           {
            "colorbar": {
             "outlinewidth": 0,
             "ticks": ""
            },
            "type": "contourcarpet"
           }
          ],
          "heatmap": [
           {
            "colorbar": {
             "outlinewidth": 0,
             "ticks": ""
            },
            "colorscale": [
             [
              0,
              "#0d0887"
             ],
             [
              0.1111111111111111,
              "#46039f"
             ],
             [
              0.2222222222222222,
              "#7201a8"
             ],
             [
              0.3333333333333333,
              "#9c179e"
             ],
             [
              0.4444444444444444,
              "#bd3786"
             ],
             [
              0.5555555555555556,
              "#d8576b"
             ],
             [
              0.6666666666666666,
              "#ed7953"
             ],
             [
              0.7777777777777778,
              "#fb9f3a"
             ],
             [
              0.8888888888888888,
              "#fdca26"
             ],
             [
              1,
              "#f0f921"
             ]
            ],
            "type": "heatmap"
           }
          ],
          "heatmapgl": [
           {
            "colorbar": {
             "outlinewidth": 0,
             "ticks": ""
            },
            "colorscale": [
             [
              0,
              "#0d0887"
             ],
             [
              0.1111111111111111,
              "#46039f"
             ],
             [
              0.2222222222222222,
              "#7201a8"
             ],
             [
              0.3333333333333333,
              "#9c179e"
             ],
             [
              0.4444444444444444,
              "#bd3786"
             ],
             [
              0.5555555555555556,
              "#d8576b"
             ],
             [
              0.6666666666666666,
              "#ed7953"
             ],
             [
              0.7777777777777778,
              "#fb9f3a"
             ],
             [
              0.8888888888888888,
              "#fdca26"
             ],
             [
              1,
              "#f0f921"
             ]
            ],
            "type": "heatmapgl"
           }
          ],
          "histogram": [
           {
            "marker": {
             "pattern": {
              "fillmode": "overlay",
              "size": 10,
              "solidity": 0.2
             }
            },
            "type": "histogram"
           }
          ],
          "histogram2d": [
           {
            "colorbar": {
             "outlinewidth": 0,
             "ticks": ""
            },
            "colorscale": [
             [
              0,
              "#0d0887"
             ],
             [
              0.1111111111111111,
              "#46039f"
             ],
             [
              0.2222222222222222,
              "#7201a8"
             ],
             [
              0.3333333333333333,
              "#9c179e"
             ],
             [
              0.4444444444444444,
              "#bd3786"
             ],
             [
              0.5555555555555556,
              "#d8576b"
             ],
             [
              0.6666666666666666,
              "#ed7953"
             ],
             [
              0.7777777777777778,
              "#fb9f3a"
             ],
             [
              0.8888888888888888,
              "#fdca26"
             ],
             [
              1,
              "#f0f921"
             ]
            ],
            "type": "histogram2d"
           }
          ],
          "histogram2dcontour": [
           {
            "colorbar": {
             "outlinewidth": 0,
             "ticks": ""
            },
            "colorscale": [
             [
              0,
              "#0d0887"
             ],
             [
              0.1111111111111111,
              "#46039f"
             ],
             [
              0.2222222222222222,
              "#7201a8"
             ],
             [
              0.3333333333333333,
              "#9c179e"
             ],
             [
              0.4444444444444444,
              "#bd3786"
             ],
             [
              0.5555555555555556,
              "#d8576b"
             ],
             [
              0.6666666666666666,
              "#ed7953"
             ],
             [
              0.7777777777777778,
              "#fb9f3a"
             ],
             [
              0.8888888888888888,
              "#fdca26"
             ],
             [
              1,
              "#f0f921"
             ]
            ],
            "type": "histogram2dcontour"
           }
          ],
          "mesh3d": [
           {
            "colorbar": {
             "outlinewidth": 0,
             "ticks": ""
            },
            "type": "mesh3d"
           }
          ],
          "parcoords": [
           {
            "line": {
             "colorbar": {
              "outlinewidth": 0,
              "ticks": ""
             }
            },
            "type": "parcoords"
           }
          ],
          "pie": [
           {
            "automargin": true,
            "type": "pie"
           }
          ],
          "scatter": [
           {
            "fillpattern": {
             "fillmode": "overlay",
             "size": 10,
             "solidity": 0.2
            },
            "type": "scatter"
           }
          ],
          "scatter3d": [
           {
            "line": {
             "colorbar": {
              "outlinewidth": 0,
              "ticks": ""
             }
            },
            "marker": {
             "colorbar": {
              "outlinewidth": 0,
              "ticks": ""
             }
            },
            "type": "scatter3d"
           }
          ],
          "scattercarpet": [
           {
            "marker": {
             "colorbar": {
              "outlinewidth": 0,
              "ticks": ""
             }
            },
            "type": "scattercarpet"
           }
          ],
          "scattergeo": [
           {
            "marker": {
             "colorbar": {
              "outlinewidth": 0,
              "ticks": ""
             }
            },
            "type": "scattergeo"
           }
          ],
          "scattergl": [
           {
            "marker": {
             "colorbar": {
              "outlinewidth": 0,
              "ticks": ""
             }
            },
            "type": "scattergl"
           }
          ],
          "scattermapbox": [
           {
            "marker": {
             "colorbar": {
              "outlinewidth": 0,
              "ticks": ""
             }
            },
            "type": "scattermapbox"
           }
          ],
          "scatterpolar": [
           {
            "marker": {
             "colorbar": {
              "outlinewidth": 0,
              "ticks": ""
             }
            },
            "type": "scatterpolar"
           }
          ],
          "scatterpolargl": [
           {
            "marker": {
             "colorbar": {
              "outlinewidth": 0,
              "ticks": ""
             }
            },
            "type": "scatterpolargl"
           }
          ],
          "scatterternary": [
           {
            "marker": {
             "colorbar": {
              "outlinewidth": 0,
              "ticks": ""
             }
            },
            "type": "scatterternary"
           }
          ],
          "surface": [
           {
            "colorbar": {
             "outlinewidth": 0,
             "ticks": ""
            },
            "colorscale": [
             [
              0,
              "#0d0887"
             ],
             [
              0.1111111111111111,
              "#46039f"
             ],
             [
              0.2222222222222222,
              "#7201a8"
             ],
             [
              0.3333333333333333,
              "#9c179e"
             ],
             [
              0.4444444444444444,
              "#bd3786"
             ],
             [
              0.5555555555555556,
              "#d8576b"
             ],
             [
              0.6666666666666666,
              "#ed7953"
             ],
             [
              0.7777777777777778,
              "#fb9f3a"
             ],
             [
              0.8888888888888888,
              "#fdca26"
             ],
             [
              1,
              "#f0f921"
             ]
            ],
            "type": "surface"
           }
          ],
          "table": [
           {
            "cells": {
             "fill": {
              "color": "#EBF0F8"
             },
             "line": {
              "color": "white"
             }
            },
            "header": {
             "fill": {
              "color": "#C8D4E3"
             },
             "line": {
              "color": "white"
             }
            },
            "type": "table"
           }
          ]
         },
         "layout": {
          "annotationdefaults": {
           "arrowcolor": "#2a3f5f",
           "arrowhead": 0,
           "arrowwidth": 1
          },
          "autotypenumbers": "strict",
          "coloraxis": {
           "colorbar": {
            "outlinewidth": 0,
            "ticks": ""
           }
          },
          "colorscale": {
           "diverging": [
            [
             0,
             "#8e0152"
            ],
            [
             0.1,
             "#c51b7d"
            ],
            [
             0.2,
             "#de77ae"
            ],
            [
             0.3,
             "#f1b6da"
            ],
            [
             0.4,
             "#fde0ef"
            ],
            [
             0.5,
             "#f7f7f7"
            ],
            [
             0.6,
             "#e6f5d0"
            ],
            [
             0.7,
             "#b8e186"
            ],
            [
             0.8,
             "#7fbc41"
            ],
            [
             0.9,
             "#4d9221"
            ],
            [
             1,
             "#276419"
            ]
           ],
           "sequential": [
            [
             0,
             "#0d0887"
            ],
            [
             0.1111111111111111,
             "#46039f"
            ],
            [
             0.2222222222222222,
             "#7201a8"
            ],
            [
             0.3333333333333333,
             "#9c179e"
            ],
            [
             0.4444444444444444,
             "#bd3786"
            ],
            [
             0.5555555555555556,
             "#d8576b"
            ],
            [
             0.6666666666666666,
             "#ed7953"
            ],
            [
             0.7777777777777778,
             "#fb9f3a"
            ],
            [
             0.8888888888888888,
             "#fdca26"
            ],
            [
             1,
             "#f0f921"
            ]
           ],
           "sequentialminus": [
            [
             0,
             "#0d0887"
            ],
            [
             0.1111111111111111,
             "#46039f"
            ],
            [
             0.2222222222222222,
             "#7201a8"
            ],
            [
             0.3333333333333333,
             "#9c179e"
            ],
            [
             0.4444444444444444,
             "#bd3786"
            ],
            [
             0.5555555555555556,
             "#d8576b"
            ],
            [
             0.6666666666666666,
             "#ed7953"
            ],
            [
             0.7777777777777778,
             "#fb9f3a"
            ],
            [
             0.8888888888888888,
             "#fdca26"
            ],
            [
             1,
             "#f0f921"
            ]
           ]
          },
          "colorway": [
           "#636efa",
           "#EF553B",
           "#00cc96",
           "#ab63fa",
           "#FFA15A",
           "#19d3f3",
           "#FF6692",
           "#B6E880",
           "#FF97FF",
           "#FECB52"
          ],
          "font": {
           "color": "#2a3f5f"
          },
          "geo": {
           "bgcolor": "white",
           "lakecolor": "white",
           "landcolor": "white",
           "showlakes": true,
           "showland": true,
           "subunitcolor": "#C8D4E3"
          },
          "hoverlabel": {
           "align": "left"
          },
          "hovermode": "closest",
          "mapbox": {
           "style": "light"
          },
          "paper_bgcolor": "white",
          "plot_bgcolor": "white",
          "polar": {
           "angularaxis": {
            "gridcolor": "#EBF0F8",
            "linecolor": "#EBF0F8",
            "ticks": ""
           },
           "bgcolor": "white",
           "radialaxis": {
            "gridcolor": "#EBF0F8",
            "linecolor": "#EBF0F8",
            "ticks": ""
           }
          },
          "scene": {
           "xaxis": {
            "backgroundcolor": "white",
            "gridcolor": "#DFE8F3",
            "gridwidth": 2,
            "linecolor": "#EBF0F8",
            "showbackground": true,
            "ticks": "",
            "zerolinecolor": "#EBF0F8"
           },
           "yaxis": {
            "backgroundcolor": "white",
            "gridcolor": "#DFE8F3",
            "gridwidth": 2,
            "linecolor": "#EBF0F8",
            "showbackground": true,
            "ticks": "",
            "zerolinecolor": "#EBF0F8"
           },
           "zaxis": {
            "backgroundcolor": "white",
            "gridcolor": "#DFE8F3",
            "gridwidth": 2,
            "linecolor": "#EBF0F8",
            "showbackground": true,
            "ticks": "",
            "zerolinecolor": "#EBF0F8"
           }
          },
          "shapedefaults": {
           "line": {
            "color": "#2a3f5f"
           }
          },
          "ternary": {
           "aaxis": {
            "gridcolor": "#DFE8F3",
            "linecolor": "#A2B1C6",
            "ticks": ""
           },
           "baxis": {
            "gridcolor": "#DFE8F3",
            "linecolor": "#A2B1C6",
            "ticks": ""
           },
           "bgcolor": "white",
           "caxis": {
            "gridcolor": "#DFE8F3",
            "linecolor": "#A2B1C6",
            "ticks": ""
           }
          },
          "title": {
           "x": 0.05
          },
          "xaxis": {
           "automargin": true,
           "gridcolor": "#EBF0F8",
           "linecolor": "#EBF0F8",
           "ticks": "",
           "title": {
            "standoff": 15
           },
           "zerolinecolor": "#EBF0F8",
           "zerolinewidth": 2
          },
          "yaxis": {
           "automargin": true,
           "gridcolor": "#EBF0F8",
           "linecolor": "#EBF0F8",
           "ticks": "",
           "title": {
            "standoff": 15
           },
           "zerolinecolor": "#EBF0F8",
           "zerolinewidth": 2
          }
         }
        },
        "width": 2000,
        "xaxis": {
         "anchor": "y",
         "domain": [
          0,
          1
         ],
         "showgrid": false,
         "tickfont": {
          "size": 50
         },
         "title": {
          "text": "X"
         }
        },
        "yaxis": {
         "anchor": "x",
         "domain": [
          0,
          1
         ],
         "showgrid": false,
         "tickfont": {
          "size": 50
         },
         "title": {
          "text": "Y"
         }
        }
       }
      }
     },
     "metadata": {},
     "output_type": "display_data"
    }
   ],
   "source": [
    "embedded = TSNE(n_components=2, learning_rate=lr,random_state=seed, init=init_method, perplexity=10, n_iter=n_iter).fit_transform(Z)\n",
    "\n",
    "# array_X = embedded[:len(X)]\n",
    "array_X = embedded[:len(X)]\n",
    "array_Y = embedded[len(X):]\n",
    "\n",
    "\n",
    "#DF\n",
    "df = pd.DataFrame(embedded, columns=[\"X\", \"Y\"])\n",
    "# words = words_X + words_Y\n",
    "words = words_X + words_Y\n",
    "df['words'] = words\n",
    "# df['Modalities'] = ['MAE-Huge'] * len(array_X) + ['MAE-Huge_Mapped'] * len(array_X) + ['OPT_30B'] * len(array_Y)\n",
    "df['Modalities'] = ['MAE-Huge_Mapped'] * len(array_X) + ['OPT_30B'] * len(array_Y)\n",
    "\n",
    "\n",
    "# Scatter plot using Plotly Express\n",
    "fig = px.scatter(df, x=\"X\", y='Y', color='Modalities')\n",
    "\n",
    "# Add annotations for each text label with custom colors\n",
    "for index, row in df.iterrows():\n",
    "    if row['Modalities']=='MAE-Huge':\n",
    "        color = \"blue\"\n",
    "    elif \"Map\" in row['Modalities']:\n",
    "        color = \"#6aa84f\"\n",
    "    else:\n",
    "        color = \"#ff9900\"\n",
    "    fig.add_annotation(x=row['X'], y=row['Y'], text=row['words'], showarrow=False, font=dict(color=color,size=60))\n",
    "\n",
    "fig.update_traces(\n",
    "    mode='text',  # Set mode to display only text\n",
    "    textposition='top center',  # Adjust the position of the text labels\n",
    "    marker=dict(size=0),  # Set marker size to 0 to remove scatter points\n",
    "    # textfont=dict(color=\"blue\") # Specify text color for each class\n",
    ")\n",
    "\n",
    "# Customize the legend\n",
    "fig.update_layout(\n",
    "    # legend_title_text='Modalities',  # Set legend title\n",
    "    # legend=dict(orientation=\"h\", yanchor=\"bottom\", y=1.02, xanchor=\"right\", x=1, title_font=dict(size=20)), # Adjust legend position\n",
    "    template=\"plotly_white\",\n",
    "    xaxis=dict(showgrid=False,tickfont=dict(size=50)),\n",
    "    yaxis=dict(showgrid=False,tickfont=dict(size=50)),\n",
    "    width=2000,\n",
    "    height=2000,\n",
    "    showlegend=False\n",
    "    # Update layout to remove grid\n",
    ")\n",
    "\n",
    "# Show the plot\n",
    "fig.show()\n",
    "fig.write_image(\"merge.png\")\n",
    "\n"
   ]
  },
  {
   "cell_type": "code",
   "execution_count": null,
   "metadata": {},
   "outputs": [],
   "source": [
    "\n",
    "from sklearn.manifold import TSNE\n",
    "import pandas as pd\n",
    "import plotly.express as px\n",
    "from plotly import graph_objects as go\n",
    "\n",
    "\n",
    "\n",
    "\n",
    "# Perform t-SNE with 3 components\n",
    "embedded = TSNE(n_components=3, learning_rate='auto', random_state=42, init='pca', perplexity=15, n_iter=5000).fit_transform(Z)\n",
    "\n",
    "# Your existing code...\n",
    "\n",
    "# DF\n",
    "df = pd.DataFrame(embedded, columns=[\"X\", \"Y\", \"Z\"])\n",
    "words = words_X + words_Y\n",
    "df['words'] = words\n",
    "df['Modalities'] =  ['MAE-Huge_Mapped'] * len(array_X) + ['OPT_30B'] * len(array_Y)\n",
    "\n",
    "# Scatter plot using Plotly Express for 3D visualization\n",
    "fig = px.scatter_3d(df, x=\"X\", y='Y', z='Z', color='Modalities', title='3D t-SNE Visualization of Embeddings')\n",
    "\n",
    "# Add annotations for each text label with custom colors\n",
    "for index, row in df.iterrows():\n",
    "    if row['Modalities'] == 'MAE-Huge':\n",
    "        color = \"blue\"\n",
    "    elif \"Map\" in row['Modalities']:\n",
    "        color = \"green\"\n",
    "    else:\n",
    "        color = \"red\"\n",
    "    \n",
    "    fig.add_trace(\n",
    "        go.Scatter3d(\n",
    "            x=[row['X']],\n",
    "            y=[row['Y']],\n",
    "            z=[row['Z']],\n",
    "            mode='text',\n",
    "            text=[row['words']],\n",
    "            textposition='top center',\n",
    "            marker=dict(size=0),\n",
    "            textfont=dict(color=color)\n",
    "        )\n",
    "    )\n",
    "\n",
    "fig.update_traces(\n",
    "    mode='text',  # Set mode to display only text\n",
    "    textposition='top center',  # Adjust the position of the text labels\n",
    "    marker=dict(size=0),  # Set marker size to 0 to remove scatter points\n",
    ")\n",
    "\n",
    "# Customize the legend\n",
    "fig.update_layout(\n",
    "    legend=dict(orientation=\"h\", yanchor=\"bottom\", y=1.02, xanchor=\"right\", x=1)  # Adjust legend position\n",
    ")\n",
    "\n",
    "# Show the plot\n",
    "fig.show()\n"
   ]
  },
  {
   "cell_type": "code",
   "execution_count": null,
   "metadata": {},
   "outputs": [],
   "source": [
    "import torch\n",
    "import json\n",
    "import numpy as np\n",
    "from sklearn.manifold import TSNE\n",
    "import pandas as pd\n",
    "import plotly.express as px\n",
    "\n",
    "pair_dict = json.load(open(\"/home/jiaang/Documents/Research/brainlm/plots/id_pairs_21k.json\",\"r\"))\n",
    "\n",
    "file_X = torch.load('/home/jiaang/Documents/Research/brainlm/plots/rebuttal_tsne/vit-mae-huge_1280_50.pth') \n",
    "X = file_X['vectors'].numpy()\n",
    "words_X = file_X['dico']\n",
    "\n",
    "file_Y = torch.load('/home/jiaang/Documents/Research/brainlm/plots/rebuttal_tsne/opt-30b_1280.pth')\n",
    "Y = file_Y['vectors'].numpy()\n",
    "words_Y = file_Y['dico']\n",
    "# words_X = [f\"{i}_{words_Y[idx]}\" for idx, i in enumerate(words_X)]\n",
    "words_X = words_Y\n",
    "\n",
    "# file_X = torch.load('/home/jiaang/Documents/Research/brainlm/plots/rebuttal_tsne/vectors-mae.pth') \n",
    "# X = file_X['vectors'].numpy()\n",
    "# words_X = file_X['dico']\n",
    "\n",
    "# file_Y = torch.load('/home/jiaang/Documents/Research/brainlm/plots/rebuttal_tsne/opt-30b_1280.pth')\n",
    "# Y = file_Y['vectors'].numpy()\n",
    "# words_Y = file_Y['dico']\n",
    "# words_X = words_Y\n",
    "\n",
    "Z = np.concatenate([X, Y])\n",
    "# Z = X\n",
    "\n",
    "\n",
    "embedded = TSNE(n_components=2, learning_rate='auto',random_state=42, init='random', perplexity=30, n_iter=2000).fit_transform(Z)\n",
    "\n",
    "array_X = embedded[:len(X)]\n",
    "array_Y = embedded[len(X):]\n",
    "\n",
    "# dict_content = open(\"./all_pairs.txt\").readlines()\n",
    "# images_ids = [i.split(\" \",1)[0] for i in dict_content]\n",
    "# images_labels = [i.split(\" \",1)[1].strip() for i in dict_content]\n",
    "\n",
    "#DF\n",
    "df = pd.DataFrame(embedded, columns=[\"X\", \"Y\"])\n",
    "words = words_X + words_Y\n",
    "# words = words_X\n",
    "df['words'] = words\n",
    "df['Modalities'] = ['MAE-Huge'] * len(array_X) + ['OPT_30B'] * len(array_Y)\n",
    "# df['Modalities'] = ['MAE-Huge'] * len(X)\n",
    "# df['Modalities'] =['OPT_30B'] * len(Y)\n",
    "\n",
    "# Scatter plot using Plotly Express\n",
    "fig = px.scatter(df,x=\"X\", y='Y', text='words', color='Modalities', title='TSNE Visualization of Embeddings')\n",
    "\n",
    "# Customize the layout\n",
    "fig.update_traces(marker=dict(size=8),\n",
    "                  selector=dict(mode='markers'))\n",
    "\n",
    "# Show the plot\n",
    "fig.show()\n",
    "# fig.write_image(\"tsne.png\")\n",
    "\n"
   ]
  },
  {
   "cell_type": "code",
   "execution_count": null,
   "metadata": {},
   "outputs": [],
   "source": [
    "import torch\n",
    "import json\n",
    "import numpy as np\n",
    "from sklearn.manifold import TSNE\n",
    "import pandas as pd\n",
    "import plotly.express as px\n",
    "\n",
    "pair_dict = json.load(open(\"/home/jiaang/Documents/Research/brainlm/plots/id_pairs_21k.json\",\"r\"))\n",
    "\n",
    "file_X = torch.load('/home/jiaang/Documents/Research/brainlm/plots/rebuttal_tsne/vit-mae-huge_1280_50.pth') \n",
    "X = file_X['vectors'].numpy()\n",
    "words_X = file_X['dico']\n",
    "\n",
    "file_Y = torch.load('/home/jiaang/Documents/Research/brainlm/plots/rebuttal_tsne/opt-30b_1280.pth')\n",
    "Y = file_Y['vectors'].numpy()\n",
    "words_Y = file_Y['dico']\n",
    "# words_X = [f\"{i}_{words_Y[idx]}\" for idx, i in enumerate(words_X)]\n",
    "words_X = words_Y\n",
    "\n",
    "# file_X = torch.load('/home/jiaang/Documents/Research/brainlm/plots/rebuttal_tsne/vectors-mae.pth') \n",
    "# X = file_X['vectors'].numpy()\n",
    "# words_X = file_X['dico']\n",
    "\n",
    "# file_Y = torch.load('/home/jiaang/Documents/Research/brainlm/plots/rebuttal_tsne/opt-30b_1280.pth')\n",
    "# Y = file_Y['vectors'].numpy()\n",
    "# words_Y = file_Y['dico']\n",
    "# words_X = words_Y\n",
    "\n",
    "# Z = np.concatenate([X, Y])\n",
    "Z = Y\n",
    "\n",
    "\n",
    "embedded = TSNE(n_components=2, learning_rate='auto',random_state=42, init='random', perplexity=30, n_iter=2000).fit_transform(Z)\n",
    "\n",
    "array_X = embedded[:len(X)]\n",
    "array_Y = embedded[len(X):]\n",
    "\n",
    "# dict_content = open(\"./all_pairs.txt\").readlines()\n",
    "# images_ids = [i.split(\" \",1)[0] for i in dict_content]\n",
    "# images_labels = [i.split(\" \",1)[1].strip() for i in dict_content]\n",
    "\n",
    "#DF\n",
    "df = pd.DataFrame(embedded, columns=[\"X\", \"Y\"])\n",
    "# words = words_X + words_Y\n",
    "words = words_X\n",
    "df['words'] = words\n",
    "# df['Modalities'] = ['MAE-Huge'] * len(array_X) + ['OPT_30B'] * len(array_Y)\n",
    "# df['Modalities'] = ['MAE-Huge'] * len(X)\n",
    "df['Modalities'] =['OPT_30B'] * len(Y)\n",
    "\n",
    "# Scatter plot using Plotly Express\n",
    "fig = px.scatter(df,x=\"X\", y='Y', text='words', color='Modalities', title='TSNE Visualization of Embeddings')\n",
    "\n",
    "# Customize the layout\n",
    "fig.update_traces(marker=dict(size=20),\n",
    "                  selector=dict(mode='markers'))\n",
    "\n",
    "# Show the plot\n",
    "fig.show()"
   ]
  }
 ],
 "metadata": {
  "kernelspec": {
   "display_name": "pytorch",
   "language": "python",
   "name": "python3"
  },
  "language_info": {
   "codemirror_mode": {
    "name": "ipython",
    "version": 3
   },
   "file_extension": ".py",
   "mimetype": "text/x-python",
   "name": "python",
   "nbconvert_exporter": "python",
   "pygments_lexer": "ipython3",
   "version": "3.11.5"
  }
 },
 "nbformat": 4,
 "nbformat_minor": 2
}
