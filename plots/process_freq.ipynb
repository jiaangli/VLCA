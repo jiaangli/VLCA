{
 "cells": [
  {
   "cell_type": "code",
   "execution_count": 1,
   "metadata": {},
   "outputs": [],
   "source": [
    "import pandas as pd\n",
    "import wandb\n",
    "from pathlib import Path\n",
    "import json\n",
    "import numpy as np"
   ]
  },
  {
   "cell_type": "code",
   "execution_count": 2,
   "metadata": {},
   "outputs": [],
   "source": [
    "method=\"procrustes\" \n",
    "extend_exp=\"freq\"\n",
    "vm_name = {\n",
    "    'resnet101': 'ResNet101',\n",
    "    'resnet152': 'ResNet152',\n",
    "    'resnet18': 'ResNet18',\n",
    "    'resnet34': 'ResNet34',\n",
    "    'resnet50': 'ResNet50',\n",
    "    'segformer-b0-finetuned-ade-512-512': 'SegFormer<sub>B0</sub>',\n",
    "    'segformer-b1-finetuned-ade-512-512': 'SegFormer<sub>B1</sub>',\n",
    "    'segformer-b2-finetuned-ade-512-512': 'SegFormer<sub>B2</sub>',\n",
    "    'segformer-b3-finetuned-ade-512-512': 'SegFormer<sub>B3</sub>',\n",
    "    'segformer-b4-finetuned-ade-512-512': 'SegFormer<sub>B4</sub>',\n",
    "    'segformer-b5-finetuned-ade-640-640': 'SegFormer<sub>B5</sub>',\n",
    "    'vit-mae-base': 'MAE<sub>Base</sub>',\n",
    "    'vit-mae-huge': 'MAE<sub>Huge</sub>',\n",
    "    'vit-mae-large': 'MAE<sub>Large</sub>'\n",
    "}\n",
    "\n",
    "model_name = {'bert_uncased_L-2_H-128_A-2': \"BERT<sub>TINY</sub>\",\n",
    "                'bert_uncased_L-4_H-256_A-4': \"BERT<sub>MINI</sub>\" ,\n",
    "                'bert_uncased_L-4_H-512_A-8': \"BERT<sub>SMALL</sub>\",\n",
    "                'bert_uncased_L-8_H-512_A-8': \"BERT<sub>MEDIUM</sub>\",\n",
    "                'bert-base-uncased': \"BERT<sub>BASE</sub>\",\n",
    "                'bert-large-uncased': \"BERT<sub>LARGE</sub>\",\n",
    "                'gpt2': \"GPT2<sub>BASE</sub>\",\n",
    "                'gpt2-medium': \"GPT2<sub>MEDIUM</sub>\",\n",
    "                'gpt2-large': \"GPT2<sub>LARGE</sub>\",\n",
    "                'gpt2-xl': \"GPT2<sub>XL</sub>\",\n",
    "                'opt-125m': \"OPT<sub>125M</sub>\",\n",
    "                'opt-1.3b': \"OPT<sub>1.3B</sub>\",\n",
    "                'opt-6.7b': \"OPT<sub>6.7B</sub>\",\n",
    "                'opt-30b': \"OPT<sub>30B</sub>\",\n",
    "                'opt-66b': \"OPT<sub>66B</sub>\",\n",
    "                'Llama-2-7b-hf': \"Llama-2<sub>7B</sub>\",\n",
    "                'Llama-2-13b-hf': \"Llama-2<sub>13B</sub>\",\n",
    "                'Llama-2-70b-hf': \"Llama-2<sub>70B</sub>\",\n",
    "                \"fasttext\":\"fastText\"}\n",
    "\n",
    "model_size = {'bert_uncased_L-2_H-128_A-2':4.4, 'bert_uncased_L-4_H-256_A-4':11.3, 'bert_uncased_L-4_H-512_A-8':29.1, \n",
    "    'bert_uncased_L-8_H-512_A-8':41.7, 'bert-base-uncased':110, 'bert-large-uncased':340, \n",
    "    'gpt2':117,  'gpt2-large':762, 'gpt2-xl':1542, 'opt-125m':125, 'opt-6.7b':6700, 'opt-30b':30000,'opt-66b':66000,\n",
    "    'Llama-2-7b-hf': 7000,\n",
    "    'Llama-2-13b-hf': 13000,\n",
    "    'Llama-2-70b-hf': 70000,}\n",
    "\n",
    "model_tags = {\n",
    "    \"ft\": \"fasttext\",\n",
    "    \"bert\": \"bert\",\n",
    "    \"gpt2\": \"gpt2\",\n",
    "    \"opt\": \"opt\"\n",
    "}\n",
    "\n",
    "bins = {\n",
    "    \"_freq10000\":\"0-10k\",\n",
    "    \"_freq100000\":\"10k-100k\",\n",
    "    \"_freq_end\":\"100k+\"\n",
    "}\n",
    "\n",
    "bins_order = {\n",
    "    \"_freq10000\":\"0\",\n",
    "    \"_freq100000\":\"1\",\n",
    "    \"_freq_end\":\"2\"\n",
    "}\n",
    "\n",
    "set_name = \"cleaned\""
   ]
  },
  {
   "cell_type": "code",
   "execution_count": 3,
   "metadata": {},
   "outputs": [],
   "source": [
    "\n",
    "\n",
    "api = wandb.Api()\n",
    "df = pd.DataFrame()\n",
    "\n",
    "for model_alias in [\"LM\"]:\n",
    "    # method_name = \"Procrustes Analysis\" if method == \"procrustes\" else \"Ridge Regression\"\n",
    "    runs = api.runs(path=f\"jiaangli00/image2{model_alias}-TACL-{set_name}{extend_exp}\")\n",
    "    # metrics = runs.summary[\"Results\"]\n",
    "\n",
    "    # data = []\n",
    "    for i, single_run in enumerate(runs):\n",
    "        metric = json.load(single_run.file(single_run.summary[\"Results\"][\"path\"]).download(exist_ok=True))\n",
    "        df = pd.concat([df,pd.DataFrame(metric[\"data\"], columns=metric[\"columns\"])])\n",
    "\n",
    "# # df['Subjects'] = df['Subjects'].replace({f'brain_{i}': f'Subject-{i}' for i in range(1, num_subs + 1)})\n",
    "# df['Layers'] = df['Layers'].replace({f'layer_{i}': f'layer-{i})\n",
    "df['Models_size'] = df['LM'].copy()\n",
    "df['Models_size'] = df['Models_size'].replace(model_size)\n",
    "df['VM'] = df['VM'].replace(vm_name)\n",
    "df['LM'] = df['LM'].replace(model_name)\n",
    "df['Bins_order'] = df['Bins'].copy()\n",
    "df['Bins_order'] = df['Bins_order'].replace(bins_order)\n",
    "df[\"Bins\"] = df[\"Bins\"].replace(bins)\n",
    "# #\n",
    "group_names: list[str] = [\"LM\", \"VM\"]\n",
    "if extend_exp != \"\":\n",
    "    group_names.append(\"Bins\")\n",
    "    group_names.append(\"Bins_order\")\n",
    "#\n",
    "precision_csls, precision_nn = [], []\n",
    "for k in [100]:\n",
    "    precision_csls.append(f'P@{k}-CSLS')\n",
    "    precision_nn.append(f'P@{k}-NN')\n",
    "\n",
    "precision = precision_csls\n",
    "#\n",
    "precision.append(\"Models_size\")"
   ]
  },
  {
   "cell_type": "code",
   "execution_count": 4,
   "metadata": {},
   "outputs": [],
   "source": [
    "seed_avg = df.groupby(group_names)[precision].mean().round(1).reset_index()\n",
    "_selected = seed_avg.loc[(seed_avg[\"LM\"] == \"BERT_LARGE\") | (seed_avg[\"LM\"] == \"GPT2_XL\") | (seed_avg[\"LM\"] == \"OPT_30B\") | (seed_avg[\"LM\"] == \"Llama-2-13B\")]\n",
    "# _selected.to_csv(\"freq.csv\")\n",
    "# seed_avg\n",
    "# _selected"
   ]
  },
  {
   "cell_type": "code",
   "execution_count": 5,
   "metadata": {},
   "outputs": [],
   "source": [
    "table = _selected.loc[(seed_avg[\"VM\"] == \"MAE-Huge\") | (seed_avg[\"VM\"] == \"SegFormer-B5\") | (seed_avg[\"VM\"] == \"ResNet152\") ]"
   ]
  },
  {
   "cell_type": "code",
   "execution_count": 6,
   "metadata": {},
   "outputs": [
    {
     "data": {
      "text/html": [
       "<div>\n",
       "<style scoped>\n",
       "    .dataframe tbody tr th:only-of-type {\n",
       "        vertical-align: middle;\n",
       "    }\n",
       "\n",
       "    .dataframe tbody tr th {\n",
       "        vertical-align: top;\n",
       "    }\n",
       "\n",
       "    .dataframe thead th {\n",
       "        text-align: right;\n",
       "    }\n",
       "</style>\n",
       "<table border=\"1\" class=\"dataframe\">\n",
       "  <thead>\n",
       "    <tr style=\"text-align: right;\">\n",
       "      <th></th>\n",
       "      <th>LM</th>\n",
       "      <th>VM</th>\n",
       "      <th>Bins</th>\n",
       "      <th>Bins_order</th>\n",
       "      <th>P@100-CSLS</th>\n",
       "      <th>Models_size</th>\n",
       "    </tr>\n",
       "  </thead>\n",
       "  <tbody>\n",
       "  </tbody>\n",
       "</table>\n",
       "</div>"
      ],
      "text/plain": [
       "Empty DataFrame\n",
       "Columns: [LM, VM, Bins, Bins_order, P@100-CSLS, Models_size]\n",
       "Index: []"
      ]
     },
     "execution_count": 6,
     "metadata": {},
     "output_type": "execute_result"
    }
   ],
   "source": [
    "table"
   ]
  },
  {
   "cell_type": "code",
   "execution_count": 7,
   "metadata": {},
   "outputs": [],
   "source": [
    "# table.to_csv(\"freq.csv\")"
   ]
  },
  {
   "cell_type": "code",
   "execution_count": 8,
   "metadata": {},
   "outputs": [
    {
     "data": {
      "text/html": [
       "<div>\n",
       "<style scoped>\n",
       "    .dataframe tbody tr th:only-of-type {\n",
       "        vertical-align: middle;\n",
       "    }\n",
       "\n",
       "    .dataframe tbody tr th {\n",
       "        vertical-align: top;\n",
       "    }\n",
       "\n",
       "    .dataframe thead th {\n",
       "        text-align: right;\n",
       "    }\n",
       "</style>\n",
       "<table border=\"1\" class=\"dataframe\">\n",
       "  <thead>\n",
       "    <tr style=\"text-align: right;\">\n",
       "      <th></th>\n",
       "      <th>LM</th>\n",
       "      <th>VM</th>\n",
       "      <th>Bins</th>\n",
       "      <th>Bins_order</th>\n",
       "      <th>P@100-CSLS</th>\n",
       "      <th>Models_size</th>\n",
       "    </tr>\n",
       "  </thead>\n",
       "  <tbody>\n",
       "    <tr>\n",
       "      <th>1</th>\n",
       "      <td>BERT&lt;sub&gt;LARGE&lt;/sub&gt;</td>\n",
       "      <td>MAE&lt;sub&gt;Base&lt;/sub&gt;</td>\n",
       "      <td>100k+</td>\n",
       "      <td>2</td>\n",
       "      <td>34.0</td>\n",
       "      <td>340.0</td>\n",
       "    </tr>\n",
       "    <tr>\n",
       "      <th>7</th>\n",
       "      <td>BERT&lt;sub&gt;LARGE&lt;/sub&gt;</td>\n",
       "      <td>MAE&lt;sub&gt;Large&lt;/sub&gt;</td>\n",
       "      <td>100k+</td>\n",
       "      <td>2</td>\n",
       "      <td>35.1</td>\n",
       "      <td>340.0</td>\n",
       "    </tr>\n",
       "    <tr>\n",
       "      <th>10</th>\n",
       "      <td>BERT&lt;sub&gt;LARGE&lt;/sub&gt;</td>\n",
       "      <td>ResNet101</td>\n",
       "      <td>100k+</td>\n",
       "      <td>2</td>\n",
       "      <td>43.5</td>\n",
       "      <td>340.0</td>\n",
       "    </tr>\n",
       "    <tr>\n",
       "      <th>16</th>\n",
       "      <td>BERT&lt;sub&gt;LARGE&lt;/sub&gt;</td>\n",
       "      <td>ResNet18</td>\n",
       "      <td>100k+</td>\n",
       "      <td>2</td>\n",
       "      <td>39.5</td>\n",
       "      <td>340.0</td>\n",
       "    </tr>\n",
       "    <tr>\n",
       "      <th>19</th>\n",
       "      <td>BERT&lt;sub&gt;LARGE&lt;/sub&gt;</td>\n",
       "      <td>ResNet34</td>\n",
       "      <td>100k+</td>\n",
       "      <td>2</td>\n",
       "      <td>41.6</td>\n",
       "      <td>340.0</td>\n",
       "    </tr>\n",
       "    <tr>\n",
       "      <th>...</th>\n",
       "      <td>...</td>\n",
       "      <td>...</td>\n",
       "      <td>...</td>\n",
       "      <td>...</td>\n",
       "      <td>...</td>\n",
       "      <td>...</td>\n",
       "    </tr>\n",
       "    <tr>\n",
       "      <th>150</th>\n",
       "      <td>OPT&lt;sub&gt;30B&lt;/sub&gt;</td>\n",
       "      <td>SegFormer&lt;sub&gt;B0&lt;/sub&gt;</td>\n",
       "      <td>0-10k</td>\n",
       "      <td>0</td>\n",
       "      <td>20.6</td>\n",
       "      <td>30000.0</td>\n",
       "    </tr>\n",
       "    <tr>\n",
       "      <th>153</th>\n",
       "      <td>OPT&lt;sub&gt;30B&lt;/sub&gt;</td>\n",
       "      <td>SegFormer&lt;sub&gt;B1&lt;/sub&gt;</td>\n",
       "      <td>0-10k</td>\n",
       "      <td>0</td>\n",
       "      <td>23.3</td>\n",
       "      <td>30000.0</td>\n",
       "    </tr>\n",
       "    <tr>\n",
       "      <th>156</th>\n",
       "      <td>OPT&lt;sub&gt;30B&lt;/sub&gt;</td>\n",
       "      <td>SegFormer&lt;sub&gt;B2&lt;/sub&gt;</td>\n",
       "      <td>0-10k</td>\n",
       "      <td>0</td>\n",
       "      <td>23.8</td>\n",
       "      <td>30000.0</td>\n",
       "    </tr>\n",
       "    <tr>\n",
       "      <th>159</th>\n",
       "      <td>OPT&lt;sub&gt;30B&lt;/sub&gt;</td>\n",
       "      <td>SegFormer&lt;sub&gt;B3&lt;/sub&gt;</td>\n",
       "      <td>0-10k</td>\n",
       "      <td>0</td>\n",
       "      <td>24.5</td>\n",
       "      <td>30000.0</td>\n",
       "    </tr>\n",
       "    <tr>\n",
       "      <th>162</th>\n",
       "      <td>OPT&lt;sub&gt;30B&lt;/sub&gt;</td>\n",
       "      <td>SegFormer&lt;sub&gt;B4&lt;/sub&gt;</td>\n",
       "      <td>0-10k</td>\n",
       "      <td>0</td>\n",
       "      <td>23.1</td>\n",
       "      <td>30000.0</td>\n",
       "    </tr>\n",
       "  </tbody>\n",
       "</table>\n",
       "<p>132 rows × 6 columns</p>\n",
       "</div>"
      ],
      "text/plain": [
       "                       LM                      VM   Bins Bins_order  \\\n",
       "1    BERT<sub>LARGE</sub>      MAE<sub>Base</sub>  100k+          2   \n",
       "7    BERT<sub>LARGE</sub>     MAE<sub>Large</sub>  100k+          2   \n",
       "10   BERT<sub>LARGE</sub>               ResNet101  100k+          2   \n",
       "16   BERT<sub>LARGE</sub>                ResNet18  100k+          2   \n",
       "19   BERT<sub>LARGE</sub>                ResNet34  100k+          2   \n",
       "..                    ...                     ...    ...        ...   \n",
       "150     OPT<sub>30B</sub>  SegFormer<sub>B0</sub>  0-10k          0   \n",
       "153     OPT<sub>30B</sub>  SegFormer<sub>B1</sub>  0-10k          0   \n",
       "156     OPT<sub>30B</sub>  SegFormer<sub>B2</sub>  0-10k          0   \n",
       "159     OPT<sub>30B</sub>  SegFormer<sub>B3</sub>  0-10k          0   \n",
       "162     OPT<sub>30B</sub>  SegFormer<sub>B4</sub>  0-10k          0   \n",
       "\n",
       "     P@100-CSLS  Models_size  \n",
       "1          34.0        340.0  \n",
       "7          35.1        340.0  \n",
       "10         43.5        340.0  \n",
       "16         39.5        340.0  \n",
       "19         41.6        340.0  \n",
       "..          ...          ...  \n",
       "150        20.6      30000.0  \n",
       "153        23.3      30000.0  \n",
       "156        23.8      30000.0  \n",
       "159        24.5      30000.0  \n",
       "162        23.1      30000.0  \n",
       "\n",
       "[132 rows x 6 columns]"
      ]
     },
     "execution_count": 8,
     "metadata": {},
     "output_type": "execute_result"
    }
   ],
   "source": [
    "table2 = seed_avg.loc[(seed_avg[\"VM\"] != \"MAE<sub>Huge</sub>\") & (seed_avg[\"VM\"] != \"SegFormer<sub>B5</sub>\") & (seed_avg[\"VM\"] != \"ResNet152\") ]\n",
    "table2 = table2.sort_values(by=[\"Bins_order\",\"Models_size\"], ascending=[False,True])\n",
    "table2"
   ]
  },
  {
   "cell_type": "code",
   "execution_count": 9,
   "metadata": {},
   "outputs": [
    {
     "data": {
      "application/vnd.plotly.v1+json": {
       "config": {
        "plotlyServerURL": "https://plot.ly"
       },
       "data": [
        {
         "alignmentgroup": "True",
         "hovertemplate": "Bins=100k+<br>LM=BERT<sub>LARGE</sub><br>VM=%{x}<br>P@100=%{y}<extra></extra>",
         "legendgroup": "100k+",
         "marker": {
          "color": "rgb(251,128,114)",
          "opacity": 0.9,
          "pattern": {
           "shape": ""
          }
         },
         "name": "100k+",
         "offsetgroup": "100k+",
         "orientation": "v",
         "showlegend": true,
         "textposition": "auto",
         "type": "bar",
         "x": [
          "MAE<sub>Base</sub>",
          "MAE<sub>Large</sub>",
          "ResNet101",
          "ResNet18",
          "ResNet34",
          "ResNet50",
          "SegFormer<sub>B0</sub>",
          "SegFormer<sub>B1</sub>",
          "SegFormer<sub>B2</sub>",
          "SegFormer<sub>B3</sub>",
          "SegFormer<sub>B4</sub>"
         ],
         "xaxis": "x",
         "y": [
          34,
          35.1,
          43.5,
          39.5,
          41.6,
          42.5,
          32.1,
          38.5,
          40.4,
          40.8,
          40.5
         ],
         "yaxis": "y"
        },
        {
         "alignmentgroup": "True",
         "hovertemplate": "Bins=100k+<br>LM=GPT2<sub>XL</sub><br>VM=%{x}<br>P@100=%{y}<extra></extra>",
         "legendgroup": "100k+",
         "marker": {
          "color": "rgb(251,128,114)",
          "opacity": 0.9,
          "pattern": {
           "shape": ""
          }
         },
         "name": "100k+",
         "offsetgroup": "100k+",
         "orientation": "v",
         "showlegend": false,
         "textposition": "auto",
         "type": "bar",
         "x": [
          "MAE<sub>Base</sub>",
          "MAE<sub>Large</sub>",
          "ResNet101",
          "ResNet18",
          "ResNet34",
          "ResNet50",
          "SegFormer<sub>B0</sub>",
          "SegFormer<sub>B1</sub>",
          "SegFormer<sub>B2</sub>",
          "SegFormer<sub>B3</sub>",
          "SegFormer<sub>B4</sub>"
         ],
         "xaxis": "x2",
         "y": [
          39.9,
          40.5,
          48.7,
          45.4,
          46.7,
          48.1,
          36.8,
          43.6,
          45.3,
          45.5,
          45.4
         ],
         "yaxis": "y2"
        },
        {
         "alignmentgroup": "True",
         "hovertemplate": "Bins=100k+<br>LM=Llama-2<sub>13B</sub><br>VM=%{x}<br>P@100=%{y}<extra></extra>",
         "legendgroup": "100k+",
         "marker": {
          "color": "rgb(251,128,114)",
          "opacity": 0.9,
          "pattern": {
           "shape": ""
          }
         },
         "name": "100k+",
         "offsetgroup": "100k+",
         "orientation": "v",
         "showlegend": false,
         "textposition": "auto",
         "type": "bar",
         "x": [
          "MAE<sub>Base</sub>",
          "MAE<sub>Large</sub>",
          "ResNet101",
          "ResNet18",
          "ResNet34",
          "ResNet50",
          "SegFormer<sub>B0</sub>",
          "SegFormer<sub>B1</sub>",
          "SegFormer<sub>B2</sub>",
          "SegFormer<sub>B3</sub>",
          "SegFormer<sub>B4</sub>"
         ],
         "xaxis": "x3",
         "y": [
          51.9,
          53.5,
          64,
          56.7,
          59.1,
          62.7,
          46.3,
          56,
          58.5,
          59.5,
          58.6
         ],
         "yaxis": "y3"
        },
        {
         "alignmentgroup": "True",
         "hovertemplate": "Bins=100k+<br>LM=OPT<sub>30B</sub><br>VM=%{x}<br>P@100=%{y}<extra></extra>",
         "legendgroup": "100k+",
         "marker": {
          "color": "rgb(251,128,114)",
          "opacity": 0.9,
          "pattern": {
           "shape": ""
          }
         },
         "name": "100k+",
         "offsetgroup": "100k+",
         "orientation": "v",
         "showlegend": false,
         "textposition": "auto",
         "type": "bar",
         "x": [
          "MAE<sub>Base</sub>",
          "MAE<sub>Large</sub>",
          "ResNet101",
          "ResNet18",
          "ResNet34",
          "ResNet50",
          "SegFormer<sub>B0</sub>",
          "SegFormer<sub>B1</sub>",
          "SegFormer<sub>B2</sub>",
          "SegFormer<sub>B3</sub>",
          "SegFormer<sub>B4</sub>"
         ],
         "xaxis": "x4",
         "y": [
          53.9,
          55.8,
          64,
          58.6,
          60.6,
          63.2,
          50.1,
          57.7,
          59.8,
          60.6,
          60.2
         ],
         "yaxis": "y4"
        },
        {
         "alignmentgroup": "True",
         "hovertemplate": "Bins=10k-100k<br>LM=BERT<sub>LARGE</sub><br>VM=%{x}<br>P@100=%{y}<extra></extra>",
         "legendgroup": "10k-100k",
         "marker": {
          "color": "rgb(141,211,199)",
          "opacity": 0.9,
          "pattern": {
           "shape": ""
          }
         },
         "name": "10k-100k",
         "offsetgroup": "10k-100k",
         "orientation": "v",
         "showlegend": true,
         "textposition": "auto",
         "type": "bar",
         "x": [
          "MAE<sub>Base</sub>",
          "MAE<sub>Large</sub>",
          "ResNet101",
          "ResNet18",
          "ResNet34",
          "ResNet50",
          "SegFormer<sub>B0</sub>",
          "SegFormer<sub>B1</sub>",
          "SegFormer<sub>B2</sub>",
          "SegFormer<sub>B3</sub>",
          "SegFormer<sub>B4</sub>"
         ],
         "xaxis": "x",
         "y": [
          33.4,
          34.8,
          44.1,
          39.7,
          42.6,
          43.2,
          33.7,
          39,
          41.7,
          42.1,
          41.2
         ],
         "yaxis": "y"
        },
        {
         "alignmentgroup": "True",
         "hovertemplate": "Bins=10k-100k<br>LM=GPT2<sub>XL</sub><br>VM=%{x}<br>P@100=%{y}<extra></extra>",
         "legendgroup": "10k-100k",
         "marker": {
          "color": "rgb(141,211,199)",
          "opacity": 0.9,
          "pattern": {
           "shape": ""
          }
         },
         "name": "10k-100k",
         "offsetgroup": "10k-100k",
         "orientation": "v",
         "showlegend": false,
         "textposition": "auto",
         "type": "bar",
         "x": [
          "MAE<sub>Base</sub>",
          "MAE<sub>Large</sub>",
          "ResNet101",
          "ResNet18",
          "ResNet34",
          "ResNet50",
          "SegFormer<sub>B0</sub>",
          "SegFormer<sub>B1</sub>",
          "SegFormer<sub>B2</sub>",
          "SegFormer<sub>B3</sub>",
          "SegFormer<sub>B4</sub>"
         ],
         "xaxis": "x2",
         "y": [
          39.9,
          40.7,
          50.3,
          46.7,
          48.4,
          49.6,
          38.4,
          44.6,
          46.8,
          47.4,
          46.6
         ],
         "yaxis": "y2"
        },
        {
         "alignmentgroup": "True",
         "hovertemplate": "Bins=10k-100k<br>LM=Llama-2<sub>13B</sub><br>VM=%{x}<br>P@100=%{y}<extra></extra>",
         "legendgroup": "10k-100k",
         "marker": {
          "color": "rgb(141,211,199)",
          "opacity": 0.9,
          "pattern": {
           "shape": ""
          }
         },
         "name": "10k-100k",
         "offsetgroup": "10k-100k",
         "orientation": "v",
         "showlegend": false,
         "textposition": "auto",
         "type": "bar",
         "x": [
          "MAE<sub>Base</sub>",
          "MAE<sub>Large</sub>",
          "ResNet101",
          "ResNet18",
          "ResNet34",
          "ResNet50",
          "SegFormer<sub>B0</sub>",
          "SegFormer<sub>B1</sub>",
          "SegFormer<sub>B2</sub>",
          "SegFormer<sub>B3</sub>",
          "SegFormer<sub>B4</sub>"
         ],
         "xaxis": "x3",
         "y": [
          40.7,
          41.7,
          52.3,
          46.8,
          48.6,
          51.4,
          36.9,
          45.3,
          48,
          49.2,
          48
         ],
         "yaxis": "y3"
        },
        {
         "alignmentgroup": "True",
         "hovertemplate": "Bins=10k-100k<br>LM=OPT<sub>30B</sub><br>VM=%{x}<br>P@100=%{y}<extra></extra>",
         "legendgroup": "10k-100k",
         "marker": {
          "color": "rgb(141,211,199)",
          "opacity": 0.9,
          "pattern": {
           "shape": ""
          }
         },
         "name": "10k-100k",
         "offsetgroup": "10k-100k",
         "orientation": "v",
         "showlegend": false,
         "textposition": "auto",
         "type": "bar",
         "x": [
          "MAE<sub>Base</sub>",
          "MAE<sub>Large</sub>",
          "ResNet101",
          "ResNet18",
          "ResNet34",
          "ResNet50",
          "SegFormer<sub>B0</sub>",
          "SegFormer<sub>B1</sub>",
          "SegFormer<sub>B2</sub>",
          "SegFormer<sub>B3</sub>",
          "SegFormer<sub>B4</sub>"
         ],
         "xaxis": "x4",
         "y": [
          46.6,
          47.5,
          56.1,
          52.2,
          54,
          54.9,
          43.2,
          51,
          53.1,
          54,
          53.2
         ],
         "yaxis": "y4"
        },
        {
         "alignmentgroup": "True",
         "hovertemplate": "Bins=0-10k<br>LM=BERT<sub>LARGE</sub><br>VM=%{x}<br>P@100=%{y}<extra></extra>",
         "legendgroup": "0-10k",
         "marker": {
          "color": "rgb(253,180,98)",
          "opacity": 0.9,
          "pattern": {
           "shape": ""
          }
         },
         "name": "0-10k",
         "offsetgroup": "0-10k",
         "orientation": "v",
         "showlegend": true,
         "textposition": "auto",
         "type": "bar",
         "x": [
          "MAE<sub>Base</sub>",
          "MAE<sub>Large</sub>",
          "ResNet101",
          "ResNet18",
          "ResNet34",
          "ResNet50",
          "SegFormer<sub>B0</sub>",
          "SegFormer<sub>B1</sub>",
          "SegFormer<sub>B2</sub>",
          "SegFormer<sub>B3</sub>",
          "SegFormer<sub>B4</sub>"
         ],
         "xaxis": "x",
         "y": [
          21.4,
          21.9,
          24.9,
          23.4,
          23.9,
          24.8,
          18.6,
          22.9,
          23.8,
          23.8,
          24.2
         ],
         "yaxis": "y"
        },
        {
         "alignmentgroup": "True",
         "hovertemplate": "Bins=0-10k<br>LM=GPT2<sub>XL</sub><br>VM=%{x}<br>P@100=%{y}<extra></extra>",
         "legendgroup": "0-10k",
         "marker": {
          "color": "rgb(253,180,98)",
          "opacity": 0.9,
          "pattern": {
           "shape": ""
          }
         },
         "name": "0-10k",
         "offsetgroup": "0-10k",
         "orientation": "v",
         "showlegend": false,
         "textposition": "auto",
         "type": "bar",
         "x": [
          "MAE<sub>Base</sub>",
          "MAE<sub>Large</sub>",
          "ResNet101",
          "ResNet18",
          "ResNet34",
          "ResNet50",
          "SegFormer<sub>B0</sub>",
          "SegFormer<sub>B1</sub>",
          "SegFormer<sub>B2</sub>",
          "SegFormer<sub>B3</sub>",
          "SegFormer<sub>B4</sub>"
         ],
         "xaxis": "x2",
         "y": [
          19.7,
          21.5,
          22.4,
          21.5,
          23.1,
          22,
          18.3,
          22.3,
          20.8,
          22.9,
          21.8
         ],
         "yaxis": "y2"
        },
        {
         "alignmentgroup": "True",
         "hovertemplate": "Bins=0-10k<br>LM=Llama-2<sub>13B</sub><br>VM=%{x}<br>P@100=%{y}<extra></extra>",
         "legendgroup": "0-10k",
         "marker": {
          "color": "rgb(253,180,98)",
          "opacity": 0.9,
          "pattern": {
           "shape": ""
          }
         },
         "name": "0-10k",
         "offsetgroup": "0-10k",
         "orientation": "v",
         "showlegend": false,
         "textposition": "auto",
         "type": "bar",
         "x": [
          "MAE<sub>Base</sub>",
          "MAE<sub>Large</sub>",
          "ResNet101",
          "ResNet18",
          "ResNet34",
          "ResNet50",
          "SegFormer<sub>B0</sub>",
          "SegFormer<sub>B1</sub>",
          "SegFormer<sub>B2</sub>",
          "SegFormer<sub>B3</sub>",
          "SegFormer<sub>B4</sub>"
         ],
         "xaxis": "x3",
         "y": [
          17.2,
          20.2,
          20.8,
          18.3,
          18.6,
          20.3,
          15.6,
          18,
          19,
          21.6,
          20
         ],
         "yaxis": "y3"
        },
        {
         "alignmentgroup": "True",
         "hovertemplate": "Bins=0-10k<br>LM=OPT<sub>30B</sub><br>VM=%{x}<br>P@100=%{y}<extra></extra>",
         "legendgroup": "0-10k",
         "marker": {
          "color": "rgb(253,180,98)",
          "opacity": 0.9,
          "pattern": {
           "shape": ""
          }
         },
         "name": "0-10k",
         "offsetgroup": "0-10k",
         "orientation": "v",
         "showlegend": false,
         "textposition": "auto",
         "type": "bar",
         "x": [
          "MAE<sub>Base</sub>",
          "MAE<sub>Large</sub>",
          "ResNet101",
          "ResNet18",
          "ResNet34",
          "ResNet50",
          "SegFormer<sub>B0</sub>",
          "SegFormer<sub>B1</sub>",
          "SegFormer<sub>B2</sub>",
          "SegFormer<sub>B3</sub>",
          "SegFormer<sub>B4</sub>"
         ],
         "xaxis": "x4",
         "y": [
          22.8,
          23.4,
          24.1,
          25.4,
          24.7,
          24.5,
          20.6,
          23.3,
          23.8,
          24.5,
          23.1
         ],
         "yaxis": "y4"
        }
       ],
       "layout": {
        "annotations": [
         {
          "font": {},
          "showarrow": false,
          "text": "BERT<sub>LARGE</sub>",
          "x": 0.1175,
          "xanchor": "center",
          "xref": "paper",
          "y": 1,
          "yanchor": "bottom",
          "yref": "paper"
         },
         {
          "font": {},
          "showarrow": false,
          "text": "GPT2<sub>XL</sub>",
          "x": 0.3725,
          "xanchor": "center",
          "xref": "paper",
          "y": 1,
          "yanchor": "bottom",
          "yref": "paper"
         },
         {
          "font": {},
          "showarrow": false,
          "text": "Llama-2<sub>13B</sub>",
          "x": 0.6275,
          "xanchor": "center",
          "xref": "paper",
          "y": 1,
          "yanchor": "bottom",
          "yref": "paper"
         },
         {
          "font": {},
          "showarrow": false,
          "text": "OPT<sub>30B</sub>",
          "x": 0.8824999999999998,
          "xanchor": "center",
          "xref": "paper",
          "y": 1,
          "yanchor": "bottom",
          "yref": "paper"
         }
        ],
        "barmode": "overlay",
        "font": {
         "size": 30
        },
        "height": 500,
        "legend": {
         "title": {
          "font": {
           "size": 30
          },
          "text": "Frequency"
         },
         "tracegroupgap": 0
        },
        "margin": {
         "t": 60
        },
        "showlegend": true,
        "template": {
         "data": {
          "bar": [
           {
            "error_x": {
             "color": "#2a3f5f"
            },
            "error_y": {
             "color": "#2a3f5f"
            },
            "marker": {
             "line": {
              "color": "white",
              "width": 0.5
             },
             "pattern": {
              "fillmode": "overlay",
              "size": 10,
              "solidity": 0.2
             }
            },
            "type": "bar"
           }
          ],
          "barpolar": [
           {
            "marker": {
             "line": {
              "color": "white",
              "width": 0.5
             },
             "pattern": {
              "fillmode": "overlay",
              "size": 10,
              "solidity": 0.2
             }
            },
            "type": "barpolar"
           }
          ],
          "carpet": [
           {
            "aaxis": {
             "endlinecolor": "#2a3f5f",
             "gridcolor": "#C8D4E3",
             "linecolor": "#C8D4E3",
             "minorgridcolor": "#C8D4E3",
             "startlinecolor": "#2a3f5f"
            },
            "baxis": {
             "endlinecolor": "#2a3f5f",
             "gridcolor": "#C8D4E3",
             "linecolor": "#C8D4E3",
             "minorgridcolor": "#C8D4E3",
             "startlinecolor": "#2a3f5f"
            },
            "type": "carpet"
           }
          ],
          "choropleth": [
           {
            "colorbar": {
             "outlinewidth": 0,
             "ticks": ""
            },
            "type": "choropleth"
           }
          ],
          "contour": [
           {
            "colorbar": {
             "outlinewidth": 0,
             "ticks": ""
            },
            "colorscale": [
             [
              0,
              "#0d0887"
             ],
             [
              0.1111111111111111,
              "#46039f"
             ],
             [
              0.2222222222222222,
              "#7201a8"
             ],
             [
              0.3333333333333333,
              "#9c179e"
             ],
             [
              0.4444444444444444,
              "#bd3786"
             ],
             [
              0.5555555555555556,
              "#d8576b"
             ],
             [
              0.6666666666666666,
              "#ed7953"
             ],
             [
              0.7777777777777778,
              "#fb9f3a"
             ],
             [
              0.8888888888888888,
              "#fdca26"
             ],
             [
              1,
              "#f0f921"
             ]
            ],
            "type": "contour"
           }
          ],
          "contourcarpet": [
           {
            "colorbar": {
             "outlinewidth": 0,
             "ticks": ""
            },
            "type": "contourcarpet"
           }
          ],
          "heatmap": [
           {
            "colorbar": {
             "outlinewidth": 0,
             "ticks": ""
            },
            "colorscale": [
             [
              0,
              "#0d0887"
             ],
             [
              0.1111111111111111,
              "#46039f"
             ],
             [
              0.2222222222222222,
              "#7201a8"
             ],
             [
              0.3333333333333333,
              "#9c179e"
             ],
             [
              0.4444444444444444,
              "#bd3786"
             ],
             [
              0.5555555555555556,
              "#d8576b"
             ],
             [
              0.6666666666666666,
              "#ed7953"
             ],
             [
              0.7777777777777778,
              "#fb9f3a"
             ],
             [
              0.8888888888888888,
              "#fdca26"
             ],
             [
              1,
              "#f0f921"
             ]
            ],
            "type": "heatmap"
           }
          ],
          "heatmapgl": [
           {
            "colorbar": {
             "outlinewidth": 0,
             "ticks": ""
            },
            "colorscale": [
             [
              0,
              "#0d0887"
             ],
             [
              0.1111111111111111,
              "#46039f"
             ],
             [
              0.2222222222222222,
              "#7201a8"
             ],
             [
              0.3333333333333333,
              "#9c179e"
             ],
             [
              0.4444444444444444,
              "#bd3786"
             ],
             [
              0.5555555555555556,
              "#d8576b"
             ],
             [
              0.6666666666666666,
              "#ed7953"
             ],
             [
              0.7777777777777778,
              "#fb9f3a"
             ],
             [
              0.8888888888888888,
              "#fdca26"
             ],
             [
              1,
              "#f0f921"
             ]
            ],
            "type": "heatmapgl"
           }
          ],
          "histogram": [
           {
            "marker": {
             "pattern": {
              "fillmode": "overlay",
              "size": 10,
              "solidity": 0.2
             }
            },
            "type": "histogram"
           }
          ],
          "histogram2d": [
           {
            "colorbar": {
             "outlinewidth": 0,
             "ticks": ""
            },
            "colorscale": [
             [
              0,
              "#0d0887"
             ],
             [
              0.1111111111111111,
              "#46039f"
             ],
             [
              0.2222222222222222,
              "#7201a8"
             ],
             [
              0.3333333333333333,
              "#9c179e"
             ],
             [
              0.4444444444444444,
              "#bd3786"
             ],
             [
              0.5555555555555556,
              "#d8576b"
             ],
             [
              0.6666666666666666,
              "#ed7953"
             ],
             [
              0.7777777777777778,
              "#fb9f3a"
             ],
             [
              0.8888888888888888,
              "#fdca26"
             ],
             [
              1,
              "#f0f921"
             ]
            ],
            "type": "histogram2d"
           }
          ],
          "histogram2dcontour": [
           {
            "colorbar": {
             "outlinewidth": 0,
             "ticks": ""
            },
            "colorscale": [
             [
              0,
              "#0d0887"
             ],
             [
              0.1111111111111111,
              "#46039f"
             ],
             [
              0.2222222222222222,
              "#7201a8"
             ],
             [
              0.3333333333333333,
              "#9c179e"
             ],
             [
              0.4444444444444444,
              "#bd3786"
             ],
             [
              0.5555555555555556,
              "#d8576b"
             ],
             [
              0.6666666666666666,
              "#ed7953"
             ],
             [
              0.7777777777777778,
              "#fb9f3a"
             ],
             [
              0.8888888888888888,
              "#fdca26"
             ],
             [
              1,
              "#f0f921"
             ]
            ],
            "type": "histogram2dcontour"
           }
          ],
          "mesh3d": [
           {
            "colorbar": {
             "outlinewidth": 0,
             "ticks": ""
            },
            "type": "mesh3d"
           }
          ],
          "parcoords": [
           {
            "line": {
             "colorbar": {
              "outlinewidth": 0,
              "ticks": ""
             }
            },
            "type": "parcoords"
           }
          ],
          "pie": [
           {
            "automargin": true,
            "type": "pie"
           }
          ],
          "scatter": [
           {
            "fillpattern": {
             "fillmode": "overlay",
             "size": 10,
             "solidity": 0.2
            },
            "type": "scatter"
           }
          ],
          "scatter3d": [
           {
            "line": {
             "colorbar": {
              "outlinewidth": 0,
              "ticks": ""
             }
            },
            "marker": {
             "colorbar": {
              "outlinewidth": 0,
              "ticks": ""
             }
            },
            "type": "scatter3d"
           }
          ],
          "scattercarpet": [
           {
            "marker": {
             "colorbar": {
              "outlinewidth": 0,
              "ticks": ""
             }
            },
            "type": "scattercarpet"
           }
          ],
          "scattergeo": [
           {
            "marker": {
             "colorbar": {
              "outlinewidth": 0,
              "ticks": ""
             }
            },
            "type": "scattergeo"
           }
          ],
          "scattergl": [
           {
            "marker": {
             "colorbar": {
              "outlinewidth": 0,
              "ticks": ""
             }
            },
            "type": "scattergl"
           }
          ],
          "scattermapbox": [
           {
            "marker": {
             "colorbar": {
              "outlinewidth": 0,
              "ticks": ""
             }
            },
            "type": "scattermapbox"
           }
          ],
          "scatterpolar": [
           {
            "marker": {
             "colorbar": {
              "outlinewidth": 0,
              "ticks": ""
             }
            },
            "type": "scatterpolar"
           }
          ],
          "scatterpolargl": [
           {
            "marker": {
             "colorbar": {
              "outlinewidth": 0,
              "ticks": ""
             }
            },
            "type": "scatterpolargl"
           }
          ],
          "scatterternary": [
           {
            "marker": {
             "colorbar": {
              "outlinewidth": 0,
              "ticks": ""
             }
            },
            "type": "scatterternary"
           }
          ],
          "surface": [
           {
            "colorbar": {
             "outlinewidth": 0,
             "ticks": ""
            },
            "colorscale": [
             [
              0,
              "#0d0887"
             ],
             [
              0.1111111111111111,
              "#46039f"
             ],
             [
              0.2222222222222222,
              "#7201a8"
             ],
             [
              0.3333333333333333,
              "#9c179e"
             ],
             [
              0.4444444444444444,
              "#bd3786"
             ],
             [
              0.5555555555555556,
              "#d8576b"
             ],
             [
              0.6666666666666666,
              "#ed7953"
             ],
             [
              0.7777777777777778,
              "#fb9f3a"
             ],
             [
              0.8888888888888888,
              "#fdca26"
             ],
             [
              1,
              "#f0f921"
             ]
            ],
            "type": "surface"
           }
          ],
          "table": [
           {
            "cells": {
             "fill": {
              "color": "#EBF0F8"
             },
             "line": {
              "color": "white"
             }
            },
            "header": {
             "fill": {
              "color": "#C8D4E3"
             },
             "line": {
              "color": "white"
             }
            },
            "type": "table"
           }
          ]
         },
         "layout": {
          "annotationdefaults": {
           "arrowcolor": "#2a3f5f",
           "arrowhead": 0,
           "arrowwidth": 1
          },
          "autotypenumbers": "strict",
          "coloraxis": {
           "colorbar": {
            "outlinewidth": 0,
            "ticks": ""
           }
          },
          "colorscale": {
           "diverging": [
            [
             0,
             "#8e0152"
            ],
            [
             0.1,
             "#c51b7d"
            ],
            [
             0.2,
             "#de77ae"
            ],
            [
             0.3,
             "#f1b6da"
            ],
            [
             0.4,
             "#fde0ef"
            ],
            [
             0.5,
             "#f7f7f7"
            ],
            [
             0.6,
             "#e6f5d0"
            ],
            [
             0.7,
             "#b8e186"
            ],
            [
             0.8,
             "#7fbc41"
            ],
            [
             0.9,
             "#4d9221"
            ],
            [
             1,
             "#276419"
            ]
           ],
           "sequential": [
            [
             0,
             "#0d0887"
            ],
            [
             0.1111111111111111,
             "#46039f"
            ],
            [
             0.2222222222222222,
             "#7201a8"
            ],
            [
             0.3333333333333333,
             "#9c179e"
            ],
            [
             0.4444444444444444,
             "#bd3786"
            ],
            [
             0.5555555555555556,
             "#d8576b"
            ],
            [
             0.6666666666666666,
             "#ed7953"
            ],
            [
             0.7777777777777778,
             "#fb9f3a"
            ],
            [
             0.8888888888888888,
             "#fdca26"
            ],
            [
             1,
             "#f0f921"
            ]
           ],
           "sequentialminus": [
            [
             0,
             "#0d0887"
            ],
            [
             0.1111111111111111,
             "#46039f"
            ],
            [
             0.2222222222222222,
             "#7201a8"
            ],
            [
             0.3333333333333333,
             "#9c179e"
            ],
            [
             0.4444444444444444,
             "#bd3786"
            ],
            [
             0.5555555555555556,
             "#d8576b"
            ],
            [
             0.6666666666666666,
             "#ed7953"
            ],
            [
             0.7777777777777778,
             "#fb9f3a"
            ],
            [
             0.8888888888888888,
             "#fdca26"
            ],
            [
             1,
             "#f0f921"
            ]
           ]
          },
          "colorway": [
           "#636efa",
           "#EF553B",
           "#00cc96",
           "#ab63fa",
           "#FFA15A",
           "#19d3f3",
           "#FF6692",
           "#B6E880",
           "#FF97FF",
           "#FECB52"
          ],
          "font": {
           "color": "#2a3f5f"
          },
          "geo": {
           "bgcolor": "white",
           "lakecolor": "white",
           "landcolor": "white",
           "showlakes": true,
           "showland": true,
           "subunitcolor": "#C8D4E3"
          },
          "hoverlabel": {
           "align": "left"
          },
          "hovermode": "closest",
          "mapbox": {
           "style": "light"
          },
          "paper_bgcolor": "white",
          "plot_bgcolor": "white",
          "polar": {
           "angularaxis": {
            "gridcolor": "#EBF0F8",
            "linecolor": "#EBF0F8",
            "ticks": ""
           },
           "bgcolor": "white",
           "radialaxis": {
            "gridcolor": "#EBF0F8",
            "linecolor": "#EBF0F8",
            "ticks": ""
           }
          },
          "scene": {
           "xaxis": {
            "backgroundcolor": "white",
            "gridcolor": "#DFE8F3",
            "gridwidth": 2,
            "linecolor": "#EBF0F8",
            "showbackground": true,
            "ticks": "",
            "zerolinecolor": "#EBF0F8"
           },
           "yaxis": {
            "backgroundcolor": "white",
            "gridcolor": "#DFE8F3",
            "gridwidth": 2,
            "linecolor": "#EBF0F8",
            "showbackground": true,
            "ticks": "",
            "zerolinecolor": "#EBF0F8"
           },
           "zaxis": {
            "backgroundcolor": "white",
            "gridcolor": "#DFE8F3",
            "gridwidth": 2,
            "linecolor": "#EBF0F8",
            "showbackground": true,
            "ticks": "",
            "zerolinecolor": "#EBF0F8"
           }
          },
          "shapedefaults": {
           "line": {
            "color": "#2a3f5f"
           }
          },
          "ternary": {
           "aaxis": {
            "gridcolor": "#DFE8F3",
            "linecolor": "#A2B1C6",
            "ticks": ""
           },
           "baxis": {
            "gridcolor": "#DFE8F3",
            "linecolor": "#A2B1C6",
            "ticks": ""
           },
           "bgcolor": "white",
           "caxis": {
            "gridcolor": "#DFE8F3",
            "linecolor": "#A2B1C6",
            "ticks": ""
           }
          },
          "title": {
           "x": 0.05
          },
          "xaxis": {
           "automargin": true,
           "gridcolor": "#EBF0F8",
           "linecolor": "#EBF0F8",
           "ticks": "",
           "title": {
            "standoff": 15
           },
           "zerolinecolor": "#EBF0F8",
           "zerolinewidth": 2
          },
          "yaxis": {
           "automargin": true,
           "gridcolor": "#EBF0F8",
           "linecolor": "#EBF0F8",
           "ticks": "",
           "title": {
            "standoff": 15
           },
           "zerolinecolor": "#EBF0F8",
           "zerolinewidth": 2
          }
         }
        },
        "width": 1500,
        "xaxis": {
         "anchor": "y",
         "domain": [
          0,
          0.235
         ],
         "tickfont": {
          "size": 20
         },
         "title": {
          "text": ""
         }
        },
        "xaxis2": {
         "anchor": "y2",
         "domain": [
          0.255,
          0.49
         ],
         "matches": "x",
         "tickfont": {
          "size": 20
         },
         "title": {
          "text": ""
         }
        },
        "xaxis3": {
         "anchor": "y3",
         "domain": [
          0.51,
          0.745
         ],
         "matches": "x",
         "tickfont": {
          "size": 20
         },
         "title": {
          "text": ""
         }
        },
        "xaxis4": {
         "anchor": "y4",
         "domain": [
          0.7649999999999999,
          0.9999999999999999
         ],
         "matches": "x",
         "tickfont": {
          "size": 20
         },
         "title": {
          "text": ""
         }
        },
        "yaxis": {
         "anchor": "x",
         "domain": [
          0,
          1
         ],
         "tickfont": {
          "size": 25
         },
         "title": {
          "font": {
           "size": 30
          },
          "text": "P@100"
         }
        },
        "yaxis2": {
         "anchor": "x2",
         "domain": [
          0,
          1
         ],
         "matches": "y",
         "showticklabels": false
        },
        "yaxis3": {
         "anchor": "x3",
         "domain": [
          0,
          1
         ],
         "matches": "y",
         "showticklabels": false
        },
        "yaxis4": {
         "anchor": "x4",
         "domain": [
          0,
          1
         ],
         "matches": "y",
         "showticklabels": false
        }
       }
      }
     },
     "metadata": {},
     "output_type": "display_data"
    }
   ],
   "source": [
    "import plotly.express as px\n",
    "# import plotly.graph_objects as go\n",
    "\n",
    "# fig = go.Figure()\n",
    "traces = []\n",
    "# df['VM_Bins'] = table2['VM'] + '_' + table2['Bins']\n",
    "color_scale = px.colors.qualitative.Set3\n",
    "\n",
    "# Create stacked and grouped bar chart\n",
    "fig = px.bar(table2, x='VM', y='P@100-CSLS', color='Bins', facet_col=\"LM\",\n",
    "             labels={'P@100-CSLS': 'P@100'},\n",
    "            #  facet_col_wrap=3,\n",
    "            #  category_orders={'VM': ['MAE-Huge', 'ResNet152', 'SegFormer-B5']},\n",
    "             color_discrete_map={'0-10k': color_scale[5],\"10k-100k\":color_scale[0],\"100k+\":color_scale[3]},\n",
    "             height=500, width=1500\n",
    "            #  marker=\"Bins\"\n",
    "            #  facet_col_titles='none'\n",
    "            #  barmode=\"group\"\n",
    "             )\n",
    "\n",
    "\n",
    "# print(fig.data)\n",
    "\n",
    "for i, trace in enumerate(fig.data):\n",
    "    trace.marker.opacity = 0.9\n",
    "    # if (\"BERT<sub>LARGE</sub>\" or \"GPT2<sub>XL</sub>\" in trace[\"hovertemplate\"]):\n",
    "    #     if \"Bins=10k-100k\" in trace[\"hovertemplate\"]:\n",
    "    # # trace.marker.color = color_scale[i%3]  # Set color\n",
    "    #         trace.marker.opacity = 0.7  # Set opacity\n",
    "    # else:\n",
    "    #     trace.marker.opacity = 1\n",
    "\n",
    "\n",
    "# Update layout for better appearance\n",
    "fig.update_layout(barmode='overlay', showlegend=True,\n",
    "                  font=dict(size=30),\n",
    "                  yaxis=dict(title=dict(text='P@100', font=dict(size=30)), tickfont=dict(size=25)),  # Change y-axis font size\n",
    "                  legend=dict(title=dict(text='Frequency', font=dict(size=30))),\n",
    "                  xaxis=dict(title=dict(text=''),tickfont=dict(size=20)),\n",
    "                  xaxis2=dict(title=dict(text=''),tickfont=dict(size=20)),\n",
    "                  xaxis3=dict(title=dict(text=''),tickfont=dict(size=20)),\n",
    "                  xaxis4=dict(title=dict(text=''),tickfont=dict(size=20)),\n",
    "                  template=\"plotly_white\"\n",
    "                  ) \n",
    "\n",
    "fig.for_each_annotation(lambda a: a.update(text=a.text.split(\"=\")[-1]))\n",
    "\n",
    "# fig.update_xaxes(title_text='', showgrid=False)\n",
    "\n",
    "# fig.update_xaxes(title_font=dict(size=20), tickfont=dict(size=20))\n",
    "\n",
    "# Show the plot\n",
    "fig.show()\n",
    "fig.write_image(f\"freq_remain_{set_name}_v1.pdf\")"
   ]
  },
  {
   "cell_type": "code",
   "execution_count": 26,
   "metadata": {},
   "outputs": [
    {
     "data": {
      "application/vnd.plotly.v1+json": {
       "config": {
        "plotlyServerURL": "https://plot.ly"
       },
       "data": [
        {
         "hovertemplate": "Bins=100k+<br>LM=BERT<sub>LARGE</sub><br>VM=%{x}<br>P@100=%{y}<extra></extra>",
         "legendgroup": "100k+",
         "marker": {
          "color": "rgb(251,128,114)",
          "opacity": 1,
          "size": 15,
          "symbol": "circle"
         },
         "mode": "markers",
         "name": "100k+",
         "orientation": "v",
         "showlegend": true,
         "type": "scatter",
         "x": [
          "MAE<sub>Base</sub>",
          "MAE<sub>Large</sub>",
          "ResNet101",
          "ResNet18",
          "ResNet34",
          "ResNet50",
          "SegFormer<sub>B0</sub>",
          "SegFormer<sub>B1</sub>",
          "SegFormer<sub>B2</sub>",
          "SegFormer<sub>B3</sub>",
          "SegFormer<sub>B4</sub>"
         ],
         "xaxis": "x",
         "y": [
          34,
          35.1,
          43.5,
          39.5,
          41.6,
          42.5,
          32.1,
          38.5,
          40.4,
          40.8,
          40.5
         ],
         "yaxis": "y"
        },
        {
         "hovertemplate": "Bins=100k+<br>LM=GPT2<sub>XL</sub><br>VM=%{x}<br>P@100=%{y}<extra></extra>",
         "legendgroup": "100k+",
         "marker": {
          "color": "rgb(251,128,114)",
          "opacity": 1,
          "size": 15,
          "symbol": "circle"
         },
         "mode": "markers",
         "name": "100k+",
         "orientation": "v",
         "showlegend": false,
         "type": "scatter",
         "x": [
          "MAE<sub>Base</sub>",
          "MAE<sub>Large</sub>",
          "ResNet101",
          "ResNet18",
          "ResNet34",
          "ResNet50",
          "SegFormer<sub>B0</sub>",
          "SegFormer<sub>B1</sub>",
          "SegFormer<sub>B2</sub>",
          "SegFormer<sub>B3</sub>",
          "SegFormer<sub>B4</sub>"
         ],
         "xaxis": "x2",
         "y": [
          39.9,
          40.5,
          48.7,
          45.4,
          46.7,
          48.1,
          36.8,
          43.6,
          45.3,
          45.5,
          45.4
         ],
         "yaxis": "y2"
        },
        {
         "hovertemplate": "Bins=100k+<br>LM=Llama-2<sub>13B</sub><br>VM=%{x}<br>P@100=%{y}<extra></extra>",
         "legendgroup": "100k+",
         "marker": {
          "color": "rgb(251,128,114)",
          "opacity": 1,
          "size": 15,
          "symbol": "circle"
         },
         "mode": "markers",
         "name": "100k+",
         "orientation": "v",
         "showlegend": false,
         "type": "scatter",
         "x": [
          "MAE<sub>Base</sub>",
          "MAE<sub>Large</sub>",
          "ResNet101",
          "ResNet18",
          "ResNet34",
          "ResNet50",
          "SegFormer<sub>B0</sub>",
          "SegFormer<sub>B1</sub>",
          "SegFormer<sub>B2</sub>",
          "SegFormer<sub>B3</sub>",
          "SegFormer<sub>B4</sub>"
         ],
         "xaxis": "x3",
         "y": [
          51.9,
          53.5,
          64,
          56.7,
          59.1,
          62.7,
          46.3,
          56,
          58.5,
          59.5,
          58.6
         ],
         "yaxis": "y3"
        },
        {
         "hovertemplate": "Bins=100k+<br>LM=OPT<sub>30B</sub><br>VM=%{x}<br>P@100=%{y}<extra></extra>",
         "legendgroup": "100k+",
         "marker": {
          "color": "rgb(251,128,114)",
          "opacity": 1,
          "size": 15,
          "symbol": "circle"
         },
         "mode": "markers",
         "name": "100k+",
         "orientation": "v",
         "showlegend": false,
         "type": "scatter",
         "x": [
          "MAE<sub>Base</sub>",
          "MAE<sub>Large</sub>",
          "ResNet101",
          "ResNet18",
          "ResNet34",
          "ResNet50",
          "SegFormer<sub>B0</sub>",
          "SegFormer<sub>B1</sub>",
          "SegFormer<sub>B2</sub>",
          "SegFormer<sub>B3</sub>",
          "SegFormer<sub>B4</sub>"
         ],
         "xaxis": "x4",
         "y": [
          53.9,
          55.8,
          64,
          58.6,
          60.6,
          63.2,
          50.1,
          57.7,
          59.8,
          60.6,
          60.2
         ],
         "yaxis": "y4"
        },
        {
         "hovertemplate": "Bins=10k-100k<br>LM=BERT<sub>LARGE</sub><br>VM=%{x}<br>P@100=%{y}<extra></extra>",
         "legendgroup": "10k-100k",
         "marker": {
          "color": "rgb(141,211,199)",
          "opacity": 0.5,
          "size": 15,
          "symbol": "diamond"
         },
         "mode": "markers",
         "name": "10k-100k",
         "orientation": "v",
         "showlegend": true,
         "type": "scatter",
         "x": [
          "MAE<sub>Base</sub>",
          "MAE<sub>Large</sub>",
          "ResNet101",
          "ResNet18",
          "ResNet34",
          "ResNet50",
          "SegFormer<sub>B0</sub>",
          "SegFormer<sub>B1</sub>",
          "SegFormer<sub>B2</sub>",
          "SegFormer<sub>B3</sub>",
          "SegFormer<sub>B4</sub>"
         ],
         "xaxis": "x",
         "y": [
          33.4,
          34.8,
          44.1,
          39.7,
          42.6,
          43.2,
          33.7,
          39,
          41.7,
          42.1,
          41.2
         ],
         "yaxis": "y"
        },
        {
         "hovertemplate": "Bins=10k-100k<br>LM=GPT2<sub>XL</sub><br>VM=%{x}<br>P@100=%{y}<extra></extra>",
         "legendgroup": "10k-100k",
         "marker": {
          "color": "rgb(141,211,199)",
          "opacity": 0.5,
          "size": 15,
          "symbol": "diamond"
         },
         "mode": "markers",
         "name": "10k-100k",
         "orientation": "v",
         "showlegend": false,
         "type": "scatter",
         "x": [
          "MAE<sub>Base</sub>",
          "MAE<sub>Large</sub>",
          "ResNet101",
          "ResNet18",
          "ResNet34",
          "ResNet50",
          "SegFormer<sub>B0</sub>",
          "SegFormer<sub>B1</sub>",
          "SegFormer<sub>B2</sub>",
          "SegFormer<sub>B3</sub>",
          "SegFormer<sub>B4</sub>"
         ],
         "xaxis": "x2",
         "y": [
          39.9,
          40.7,
          50.3,
          46.7,
          48.4,
          49.6,
          38.4,
          44.6,
          46.8,
          47.4,
          46.6
         ],
         "yaxis": "y2"
        },
        {
         "hovertemplate": "Bins=10k-100k<br>LM=Llama-2<sub>13B</sub><br>VM=%{x}<br>P@100=%{y}<extra></extra>",
         "legendgroup": "10k-100k",
         "marker": {
          "color": "rgb(141,211,199)",
          "opacity": 0.5,
          "size": 15,
          "symbol": "diamond"
         },
         "mode": "markers",
         "name": "10k-100k",
         "orientation": "v",
         "showlegend": false,
         "type": "scatter",
         "x": [
          "MAE<sub>Base</sub>",
          "MAE<sub>Large</sub>",
          "ResNet101",
          "ResNet18",
          "ResNet34",
          "ResNet50",
          "SegFormer<sub>B0</sub>",
          "SegFormer<sub>B1</sub>",
          "SegFormer<sub>B2</sub>",
          "SegFormer<sub>B3</sub>",
          "SegFormer<sub>B4</sub>"
         ],
         "xaxis": "x3",
         "y": [
          40.7,
          41.7,
          52.3,
          46.8,
          48.6,
          51.4,
          36.9,
          45.3,
          48,
          49.2,
          48
         ],
         "yaxis": "y3"
        },
        {
         "hovertemplate": "Bins=10k-100k<br>LM=OPT<sub>30B</sub><br>VM=%{x}<br>P@100=%{y}<extra></extra>",
         "legendgroup": "10k-100k",
         "marker": {
          "color": "rgb(141,211,199)",
          "opacity": 0.5,
          "size": 15,
          "symbol": "diamond"
         },
         "mode": "markers",
         "name": "10k-100k",
         "orientation": "v",
         "showlegend": false,
         "type": "scatter",
         "x": [
          "MAE<sub>Base</sub>",
          "MAE<sub>Large</sub>",
          "ResNet101",
          "ResNet18",
          "ResNet34",
          "ResNet50",
          "SegFormer<sub>B0</sub>",
          "SegFormer<sub>B1</sub>",
          "SegFormer<sub>B2</sub>",
          "SegFormer<sub>B3</sub>",
          "SegFormer<sub>B4</sub>"
         ],
         "xaxis": "x4",
         "y": [
          46.6,
          47.5,
          56.1,
          52.2,
          54,
          54.9,
          43.2,
          51,
          53.1,
          54,
          53.2
         ],
         "yaxis": "y4"
        },
        {
         "hovertemplate": "Bins=0-10k<br>LM=BERT<sub>LARGE</sub><br>VM=%{x}<br>P@100=%{y}<extra></extra>",
         "legendgroup": "0-10k",
         "marker": {
          "color": "rgb(253,180,98)",
          "opacity": 1,
          "size": 15,
          "symbol": "square"
         },
         "mode": "markers",
         "name": "0-10k",
         "orientation": "v",
         "showlegend": true,
         "type": "scatter",
         "x": [
          "MAE<sub>Base</sub>",
          "MAE<sub>Large</sub>",
          "ResNet101",
          "ResNet18",
          "ResNet34",
          "ResNet50",
          "SegFormer<sub>B0</sub>",
          "SegFormer<sub>B1</sub>",
          "SegFormer<sub>B2</sub>",
          "SegFormer<sub>B3</sub>",
          "SegFormer<sub>B4</sub>"
         ],
         "xaxis": "x",
         "y": [
          21.4,
          21.9,
          24.9,
          23.4,
          23.9,
          24.8,
          18.6,
          22.9,
          23.8,
          23.8,
          24.2
         ],
         "yaxis": "y"
        },
        {
         "hovertemplate": "Bins=0-10k<br>LM=GPT2<sub>XL</sub><br>VM=%{x}<br>P@100=%{y}<extra></extra>",
         "legendgroup": "0-10k",
         "marker": {
          "color": "rgb(253,180,98)",
          "opacity": 1,
          "size": 15,
          "symbol": "square"
         },
         "mode": "markers",
         "name": "0-10k",
         "orientation": "v",
         "showlegend": false,
         "type": "scatter",
         "x": [
          "MAE<sub>Base</sub>",
          "MAE<sub>Large</sub>",
          "ResNet101",
          "ResNet18",
          "ResNet34",
          "ResNet50",
          "SegFormer<sub>B0</sub>",
          "SegFormer<sub>B1</sub>",
          "SegFormer<sub>B2</sub>",
          "SegFormer<sub>B3</sub>",
          "SegFormer<sub>B4</sub>"
         ],
         "xaxis": "x2",
         "y": [
          19.7,
          21.5,
          22.4,
          21.5,
          23.1,
          22,
          18.3,
          22.3,
          20.8,
          22.9,
          21.8
         ],
         "yaxis": "y2"
        },
        {
         "hovertemplate": "Bins=0-10k<br>LM=Llama-2<sub>13B</sub><br>VM=%{x}<br>P@100=%{y}<extra></extra>",
         "legendgroup": "0-10k",
         "marker": {
          "color": "rgb(253,180,98)",
          "opacity": 1,
          "size": 15,
          "symbol": "square"
         },
         "mode": "markers",
         "name": "0-10k",
         "orientation": "v",
         "showlegend": false,
         "type": "scatter",
         "x": [
          "MAE<sub>Base</sub>",
          "MAE<sub>Large</sub>",
          "ResNet101",
          "ResNet18",
          "ResNet34",
          "ResNet50",
          "SegFormer<sub>B0</sub>",
          "SegFormer<sub>B1</sub>",
          "SegFormer<sub>B2</sub>",
          "SegFormer<sub>B3</sub>",
          "SegFormer<sub>B4</sub>"
         ],
         "xaxis": "x3",
         "y": [
          17.2,
          20.2,
          20.8,
          18.3,
          18.6,
          20.3,
          15.6,
          18,
          19,
          21.6,
          20
         ],
         "yaxis": "y3"
        },
        {
         "hovertemplate": "Bins=0-10k<br>LM=OPT<sub>30B</sub><br>VM=%{x}<br>P@100=%{y}<extra></extra>",
         "legendgroup": "0-10k",
         "marker": {
          "color": "rgb(253,180,98)",
          "opacity": 1,
          "size": 15,
          "symbol": "square"
         },
         "mode": "markers",
         "name": "0-10k",
         "orientation": "v",
         "showlegend": false,
         "type": "scatter",
         "x": [
          "MAE<sub>Base</sub>",
          "MAE<sub>Large</sub>",
          "ResNet101",
          "ResNet18",
          "ResNet34",
          "ResNet50",
          "SegFormer<sub>B0</sub>",
          "SegFormer<sub>B1</sub>",
          "SegFormer<sub>B2</sub>",
          "SegFormer<sub>B3</sub>",
          "SegFormer<sub>B4</sub>"
         ],
         "xaxis": "x4",
         "y": [
          22.8,
          23.4,
          24.1,
          25.4,
          24.7,
          24.5,
          20.6,
          23.3,
          23.8,
          24.5,
          23.1
         ],
         "yaxis": "y4"
        }
       ],
       "layout": {
        "annotations": [
         {
          "font": {},
          "showarrow": false,
          "text": "BERT<sub>LARGE</sub>",
          "x": 0.1175,
          "xanchor": "center",
          "xref": "paper",
          "y": 1,
          "yanchor": "bottom",
          "yref": "paper"
         },
         {
          "font": {},
          "showarrow": false,
          "text": "GPT2<sub>XL</sub>",
          "x": 0.3725,
          "xanchor": "center",
          "xref": "paper",
          "y": 1,
          "yanchor": "bottom",
          "yref": "paper"
         },
         {
          "font": {},
          "showarrow": false,
          "text": "Llama-2<sub>13B</sub>",
          "x": 0.6275,
          "xanchor": "center",
          "xref": "paper",
          "y": 1,
          "yanchor": "bottom",
          "yref": "paper"
         },
         {
          "font": {},
          "showarrow": false,
          "text": "OPT<sub>30B</sub>",
          "x": 0.8824999999999998,
          "xanchor": "center",
          "xref": "paper",
          "y": 1,
          "yanchor": "bottom",
          "yref": "paper"
         }
        ],
        "barmode": "overlay",
        "font": {
         "size": 30
        },
        "height": 500,
        "legend": {
         "title": {
          "font": {
           "size": 30
          },
          "text": "Frequency"
         },
         "tracegroupgap": 0
        },
        "margin": {
         "t": 60
        },
        "showlegend": true,
        "template": {
         "data": {
          "bar": [
           {
            "error_x": {
             "color": "#2a3f5f"
            },
            "error_y": {
             "color": "#2a3f5f"
            },
            "marker": {
             "line": {
              "color": "white",
              "width": 0.5
             },
             "pattern": {
              "fillmode": "overlay",
              "size": 10,
              "solidity": 0.2
             }
            },
            "type": "bar"
           }
          ],
          "barpolar": [
           {
            "marker": {
             "line": {
              "color": "white",
              "width": 0.5
             },
             "pattern": {
              "fillmode": "overlay",
              "size": 10,
              "solidity": 0.2
             }
            },
            "type": "barpolar"
           }
          ],
          "carpet": [
           {
            "aaxis": {
             "endlinecolor": "#2a3f5f",
             "gridcolor": "#C8D4E3",
             "linecolor": "#C8D4E3",
             "minorgridcolor": "#C8D4E3",
             "startlinecolor": "#2a3f5f"
            },
            "baxis": {
             "endlinecolor": "#2a3f5f",
             "gridcolor": "#C8D4E3",
             "linecolor": "#C8D4E3",
             "minorgridcolor": "#C8D4E3",
             "startlinecolor": "#2a3f5f"
            },
            "type": "carpet"
           }
          ],
          "choropleth": [
           {
            "colorbar": {
             "outlinewidth": 0,
             "ticks": ""
            },
            "type": "choropleth"
           }
          ],
          "contour": [
           {
            "colorbar": {
             "outlinewidth": 0,
             "ticks": ""
            },
            "colorscale": [
             [
              0,
              "#0d0887"
             ],
             [
              0.1111111111111111,
              "#46039f"
             ],
             [
              0.2222222222222222,
              "#7201a8"
             ],
             [
              0.3333333333333333,
              "#9c179e"
             ],
             [
              0.4444444444444444,
              "#bd3786"
             ],
             [
              0.5555555555555556,
              "#d8576b"
             ],
             [
              0.6666666666666666,
              "#ed7953"
             ],
             [
              0.7777777777777778,
              "#fb9f3a"
             ],
             [
              0.8888888888888888,
              "#fdca26"
             ],
             [
              1,
              "#f0f921"
             ]
            ],
            "type": "contour"
           }
          ],
          "contourcarpet": [
           {
            "colorbar": {
             "outlinewidth": 0,
             "ticks": ""
            },
            "type": "contourcarpet"
           }
          ],
          "heatmap": [
           {
            "colorbar": {
             "outlinewidth": 0,
             "ticks": ""
            },
            "colorscale": [
             [
              0,
              "#0d0887"
             ],
             [
              0.1111111111111111,
              "#46039f"
             ],
             [
              0.2222222222222222,
              "#7201a8"
             ],
             [
              0.3333333333333333,
              "#9c179e"
             ],
             [
              0.4444444444444444,
              "#bd3786"
             ],
             [
              0.5555555555555556,
              "#d8576b"
             ],
             [
              0.6666666666666666,
              "#ed7953"
             ],
             [
              0.7777777777777778,
              "#fb9f3a"
             ],
             [
              0.8888888888888888,
              "#fdca26"
             ],
             [
              1,
              "#f0f921"
             ]
            ],
            "type": "heatmap"
           }
          ],
          "heatmapgl": [
           {
            "colorbar": {
             "outlinewidth": 0,
             "ticks": ""
            },
            "colorscale": [
             [
              0,
              "#0d0887"
             ],
             [
              0.1111111111111111,
              "#46039f"
             ],
             [
              0.2222222222222222,
              "#7201a8"
             ],
             [
              0.3333333333333333,
              "#9c179e"
             ],
             [
              0.4444444444444444,
              "#bd3786"
             ],
             [
              0.5555555555555556,
              "#d8576b"
             ],
             [
              0.6666666666666666,
              "#ed7953"
             ],
             [
              0.7777777777777778,
              "#fb9f3a"
             ],
             [
              0.8888888888888888,
              "#fdca26"
             ],
             [
              1,
              "#f0f921"
             ]
            ],
            "type": "heatmapgl"
           }
          ],
          "histogram": [
           {
            "marker": {
             "pattern": {
              "fillmode": "overlay",
              "size": 10,
              "solidity": 0.2
             }
            },
            "type": "histogram"
           }
          ],
          "histogram2d": [
           {
            "colorbar": {
             "outlinewidth": 0,
             "ticks": ""
            },
            "colorscale": [
             [
              0,
              "#0d0887"
             ],
             [
              0.1111111111111111,
              "#46039f"
             ],
             [
              0.2222222222222222,
              "#7201a8"
             ],
             [
              0.3333333333333333,
              "#9c179e"
             ],
             [
              0.4444444444444444,
              "#bd3786"
             ],
             [
              0.5555555555555556,
              "#d8576b"
             ],
             [
              0.6666666666666666,
              "#ed7953"
             ],
             [
              0.7777777777777778,
              "#fb9f3a"
             ],
             [
              0.8888888888888888,
              "#fdca26"
             ],
             [
              1,
              "#f0f921"
             ]
            ],
            "type": "histogram2d"
           }
          ],
          "histogram2dcontour": [
           {
            "colorbar": {
             "outlinewidth": 0,
             "ticks": ""
            },
            "colorscale": [
             [
              0,
              "#0d0887"
             ],
             [
              0.1111111111111111,
              "#46039f"
             ],
             [
              0.2222222222222222,
              "#7201a8"
             ],
             [
              0.3333333333333333,
              "#9c179e"
             ],
             [
              0.4444444444444444,
              "#bd3786"
             ],
             [
              0.5555555555555556,
              "#d8576b"
             ],
             [
              0.6666666666666666,
              "#ed7953"
             ],
             [
              0.7777777777777778,
              "#fb9f3a"
             ],
             [
              0.8888888888888888,
              "#fdca26"
             ],
             [
              1,
              "#f0f921"
             ]
            ],
            "type": "histogram2dcontour"
           }
          ],
          "mesh3d": [
           {
            "colorbar": {
             "outlinewidth": 0,
             "ticks": ""
            },
            "type": "mesh3d"
           }
          ],
          "parcoords": [
           {
            "line": {
             "colorbar": {
              "outlinewidth": 0,
              "ticks": ""
             }
            },
            "type": "parcoords"
           }
          ],
          "pie": [
           {
            "automargin": true,
            "type": "pie"
           }
          ],
          "scatter": [
           {
            "fillpattern": {
             "fillmode": "overlay",
             "size": 10,
             "solidity": 0.2
            },
            "type": "scatter"
           }
          ],
          "scatter3d": [
           {
            "line": {
             "colorbar": {
              "outlinewidth": 0,
              "ticks": ""
             }
            },
            "marker": {
             "colorbar": {
              "outlinewidth": 0,
              "ticks": ""
             }
            },
            "type": "scatter3d"
           }
          ],
          "scattercarpet": [
           {
            "marker": {
             "colorbar": {
              "outlinewidth": 0,
              "ticks": ""
             }
            },
            "type": "scattercarpet"
           }
          ],
          "scattergeo": [
           {
            "marker": {
             "colorbar": {
              "outlinewidth": 0,
              "ticks": ""
             }
            },
            "type": "scattergeo"
           }
          ],
          "scattergl": [
           {
            "marker": {
             "colorbar": {
              "outlinewidth": 0,
              "ticks": ""
             }
            },
            "type": "scattergl"
           }
          ],
          "scattermapbox": [
           {
            "marker": {
             "colorbar": {
              "outlinewidth": 0,
              "ticks": ""
             }
            },
            "type": "scattermapbox"
           }
          ],
          "scatterpolar": [
           {
            "marker": {
             "colorbar": {
              "outlinewidth": 0,
              "ticks": ""
             }
            },
            "type": "scatterpolar"
           }
          ],
          "scatterpolargl": [
           {
            "marker": {
             "colorbar": {
              "outlinewidth": 0,
              "ticks": ""
             }
            },
            "type": "scatterpolargl"
           }
          ],
          "scatterternary": [
           {
            "marker": {
             "colorbar": {
              "outlinewidth": 0,
              "ticks": ""
             }
            },
            "type": "scatterternary"
           }
          ],
          "surface": [
           {
            "colorbar": {
             "outlinewidth": 0,
             "ticks": ""
            },
            "colorscale": [
             [
              0,
              "#0d0887"
             ],
             [
              0.1111111111111111,
              "#46039f"
             ],
             [
              0.2222222222222222,
              "#7201a8"
             ],
             [
              0.3333333333333333,
              "#9c179e"
             ],
             [
              0.4444444444444444,
              "#bd3786"
             ],
             [
              0.5555555555555556,
              "#d8576b"
             ],
             [
              0.6666666666666666,
              "#ed7953"
             ],
             [
              0.7777777777777778,
              "#fb9f3a"
             ],
             [
              0.8888888888888888,
              "#fdca26"
             ],
             [
              1,
              "#f0f921"
             ]
            ],
            "type": "surface"
           }
          ],
          "table": [
           {
            "cells": {
             "fill": {
              "color": "#EBF0F8"
             },
             "line": {
              "color": "white"
             }
            },
            "header": {
             "fill": {
              "color": "#C8D4E3"
             },
             "line": {
              "color": "white"
             }
            },
            "type": "table"
           }
          ]
         },
         "layout": {
          "annotationdefaults": {
           "arrowcolor": "#2a3f5f",
           "arrowhead": 0,
           "arrowwidth": 1
          },
          "autotypenumbers": "strict",
          "coloraxis": {
           "colorbar": {
            "outlinewidth": 0,
            "ticks": ""
           }
          },
          "colorscale": {
           "diverging": [
            [
             0,
             "#8e0152"
            ],
            [
             0.1,
             "#c51b7d"
            ],
            [
             0.2,
             "#de77ae"
            ],
            [
             0.3,
             "#f1b6da"
            ],
            [
             0.4,
             "#fde0ef"
            ],
            [
             0.5,
             "#f7f7f7"
            ],
            [
             0.6,
             "#e6f5d0"
            ],
            [
             0.7,
             "#b8e186"
            ],
            [
             0.8,
             "#7fbc41"
            ],
            [
             0.9,
             "#4d9221"
            ],
            [
             1,
             "#276419"
            ]
           ],
           "sequential": [
            [
             0,
             "#0d0887"
            ],
            [
             0.1111111111111111,
             "#46039f"
            ],
            [
             0.2222222222222222,
             "#7201a8"
            ],
            [
             0.3333333333333333,
             "#9c179e"
            ],
            [
             0.4444444444444444,
             "#bd3786"
            ],
            [
             0.5555555555555556,
             "#d8576b"
            ],
            [
             0.6666666666666666,
             "#ed7953"
            ],
            [
             0.7777777777777778,
             "#fb9f3a"
            ],
            [
             0.8888888888888888,
             "#fdca26"
            ],
            [
             1,
             "#f0f921"
            ]
           ],
           "sequentialminus": [
            [
             0,
             "#0d0887"
            ],
            [
             0.1111111111111111,
             "#46039f"
            ],
            [
             0.2222222222222222,
             "#7201a8"
            ],
            [
             0.3333333333333333,
             "#9c179e"
            ],
            [
             0.4444444444444444,
             "#bd3786"
            ],
            [
             0.5555555555555556,
             "#d8576b"
            ],
            [
             0.6666666666666666,
             "#ed7953"
            ],
            [
             0.7777777777777778,
             "#fb9f3a"
            ],
            [
             0.8888888888888888,
             "#fdca26"
            ],
            [
             1,
             "#f0f921"
            ]
           ]
          },
          "colorway": [
           "#636efa",
           "#EF553B",
           "#00cc96",
           "#ab63fa",
           "#FFA15A",
           "#19d3f3",
           "#FF6692",
           "#B6E880",
           "#FF97FF",
           "#FECB52"
          ],
          "font": {
           "color": "#2a3f5f"
          },
          "geo": {
           "bgcolor": "white",
           "lakecolor": "white",
           "landcolor": "white",
           "showlakes": true,
           "showland": true,
           "subunitcolor": "#C8D4E3"
          },
          "hoverlabel": {
           "align": "left"
          },
          "hovermode": "closest",
          "mapbox": {
           "style": "light"
          },
          "paper_bgcolor": "white",
          "plot_bgcolor": "white",
          "polar": {
           "angularaxis": {
            "gridcolor": "#EBF0F8",
            "linecolor": "#EBF0F8",
            "ticks": ""
           },
           "bgcolor": "white",
           "radialaxis": {
            "gridcolor": "#EBF0F8",
            "linecolor": "#EBF0F8",
            "ticks": ""
           }
          },
          "scene": {
           "xaxis": {
            "backgroundcolor": "white",
            "gridcolor": "#DFE8F3",
            "gridwidth": 2,
            "linecolor": "#EBF0F8",
            "showbackground": true,
            "ticks": "",
            "zerolinecolor": "#EBF0F8"
           },
           "yaxis": {
            "backgroundcolor": "white",
            "gridcolor": "#DFE8F3",
            "gridwidth": 2,
            "linecolor": "#EBF0F8",
            "showbackground": true,
            "ticks": "",
            "zerolinecolor": "#EBF0F8"
           },
           "zaxis": {
            "backgroundcolor": "white",
            "gridcolor": "#DFE8F3",
            "gridwidth": 2,
            "linecolor": "#EBF0F8",
            "showbackground": true,
            "ticks": "",
            "zerolinecolor": "#EBF0F8"
           }
          },
          "shapedefaults": {
           "line": {
            "color": "#2a3f5f"
           }
          },
          "ternary": {
           "aaxis": {
            "gridcolor": "#DFE8F3",
            "linecolor": "#A2B1C6",
            "ticks": ""
           },
           "baxis": {
            "gridcolor": "#DFE8F3",
            "linecolor": "#A2B1C6",
            "ticks": ""
           },
           "bgcolor": "white",
           "caxis": {
            "gridcolor": "#DFE8F3",
            "linecolor": "#A2B1C6",
            "ticks": ""
           }
          },
          "title": {
           "x": 0.05
          },
          "xaxis": {
           "automargin": true,
           "gridcolor": "#EBF0F8",
           "linecolor": "#EBF0F8",
           "ticks": "",
           "title": {
            "standoff": 15
           },
           "zerolinecolor": "#EBF0F8",
           "zerolinewidth": 2
          },
          "yaxis": {
           "automargin": true,
           "gridcolor": "#EBF0F8",
           "linecolor": "#EBF0F8",
           "ticks": "",
           "title": {
            "standoff": 15
           },
           "zerolinecolor": "#EBF0F8",
           "zerolinewidth": 2
          }
         }
        },
        "width": 1600,
        "xaxis": {
         "anchor": "y",
         "domain": [
          0,
          0.235
         ],
         "tickfont": {
          "size": 20
         },
         "title": {
          "text": ""
         }
        },
        "xaxis2": {
         "anchor": "y2",
         "domain": [
          0.255,
          0.49
         ],
         "matches": "x",
         "tickfont": {
          "size": 20
         },
         "title": {
          "text": ""
         }
        },
        "xaxis3": {
         "anchor": "y3",
         "domain": [
          0.51,
          0.745
         ],
         "matches": "x",
         "tickfont": {
          "size": 20
         },
         "title": {
          "text": ""
         }
        },
        "xaxis4": {
         "anchor": "y4",
         "domain": [
          0.7649999999999999,
          0.9999999999999999
         ],
         "matches": "x",
         "tickfont": {
          "size": 20
         },
         "title": {
          "text": ""
         }
        },
        "yaxis": {
         "anchor": "x",
         "domain": [
          0,
          1
         ],
         "tickfont": {
          "size": 25
         },
         "title": {
          "font": {
           "size": 30
          },
          "text": "P@100"
         }
        },
        "yaxis2": {
         "anchor": "x2",
         "domain": [
          0,
          1
         ],
         "matches": "y",
         "showticklabels": false
        },
        "yaxis3": {
         "anchor": "x3",
         "domain": [
          0,
          1
         ],
         "matches": "y",
         "showticklabels": false
        },
        "yaxis4": {
         "anchor": "x4",
         "domain": [
          0,
          1
         ],
         "matches": "y",
         "showticklabels": false
        }
       }
      }
     },
     "metadata": {},
     "output_type": "display_data"
    }
   ],
   "source": [
    "import plotly.express as px\n",
    "# import plotly.graph_objects as go\n",
    "\n",
    "# fig = go.Figure()\n",
    "traces = []\n",
    "# df['VM_Bins'] = table2['VM'] + '_' + table2['Bins']\n",
    "color_scale = px.colors.qualitative.Set3\n",
    "\n",
    "# Create stacked and grouped bar chart\n",
    "fig = px.scatter(table2, x='VM', y='P@100-CSLS', color='Bins', facet_col=\"LM\",\n",
    "             labels={'P@100-CSLS': 'P@100'},\n",
    "             color_discrete_map={'0-10k': color_scale[5],\"10k-100k\":color_scale[0],\"100k+\":color_scale[3]},\n",
    "             height=500, width=1600,\n",
    "             symbol=\"Bins\"\n",
    "            #  facet_col_titles='none'\n",
    "            #  barmode=\"group\"\n",
    "             )\n",
    "\n",
    "# fig = px.bar_polar(table2, r='P@100-CSLS', theta='VM', color='Bins',\n",
    "#                    labels={'P@100-CSLS': 'P@100'},\n",
    "#                    color_discrete_map={'low': color_scale[5], \"medium\": color_scale[0], \"high\": color_scale[3]},\n",
    "#                    height=1000, width=1500,\n",
    "#                 #    animation_frame='LM',  # If you want to include animation over 'VM'\n",
    "#                    )\n",
    "\n",
    "\n",
    "for i, trace in enumerate(fig.data):\n",
    "    if \"Bins=10k-100k\" in trace[\"hovertemplate\"]:\n",
    "    # trace.marker.color = color_scale[i%3]  # Set color\n",
    "        trace.marker.opacity = 0.5  # Set opacity\n",
    "    else:\n",
    "        trace.marker.opacity = 1\n",
    "    # trace.marker.color = color_scale[i%3]  # Set color\n",
    "    # trace.marker.opacity = 0.6  # Set opacity\n",
    "    trace.marker.size=15\n",
    "\n",
    "\n",
    "# Update layout for better appearance\n",
    "fig.update_layout(barmode='overlay', showlegend=True,\n",
    "                  font=dict(size=30),\n",
    "                  yaxis=dict(title=dict(text='P@100', font=dict(size=30)), tickfont=dict(size=25)),  # Change y-axis font size\n",
    "                  legend=dict(title=dict(text='Frequency', font=dict(size=30))),\n",
    "                  xaxis=dict(title=dict(text=''),tickfont=dict(size=20)),\n",
    "                  xaxis2=dict(title=dict(text=''),tickfont=dict(size=20)),\n",
    "                  xaxis3=dict(title=dict(text=''),tickfont=dict(size=20)),\n",
    "                  xaxis4=dict(title=dict(text=''),tickfont=dict(size=20)),\n",
    "                  template=\"plotly_white\"\n",
    "                  ) \n",
    "\n",
    "fig.for_each_annotation(lambda a: a.update(text=a.text.split(\"=\")[-1]))\n",
    "\n",
    "# fig.update_xaxes(title_text='', showgrid=False)\n",
    "\n",
    "# fig.update_xaxes(title_font=dict(size=20), tickfont=dict(size=20))\n",
    "\n",
    "# Show the plot\n",
    "fig.show()\n",
    "fig.write_image(f\"freq_remain_{set_name}_v1.pdf\")"
   ]
  },
  {
   "cell_type": "code",
   "execution_count": 9,
   "metadata": {},
   "outputs": [
    {
     "name": "stdout",
     "output_type": "stream",
     "text": [
      "BERT_LARGE\n",
      " & 23.2 & 25.4 & 24.3\\\\\n",
      " & 34.5 & 44.8 & 40.2\\\\\n",
      " & 35.3 & 43.6 & 40.5\\\\\n",
      "GPT2_XL\n",
      " & 21.0 & 22.1 & 22.0\\\\\n",
      " & 39.7 & 50.4 & 45.4\\\\\n",
      " & 40.2 & 48.7 & 44.7\\\\\n",
      "OPT_30B\n",
      " & 24.5 & 24.7 & 25.4\\\\\n",
      " & 47.2 & 56.1 & 52.3\\\\\n",
      " & 55.2 & 64.0 & 59.0\\\\\n",
      "Llama-2-13B\n",
      " & 18.7 & 21.6 & 18.1\\\\\n",
      " & 40.8 & 52.3 & 46.9\\\\\n",
      " & 53.1 & 64.0 & 57.0\\\\\n"
     ]
    }
   ],
   "source": [
    "for j in [\"BERT_LARGE\", \"GPT2_XL\", \"OPT_30B\", \"Llama-2-13B\"]:\n",
    "    print(j)\n",
    "    for i in [\"_freq10000\", \"_freq100000\", \"_freq_end\"]:\n",
    "        all_values = table.loc[(_selected[\"LM\"] == j) & (_selected[\"Bins\"] == i), precision].values\n",
    "        formatted_values = \" & \".join(f\"{value}\" for one_model_value in all_values for value in one_model_value)\n",
    "        print(f\" & \" + formatted_values + \"\\\\\\\\\")\n"
   ]
  },
  {
   "cell_type": "code",
   "execution_count": 7,
   "metadata": {},
   "outputs": [
    {
     "name": "stdout",
     "output_type": "stream",
     "text": [
      "2194.0 487.6 1588.4\n"
     ]
    }
   ],
   "source": [
    "a = [2151, 2201, 2199,2184, 2235]\n",
    "b = [470, 530, 520, 450, 468]\n",
    "c = [1547, 1628, 1592, 1566, 1609]\n",
    "\n",
    "print(np.mean(a), np.mean(b), np.mean(c))"
   ]
  }
 ],
 "metadata": {
  "kernelspec": {
   "display_name": "pytorch",
   "language": "python",
   "name": "python3"
  },
  "language_info": {
   "codemirror_mode": {
    "name": "ipython",
    "version": 3
   },
   "file_extension": ".py",
   "mimetype": "text/x-python",
   "name": "python",
   "nbconvert_exporter": "python",
   "pygments_lexer": "ipython3",
   "version": "3.11.5"
  },
  "orig_nbformat": 4
 },
 "nbformat": 4,
 "nbformat_minor": 2
}
